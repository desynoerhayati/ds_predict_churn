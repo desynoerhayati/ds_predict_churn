{
 "cells": [
  {
   "cell_type": "markdown",
   "metadata": {},
   "source": [
    "# 1. Library <a id='library'></a>"
   ]
  },
  {
   "cell_type": "code",
   "execution_count": 1,
   "metadata": {},
   "outputs": [],
   "source": [
    "import pandas as pd\n",
    "import numpy as np\n",
    "\n",
    "from sklearn.model_selection import train_test_split\n",
    "\n",
    "# Library for Visualization\n",
    "import matplotlib.pyplot as plt\n",
    "import seaborn as sns\n",
    "\n",
    "# Library for Machine Learning\n",
    "from xgboost import XGBClassifier\n",
    "from lightgbm import LGBMClassifier\n",
    "from sklearn.linear_model import LogisticRegression\n",
    "from sklearn.tree import DecisionTreeClassifier\n",
    "from sklearn.ensemble import RandomForestClassifier\n",
    "from sklearn.ensemble import GradientBoostingClassifier\n",
    "from sklearn.neighbors import KNeighborsClassifier\n",
    "\n",
    "# Library for metrics\n",
    "from sklearn.preprocessing import OrdinalEncoder\n",
    "from sklearn.preprocessing import MinMaxScaler\n",
    "from sklearn.metrics import accuracy_score, roc_auc_score\n",
    "\n",
    "from joblib import dump\n",
    "\n",
    "import time\n",
    "import os\n",
    "import warnings\n",
    "warnings.filterwarnings('ignore')"
   ]
  },
  {
   "cell_type": "markdown",
   "metadata": {},
   "source": [
    "# 2. Data Preprocessing <a id='kualitas_data'></a>"
   ]
  },
  {
   "cell_type": "markdown",
   "metadata": {},
   "source": [
    "**Load Data**"
   ]
  },
  {
   "cell_type": "code",
   "execution_count": 2,
   "metadata": {},
   "outputs": [
    {
     "data": {
      "text/plain": [
       "['contract.csv', 'phone.csv', 'personal.csv', 'internet.csv']"
      ]
     },
     "execution_count": 2,
     "metadata": {},
     "output_type": "execute_result"
    }
   ],
   "source": [
    "os.listdir('/datasets/final_provider/')"
   ]
  },
  {
   "cell_type": "code",
   "execution_count": 3,
   "metadata": {},
   "outputs": [],
   "source": [
    "df_contract = pd.read_csv('/datasets/final_provider/contract.csv')\n",
    "df_phone = pd.read_csv('/datasets/final_provider/phone.csv')\n",
    "df_personal = pd.read_csv('/datasets/final_provider/personal.csv')\n",
    "df_internet = pd.read_csv('/datasets/final_provider/internet.csv')"
   ]
  },
  {
   "cell_type": "markdown",
   "metadata": {},
   "source": [
    "**Displaying Contract Client Data Information**"
   ]
  },
  {
   "cell_type": "code",
   "execution_count": 4,
   "metadata": {},
   "outputs": [
    {
     "name": "stdout",
     "output_type": "stream",
     "text": [
      "<class 'pandas.core.frame.DataFrame'>\n",
      "RangeIndex: 7043 entries, 0 to 7042\n",
      "Data columns (total 8 columns):\n",
      " #   Column            Non-Null Count  Dtype  \n",
      "---  ------            --------------  -----  \n",
      " 0   customerID        7043 non-null   object \n",
      " 1   BeginDate         7043 non-null   object \n",
      " 2   EndDate           7043 non-null   object \n",
      " 3   Type              7043 non-null   object \n",
      " 4   PaperlessBilling  7043 non-null   object \n",
      " 5   PaymentMethod     7043 non-null   object \n",
      " 6   MonthlyCharges    7043 non-null   float64\n",
      " 7   TotalCharges      7043 non-null   object \n",
      "dtypes: float64(1), object(7)\n",
      "memory usage: 440.3+ KB\n"
     ]
    }
   ],
   "source": [
    "df_contract.info()"
   ]
  },
  {
   "cell_type": "code",
   "execution_count": 5,
   "metadata": {},
   "outputs": [
    {
     "data": {
      "text/html": [
       "<div>\n",
       "<style scoped>\n",
       "    .dataframe tbody tr th:only-of-type {\n",
       "        vertical-align: middle;\n",
       "    }\n",
       "\n",
       "    .dataframe tbody tr th {\n",
       "        vertical-align: top;\n",
       "    }\n",
       "\n",
       "    .dataframe thead th {\n",
       "        text-align: right;\n",
       "    }\n",
       "</style>\n",
       "<table border=\"1\" class=\"dataframe\">\n",
       "  <thead>\n",
       "    <tr style=\"text-align: right;\">\n",
       "      <th></th>\n",
       "      <th>customerID</th>\n",
       "      <th>BeginDate</th>\n",
       "      <th>EndDate</th>\n",
       "      <th>Type</th>\n",
       "      <th>PaperlessBilling</th>\n",
       "      <th>PaymentMethod</th>\n",
       "      <th>MonthlyCharges</th>\n",
       "      <th>TotalCharges</th>\n",
       "    </tr>\n",
       "  </thead>\n",
       "  <tbody>\n",
       "    <tr>\n",
       "      <th>0</th>\n",
       "      <td>7590-VHVEG</td>\n",
       "      <td>2020-01-01</td>\n",
       "      <td>No</td>\n",
       "      <td>Month-to-month</td>\n",
       "      <td>Yes</td>\n",
       "      <td>Electronic check</td>\n",
       "      <td>29.85</td>\n",
       "      <td>29.85</td>\n",
       "    </tr>\n",
       "    <tr>\n",
       "      <th>1</th>\n",
       "      <td>5575-GNVDE</td>\n",
       "      <td>2017-04-01</td>\n",
       "      <td>No</td>\n",
       "      <td>One year</td>\n",
       "      <td>No</td>\n",
       "      <td>Mailed check</td>\n",
       "      <td>56.95</td>\n",
       "      <td>1889.5</td>\n",
       "    </tr>\n",
       "    <tr>\n",
       "      <th>2</th>\n",
       "      <td>3668-QPYBK</td>\n",
       "      <td>2019-10-01</td>\n",
       "      <td>2019-12-01 00:00:00</td>\n",
       "      <td>Month-to-month</td>\n",
       "      <td>Yes</td>\n",
       "      <td>Mailed check</td>\n",
       "      <td>53.85</td>\n",
       "      <td>108.15</td>\n",
       "    </tr>\n",
       "    <tr>\n",
       "      <th>3</th>\n",
       "      <td>7795-CFOCW</td>\n",
       "      <td>2016-05-01</td>\n",
       "      <td>No</td>\n",
       "      <td>One year</td>\n",
       "      <td>No</td>\n",
       "      <td>Bank transfer (automatic)</td>\n",
       "      <td>42.30</td>\n",
       "      <td>1840.75</td>\n",
       "    </tr>\n",
       "    <tr>\n",
       "      <th>4</th>\n",
       "      <td>9237-HQITU</td>\n",
       "      <td>2019-09-01</td>\n",
       "      <td>2019-11-01 00:00:00</td>\n",
       "      <td>Month-to-month</td>\n",
       "      <td>Yes</td>\n",
       "      <td>Electronic check</td>\n",
       "      <td>70.70</td>\n",
       "      <td>151.65</td>\n",
       "    </tr>\n",
       "    <tr>\n",
       "      <th>...</th>\n",
       "      <td>...</td>\n",
       "      <td>...</td>\n",
       "      <td>...</td>\n",
       "      <td>...</td>\n",
       "      <td>...</td>\n",
       "      <td>...</td>\n",
       "      <td>...</td>\n",
       "      <td>...</td>\n",
       "    </tr>\n",
       "    <tr>\n",
       "      <th>7038</th>\n",
       "      <td>6840-RESVB</td>\n",
       "      <td>2018-02-01</td>\n",
       "      <td>No</td>\n",
       "      <td>One year</td>\n",
       "      <td>Yes</td>\n",
       "      <td>Mailed check</td>\n",
       "      <td>84.80</td>\n",
       "      <td>1990.5</td>\n",
       "    </tr>\n",
       "    <tr>\n",
       "      <th>7039</th>\n",
       "      <td>2234-XADUH</td>\n",
       "      <td>2014-02-01</td>\n",
       "      <td>No</td>\n",
       "      <td>One year</td>\n",
       "      <td>Yes</td>\n",
       "      <td>Credit card (automatic)</td>\n",
       "      <td>103.20</td>\n",
       "      <td>7362.9</td>\n",
       "    </tr>\n",
       "    <tr>\n",
       "      <th>7040</th>\n",
       "      <td>4801-JZAZL</td>\n",
       "      <td>2019-03-01</td>\n",
       "      <td>No</td>\n",
       "      <td>Month-to-month</td>\n",
       "      <td>Yes</td>\n",
       "      <td>Electronic check</td>\n",
       "      <td>29.60</td>\n",
       "      <td>346.45</td>\n",
       "    </tr>\n",
       "    <tr>\n",
       "      <th>7041</th>\n",
       "      <td>8361-LTMKD</td>\n",
       "      <td>2019-07-01</td>\n",
       "      <td>2019-11-01 00:00:00</td>\n",
       "      <td>Month-to-month</td>\n",
       "      <td>Yes</td>\n",
       "      <td>Mailed check</td>\n",
       "      <td>74.40</td>\n",
       "      <td>306.6</td>\n",
       "    </tr>\n",
       "    <tr>\n",
       "      <th>7042</th>\n",
       "      <td>3186-AJIEK</td>\n",
       "      <td>2014-08-01</td>\n",
       "      <td>No</td>\n",
       "      <td>Two year</td>\n",
       "      <td>Yes</td>\n",
       "      <td>Bank transfer (automatic)</td>\n",
       "      <td>105.65</td>\n",
       "      <td>6844.5</td>\n",
       "    </tr>\n",
       "  </tbody>\n",
       "</table>\n",
       "<p>7043 rows × 8 columns</p>\n",
       "</div>"
      ],
      "text/plain": [
       "      customerID   BeginDate              EndDate            Type  \\\n",
       "0     7590-VHVEG  2020-01-01                   No  Month-to-month   \n",
       "1     5575-GNVDE  2017-04-01                   No        One year   \n",
       "2     3668-QPYBK  2019-10-01  2019-12-01 00:00:00  Month-to-month   \n",
       "3     7795-CFOCW  2016-05-01                   No        One year   \n",
       "4     9237-HQITU  2019-09-01  2019-11-01 00:00:00  Month-to-month   \n",
       "...          ...         ...                  ...             ...   \n",
       "7038  6840-RESVB  2018-02-01                   No        One year   \n",
       "7039  2234-XADUH  2014-02-01                   No        One year   \n",
       "7040  4801-JZAZL  2019-03-01                   No  Month-to-month   \n",
       "7041  8361-LTMKD  2019-07-01  2019-11-01 00:00:00  Month-to-month   \n",
       "7042  3186-AJIEK  2014-08-01                   No        Two year   \n",
       "\n",
       "     PaperlessBilling              PaymentMethod  MonthlyCharges TotalCharges  \n",
       "0                 Yes           Electronic check           29.85        29.85  \n",
       "1                  No               Mailed check           56.95       1889.5  \n",
       "2                 Yes               Mailed check           53.85       108.15  \n",
       "3                  No  Bank transfer (automatic)           42.30      1840.75  \n",
       "4                 Yes           Electronic check           70.70       151.65  \n",
       "...               ...                        ...             ...          ...  \n",
       "7038              Yes               Mailed check           84.80       1990.5  \n",
       "7039              Yes    Credit card (automatic)          103.20       7362.9  \n",
       "7040              Yes           Electronic check           29.60       346.45  \n",
       "7041              Yes               Mailed check           74.40        306.6  \n",
       "7042              Yes  Bank transfer (automatic)          105.65       6844.5  \n",
       "\n",
       "[7043 rows x 8 columns]"
      ]
     },
     "execution_count": 5,
     "metadata": {},
     "output_type": "execute_result"
    }
   ],
   "source": [
    "df_contract"
   ]
  },
  {
   "cell_type": "markdown",
   "metadata": {},
   "source": [
    "The data type of TotalCharges should be float."
   ]
  },
  {
   "cell_type": "code",
   "execution_count": 6,
   "metadata": {},
   "outputs": [
    {
     "data": {
      "text/plain": [
       "array([' ', '100.2', '100.25', ..., '999.45', '999.8', '999.9'],\n",
       "      dtype=object)"
      ]
     },
     "execution_count": 6,
     "metadata": {},
     "output_type": "execute_result"
    }
   ],
   "source": [
    "# Display TotalCharges\n",
    "df_contract['TotalCharges'].sort_values().unique()"
   ]
  },
  {
   "cell_type": "markdown",
   "metadata": {},
   "source": [
    "There are empty string values in the TotalCharge data, which need to be filled with the number 0."
   ]
  },
  {
   "cell_type": "code",
   "execution_count": 7,
   "metadata": {},
   "outputs": [],
   "source": [
    "# Changing empty strings in the TotalCharges column to 0.\n",
    "df_contract.loc[df_contract['TotalCharges'] == ' ','TotalCharges'] = 0\n",
    "df_contract['TotalCharges'] = df_contract['TotalCharges'].astype(float)"
   ]
  },
  {
   "cell_type": "code",
   "execution_count": 8,
   "metadata": {},
   "outputs": [
    {
     "name": "stdout",
     "output_type": "stream",
     "text": [
      "<class 'pandas.core.frame.DataFrame'>\n",
      "RangeIndex: 7043 entries, 0 to 7042\n",
      "Data columns (total 8 columns):\n",
      " #   Column            Non-Null Count  Dtype  \n",
      "---  ------            --------------  -----  \n",
      " 0   customerID        7043 non-null   object \n",
      " 1   BeginDate         7043 non-null   object \n",
      " 2   EndDate           7043 non-null   object \n",
      " 3   Type              7043 non-null   object \n",
      " 4   PaperlessBilling  7043 non-null   object \n",
      " 5   PaymentMethod     7043 non-null   object \n",
      " 6   MonthlyCharges    7043 non-null   float64\n",
      " 7   TotalCharges      7043 non-null   float64\n",
      "dtypes: float64(2), object(6)\n",
      "memory usage: 440.3+ KB\n"
     ]
    }
   ],
   "source": [
    "df_contract.info()"
   ]
  },
  {
   "cell_type": "code",
   "execution_count": 9,
   "metadata": {},
   "outputs": [
    {
     "data": {
      "text/plain": [
       "customerID          0\n",
       "BeginDate           0\n",
       "EndDate             0\n",
       "Type                0\n",
       "PaperlessBilling    0\n",
       "PaymentMethod       0\n",
       "MonthlyCharges      0\n",
       "TotalCharges        0\n",
       "dtype: int64"
      ]
     },
     "execution_count": 9,
     "metadata": {},
     "output_type": "execute_result"
    }
   ],
   "source": [
    "df_contract.isnull().sum()"
   ]
  },
  {
   "cell_type": "markdown",
   "metadata": {},
   "source": [
    "No missing values."
   ]
  },
  {
   "cell_type": "code",
   "execution_count": 10,
   "metadata": {},
   "outputs": [
    {
     "data": {
      "text/plain": [
       "0"
      ]
     },
     "execution_count": 10,
     "metadata": {},
     "output_type": "execute_result"
    }
   ],
   "source": [
    "df_contract.duplicated().sum()"
   ]
  },
  {
   "cell_type": "markdown",
   "metadata": {},
   "source": [
    "No duplicated data."
   ]
  },
  {
   "cell_type": "code",
   "execution_count": 11,
   "metadata": {},
   "outputs": [
    {
     "data": {
      "text/html": [
       "<div>\n",
       "<style scoped>\n",
       "    .dataframe tbody tr th:only-of-type {\n",
       "        vertical-align: middle;\n",
       "    }\n",
       "\n",
       "    .dataframe tbody tr th {\n",
       "        vertical-align: top;\n",
       "    }\n",
       "\n",
       "    .dataframe thead th {\n",
       "        text-align: right;\n",
       "    }\n",
       "</style>\n",
       "<table border=\"1\" class=\"dataframe\">\n",
       "  <thead>\n",
       "    <tr style=\"text-align: right;\">\n",
       "      <th></th>\n",
       "      <th>MonthlyCharges</th>\n",
       "      <th>TotalCharges</th>\n",
       "    </tr>\n",
       "  </thead>\n",
       "  <tbody>\n",
       "    <tr>\n",
       "      <th>count</th>\n",
       "      <td>7043.000000</td>\n",
       "      <td>7043.000000</td>\n",
       "    </tr>\n",
       "    <tr>\n",
       "      <th>mean</th>\n",
       "      <td>64.761692</td>\n",
       "      <td>2279.734304</td>\n",
       "    </tr>\n",
       "    <tr>\n",
       "      <th>std</th>\n",
       "      <td>30.090047</td>\n",
       "      <td>2266.794470</td>\n",
       "    </tr>\n",
       "    <tr>\n",
       "      <th>min</th>\n",
       "      <td>18.250000</td>\n",
       "      <td>0.000000</td>\n",
       "    </tr>\n",
       "    <tr>\n",
       "      <th>25%</th>\n",
       "      <td>35.500000</td>\n",
       "      <td>398.550000</td>\n",
       "    </tr>\n",
       "    <tr>\n",
       "      <th>50%</th>\n",
       "      <td>70.350000</td>\n",
       "      <td>1394.550000</td>\n",
       "    </tr>\n",
       "    <tr>\n",
       "      <th>75%</th>\n",
       "      <td>89.850000</td>\n",
       "      <td>3786.600000</td>\n",
       "    </tr>\n",
       "    <tr>\n",
       "      <th>max</th>\n",
       "      <td>118.750000</td>\n",
       "      <td>8684.800000</td>\n",
       "    </tr>\n",
       "  </tbody>\n",
       "</table>\n",
       "</div>"
      ],
      "text/plain": [
       "       MonthlyCharges  TotalCharges\n",
       "count     7043.000000   7043.000000\n",
       "mean        64.761692   2279.734304\n",
       "std         30.090047   2266.794470\n",
       "min         18.250000      0.000000\n",
       "25%         35.500000    398.550000\n",
       "50%         70.350000   1394.550000\n",
       "75%         89.850000   3786.600000\n",
       "max        118.750000   8684.800000"
      ]
     },
     "execution_count": 11,
     "metadata": {},
     "output_type": "execute_result"
    }
   ],
   "source": [
    "df_contract.describe()"
   ]
  },
  {
   "cell_type": "markdown",
   "metadata": {},
   "source": [
    "There are 2 numerical columns in the contract dataset."
   ]
  },
  {
   "cell_type": "code",
   "execution_count": 12,
   "metadata": {},
   "outputs": [
    {
     "data": {
      "text/plain": [
       "array(['2013-10-01', '2013-11-01', '2013-12-01', '2014-01-01',\n",
       "       '2014-02-01', '2014-03-01', '2014-04-01', '2014-05-01',\n",
       "       '2014-06-01', '2014-07-01', '2014-08-01', '2014-09-01',\n",
       "       '2014-10-01', '2014-11-01', '2014-12-01', '2015-01-01',\n",
       "       '2015-02-01', '2015-03-01', '2015-04-01', '2015-05-01',\n",
       "       '2015-06-01', '2015-07-01', '2015-08-01', '2015-09-01',\n",
       "       '2015-10-01', '2015-11-01', '2015-12-01', '2016-01-01',\n",
       "       '2016-02-01', '2016-03-01', '2016-04-01', '2016-05-01',\n",
       "       '2016-06-01', '2016-07-01', '2016-08-01', '2016-09-01',\n",
       "       '2016-10-01', '2016-11-01', '2016-12-01', '2017-01-01',\n",
       "       '2017-02-01', '2017-03-01', '2017-04-01', '2017-05-01',\n",
       "       '2017-06-01', '2017-07-01', '2017-08-01', '2017-09-01',\n",
       "       '2017-10-01', '2017-11-01', '2017-12-01', '2018-01-01',\n",
       "       '2018-02-01', '2018-03-01', '2018-04-01', '2018-05-01',\n",
       "       '2018-06-01', '2018-07-01', '2018-08-01', '2018-09-01',\n",
       "       '2018-10-01', '2018-11-01', '2018-12-01', '2019-01-01',\n",
       "       '2019-02-01', '2019-03-01', '2019-04-01', '2019-05-01',\n",
       "       '2019-06-01', '2019-07-01', '2019-08-01', '2019-09-01',\n",
       "       '2019-10-01', '2019-11-01', '2019-12-01', '2020-01-01',\n",
       "       '2020-02-01'], dtype=object)"
      ]
     },
     "execution_count": 12,
     "metadata": {},
     "output_type": "execute_result"
    }
   ],
   "source": [
    "df_contract['BeginDate'].sort_values().unique()"
   ]
  },
  {
   "cell_type": "markdown",
   "metadata": {},
   "source": [
    "The oldest client on the list started on October 1st, 2013, and the newest started on February 1st, 2020."
   ]
  },
  {
   "cell_type": "code",
   "execution_count": 13,
   "metadata": {},
   "outputs": [
    {
     "data": {
      "text/plain": [
       "No                     5174\n",
       "2019-11-01 00:00:00     485\n",
       "2019-12-01 00:00:00     466\n",
       "2020-01-01 00:00:00     460\n",
       "2019-10-01 00:00:00     458\n",
       "Name: EndDate, dtype: int64"
      ]
     },
     "execution_count": 13,
     "metadata": {},
     "output_type": "execute_result"
    }
   ],
   "source": [
    "df_contract['EndDate'].value_counts()"
   ]
  },
  {
   "cell_type": "markdown",
   "metadata": {},
   "source": [
    "The column 'EndDate' is the target variable. The value 'No' represents active clients, totaling 5174, while the rest are inactive/clients who have stopped using the service provider."
   ]
  },
  {
   "cell_type": "code",
   "execution_count": 14,
   "metadata": {},
   "outputs": [
    {
     "data": {
      "text/plain": [
       "Month-to-month    3875\n",
       "Two year          1695\n",
       "One year          1473\n",
       "Name: Type, dtype: int64"
      ]
     },
     "execution_count": 14,
     "metadata": {},
     "output_type": "execute_result"
    }
   ],
   "source": [
    "df_contract['Type'].value_counts()"
   ]
  },
  {
   "cell_type": "code",
   "execution_count": 15,
   "metadata": {},
   "outputs": [
    {
     "data": {
      "text/plain": [
       "Electronic check             2365\n",
       "Mailed check                 1612\n",
       "Bank transfer (automatic)    1544\n",
       "Credit card (automatic)      1522\n",
       "Name: PaymentMethod, dtype: int64"
      ]
     },
     "execution_count": 15,
     "metadata": {},
     "output_type": "execute_result"
    }
   ],
   "source": [
    "df_contract['PaymentMethod'].value_counts()"
   ]
  },
  {
   "cell_type": "code",
   "execution_count": 16,
   "metadata": {},
   "outputs": [
    {
     "data": {
      "text/plain": [
       "Yes    4171\n",
       "No     2872\n",
       "Name: PaperlessBilling, dtype: int64"
      ]
     },
     "execution_count": 16,
     "metadata": {},
     "output_type": "execute_result"
    }
   ],
   "source": [
    "df_contract['PaperlessBilling'].value_counts()"
   ]
  },
  {
   "cell_type": "markdown",
   "metadata": {},
   "source": [
    "**Displaying Personal Client Data Information**"
   ]
  },
  {
   "cell_type": "code",
   "execution_count": 17,
   "metadata": {},
   "outputs": [
    {
     "name": "stdout",
     "output_type": "stream",
     "text": [
      "<class 'pandas.core.frame.DataFrame'>\n",
      "RangeIndex: 7043 entries, 0 to 7042\n",
      "Data columns (total 5 columns):\n",
      " #   Column         Non-Null Count  Dtype \n",
      "---  ------         --------------  ----- \n",
      " 0   customerID     7043 non-null   object\n",
      " 1   gender         7043 non-null   object\n",
      " 2   SeniorCitizen  7043 non-null   int64 \n",
      " 3   Partner        7043 non-null   object\n",
      " 4   Dependents     7043 non-null   object\n",
      "dtypes: int64(1), object(4)\n",
      "memory usage: 275.2+ KB\n"
     ]
    }
   ],
   "source": [
    "df_personal.info()"
   ]
  },
  {
   "cell_type": "code",
   "execution_count": 18,
   "metadata": {},
   "outputs": [
    {
     "data": {
      "text/html": [
       "<div>\n",
       "<style scoped>\n",
       "    .dataframe tbody tr th:only-of-type {\n",
       "        vertical-align: middle;\n",
       "    }\n",
       "\n",
       "    .dataframe tbody tr th {\n",
       "        vertical-align: top;\n",
       "    }\n",
       "\n",
       "    .dataframe thead th {\n",
       "        text-align: right;\n",
       "    }\n",
       "</style>\n",
       "<table border=\"1\" class=\"dataframe\">\n",
       "  <thead>\n",
       "    <tr style=\"text-align: right;\">\n",
       "      <th></th>\n",
       "      <th>customerID</th>\n",
       "      <th>gender</th>\n",
       "      <th>SeniorCitizen</th>\n",
       "      <th>Partner</th>\n",
       "      <th>Dependents</th>\n",
       "    </tr>\n",
       "  </thead>\n",
       "  <tbody>\n",
       "    <tr>\n",
       "      <th>0</th>\n",
       "      <td>7590-VHVEG</td>\n",
       "      <td>Female</td>\n",
       "      <td>0</td>\n",
       "      <td>Yes</td>\n",
       "      <td>No</td>\n",
       "    </tr>\n",
       "    <tr>\n",
       "      <th>1</th>\n",
       "      <td>5575-GNVDE</td>\n",
       "      <td>Male</td>\n",
       "      <td>0</td>\n",
       "      <td>No</td>\n",
       "      <td>No</td>\n",
       "    </tr>\n",
       "    <tr>\n",
       "      <th>2</th>\n",
       "      <td>3668-QPYBK</td>\n",
       "      <td>Male</td>\n",
       "      <td>0</td>\n",
       "      <td>No</td>\n",
       "      <td>No</td>\n",
       "    </tr>\n",
       "    <tr>\n",
       "      <th>3</th>\n",
       "      <td>7795-CFOCW</td>\n",
       "      <td>Male</td>\n",
       "      <td>0</td>\n",
       "      <td>No</td>\n",
       "      <td>No</td>\n",
       "    </tr>\n",
       "    <tr>\n",
       "      <th>4</th>\n",
       "      <td>9237-HQITU</td>\n",
       "      <td>Female</td>\n",
       "      <td>0</td>\n",
       "      <td>No</td>\n",
       "      <td>No</td>\n",
       "    </tr>\n",
       "    <tr>\n",
       "      <th>...</th>\n",
       "      <td>...</td>\n",
       "      <td>...</td>\n",
       "      <td>...</td>\n",
       "      <td>...</td>\n",
       "      <td>...</td>\n",
       "    </tr>\n",
       "    <tr>\n",
       "      <th>7038</th>\n",
       "      <td>6840-RESVB</td>\n",
       "      <td>Male</td>\n",
       "      <td>0</td>\n",
       "      <td>Yes</td>\n",
       "      <td>Yes</td>\n",
       "    </tr>\n",
       "    <tr>\n",
       "      <th>7039</th>\n",
       "      <td>2234-XADUH</td>\n",
       "      <td>Female</td>\n",
       "      <td>0</td>\n",
       "      <td>Yes</td>\n",
       "      <td>Yes</td>\n",
       "    </tr>\n",
       "    <tr>\n",
       "      <th>7040</th>\n",
       "      <td>4801-JZAZL</td>\n",
       "      <td>Female</td>\n",
       "      <td>0</td>\n",
       "      <td>Yes</td>\n",
       "      <td>Yes</td>\n",
       "    </tr>\n",
       "    <tr>\n",
       "      <th>7041</th>\n",
       "      <td>8361-LTMKD</td>\n",
       "      <td>Male</td>\n",
       "      <td>1</td>\n",
       "      <td>Yes</td>\n",
       "      <td>No</td>\n",
       "    </tr>\n",
       "    <tr>\n",
       "      <th>7042</th>\n",
       "      <td>3186-AJIEK</td>\n",
       "      <td>Male</td>\n",
       "      <td>0</td>\n",
       "      <td>No</td>\n",
       "      <td>No</td>\n",
       "    </tr>\n",
       "  </tbody>\n",
       "</table>\n",
       "<p>7043 rows × 5 columns</p>\n",
       "</div>"
      ],
      "text/plain": [
       "      customerID  gender  SeniorCitizen Partner Dependents\n",
       "0     7590-VHVEG  Female              0     Yes         No\n",
       "1     5575-GNVDE    Male              0      No         No\n",
       "2     3668-QPYBK    Male              0      No         No\n",
       "3     7795-CFOCW    Male              0      No         No\n",
       "4     9237-HQITU  Female              0      No         No\n",
       "...          ...     ...            ...     ...        ...\n",
       "7038  6840-RESVB    Male              0     Yes        Yes\n",
       "7039  2234-XADUH  Female              0     Yes        Yes\n",
       "7040  4801-JZAZL  Female              0     Yes        Yes\n",
       "7041  8361-LTMKD    Male              1     Yes         No\n",
       "7042  3186-AJIEK    Male              0      No         No\n",
       "\n",
       "[7043 rows x 5 columns]"
      ]
     },
     "execution_count": 18,
     "metadata": {},
     "output_type": "execute_result"
    }
   ],
   "source": [
    "df_personal"
   ]
  },
  {
   "cell_type": "code",
   "execution_count": 19,
   "metadata": {},
   "outputs": [
    {
     "data": {
      "text/plain": [
       "customerID       0\n",
       "gender           0\n",
       "SeniorCitizen    0\n",
       "Partner          0\n",
       "Dependents       0\n",
       "dtype: int64"
      ]
     },
     "execution_count": 19,
     "metadata": {},
     "output_type": "execute_result"
    }
   ],
   "source": [
    "df_personal.isnull().sum()"
   ]
  },
  {
   "cell_type": "markdown",
   "metadata": {},
   "source": [
    "No missing values."
   ]
  },
  {
   "cell_type": "code",
   "execution_count": 20,
   "metadata": {},
   "outputs": [
    {
     "data": {
      "text/plain": [
       "0"
      ]
     },
     "execution_count": 20,
     "metadata": {},
     "output_type": "execute_result"
    }
   ],
   "source": [
    "df_personal.duplicated().sum()"
   ]
  },
  {
   "cell_type": "markdown",
   "metadata": {},
   "source": [
    "No duplicated data."
   ]
  },
  {
   "cell_type": "code",
   "execution_count": 21,
   "metadata": {},
   "outputs": [
    {
     "data": {
      "text/plain": [
       "Male      3555\n",
       "Female    3488\n",
       "Name: gender, dtype: int64"
      ]
     },
     "execution_count": 21,
     "metadata": {},
     "output_type": "execute_result"
    }
   ],
   "source": [
    "df_personal['gender'].value_counts()"
   ]
  },
  {
   "cell_type": "code",
   "execution_count": 22,
   "metadata": {},
   "outputs": [
    {
     "data": {
      "text/plain": [
       "0    5901\n",
       "1    1142\n",
       "Name: SeniorCitizen, dtype: int64"
      ]
     },
     "execution_count": 22,
     "metadata": {},
     "output_type": "execute_result"
    }
   ],
   "source": [
    "df_personal['SeniorCitizen'].value_counts()"
   ]
  },
  {
   "cell_type": "code",
   "execution_count": 23,
   "metadata": {},
   "outputs": [
    {
     "data": {
      "text/plain": [
       "No     3641\n",
       "Yes    3402\n",
       "Name: Partner, dtype: int64"
      ]
     },
     "execution_count": 23,
     "metadata": {},
     "output_type": "execute_result"
    }
   ],
   "source": [
    "df_personal['Partner'].value_counts()"
   ]
  },
  {
   "cell_type": "code",
   "execution_count": 24,
   "metadata": {},
   "outputs": [
    {
     "data": {
      "text/plain": [
       "No     4933\n",
       "Yes    2110\n",
       "Name: Dependents, dtype: int64"
      ]
     },
     "execution_count": 24,
     "metadata": {},
     "output_type": "execute_result"
    }
   ],
   "source": [
    "df_personal['Dependents'].value_counts()"
   ]
  },
  {
   "cell_type": "markdown",
   "metadata": {},
   "source": [
    "**Displaying Information about Telephone Service Data**"
   ]
  },
  {
   "cell_type": "code",
   "execution_count": 25,
   "metadata": {},
   "outputs": [
    {
     "name": "stdout",
     "output_type": "stream",
     "text": [
      "<class 'pandas.core.frame.DataFrame'>\n",
      "RangeIndex: 6361 entries, 0 to 6360\n",
      "Data columns (total 2 columns):\n",
      " #   Column         Non-Null Count  Dtype \n",
      "---  ------         --------------  ----- \n",
      " 0   customerID     6361 non-null   object\n",
      " 1   MultipleLines  6361 non-null   object\n",
      "dtypes: object(2)\n",
      "memory usage: 99.5+ KB\n"
     ]
    }
   ],
   "source": [
    "df_phone.info()"
   ]
  },
  {
   "cell_type": "code",
   "execution_count": 26,
   "metadata": {},
   "outputs": [
    {
     "data": {
      "text/html": [
       "<div>\n",
       "<style scoped>\n",
       "    .dataframe tbody tr th:only-of-type {\n",
       "        vertical-align: middle;\n",
       "    }\n",
       "\n",
       "    .dataframe tbody tr th {\n",
       "        vertical-align: top;\n",
       "    }\n",
       "\n",
       "    .dataframe thead th {\n",
       "        text-align: right;\n",
       "    }\n",
       "</style>\n",
       "<table border=\"1\" class=\"dataframe\">\n",
       "  <thead>\n",
       "    <tr style=\"text-align: right;\">\n",
       "      <th></th>\n",
       "      <th>customerID</th>\n",
       "      <th>MultipleLines</th>\n",
       "    </tr>\n",
       "  </thead>\n",
       "  <tbody>\n",
       "    <tr>\n",
       "      <th>0</th>\n",
       "      <td>5575-GNVDE</td>\n",
       "      <td>No</td>\n",
       "    </tr>\n",
       "    <tr>\n",
       "      <th>1</th>\n",
       "      <td>3668-QPYBK</td>\n",
       "      <td>No</td>\n",
       "    </tr>\n",
       "    <tr>\n",
       "      <th>2</th>\n",
       "      <td>9237-HQITU</td>\n",
       "      <td>No</td>\n",
       "    </tr>\n",
       "    <tr>\n",
       "      <th>3</th>\n",
       "      <td>9305-CDSKC</td>\n",
       "      <td>Yes</td>\n",
       "    </tr>\n",
       "    <tr>\n",
       "      <th>4</th>\n",
       "      <td>1452-KIOVK</td>\n",
       "      <td>Yes</td>\n",
       "    </tr>\n",
       "    <tr>\n",
       "      <th>...</th>\n",
       "      <td>...</td>\n",
       "      <td>...</td>\n",
       "    </tr>\n",
       "    <tr>\n",
       "      <th>6356</th>\n",
       "      <td>2569-WGERO</td>\n",
       "      <td>No</td>\n",
       "    </tr>\n",
       "    <tr>\n",
       "      <th>6357</th>\n",
       "      <td>6840-RESVB</td>\n",
       "      <td>Yes</td>\n",
       "    </tr>\n",
       "    <tr>\n",
       "      <th>6358</th>\n",
       "      <td>2234-XADUH</td>\n",
       "      <td>Yes</td>\n",
       "    </tr>\n",
       "    <tr>\n",
       "      <th>6359</th>\n",
       "      <td>8361-LTMKD</td>\n",
       "      <td>Yes</td>\n",
       "    </tr>\n",
       "    <tr>\n",
       "      <th>6360</th>\n",
       "      <td>3186-AJIEK</td>\n",
       "      <td>No</td>\n",
       "    </tr>\n",
       "  </tbody>\n",
       "</table>\n",
       "<p>6361 rows × 2 columns</p>\n",
       "</div>"
      ],
      "text/plain": [
       "      customerID MultipleLines\n",
       "0     5575-GNVDE            No\n",
       "1     3668-QPYBK            No\n",
       "2     9237-HQITU            No\n",
       "3     9305-CDSKC           Yes\n",
       "4     1452-KIOVK           Yes\n",
       "...          ...           ...\n",
       "6356  2569-WGERO            No\n",
       "6357  6840-RESVB           Yes\n",
       "6358  2234-XADUH           Yes\n",
       "6359  8361-LTMKD           Yes\n",
       "6360  3186-AJIEK            No\n",
       "\n",
       "[6361 rows x 2 columns]"
      ]
     },
     "execution_count": 26,
     "metadata": {},
     "output_type": "execute_result"
    }
   ],
   "source": [
    "df_phone"
   ]
  },
  {
   "cell_type": "code",
   "execution_count": 27,
   "metadata": {},
   "outputs": [
    {
     "data": {
      "text/plain": [
       "No     3390\n",
       "Yes    2971\n",
       "Name: MultipleLines, dtype: int64"
      ]
     },
     "execution_count": 27,
     "metadata": {},
     "output_type": "execute_result"
    }
   ],
   "source": [
    "df_phone['MultipleLines'].value_counts()"
   ]
  },
  {
   "cell_type": "markdown",
   "metadata": {},
   "source": [
    "There are 2971 clients who use telephone services, and 3390 who do not use telephone services."
   ]
  },
  {
   "cell_type": "markdown",
   "metadata": {},
   "source": [
    "**Displaying Information about Internet Service Data**"
   ]
  },
  {
   "cell_type": "code",
   "execution_count": 28,
   "metadata": {},
   "outputs": [
    {
     "name": "stdout",
     "output_type": "stream",
     "text": [
      "<class 'pandas.core.frame.DataFrame'>\n",
      "RangeIndex: 5517 entries, 0 to 5516\n",
      "Data columns (total 8 columns):\n",
      " #   Column            Non-Null Count  Dtype \n",
      "---  ------            --------------  ----- \n",
      " 0   customerID        5517 non-null   object\n",
      " 1   InternetService   5517 non-null   object\n",
      " 2   OnlineSecurity    5517 non-null   object\n",
      " 3   OnlineBackup      5517 non-null   object\n",
      " 4   DeviceProtection  5517 non-null   object\n",
      " 5   TechSupport       5517 non-null   object\n",
      " 6   StreamingTV       5517 non-null   object\n",
      " 7   StreamingMovies   5517 non-null   object\n",
      "dtypes: object(8)\n",
      "memory usage: 344.9+ KB\n"
     ]
    }
   ],
   "source": [
    "df_internet.info()"
   ]
  },
  {
   "cell_type": "code",
   "execution_count": 29,
   "metadata": {},
   "outputs": [
    {
     "data": {
      "text/html": [
       "<div>\n",
       "<style scoped>\n",
       "    .dataframe tbody tr th:only-of-type {\n",
       "        vertical-align: middle;\n",
       "    }\n",
       "\n",
       "    .dataframe tbody tr th {\n",
       "        vertical-align: top;\n",
       "    }\n",
       "\n",
       "    .dataframe thead th {\n",
       "        text-align: right;\n",
       "    }\n",
       "</style>\n",
       "<table border=\"1\" class=\"dataframe\">\n",
       "  <thead>\n",
       "    <tr style=\"text-align: right;\">\n",
       "      <th></th>\n",
       "      <th>customerID</th>\n",
       "      <th>InternetService</th>\n",
       "      <th>OnlineSecurity</th>\n",
       "      <th>OnlineBackup</th>\n",
       "      <th>DeviceProtection</th>\n",
       "      <th>TechSupport</th>\n",
       "      <th>StreamingTV</th>\n",
       "      <th>StreamingMovies</th>\n",
       "    </tr>\n",
       "  </thead>\n",
       "  <tbody>\n",
       "    <tr>\n",
       "      <th>0</th>\n",
       "      <td>7590-VHVEG</td>\n",
       "      <td>DSL</td>\n",
       "      <td>No</td>\n",
       "      <td>Yes</td>\n",
       "      <td>No</td>\n",
       "      <td>No</td>\n",
       "      <td>No</td>\n",
       "      <td>No</td>\n",
       "    </tr>\n",
       "    <tr>\n",
       "      <th>1</th>\n",
       "      <td>5575-GNVDE</td>\n",
       "      <td>DSL</td>\n",
       "      <td>Yes</td>\n",
       "      <td>No</td>\n",
       "      <td>Yes</td>\n",
       "      <td>No</td>\n",
       "      <td>No</td>\n",
       "      <td>No</td>\n",
       "    </tr>\n",
       "    <tr>\n",
       "      <th>2</th>\n",
       "      <td>3668-QPYBK</td>\n",
       "      <td>DSL</td>\n",
       "      <td>Yes</td>\n",
       "      <td>Yes</td>\n",
       "      <td>No</td>\n",
       "      <td>No</td>\n",
       "      <td>No</td>\n",
       "      <td>No</td>\n",
       "    </tr>\n",
       "    <tr>\n",
       "      <th>3</th>\n",
       "      <td>7795-CFOCW</td>\n",
       "      <td>DSL</td>\n",
       "      <td>Yes</td>\n",
       "      <td>No</td>\n",
       "      <td>Yes</td>\n",
       "      <td>Yes</td>\n",
       "      <td>No</td>\n",
       "      <td>No</td>\n",
       "    </tr>\n",
       "    <tr>\n",
       "      <th>4</th>\n",
       "      <td>9237-HQITU</td>\n",
       "      <td>Fiber optic</td>\n",
       "      <td>No</td>\n",
       "      <td>No</td>\n",
       "      <td>No</td>\n",
       "      <td>No</td>\n",
       "      <td>No</td>\n",
       "      <td>No</td>\n",
       "    </tr>\n",
       "    <tr>\n",
       "      <th>...</th>\n",
       "      <td>...</td>\n",
       "      <td>...</td>\n",
       "      <td>...</td>\n",
       "      <td>...</td>\n",
       "      <td>...</td>\n",
       "      <td>...</td>\n",
       "      <td>...</td>\n",
       "      <td>...</td>\n",
       "    </tr>\n",
       "    <tr>\n",
       "      <th>5512</th>\n",
       "      <td>6840-RESVB</td>\n",
       "      <td>DSL</td>\n",
       "      <td>Yes</td>\n",
       "      <td>No</td>\n",
       "      <td>Yes</td>\n",
       "      <td>Yes</td>\n",
       "      <td>Yes</td>\n",
       "      <td>Yes</td>\n",
       "    </tr>\n",
       "    <tr>\n",
       "      <th>5513</th>\n",
       "      <td>2234-XADUH</td>\n",
       "      <td>Fiber optic</td>\n",
       "      <td>No</td>\n",
       "      <td>Yes</td>\n",
       "      <td>Yes</td>\n",
       "      <td>No</td>\n",
       "      <td>Yes</td>\n",
       "      <td>Yes</td>\n",
       "    </tr>\n",
       "    <tr>\n",
       "      <th>5514</th>\n",
       "      <td>4801-JZAZL</td>\n",
       "      <td>DSL</td>\n",
       "      <td>Yes</td>\n",
       "      <td>No</td>\n",
       "      <td>No</td>\n",
       "      <td>No</td>\n",
       "      <td>No</td>\n",
       "      <td>No</td>\n",
       "    </tr>\n",
       "    <tr>\n",
       "      <th>5515</th>\n",
       "      <td>8361-LTMKD</td>\n",
       "      <td>Fiber optic</td>\n",
       "      <td>No</td>\n",
       "      <td>No</td>\n",
       "      <td>No</td>\n",
       "      <td>No</td>\n",
       "      <td>No</td>\n",
       "      <td>No</td>\n",
       "    </tr>\n",
       "    <tr>\n",
       "      <th>5516</th>\n",
       "      <td>3186-AJIEK</td>\n",
       "      <td>Fiber optic</td>\n",
       "      <td>Yes</td>\n",
       "      <td>No</td>\n",
       "      <td>Yes</td>\n",
       "      <td>Yes</td>\n",
       "      <td>Yes</td>\n",
       "      <td>Yes</td>\n",
       "    </tr>\n",
       "  </tbody>\n",
       "</table>\n",
       "<p>5517 rows × 8 columns</p>\n",
       "</div>"
      ],
      "text/plain": [
       "      customerID InternetService OnlineSecurity OnlineBackup DeviceProtection  \\\n",
       "0     7590-VHVEG             DSL             No          Yes               No   \n",
       "1     5575-GNVDE             DSL            Yes           No              Yes   \n",
       "2     3668-QPYBK             DSL            Yes          Yes               No   \n",
       "3     7795-CFOCW             DSL            Yes           No              Yes   \n",
       "4     9237-HQITU     Fiber optic             No           No               No   \n",
       "...          ...             ...            ...          ...              ...   \n",
       "5512  6840-RESVB             DSL            Yes           No              Yes   \n",
       "5513  2234-XADUH     Fiber optic             No          Yes              Yes   \n",
       "5514  4801-JZAZL             DSL            Yes           No               No   \n",
       "5515  8361-LTMKD     Fiber optic             No           No               No   \n",
       "5516  3186-AJIEK     Fiber optic            Yes           No              Yes   \n",
       "\n",
       "     TechSupport StreamingTV StreamingMovies  \n",
       "0             No          No              No  \n",
       "1             No          No              No  \n",
       "2             No          No              No  \n",
       "3            Yes          No              No  \n",
       "4             No          No              No  \n",
       "...          ...         ...             ...  \n",
       "5512         Yes         Yes             Yes  \n",
       "5513          No         Yes             Yes  \n",
       "5514          No          No              No  \n",
       "5515          No          No              No  \n",
       "5516         Yes         Yes             Yes  \n",
       "\n",
       "[5517 rows x 8 columns]"
      ]
     },
     "execution_count": 29,
     "metadata": {},
     "output_type": "execute_result"
    }
   ],
   "source": [
    "df_internet"
   ]
  },
  {
   "cell_type": "code",
   "execution_count": 30,
   "metadata": {},
   "outputs": [
    {
     "data": {
      "text/html": [
       "<div>\n",
       "<style scoped>\n",
       "    .dataframe tbody tr th:only-of-type {\n",
       "        vertical-align: middle;\n",
       "    }\n",
       "\n",
       "    .dataframe tbody tr th {\n",
       "        vertical-align: top;\n",
       "    }\n",
       "\n",
       "    .dataframe thead th {\n",
       "        text-align: right;\n",
       "    }\n",
       "</style>\n",
       "<table border=\"1\" class=\"dataframe\">\n",
       "  <thead>\n",
       "    <tr style=\"text-align: right;\">\n",
       "      <th></th>\n",
       "      <th>customerID</th>\n",
       "      <th>InternetService</th>\n",
       "      <th>OnlineSecurity</th>\n",
       "      <th>OnlineBackup</th>\n",
       "      <th>DeviceProtection</th>\n",
       "      <th>TechSupport</th>\n",
       "      <th>StreamingTV</th>\n",
       "      <th>StreamingMovies</th>\n",
       "    </tr>\n",
       "  </thead>\n",
       "  <tbody>\n",
       "    <tr>\n",
       "      <th>count</th>\n",
       "      <td>5517</td>\n",
       "      <td>5517</td>\n",
       "      <td>5517</td>\n",
       "      <td>5517</td>\n",
       "      <td>5517</td>\n",
       "      <td>5517</td>\n",
       "      <td>5517</td>\n",
       "      <td>5517</td>\n",
       "    </tr>\n",
       "    <tr>\n",
       "      <th>unique</th>\n",
       "      <td>5517</td>\n",
       "      <td>2</td>\n",
       "      <td>2</td>\n",
       "      <td>2</td>\n",
       "      <td>2</td>\n",
       "      <td>2</td>\n",
       "      <td>2</td>\n",
       "      <td>2</td>\n",
       "    </tr>\n",
       "    <tr>\n",
       "      <th>top</th>\n",
       "      <td>4328-VUFWD</td>\n",
       "      <td>Fiber optic</td>\n",
       "      <td>No</td>\n",
       "      <td>No</td>\n",
       "      <td>No</td>\n",
       "      <td>No</td>\n",
       "      <td>No</td>\n",
       "      <td>No</td>\n",
       "    </tr>\n",
       "    <tr>\n",
       "      <th>freq</th>\n",
       "      <td>1</td>\n",
       "      <td>3096</td>\n",
       "      <td>3498</td>\n",
       "      <td>3088</td>\n",
       "      <td>3095</td>\n",
       "      <td>3473</td>\n",
       "      <td>2810</td>\n",
       "      <td>2785</td>\n",
       "    </tr>\n",
       "  </tbody>\n",
       "</table>\n",
       "</div>"
      ],
      "text/plain": [
       "        customerID InternetService OnlineSecurity OnlineBackup  \\\n",
       "count         5517            5517           5517         5517   \n",
       "unique        5517               2              2            2   \n",
       "top     4328-VUFWD     Fiber optic             No           No   \n",
       "freq             1            3096           3498         3088   \n",
       "\n",
       "       DeviceProtection TechSupport StreamingTV StreamingMovies  \n",
       "count              5517        5517        5517            5517  \n",
       "unique                2           2           2               2  \n",
       "top                  No          No          No              No  \n",
       "freq               3095        3473        2810            2785  "
      ]
     },
     "execution_count": 30,
     "metadata": {},
     "output_type": "execute_result"
    }
   ],
   "source": [
    "df_internet.describe()"
   ]
  },
  {
   "cell_type": "code",
   "execution_count": 31,
   "metadata": {},
   "outputs": [
    {
     "data": {
      "text/plain": [
       "Fiber optic    3096\n",
       "DSL            2421\n",
       "Name: InternetService, dtype: int64"
      ]
     },
     "execution_count": 31,
     "metadata": {},
     "output_type": "execute_result"
    }
   ],
   "source": [
    "df_internet['InternetService'].value_counts()"
   ]
  },
  {
   "cell_type": "markdown",
   "metadata": {},
   "source": [
    "**Merging Dataframe**"
   ]
  },
  {
   "cell_type": "code",
   "execution_count": 32,
   "metadata": {},
   "outputs": [],
   "source": [
    "# Merge DataFrames based on customerID or other suitable columns.\n",
    "df_full = pd.merge(df_contract, df_personal, on='customerID', how='outer')\n",
    "df_full = pd.merge(df_full, df_phone, on='customerID', how='outer')\n",
    "df_full = pd.merge(df_full, df_internet, on='customerID', how='outer')\n"
   ]
  },
  {
   "cell_type": "code",
   "execution_count": 33,
   "metadata": {},
   "outputs": [
    {
     "data": {
      "text/html": [
       "<div>\n",
       "<style scoped>\n",
       "    .dataframe tbody tr th:only-of-type {\n",
       "        vertical-align: middle;\n",
       "    }\n",
       "\n",
       "    .dataframe tbody tr th {\n",
       "        vertical-align: top;\n",
       "    }\n",
       "\n",
       "    .dataframe thead th {\n",
       "        text-align: right;\n",
       "    }\n",
       "</style>\n",
       "<table border=\"1\" class=\"dataframe\">\n",
       "  <thead>\n",
       "    <tr style=\"text-align: right;\">\n",
       "      <th></th>\n",
       "      <th>customerID</th>\n",
       "      <th>BeginDate</th>\n",
       "      <th>EndDate</th>\n",
       "      <th>Type</th>\n",
       "      <th>PaperlessBilling</th>\n",
       "      <th>PaymentMethod</th>\n",
       "      <th>MonthlyCharges</th>\n",
       "      <th>TotalCharges</th>\n",
       "      <th>gender</th>\n",
       "      <th>SeniorCitizen</th>\n",
       "      <th>Partner</th>\n",
       "      <th>Dependents</th>\n",
       "      <th>MultipleLines</th>\n",
       "      <th>InternetService</th>\n",
       "      <th>OnlineSecurity</th>\n",
       "      <th>OnlineBackup</th>\n",
       "      <th>DeviceProtection</th>\n",
       "      <th>TechSupport</th>\n",
       "      <th>StreamingTV</th>\n",
       "      <th>StreamingMovies</th>\n",
       "    </tr>\n",
       "  </thead>\n",
       "  <tbody>\n",
       "    <tr>\n",
       "      <th>0</th>\n",
       "      <td>7590-VHVEG</td>\n",
       "      <td>2020-01-01</td>\n",
       "      <td>No</td>\n",
       "      <td>Month-to-month</td>\n",
       "      <td>Yes</td>\n",
       "      <td>Electronic check</td>\n",
       "      <td>29.85</td>\n",
       "      <td>29.85</td>\n",
       "      <td>Female</td>\n",
       "      <td>0</td>\n",
       "      <td>Yes</td>\n",
       "      <td>No</td>\n",
       "      <td>NaN</td>\n",
       "      <td>DSL</td>\n",
       "      <td>No</td>\n",
       "      <td>Yes</td>\n",
       "      <td>No</td>\n",
       "      <td>No</td>\n",
       "      <td>No</td>\n",
       "      <td>No</td>\n",
       "    </tr>\n",
       "    <tr>\n",
       "      <th>1</th>\n",
       "      <td>5575-GNVDE</td>\n",
       "      <td>2017-04-01</td>\n",
       "      <td>No</td>\n",
       "      <td>One year</td>\n",
       "      <td>No</td>\n",
       "      <td>Mailed check</td>\n",
       "      <td>56.95</td>\n",
       "      <td>1889.50</td>\n",
       "      <td>Male</td>\n",
       "      <td>0</td>\n",
       "      <td>No</td>\n",
       "      <td>No</td>\n",
       "      <td>No</td>\n",
       "      <td>DSL</td>\n",
       "      <td>Yes</td>\n",
       "      <td>No</td>\n",
       "      <td>Yes</td>\n",
       "      <td>No</td>\n",
       "      <td>No</td>\n",
       "      <td>No</td>\n",
       "    </tr>\n",
       "    <tr>\n",
       "      <th>2</th>\n",
       "      <td>3668-QPYBK</td>\n",
       "      <td>2019-10-01</td>\n",
       "      <td>2019-12-01 00:00:00</td>\n",
       "      <td>Month-to-month</td>\n",
       "      <td>Yes</td>\n",
       "      <td>Mailed check</td>\n",
       "      <td>53.85</td>\n",
       "      <td>108.15</td>\n",
       "      <td>Male</td>\n",
       "      <td>0</td>\n",
       "      <td>No</td>\n",
       "      <td>No</td>\n",
       "      <td>No</td>\n",
       "      <td>DSL</td>\n",
       "      <td>Yes</td>\n",
       "      <td>Yes</td>\n",
       "      <td>No</td>\n",
       "      <td>No</td>\n",
       "      <td>No</td>\n",
       "      <td>No</td>\n",
       "    </tr>\n",
       "    <tr>\n",
       "      <th>3</th>\n",
       "      <td>7795-CFOCW</td>\n",
       "      <td>2016-05-01</td>\n",
       "      <td>No</td>\n",
       "      <td>One year</td>\n",
       "      <td>No</td>\n",
       "      <td>Bank transfer (automatic)</td>\n",
       "      <td>42.30</td>\n",
       "      <td>1840.75</td>\n",
       "      <td>Male</td>\n",
       "      <td>0</td>\n",
       "      <td>No</td>\n",
       "      <td>No</td>\n",
       "      <td>NaN</td>\n",
       "      <td>DSL</td>\n",
       "      <td>Yes</td>\n",
       "      <td>No</td>\n",
       "      <td>Yes</td>\n",
       "      <td>Yes</td>\n",
       "      <td>No</td>\n",
       "      <td>No</td>\n",
       "    </tr>\n",
       "    <tr>\n",
       "      <th>4</th>\n",
       "      <td>9237-HQITU</td>\n",
       "      <td>2019-09-01</td>\n",
       "      <td>2019-11-01 00:00:00</td>\n",
       "      <td>Month-to-month</td>\n",
       "      <td>Yes</td>\n",
       "      <td>Electronic check</td>\n",
       "      <td>70.70</td>\n",
       "      <td>151.65</td>\n",
       "      <td>Female</td>\n",
       "      <td>0</td>\n",
       "      <td>No</td>\n",
       "      <td>No</td>\n",
       "      <td>No</td>\n",
       "      <td>Fiber optic</td>\n",
       "      <td>No</td>\n",
       "      <td>No</td>\n",
       "      <td>No</td>\n",
       "      <td>No</td>\n",
       "      <td>No</td>\n",
       "      <td>No</td>\n",
       "    </tr>\n",
       "    <tr>\n",
       "      <th>...</th>\n",
       "      <td>...</td>\n",
       "      <td>...</td>\n",
       "      <td>...</td>\n",
       "      <td>...</td>\n",
       "      <td>...</td>\n",
       "      <td>...</td>\n",
       "      <td>...</td>\n",
       "      <td>...</td>\n",
       "      <td>...</td>\n",
       "      <td>...</td>\n",
       "      <td>...</td>\n",
       "      <td>...</td>\n",
       "      <td>...</td>\n",
       "      <td>...</td>\n",
       "      <td>...</td>\n",
       "      <td>...</td>\n",
       "      <td>...</td>\n",
       "      <td>...</td>\n",
       "      <td>...</td>\n",
       "      <td>...</td>\n",
       "    </tr>\n",
       "    <tr>\n",
       "      <th>7038</th>\n",
       "      <td>6840-RESVB</td>\n",
       "      <td>2018-02-01</td>\n",
       "      <td>No</td>\n",
       "      <td>One year</td>\n",
       "      <td>Yes</td>\n",
       "      <td>Mailed check</td>\n",
       "      <td>84.80</td>\n",
       "      <td>1990.50</td>\n",
       "      <td>Male</td>\n",
       "      <td>0</td>\n",
       "      <td>Yes</td>\n",
       "      <td>Yes</td>\n",
       "      <td>Yes</td>\n",
       "      <td>DSL</td>\n",
       "      <td>Yes</td>\n",
       "      <td>No</td>\n",
       "      <td>Yes</td>\n",
       "      <td>Yes</td>\n",
       "      <td>Yes</td>\n",
       "      <td>Yes</td>\n",
       "    </tr>\n",
       "    <tr>\n",
       "      <th>7039</th>\n",
       "      <td>2234-XADUH</td>\n",
       "      <td>2014-02-01</td>\n",
       "      <td>No</td>\n",
       "      <td>One year</td>\n",
       "      <td>Yes</td>\n",
       "      <td>Credit card (automatic)</td>\n",
       "      <td>103.20</td>\n",
       "      <td>7362.90</td>\n",
       "      <td>Female</td>\n",
       "      <td>0</td>\n",
       "      <td>Yes</td>\n",
       "      <td>Yes</td>\n",
       "      <td>Yes</td>\n",
       "      <td>Fiber optic</td>\n",
       "      <td>No</td>\n",
       "      <td>Yes</td>\n",
       "      <td>Yes</td>\n",
       "      <td>No</td>\n",
       "      <td>Yes</td>\n",
       "      <td>Yes</td>\n",
       "    </tr>\n",
       "    <tr>\n",
       "      <th>7040</th>\n",
       "      <td>4801-JZAZL</td>\n",
       "      <td>2019-03-01</td>\n",
       "      <td>No</td>\n",
       "      <td>Month-to-month</td>\n",
       "      <td>Yes</td>\n",
       "      <td>Electronic check</td>\n",
       "      <td>29.60</td>\n",
       "      <td>346.45</td>\n",
       "      <td>Female</td>\n",
       "      <td>0</td>\n",
       "      <td>Yes</td>\n",
       "      <td>Yes</td>\n",
       "      <td>NaN</td>\n",
       "      <td>DSL</td>\n",
       "      <td>Yes</td>\n",
       "      <td>No</td>\n",
       "      <td>No</td>\n",
       "      <td>No</td>\n",
       "      <td>No</td>\n",
       "      <td>No</td>\n",
       "    </tr>\n",
       "    <tr>\n",
       "      <th>7041</th>\n",
       "      <td>8361-LTMKD</td>\n",
       "      <td>2019-07-01</td>\n",
       "      <td>2019-11-01 00:00:00</td>\n",
       "      <td>Month-to-month</td>\n",
       "      <td>Yes</td>\n",
       "      <td>Mailed check</td>\n",
       "      <td>74.40</td>\n",
       "      <td>306.60</td>\n",
       "      <td>Male</td>\n",
       "      <td>1</td>\n",
       "      <td>Yes</td>\n",
       "      <td>No</td>\n",
       "      <td>Yes</td>\n",
       "      <td>Fiber optic</td>\n",
       "      <td>No</td>\n",
       "      <td>No</td>\n",
       "      <td>No</td>\n",
       "      <td>No</td>\n",
       "      <td>No</td>\n",
       "      <td>No</td>\n",
       "    </tr>\n",
       "    <tr>\n",
       "      <th>7042</th>\n",
       "      <td>3186-AJIEK</td>\n",
       "      <td>2014-08-01</td>\n",
       "      <td>No</td>\n",
       "      <td>Two year</td>\n",
       "      <td>Yes</td>\n",
       "      <td>Bank transfer (automatic)</td>\n",
       "      <td>105.65</td>\n",
       "      <td>6844.50</td>\n",
       "      <td>Male</td>\n",
       "      <td>0</td>\n",
       "      <td>No</td>\n",
       "      <td>No</td>\n",
       "      <td>No</td>\n",
       "      <td>Fiber optic</td>\n",
       "      <td>Yes</td>\n",
       "      <td>No</td>\n",
       "      <td>Yes</td>\n",
       "      <td>Yes</td>\n",
       "      <td>Yes</td>\n",
       "      <td>Yes</td>\n",
       "    </tr>\n",
       "  </tbody>\n",
       "</table>\n",
       "<p>7043 rows × 20 columns</p>\n",
       "</div>"
      ],
      "text/plain": [
       "      customerID   BeginDate              EndDate            Type  \\\n",
       "0     7590-VHVEG  2020-01-01                   No  Month-to-month   \n",
       "1     5575-GNVDE  2017-04-01                   No        One year   \n",
       "2     3668-QPYBK  2019-10-01  2019-12-01 00:00:00  Month-to-month   \n",
       "3     7795-CFOCW  2016-05-01                   No        One year   \n",
       "4     9237-HQITU  2019-09-01  2019-11-01 00:00:00  Month-to-month   \n",
       "...          ...         ...                  ...             ...   \n",
       "7038  6840-RESVB  2018-02-01                   No        One year   \n",
       "7039  2234-XADUH  2014-02-01                   No        One year   \n",
       "7040  4801-JZAZL  2019-03-01                   No  Month-to-month   \n",
       "7041  8361-LTMKD  2019-07-01  2019-11-01 00:00:00  Month-to-month   \n",
       "7042  3186-AJIEK  2014-08-01                   No        Two year   \n",
       "\n",
       "     PaperlessBilling              PaymentMethod  MonthlyCharges  \\\n",
       "0                 Yes           Electronic check           29.85   \n",
       "1                  No               Mailed check           56.95   \n",
       "2                 Yes               Mailed check           53.85   \n",
       "3                  No  Bank transfer (automatic)           42.30   \n",
       "4                 Yes           Electronic check           70.70   \n",
       "...               ...                        ...             ...   \n",
       "7038              Yes               Mailed check           84.80   \n",
       "7039              Yes    Credit card (automatic)          103.20   \n",
       "7040              Yes           Electronic check           29.60   \n",
       "7041              Yes               Mailed check           74.40   \n",
       "7042              Yes  Bank transfer (automatic)          105.65   \n",
       "\n",
       "      TotalCharges  gender  SeniorCitizen Partner Dependents MultipleLines  \\\n",
       "0            29.85  Female              0     Yes         No           NaN   \n",
       "1          1889.50    Male              0      No         No            No   \n",
       "2           108.15    Male              0      No         No            No   \n",
       "3          1840.75    Male              0      No         No           NaN   \n",
       "4           151.65  Female              0      No         No            No   \n",
       "...            ...     ...            ...     ...        ...           ...   \n",
       "7038       1990.50    Male              0     Yes        Yes           Yes   \n",
       "7039       7362.90  Female              0     Yes        Yes           Yes   \n",
       "7040        346.45  Female              0     Yes        Yes           NaN   \n",
       "7041        306.60    Male              1     Yes         No           Yes   \n",
       "7042       6844.50    Male              0      No         No            No   \n",
       "\n",
       "     InternetService OnlineSecurity OnlineBackup DeviceProtection TechSupport  \\\n",
       "0                DSL             No          Yes               No          No   \n",
       "1                DSL            Yes           No              Yes          No   \n",
       "2                DSL            Yes          Yes               No          No   \n",
       "3                DSL            Yes           No              Yes         Yes   \n",
       "4        Fiber optic             No           No               No          No   \n",
       "...              ...            ...          ...              ...         ...   \n",
       "7038             DSL            Yes           No              Yes         Yes   \n",
       "7039     Fiber optic             No          Yes              Yes          No   \n",
       "7040             DSL            Yes           No               No          No   \n",
       "7041     Fiber optic             No           No               No          No   \n",
       "7042     Fiber optic            Yes           No              Yes         Yes   \n",
       "\n",
       "     StreamingTV StreamingMovies  \n",
       "0             No              No  \n",
       "1             No              No  \n",
       "2             No              No  \n",
       "3             No              No  \n",
       "4             No              No  \n",
       "...          ...             ...  \n",
       "7038         Yes             Yes  \n",
       "7039         Yes             Yes  \n",
       "7040          No              No  \n",
       "7041          No              No  \n",
       "7042         Yes             Yes  \n",
       "\n",
       "[7043 rows x 20 columns]"
      ]
     },
     "execution_count": 33,
     "metadata": {},
     "output_type": "execute_result"
    }
   ],
   "source": [
    "df_full"
   ]
  },
  {
   "cell_type": "code",
   "execution_count": 34,
   "metadata": {
    "scrolled": false
   },
   "outputs": [
    {
     "data": {
      "text/plain": [
       "customerID             0\n",
       "BeginDate              0\n",
       "EndDate                0\n",
       "Type                   0\n",
       "PaperlessBilling       0\n",
       "PaymentMethod          0\n",
       "MonthlyCharges         0\n",
       "TotalCharges           0\n",
       "gender                 0\n",
       "SeniorCitizen          0\n",
       "Partner                0\n",
       "Dependents             0\n",
       "MultipleLines        682\n",
       "InternetService     1526\n",
       "OnlineSecurity      1526\n",
       "OnlineBackup        1526\n",
       "DeviceProtection    1526\n",
       "TechSupport         1526\n",
       "StreamingTV         1526\n",
       "StreamingMovies     1526\n",
       "dtype: int64"
      ]
     },
     "execution_count": 34,
     "metadata": {},
     "output_type": "execute_result"
    }
   ],
   "source": [
    "df_full.isnull().sum()"
   ]
  },
  {
   "cell_type": "markdown",
   "metadata": {},
   "source": [
    "After merging the data, empty values appear. This is because some clients are unknown whether they take telephone services or internet services. To fill these empty values, they are filled with 'NO' because it is assumed they do not use the service."
   ]
  },
  {
   "cell_type": "code",
   "execution_count": 35,
   "metadata": {},
   "outputs": [
    {
     "name": "stdout",
     "output_type": "stream",
     "text": [
      "<class 'pandas.core.frame.DataFrame'>\n",
      "Int64Index: 7043 entries, 0 to 7042\n",
      "Data columns (total 20 columns):\n",
      " #   Column            Non-Null Count  Dtype  \n",
      "---  ------            --------------  -----  \n",
      " 0   customerID        7043 non-null   object \n",
      " 1   BeginDate         7043 non-null   object \n",
      " 2   EndDate           7043 non-null   object \n",
      " 3   Type              7043 non-null   object \n",
      " 4   PaperlessBilling  7043 non-null   object \n",
      " 5   PaymentMethod     7043 non-null   object \n",
      " 6   MonthlyCharges    7043 non-null   float64\n",
      " 7   TotalCharges      7043 non-null   float64\n",
      " 8   gender            7043 non-null   object \n",
      " 9   SeniorCitizen     7043 non-null   int64  \n",
      " 10  Partner           7043 non-null   object \n",
      " 11  Dependents        7043 non-null   object \n",
      " 12  MultipleLines     7043 non-null   object \n",
      " 13  InternetService   7043 non-null   object \n",
      " 14  OnlineSecurity    7043 non-null   object \n",
      " 15  OnlineBackup      7043 non-null   object \n",
      " 16  DeviceProtection  7043 non-null   object \n",
      " 17  TechSupport       7043 non-null   object \n",
      " 18  StreamingTV       7043 non-null   object \n",
      " 19  StreamingMovies   7043 non-null   object \n",
      "dtypes: float64(2), int64(1), object(17)\n",
      "memory usage: 1.1+ MB\n"
     ]
    }
   ],
   "source": [
    "# Filling empty data with 'No' because it means they are not using additional services.\n",
    "df_full = df_full.fillna('No')\n",
    "df_full.info()"
   ]
  },
  {
   "cell_type": "markdown",
   "metadata": {},
   "source": [
    "No missing values."
   ]
  },
  {
   "cell_type": "code",
   "execution_count": 36,
   "metadata": {},
   "outputs": [
    {
     "data": {
      "text/plain": [
       "0"
      ]
     },
     "execution_count": 36,
     "metadata": {},
     "output_type": "execute_result"
    }
   ],
   "source": [
    "df_full.duplicated().sum()"
   ]
  },
  {
   "cell_type": "markdown",
   "metadata": {},
   "source": [
    "# 3. EDA <a id='eda'></a>"
   ]
  },
  {
   "cell_type": "markdown",
   "metadata": {},
   "source": [
    "**Distribution of Client Churn Data**"
   ]
  },
  {
   "cell_type": "code",
   "execution_count": 37,
   "metadata": {},
   "outputs": [],
   "source": [
    "df_eda = df_full.copy()"
   ]
  },
  {
   "cell_type": "code",
   "execution_count": 38,
   "metadata": {},
   "outputs": [
    {
     "data": {
      "image/png": "[encoded data removed]",
      "text/plain": [
       "<Figure size 640x480 with 1 Axes>"
      ]
     },
     "metadata": {},
     "output_type": "display_data"
    },
    {
     "data": {
      "text/plain": [
       "No                     5174\n",
       "2019-11-01 00:00:00     485\n",
       "2019-12-01 00:00:00     466\n",
       "2020-01-01 00:00:00     460\n",
       "2019-10-01 00:00:00     458\n",
       "Name: EndDate, dtype: int64"
      ]
     },
     "execution_count": 38,
     "metadata": {},
     "output_type": "execute_result"
    }
   ],
   "source": [
    "sns.countplot(data=df_eda, x='EndDate')\n",
    "plt.show()\n",
    "df_eda['EndDate'].value_counts()"
   ]
  },
  {
   "cell_type": "code",
   "execution_count": 39,
   "metadata": {},
   "outputs": [],
   "source": [
    "# Definisikan tanggal-tanggal yang ingin dirubah menjadi 'Yes'\n",
    "dates_to_convert = ['2019-11-01 00:00:00', '2019-12-01 00:00:00', '2020-01-01 00:00:00', '2019-10-01 00:00:00']\n",
    "\n",
    "# Ubah nilai-nilai yang sesuai menjadi 'Yes' dan nilai-nilai lainnya menjadi 'No'\n",
    "df_eda['EndDate'] = df_eda['EndDate'].apply(lambda x:'Nonactive' if x in dates_to_convert else 'Active')"
   ]
  },
  {
   "cell_type": "code",
   "execution_count": 40,
   "metadata": {},
   "outputs": [
    {
     "data": {
      "image/png": "[encoded data removed]",
      "text/plain": [
       "<Figure size 700x300 with 1 Axes>"
      ]
     },
     "metadata": {},
     "output_type": "display_data"
    }
   ],
   "source": [
    "# Menampilkan jumlah nilai masing-masing kategori\n",
    "churn_klien = df_eda['EndDate'].value_counts()\n",
    "\n",
    "# Buat pie chart\n",
    "plt.figure(figsize=(7, 3))\n",
    "plt.pie(churn_klien, labels=churn_klien.index, autopct='%1.1f%%', startangle=140)\n",
    "plt.title('Distribution of Churn Client')\n",
    "plt.axis('equal')  # Memastikan lingkaran berbentuk lingkaran\n",
    "# Tambahkan legenda untuk nilai 0 dan 1\n",
    "plt.legend(['Active Client', 'Nonaktif Client'], loc='upper right')\n",
    "plt.show()"
   ]
  },
  {
   "cell_type": "markdown",
   "metadata": {},
   "source": [
    "It turns out that the proportion of active clients is larger than those who have exited; the proportion is not balanced."
   ]
  },
  {
   "cell_type": "markdown",
   "metadata": {},
   "source": [
    "**Statistical Calculation of Active and Inactive Clients Against Monthly Payments**"
   ]
  },
  {
   "cell_type": "code",
   "execution_count": 41,
   "metadata": {},
   "outputs": [
    {
     "data": {
      "text/plain": [
       "count    7043.000000\n",
       "mean       64.761692\n",
       "std        30.090047\n",
       "min        18.250000\n",
       "25%        35.500000\n",
       "50%        70.350000\n",
       "75%        89.850000\n",
       "max       118.750000\n",
       "Name: MonthlyCharges, dtype: float64"
      ]
     },
     "execution_count": 41,
     "metadata": {},
     "output_type": "execute_result"
    }
   ],
   "source": [
    "df_eda['MonthlyCharges'].describe()"
   ]
  },
  {
   "cell_type": "code",
   "execution_count": 42,
   "metadata": {},
   "outputs": [
    {
     "data": {
      "image/png": "[encoded data removed]",
      "text/plain": [
       "<Figure size 1000x600 with 1 Axes>"
      ]
     },
     "metadata": {},
     "output_type": "display_data"
    }
   ],
   "source": [
    "# Membuat histogram dengan menggunakan warna berbeda untuk setiap kategori 'EndDate'\n",
    "plt.figure(figsize=(10, 6))\n",
    "sns.histplot(data=df_eda, x='MonthlyCharges', hue='EndDate', bins=30, kde=False, multiple='stack')\n",
    "plt.title('Distribution MonthlyCharges of Churn Klien')\n",
    "plt.xlabel('Monthly Charges')\n",
    "plt.ylabel('Frequency')\n",
    "plt.grid(True)  # Menampilkan grid\n",
    "plt.legend(['Nonactive Client', 'Active Client'], loc='upper right')\n",
    "plt.show()"
   ]
  },
  {
   "cell_type": "code",
   "execution_count": 43,
   "metadata": {},
   "outputs": [],
   "source": [
    "# Mengelompokkan data berdasarkan 'EndDate' dan menghitung mean, median, min, max 'MonthlyCharges'\n",
    "summary_stats = df_eda.groupby('EndDate').agg({'MonthlyCharges':['mean', 'median', 'min', 'max']})\n",
    "\n",
    "# Menambahkan quartil bawah (Q1) dan quartil atas (Q3)\n",
    "summary_stats[('MonthlyCharges', 'Q1')] = df_eda.groupby('EndDate')['MonthlyCharges'].quantile(0.25)\n",
    "summary_stats[('MonthlyCharges', 'Q3')] = df_eda.groupby('EndDate')['MonthlyCharges'].quantile(0.75)\n"
   ]
  },
  {
   "cell_type": "code",
   "execution_count": 44,
   "metadata": {},
   "outputs": [
    {
     "data": {
      "text/html": [
       "<div>\n",
       "<style scoped>\n",
       "    .dataframe tbody tr th:only-of-type {\n",
       "        vertical-align: middle;\n",
       "    }\n",
       "\n",
       "    .dataframe tbody tr th {\n",
       "        vertical-align: top;\n",
       "    }\n",
       "\n",
       "    .dataframe thead tr th {\n",
       "        text-align: left;\n",
       "    }\n",
       "\n",
       "    .dataframe thead tr:last-of-type th {\n",
       "        text-align: right;\n",
       "    }\n",
       "</style>\n",
       "<table border=\"1\" class=\"dataframe\">\n",
       "  <thead>\n",
       "    <tr>\n",
       "      <th></th>\n",
       "      <th colspan=\"6\" halign=\"left\">MonthlyCharges</th>\n",
       "    </tr>\n",
       "    <tr>\n",
       "      <th></th>\n",
       "      <th>mean</th>\n",
       "      <th>median</th>\n",
       "      <th>min</th>\n",
       "      <th>max</th>\n",
       "      <th>Q1</th>\n",
       "      <th>Q3</th>\n",
       "    </tr>\n",
       "    <tr>\n",
       "      <th>EndDate</th>\n",
       "      <th></th>\n",
       "      <th></th>\n",
       "      <th></th>\n",
       "      <th></th>\n",
       "      <th></th>\n",
       "      <th></th>\n",
       "    </tr>\n",
       "  </thead>\n",
       "  <tbody>\n",
       "    <tr>\n",
       "      <th>Active</th>\n",
       "      <td>61.265124</td>\n",
       "      <td>64.425</td>\n",
       "      <td>18.25</td>\n",
       "      <td>118.75</td>\n",
       "      <td>25.10</td>\n",
       "      <td>88.4</td>\n",
       "    </tr>\n",
       "    <tr>\n",
       "      <th>Nonactive</th>\n",
       "      <td>74.441332</td>\n",
       "      <td>79.650</td>\n",
       "      <td>18.85</td>\n",
       "      <td>118.35</td>\n",
       "      <td>56.15</td>\n",
       "      <td>94.2</td>\n",
       "    </tr>\n",
       "  </tbody>\n",
       "</table>\n",
       "</div>"
      ],
      "text/plain": [
       "          MonthlyCharges                                    \n",
       "                    mean  median    min     max     Q1    Q3\n",
       "EndDate                                                     \n",
       "Active         61.265124  64.425  18.25  118.75  25.10  88.4\n",
       "Nonactive      74.441332  79.650  18.85  118.35  56.15  94.2"
      ]
     },
     "execution_count": 44,
     "metadata": {},
     "output_type": "execute_result"
    }
   ],
   "source": [
    "# Menampilkan ringkasan statistik yang diperbarui\n",
    "summary_stats"
   ]
  },
  {
   "cell_type": "code",
   "execution_count": 45,
   "metadata": {},
   "outputs": [
    {
     "data": {
      "image/png": "[encoded data removed]",
      "text/plain": [
       "<Figure size 640x480 with 1 Axes>"
      ]
     },
     "metadata": {},
     "output_type": "display_data"
    }
   ],
   "source": [
    "sns.boxplot(data=df_eda, x='MonthlyCharges', y='EndDate')\n",
    "plt.show()"
   ]
  },
  {
   "cell_type": "markdown",
   "metadata": {},
   "source": [
    "There are no significant or outlier data."
   ]
  },
  {
   "cell_type": "markdown",
   "metadata": {},
   "source": [
    "**Churn Behavior of Clients Regarding the Number of Telephone Users**"
   ]
  },
  {
   "cell_type": "code",
   "execution_count": 46,
   "metadata": {},
   "outputs": [
    {
     "data": {
      "text/plain": [
       "No     4072\n",
       "Yes    2971\n",
       "Name: MultipleLines, dtype: int64"
      ]
     },
     "execution_count": 46,
     "metadata": {},
     "output_type": "execute_result"
    }
   ],
   "source": [
    "df_eda['MultipleLines'].value_counts()"
   ]
  },
  {
   "cell_type": "code",
   "execution_count": 47,
   "metadata": {},
   "outputs": [
    {
     "data": {
      "image/png": "[encoded data removed]",
      "text/plain": [
       "<Figure size 800x400 with 1 Axes>"
      ]
     },
     "metadata": {},
     "output_type": "display_data"
    }
   ],
   "source": [
    "# Membuat count plot\n",
    "plt.figure(figsize=(8, 4))\n",
    "sns_countplot = sns.countplot(data=df_eda, x='MultipleLines', hue='EndDate')\n",
    "plt.title('Count Plot of Clients by MultipleLines')\n",
    "plt.xlabel('MultipleLines')\n",
    "plt.ylabel('Count')\n",
    "plt.legend(['Active Client', 'Nonactive Client'], loc='upper right')\n",
    "\n",
    "# Menambahkan label jumlah pada setiap bar\n",
    "for p in sns_countplot.patches:\n",
    "    sns_countplot.annotate(f'{p.get_height()}', (p.get_x() + p.get_width() / 2., p.get_height()), ha='center', va='center', xytext=(0, 5), textcoords='offset points')\n",
    "\n",
    "plt.show()"
   ]
  },
  {
   "cell_type": "markdown",
   "metadata": {},
   "source": [
    "Active clients mostly do not use telephone services, as seen in the graph above, with a value of 3053. Meanwhile, those who do use it are 2121."
   ]
  },
  {
   "cell_type": "markdown",
   "metadata": {},
   "source": [
    "**Churn Behavior of Clients Regarding Internet Usage Share**"
   ]
  },
  {
   "cell_type": "code",
   "execution_count": 48,
   "metadata": {},
   "outputs": [
    {
     "name": "stdout",
     "output_type": "stream",
     "text": [
      "Percentage of internet users: 78.33309669175067\n",
      "Percentage of users who do not use the internet: 21.666903308249324\n"
     ]
    }
   ],
   "source": [
    "# Hitung jumlah pelanggan yang menggunakan layanan internet\n",
    "internet_users = (df_eda['InternetService'] != 'No').sum()\n",
    "\n",
    "# Hitung jumlah pelanggan yang tidak menggunakan internet\n",
    "non_internet_users = (df_eda['InternetService'] == 'No').sum()\n",
    "\n",
    "# Hitung total jumlah pelanggan\n",
    "total_users = len(df_eda)\n",
    "\n",
    "# Hitung persentase pengguna internet\n",
    "percentage_internet_users = (internet_users / total_users) * 100\n",
    "percentage_non_internet_users = (non_internet_users / total_users) * 100\n",
    "\n",
    "print(\"Percentage of internet users:\", percentage_internet_users)\n",
    "print(\"Percentage of users who do not use the internet:\", percentage_non_internet_users)\n"
   ]
  },
  {
   "cell_type": "code",
   "execution_count": 49,
   "metadata": {},
   "outputs": [
    {
     "data": {
      "image/png": "[encoded data removed]",
      "text/plain": [
       "<Figure size 400x400 with 1 Axes>"
      ]
     },
     "metadata": {},
     "output_type": "display_data"
    }
   ],
   "source": [
    "# Labels untuk pie chart\n",
    "labels = ['Internet Users', 'Not Internet Users']\n",
    "\n",
    "# Data untuk pie chart\n",
    "sizes = [percentage_internet_users, percentage_non_internet_users]\n",
    "\n",
    "# Warna untuk setiap bagian pada pie chart\n",
    "colors = ['lightblue', 'lightcoral']\n",
    "\n",
    "# Plot pie chart\n",
    "plt.figure(figsize=(4, 4))\n",
    "plt.pie(sizes, labels=labels, colors=colors, autopct='%1.1f%%', startangle=140)\n",
    "plt.title('Percentage Internet Users')\n",
    "plt.axis('equal')  # Memastikan lingkaran berbentuk lingkaran\n",
    "\n",
    "# Tambahkan teks jumlah pengguna non-internet\n",
    "plt.text(x=-0.2, y=0.4, s=1526, fontsize=10, color='black')\n",
    "\n",
    "# Tambahkan teks jumlah pengguna internet\n",
    "plt.text(x=0, y=-0.8, s=5517, fontsize=10, color='black')\n",
    "\n",
    "# Tampilkan pie chart\n",
    "plt.show()"
   ]
  },
  {
   "cell_type": "markdown",
   "metadata": {},
   "source": [
    "There are more internet users than non-internet users."
   ]
  },
  {
   "cell_type": "code",
   "execution_count": 50,
   "metadata": {},
   "outputs": [
    {
     "name": "stdout",
     "output_type": "stream",
     "text": [
      "Number of active customers using internet services: 3761\n",
      "Number of active customers not using internet services: 1413\n",
      "Number of inactive customers using internet services: 1756\n",
      "Number of inactive customers not using internet services: 113\n"
     ]
    }
   ],
   "source": [
    "# Filter data untuk mendapatkan jumlah pelanggan aktif dan nonaktif untuk setiap jenis layanan internet\n",
    "active_customers = df_eda[df_eda['EndDate'] == 'Active']\n",
    "inactive_customers = df_eda[df_eda['EndDate'] == 'Nonactive']\n",
    "\n",
    "# Jika pengguna menggunakan layanan internet\n",
    "active_internet_users = active_customers[df_eda['InternetService'] != 'No'].shape[0]\n",
    "inactive_internet_users = inactive_customers[df_eda['InternetService'] != 'No'].shape[0]\n",
    "\n",
    "# Jika pengguna tidak menggunakan layanan internet\n",
    "active_non_internet_users = active_customers[df_eda['InternetService'] == 'No'].shape[0]\n",
    "inactive_non_internet_users = inactive_customers[df_eda['InternetService'] == 'No'].shape[0]\n",
    "\n",
    "# Tampilkan hasil\n",
    "print(\"Number of active customers using internet services:\", active_internet_users)\n",
    "print(\"Number of active customers not using internet services:\", active_non_internet_users)\n",
    "\n",
    "print(\"Number of inactive customers using internet services:\", inactive_internet_users)\n",
    "print(\"Number of inactive customers not using internet services:\", inactive_non_internet_users)\n"
   ]
  },
  {
   "cell_type": "code",
   "execution_count": 51,
   "metadata": {},
   "outputs": [
    {
     "data": {
      "image/png": "[encoded data removed]",
      "text/plain": [
       "<Figure size 500x500 with 1 Axes>"
      ]
     },
     "metadata": {},
     "output_type": "display_data"
    }
   ],
   "source": [
    "# Data untuk plot\n",
    "categories = ['Active', 'Nonactive']\n",
    "internet_users = [active_internet_users, inactive_internet_users]\n",
    "non_internet_users = [active_non_internet_users, inactive_non_internet_users]\n",
    "\n",
    "x = range(len(categories))\n",
    "\n",
    "# Membuat plot\n",
    "plt.figure(figsize=(5, 5))\n",
    "plt.bar(x, internet_users, width=0.4, align='center', label='Internet Users', color='blue', alpha=0.7)\n",
    "plt.bar(x, non_internet_users, width=0.4, align='edge', label='Not Internet Users', color='red', alpha=0.7)\n",
    "\n",
    "# Menambahkan label dan judul\n",
    "plt.xlabel('Client Status')\n",
    "plt.ylabel('Number of Client')\n",
    "plt.title('Number of Active Client and Nonactive based on use of internet services')\n",
    "plt.xticks(x, categories)\n",
    "plt.legend()\n",
    "\n",
    "# Menampilkan teks tambahan\n",
    "plt.text(0, active_internet_users + 50, f\"{active_internet_users}\", ha='center', color='black')\n",
    "plt.text(1, inactive_internet_users + 50, f\"{inactive_internet_users}\", ha='center', color='black')\n",
    "plt.text(0.3, active_non_internet_users + 50, f\"{active_non_internet_users}\", ha='center', color='black')\n",
    "plt.text(1.3, inactive_non_internet_users + 50, f\"{inactive_non_internet_users}\", ha='center', color='black')\n",
    "\n",
    "# Menampilkan plot\n",
    "plt.tight_layout()\n",
    "plt.show()"
   ]
  },
  {
   "cell_type": "code",
   "execution_count": 52,
   "metadata": {},
   "outputs": [
    {
     "data": {
      "image/png": "[encoded data removed]",
      "text/plain": [
       "<Figure size 300x300 with 1 Axes>"
      ]
     },
     "metadata": {},
     "output_type": "display_data"
    }
   ],
   "source": [
    "# Menghitung frekuensi masing-masing kategori 'InternetService'\n",
    "internet_service_counts = df_eda['InternetService'].value_counts()\n",
    "\n",
    "# Membuat pie chart dari frekuensi 'InternetService'\n",
    "plt.figure(figsize=(3, 3))\n",
    "plt.pie(internet_service_counts, labels=internet_service_counts.index, autopct='%1.1f%%', startangle=140)\n",
    "plt.title('Distribution of Internet Service')\n",
    "plt.axis('equal')  # Memastikan lingkaran berbentuk lingkaran\n",
    "plt.show()"
   ]
  },
  {
   "cell_type": "markdown",
   "metadata": {},
   "source": [
    "**Data Correlation**"
   ]
  },
  {
   "cell_type": "code",
   "execution_count": 53,
   "metadata": {},
   "outputs": [
    {
     "data": {
      "image/png": "[encoded data removed]",
      "text/plain": [
       "<Figure size 1500x1000 with 2 Axes>"
      ]
     },
     "metadata": {},
     "output_type": "display_data"
    }
   ],
   "source": [
    "def correlation(data, title):\n",
    "    encoder = OrdinalEncoder()\n",
    "    columns_heatmap = data.columns[3:]\n",
    "    data_ordinal = pd.DataFrame(encoder.fit_transform(data[columns_heatmap]),\n",
    "                                columns=columns_heatmap)\n",
    "\n",
    "    # Membuat matriks korelasi dengan heatmap\n",
    "    plt.figure(figsize=(15,10))\n",
    "    sns.heatmap(data_ordinal.corr(),\n",
    "                annot=True,\n",
    "                cmap='YlGnBu',\n",
    "                fmt='.2f',\n",
    "                linecolor='black')\n",
    "    plt.xticks(rotation=45,\n",
    "               ha='right')\n",
    "    plt.title(title)\n",
    "    plt.show()\n",
    "\n",
    "correlation(df_eda, \"Data Correlation\")"
   ]
  },
  {
   "cell_type": "markdown",
   "metadata": {},
   "source": [
    "Based on the displayed correlation heatmap, here are some conclusions that can be drawn:<br>\n",
    "<br>\n",
    "Strong Positive Correlations:\n",
    "- There is a strong positive correlation between MonthlyCharges and TotalCharges (0.64). This indicates that customers with higher monthly charges tend to have higher total charges as well.\n",
    "- StreamingTV and StreamingMovies also show a strong positive correlation (0.53), suggesting that customers who subscribe to streaming TV are likely to also subscribe to streaming movies.\n",
    "\n",
    "Negative Correlation:<br>\n",
    "- InternetService has negative correlations with OnlineSecurity (-0.39), TechSupport (-0.31), and OnlineBackup (-0.31).\n",
    "\n",
    "Weak or No Correlation:\n",
    "- Some features such as gender, SeniorCitizen, and Partner exhibit very weak or insignificant correlations with other features. This implies that these factors may not have much influence on other variables in this dataset."
   ]
  },
  {
   "cell_type": "markdown",
   "metadata": {},
   "source": [
    "# 4. Features Engineering <a id='engineering'></a>"
   ]
  },
  {
   "cell_type": "markdown",
   "metadata": {},
   "source": [
    "Removing columns as low correlated features to improve model performance."
   ]
  },
  {
   "cell_type": "code",
   "execution_count": 54,
   "metadata": {},
   "outputs": [],
   "source": [
    "# Menghapus features yang berkorelasi rendah\n",
    "df_full = df_full.drop(columns=['gender', 'SeniorCitizen', 'Partner', 'Dependents'])"
   ]
  },
  {
   "cell_type": "markdown",
   "metadata": {},
   "source": [
    "Added 'Status' column to replace 'EndDate' column as target."
   ]
  },
  {
   "cell_type": "code",
   "execution_count": 55,
   "metadata": {},
   "outputs": [
    {
     "data": {
      "text/plain": [
       "0    5174\n",
       "1    1869\n",
       "Name: Status, dtype: int64"
      ]
     },
     "execution_count": 55,
     "metadata": {},
     "output_type": "execute_result"
    }
   ],
   "source": [
    "# Menambahkan kolom \"Status\" untuk variabel target dengan 0 untuk pelanggan aktif dan 1 untuk yang berhenti\n",
    "df_full['Status'] = df_full['EndDate'].apply(lambda x: 0 if x == \"No\" else 1)\n",
    "df_full['Status'].value_counts()"
   ]
  },
  {
   "cell_type": "markdown",
   "metadata": {},
   "source": [
    "Added 'Tenure' column to improve model performance."
   ]
  },
  {
   "cell_type": "code",
   "execution_count": 56,
   "metadata": {},
   "outputs": [
    {
     "data": {
      "text/html": [
       "<div>\n",
       "<style scoped>\n",
       "    .dataframe tbody tr th:only-of-type {\n",
       "        vertical-align: middle;\n",
       "    }\n",
       "\n",
       "    .dataframe tbody tr th {\n",
       "        vertical-align: top;\n",
       "    }\n",
       "\n",
       "    .dataframe thead th {\n",
       "        text-align: right;\n",
       "    }\n",
       "</style>\n",
       "<table border=\"1\" class=\"dataframe\">\n",
       "  <thead>\n",
       "    <tr style=\"text-align: right;\">\n",
       "      <th></th>\n",
       "      <th>customerID</th>\n",
       "      <th>BeginDate</th>\n",
       "      <th>EndDate</th>\n",
       "      <th>Type</th>\n",
       "      <th>PaperlessBilling</th>\n",
       "      <th>PaymentMethod</th>\n",
       "      <th>MonthlyCharges</th>\n",
       "      <th>TotalCharges</th>\n",
       "      <th>MultipleLines</th>\n",
       "      <th>InternetService</th>\n",
       "      <th>OnlineSecurity</th>\n",
       "      <th>OnlineBackup</th>\n",
       "      <th>DeviceProtection</th>\n",
       "      <th>TechSupport</th>\n",
       "      <th>StreamingTV</th>\n",
       "      <th>StreamingMovies</th>\n",
       "      <th>Status</th>\n",
       "      <th>Tenure</th>\n",
       "    </tr>\n",
       "  </thead>\n",
       "  <tbody>\n",
       "    <tr>\n",
       "      <th>3035</th>\n",
       "      <td>7924-GJZFI</td>\n",
       "      <td>2018-01-01</td>\n",
       "      <td>2020-02-01</td>\n",
       "      <td>Month-to-month</td>\n",
       "      <td>Yes</td>\n",
       "      <td>Electronic check</td>\n",
       "      <td>69.3</td>\n",
       "      <td>1813.1</td>\n",
       "      <td>No</td>\n",
       "      <td>Fiber optic</td>\n",
       "      <td>No</td>\n",
       "      <td>No</td>\n",
       "      <td>No</td>\n",
       "      <td>No</td>\n",
       "      <td>No</td>\n",
       "      <td>No</td>\n",
       "      <td>0</td>\n",
       "      <td>761</td>\n",
       "    </tr>\n",
       "  </tbody>\n",
       "</table>\n",
       "</div>"
      ],
      "text/plain": [
       "      customerID  BeginDate    EndDate            Type PaperlessBilling  \\\n",
       "3035  7924-GJZFI 2018-01-01 2020-02-01  Month-to-month              Yes   \n",
       "\n",
       "         PaymentMethod  MonthlyCharges  TotalCharges MultipleLines  \\\n",
       "3035  Electronic check            69.3        1813.1            No   \n",
       "\n",
       "     InternetService OnlineSecurity OnlineBackup DeviceProtection TechSupport  \\\n",
       "3035     Fiber optic             No           No               No          No   \n",
       "\n",
       "     StreamingTV StreamingMovies  Status  Tenure  \n",
       "3035          No              No       0     761  "
      ]
     },
     "execution_count": 56,
     "metadata": {},
     "output_type": "execute_result"
    }
   ],
   "source": [
    "# Merubah nilai No pada kolom EndDate menjadi tanggal 2020-02-01 karena kontrak diberlakukan tanggal 1 Feb 2020\n",
    "df_full.loc[df_full['EndDate'] == 'No','EndDate'] = '2020-02-01 00:00:00'\n",
    "\n",
    "# Mengganti type data menjadi datetime\n",
    "df_full['EndDate'] = pd.to_datetime(df_full['EndDate'])\n",
    "df_full['BeginDate'] = pd.to_datetime(df_full['BeginDate'])\n",
    "\n",
    "# Menambahkan kolom baru untuk melihat durasi Tenure\n",
    "df_full['Tenure'] = (df_full['EndDate'].dt.to_period('D') - df_full['BeginDate'].dt.to_period('D')).apply(lambda x: x.n)\n",
    "df_full.sample()"
   ]
  },
  {
   "cell_type": "code",
   "execution_count": 57,
   "metadata": {},
   "outputs": [],
   "source": [
    "# Memisahkan features dan target, dimana features adalah X dan target adalah y.\n",
    "X = df_full.drop(columns=['customerID', 'BeginDate', 'EndDate', 'MonthlyCharges', 'TotalCharges', 'Status'])\n",
    "y = df_full['Status']"
   ]
  },
  {
   "cell_type": "code",
   "execution_count": 58,
   "metadata": {},
   "outputs": [
    {
     "data": {
      "text/html": [
       "<div>\n",
       "<style scoped>\n",
       "    .dataframe tbody tr th:only-of-type {\n",
       "        vertical-align: middle;\n",
       "    }\n",
       "\n",
       "    .dataframe tbody tr th {\n",
       "        vertical-align: top;\n",
       "    }\n",
       "\n",
       "    .dataframe thead th {\n",
       "        text-align: right;\n",
       "    }\n",
       "</style>\n",
       "<table border=\"1\" class=\"dataframe\">\n",
       "  <thead>\n",
       "    <tr style=\"text-align: right;\">\n",
       "      <th></th>\n",
       "      <th>Type</th>\n",
       "      <th>PaperlessBilling</th>\n",
       "      <th>PaymentMethod</th>\n",
       "      <th>MultipleLines</th>\n",
       "      <th>InternetService</th>\n",
       "      <th>OnlineSecurity</th>\n",
       "      <th>OnlineBackup</th>\n",
       "      <th>DeviceProtection</th>\n",
       "      <th>TechSupport</th>\n",
       "      <th>StreamingTV</th>\n",
       "      <th>StreamingMovies</th>\n",
       "      <th>Tenure</th>\n",
       "    </tr>\n",
       "  </thead>\n",
       "  <tbody>\n",
       "    <tr>\n",
       "      <th>614</th>\n",
       "      <td>2.0</td>\n",
       "      <td>0.0</td>\n",
       "      <td>0.0</td>\n",
       "      <td>1.0</td>\n",
       "      <td>0.0</td>\n",
       "      <td>0.0</td>\n",
       "      <td>0.0</td>\n",
       "      <td>1.0</td>\n",
       "      <td>1.0</td>\n",
       "      <td>0.0</td>\n",
       "      <td>1.0</td>\n",
       "      <td>107.0</td>\n",
       "    </tr>\n",
       "  </tbody>\n",
       "</table>\n",
       "</div>"
      ],
      "text/plain": [
       "     Type  PaperlessBilling  PaymentMethod  MultipleLines  InternetService  \\\n",
       "614   2.0               0.0            0.0            1.0              0.0   \n",
       "\n",
       "     OnlineSecurity  OnlineBackup  DeviceProtection  TechSupport  StreamingTV  \\\n",
       "614             0.0           0.0               1.0          1.0          0.0   \n",
       "\n",
       "     StreamingMovies  Tenure  \n",
       "614              1.0   107.0  "
      ]
     },
     "execution_count": 58,
     "metadata": {},
     "output_type": "execute_result"
    }
   ],
   "source": [
    "# Merubah nilai kategori menjadi numerik\n",
    "encoder = OrdinalEncoder()\n",
    "X = pd.DataFrame(encoder.fit_transform(X),columns=X.columns)\n",
    "X.sample()"
   ]
  },
  {
   "cell_type": "code",
   "execution_count": 59,
   "metadata": {},
   "outputs": [
    {
     "data": {
      "text/html": [
       "<div>\n",
       "<style scoped>\n",
       "    .dataframe tbody tr th:only-of-type {\n",
       "        vertical-align: middle;\n",
       "    }\n",
       "\n",
       "    .dataframe tbody tr th {\n",
       "        vertical-align: top;\n",
       "    }\n",
       "\n",
       "    .dataframe thead th {\n",
       "        text-align: right;\n",
       "    }\n",
       "</style>\n",
       "<table border=\"1\" class=\"dataframe\">\n",
       "  <thead>\n",
       "    <tr style=\"text-align: right;\">\n",
       "      <th></th>\n",
       "      <th>Type</th>\n",
       "      <th>PaperlessBilling</th>\n",
       "      <th>PaymentMethod</th>\n",
       "      <th>MultipleLines</th>\n",
       "      <th>InternetService</th>\n",
       "      <th>OnlineSecurity</th>\n",
       "      <th>OnlineBackup</th>\n",
       "      <th>DeviceProtection</th>\n",
       "      <th>TechSupport</th>\n",
       "      <th>StreamingTV</th>\n",
       "      <th>StreamingMovies</th>\n",
       "      <th>Tenure</th>\n",
       "      <th>MonthlyCharges</th>\n",
       "      <th>TotalCharges</th>\n",
       "    </tr>\n",
       "  </thead>\n",
       "  <tbody>\n",
       "    <tr>\n",
       "      <th>0</th>\n",
       "      <td>0.0</td>\n",
       "      <td>1.0</td>\n",
       "      <td>2.0</td>\n",
       "      <td>0.0</td>\n",
       "      <td>0.0</td>\n",
       "      <td>0.0</td>\n",
       "      <td>1.0</td>\n",
       "      <td>0.0</td>\n",
       "      <td>0.0</td>\n",
       "      <td>0.0</td>\n",
       "      <td>0.0</td>\n",
       "      <td>2.0</td>\n",
       "      <td>0.115423</td>\n",
       "      <td>0.003437</td>\n",
       "    </tr>\n",
       "    <tr>\n",
       "      <th>1</th>\n",
       "      <td>1.0</td>\n",
       "      <td>0.0</td>\n",
       "      <td>3.0</td>\n",
       "      <td>0.0</td>\n",
       "      <td>0.0</td>\n",
       "      <td>1.0</td>\n",
       "      <td>0.0</td>\n",
       "      <td>1.0</td>\n",
       "      <td>0.0</td>\n",
       "      <td>0.0</td>\n",
       "      <td>0.0</td>\n",
       "      <td>74.0</td>\n",
       "      <td>0.385075</td>\n",
       "      <td>0.217564</td>\n",
       "    </tr>\n",
       "    <tr>\n",
       "      <th>2</th>\n",
       "      <td>0.0</td>\n",
       "      <td>1.0</td>\n",
       "      <td>3.0</td>\n",
       "      <td>0.0</td>\n",
       "      <td>0.0</td>\n",
       "      <td>1.0</td>\n",
       "      <td>1.0</td>\n",
       "      <td>0.0</td>\n",
       "      <td>0.0</td>\n",
       "      <td>0.0</td>\n",
       "      <td>0.0</td>\n",
       "      <td>3.0</td>\n",
       "      <td>0.354229</td>\n",
       "      <td>0.012453</td>\n",
       "    </tr>\n",
       "    <tr>\n",
       "      <th>3</th>\n",
       "      <td>1.0</td>\n",
       "      <td>0.0</td>\n",
       "      <td>0.0</td>\n",
       "      <td>0.0</td>\n",
       "      <td>0.0</td>\n",
       "      <td>1.0</td>\n",
       "      <td>0.0</td>\n",
       "      <td>1.0</td>\n",
       "      <td>1.0</td>\n",
       "      <td>0.0</td>\n",
       "      <td>0.0</td>\n",
       "      <td>96.0</td>\n",
       "      <td>0.239303</td>\n",
       "      <td>0.211951</td>\n",
       "    </tr>\n",
       "    <tr>\n",
       "      <th>4</th>\n",
       "      <td>0.0</td>\n",
       "      <td>1.0</td>\n",
       "      <td>2.0</td>\n",
       "      <td>0.0</td>\n",
       "      <td>1.0</td>\n",
       "      <td>0.0</td>\n",
       "      <td>0.0</td>\n",
       "      <td>0.0</td>\n",
       "      <td>0.0</td>\n",
       "      <td>0.0</td>\n",
       "      <td>0.0</td>\n",
       "      <td>3.0</td>\n",
       "      <td>0.521891</td>\n",
       "      <td>0.017462</td>\n",
       "    </tr>\n",
       "    <tr>\n",
       "      <th>...</th>\n",
       "      <td>...</td>\n",
       "      <td>...</td>\n",
       "      <td>...</td>\n",
       "      <td>...</td>\n",
       "      <td>...</td>\n",
       "      <td>...</td>\n",
       "      <td>...</td>\n",
       "      <td>...</td>\n",
       "      <td>...</td>\n",
       "      <td>...</td>\n",
       "      <td>...</td>\n",
       "      <td>...</td>\n",
       "      <td>...</td>\n",
       "      <td>...</td>\n",
       "    </tr>\n",
       "    <tr>\n",
       "      <th>7038</th>\n",
       "      <td>1.0</td>\n",
       "      <td>1.0</td>\n",
       "      <td>3.0</td>\n",
       "      <td>1.0</td>\n",
       "      <td>0.0</td>\n",
       "      <td>1.0</td>\n",
       "      <td>0.0</td>\n",
       "      <td>1.0</td>\n",
       "      <td>1.0</td>\n",
       "      <td>1.0</td>\n",
       "      <td>1.0</td>\n",
       "      <td>52.0</td>\n",
       "      <td>0.662189</td>\n",
       "      <td>0.229194</td>\n",
       "    </tr>\n",
       "    <tr>\n",
       "      <th>7039</th>\n",
       "      <td>1.0</td>\n",
       "      <td>1.0</td>\n",
       "      <td>1.0</td>\n",
       "      <td>1.0</td>\n",
       "      <td>1.0</td>\n",
       "      <td>0.0</td>\n",
       "      <td>1.0</td>\n",
       "      <td>1.0</td>\n",
       "      <td>0.0</td>\n",
       "      <td>1.0</td>\n",
       "      <td>1.0</td>\n",
       "      <td>155.0</td>\n",
       "      <td>0.845274</td>\n",
       "      <td>0.847792</td>\n",
       "    </tr>\n",
       "    <tr>\n",
       "      <th>7040</th>\n",
       "      <td>0.0</td>\n",
       "      <td>1.0</td>\n",
       "      <td>2.0</td>\n",
       "      <td>0.0</td>\n",
       "      <td>0.0</td>\n",
       "      <td>1.0</td>\n",
       "      <td>0.0</td>\n",
       "      <td>0.0</td>\n",
       "      <td>0.0</td>\n",
       "      <td>0.0</td>\n",
       "      <td>0.0</td>\n",
       "      <td>25.0</td>\n",
       "      <td>0.112935</td>\n",
       "      <td>0.039892</td>\n",
       "    </tr>\n",
       "    <tr>\n",
       "      <th>7041</th>\n",
       "      <td>0.0</td>\n",
       "      <td>1.0</td>\n",
       "      <td>3.0</td>\n",
       "      <td>1.0</td>\n",
       "      <td>1.0</td>\n",
       "      <td>0.0</td>\n",
       "      <td>0.0</td>\n",
       "      <td>0.0</td>\n",
       "      <td>0.0</td>\n",
       "      <td>0.0</td>\n",
       "      <td>0.0</td>\n",
       "      <td>8.0</td>\n",
       "      <td>0.558706</td>\n",
       "      <td>0.035303</td>\n",
       "    </tr>\n",
       "    <tr>\n",
       "      <th>7042</th>\n",
       "      <td>2.0</td>\n",
       "      <td>1.0</td>\n",
       "      <td>0.0</td>\n",
       "      <td>0.0</td>\n",
       "      <td>1.0</td>\n",
       "      <td>1.0</td>\n",
       "      <td>0.0</td>\n",
       "      <td>1.0</td>\n",
       "      <td>1.0</td>\n",
       "      <td>1.0</td>\n",
       "      <td>1.0</td>\n",
       "      <td>140.0</td>\n",
       "      <td>0.869652</td>\n",
       "      <td>0.788101</td>\n",
       "    </tr>\n",
       "  </tbody>\n",
       "</table>\n",
       "<p>7043 rows × 14 columns</p>\n",
       "</div>"
      ],
      "text/plain": [
       "      Type  PaperlessBilling  PaymentMethod  MultipleLines  InternetService  \\\n",
       "0      0.0               1.0            2.0            0.0              0.0   \n",
       "1      1.0               0.0            3.0            0.0              0.0   \n",
       "2      0.0               1.0            3.0            0.0              0.0   \n",
       "3      1.0               0.0            0.0            0.0              0.0   \n",
       "4      0.0               1.0            2.0            0.0              1.0   \n",
       "...    ...               ...            ...            ...              ...   \n",
       "7038   1.0               1.0            3.0            1.0              0.0   \n",
       "7039   1.0               1.0            1.0            1.0              1.0   \n",
       "7040   0.0               1.0            2.0            0.0              0.0   \n",
       "7041   0.0               1.0            3.0            1.0              1.0   \n",
       "7042   2.0               1.0            0.0            0.0              1.0   \n",
       "\n",
       "      OnlineSecurity  OnlineBackup  DeviceProtection  TechSupport  \\\n",
       "0                0.0           1.0               0.0          0.0   \n",
       "1                1.0           0.0               1.0          0.0   \n",
       "2                1.0           1.0               0.0          0.0   \n",
       "3                1.0           0.0               1.0          1.0   \n",
       "4                0.0           0.0               0.0          0.0   \n",
       "...              ...           ...               ...          ...   \n",
       "7038             1.0           0.0               1.0          1.0   \n",
       "7039             0.0           1.0               1.0          0.0   \n",
       "7040             1.0           0.0               0.0          0.0   \n",
       "7041             0.0           0.0               0.0          0.0   \n",
       "7042             1.0           0.0               1.0          1.0   \n",
       "\n",
       "      StreamingTV  StreamingMovies  Tenure  MonthlyCharges  TotalCharges  \n",
       "0             0.0              0.0     2.0        0.115423      0.003437  \n",
       "1             0.0              0.0    74.0        0.385075      0.217564  \n",
       "2             0.0              0.0     3.0        0.354229      0.012453  \n",
       "3             0.0              0.0    96.0        0.239303      0.211951  \n",
       "4             0.0              0.0     3.0        0.521891      0.017462  \n",
       "...           ...              ...     ...             ...           ...  \n",
       "7038          1.0              1.0    52.0        0.662189      0.229194  \n",
       "7039          1.0              1.0   155.0        0.845274      0.847792  \n",
       "7040          0.0              0.0    25.0        0.112935      0.039892  \n",
       "7041          0.0              0.0     8.0        0.558706      0.035303  \n",
       "7042          1.0              1.0   140.0        0.869652      0.788101  \n",
       "\n",
       "[7043 rows x 14 columns]"
      ]
     },
     "execution_count": 59,
     "metadata": {},
     "output_type": "execute_result"
    }
   ],
   "source": [
    "# Melakukan skala data \n",
    "scaler = MinMaxScaler(feature_range=(0, 1))\n",
    "X[['MonthlyCharges', 'TotalCharges']] = scaler.fit_transform(df_full[['MonthlyCharges','TotalCharges']])\n",
    "X"
   ]
  },
  {
   "cell_type": "markdown",
   "metadata": {},
   "source": [
    "After features engineering was carried out, the number of columns changed to 14."
   ]
  },
  {
   "cell_type": "markdown",
   "metadata": {},
   "source": [
    "# 5. Train-Test Split <a id='train'></a>"
   ]
  },
  {
   "cell_type": "markdown",
   "metadata": {},
   "source": [
    "Splitting the data into Train and Test sets in a 90:10 ratio."
   ]
  },
  {
   "cell_type": "code",
   "execution_count": 60,
   "metadata": {},
   "outputs": [],
   "source": [
    "# Split Data\n",
    "X_train, x_test, y_train, y_test = train_test_split(X, y, test_size=0.1, random_state=12345)"
   ]
  },
  {
   "cell_type": "code",
   "execution_count": 61,
   "metadata": {},
   "outputs": [
    {
     "name": "stdout",
     "output_type": "stream",
     "text": [
      "X_train (6338, 14) y_train (6338,)\n"
     ]
    }
   ],
   "source": [
    "print(f'X_train {X_train.shape}', f'y_train {y_train.shape}')"
   ]
  },
  {
   "cell_type": "code",
   "execution_count": 62,
   "metadata": {},
   "outputs": [
    {
     "name": "stdout",
     "output_type": "stream",
     "text": [
      "x_test (705, 14) y_test (705,)\n"
     ]
    }
   ],
   "source": [
    "print(f'x_test {x_test.shape}', f'y_test {y_test.shape}')"
   ]
  },
  {
   "cell_type": "markdown",
   "metadata": {},
   "source": [
    "# 6. Modeling <a id='pemodelan'></a>"
   ]
  },
  {
   "cell_type": "markdown",
   "metadata": {},
   "source": [
    "##  LogisticRegression"
   ]
  },
  {
   "cell_type": "code",
   "execution_count": 63,
   "metadata": {},
   "outputs": [
    {
     "data": {
      "text/html": [
       "<div>\n",
       "<style scoped>\n",
       "    .dataframe tbody tr th:only-of-type {\n",
       "        vertical-align: middle;\n",
       "    }\n",
       "\n",
       "    .dataframe tbody tr th {\n",
       "        vertical-align: top;\n",
       "    }\n",
       "\n",
       "    .dataframe thead th {\n",
       "        text-align: right;\n",
       "    }\n",
       "</style>\n",
       "<table border=\"1\" class=\"dataframe\">\n",
       "  <thead>\n",
       "    <tr style=\"text-align: right;\">\n",
       "      <th></th>\n",
       "      <th>Model</th>\n",
       "      <th>Accuracy</th>\n",
       "      <th>ROC-AUC</th>\n",
       "      <th>Execution Time</th>\n",
       "    </tr>\n",
       "  </thead>\n",
       "  <tbody>\n",
       "    <tr>\n",
       "      <th>0</th>\n",
       "      <td>LogisticRegression</td>\n",
       "      <td>0.795745</td>\n",
       "      <td>0.840082</td>\n",
       "      <td>1.01391</td>\n",
       "    </tr>\n",
       "  </tbody>\n",
       "</table>\n",
       "</div>"
      ],
      "text/plain": [
       "                Model  Accuracy   ROC-AUC  Execution Time\n",
       "0  LogisticRegression  0.795745  0.840082         1.01391"
      ]
     },
     "execution_count": 63,
     "metadata": {},
     "output_type": "execute_result"
    }
   ],
   "source": [
    "# Waktu mulai eksekusi\n",
    "start_time = time.time() \n",
    "\n",
    "# Inisialisasi model Logistic Regression\n",
    "lr_model = LogisticRegression(max_iter=1000, random_state=12345)\n",
    "\n",
    "# Melatih model\n",
    "lr_model.fit(X_train, y_train)\n",
    "\n",
    "# Memprediksi pada data pengujian\n",
    "lr_y_pred = lr_model.predict(x_test)\n",
    "lr_y_pred_prob = lr_model.predict_proba(x_test)[:, 1]\n",
    "\n",
    "# Evaluasi model\n",
    "lr_accuracy = accuracy_score(y_test, lr_y_pred)\n",
    "lr_roc_auc = roc_auc_score(y_test, lr_y_pred_prob)\n",
    "\n",
    "# Waktu akhir eksekusi\n",
    "end_time = time.time()\n",
    "exec_time = end_time - start_time\n",
    "\n",
    "# Buat DataFrame dari hasil evaluasi\n",
    "eval_lr = pd.DataFrame({\n",
    "        'Model': ['LogisticRegression'],\n",
    "        'Accuracy': [lr_accuracy],\n",
    "        'ROC-AUC': [lr_roc_auc],\n",
    "        'Execution Time': [exec_time]\n",
    "})\n",
    "\n",
    "eval_lr\n"
   ]
  },
  {
   "cell_type": "markdown",
   "metadata": {},
   "source": [
    "- The Logistic Regression model demonstrates fairly adequate performance.\n",
    "- The model achieves its highest ROC-AUC value with an execution time of 1.096277 seconds.\n",
    "- It correctly predicts around 79.57% of the test data.\n",
    "- It has an ROC-AUC score of 0.840082, indicating that the model has a decent ability to distinguish churn classes."
   ]
  },
  {
   "cell_type": "markdown",
   "metadata": {},
   "source": [
    "**Fungsi model**"
   ]
  },
  {
   "cell_type": "code",
   "execution_count": 64,
   "metadata": {},
   "outputs": [],
   "source": [
    "def evaluate_model_depths(model, model_name, X_train, y_train, X_test, y_test, max_depth_range=25, random_state=12345):\n",
    "    \n",
    "    results = []\n",
    "    \n",
    "    for depth in range(1, max_depth_range + 1):\n",
    "        start_time = time.time()\n",
    "        \n",
    "        # Inisialisasi model dengan max_depth tertentu\n",
    "        model.set_params(max_depth=depth, random_state=random_state)\n",
    "        \n",
    "        # Melatih model\n",
    "        model.fit(X_train, y_train)\n",
    "        \n",
    "        # Prediksi pada data pengujian\n",
    "        y_test_pred = model.predict(X_test)\n",
    "        y_test_pred_prob = model.predict_proba(X_test)[:, 1]\n",
    "        \n",
    "        # Evaluasi model\n",
    "        accuracy = accuracy_score(y_test, y_test_pred)\n",
    "        roc_auc = roc_auc_score(y_test, y_test_pred_prob)\n",
    "        \n",
    "        # Waktu akhir eksekusi\n",
    "        end_time = time.time()\n",
    "        exec_time = end_time - start_time\n",
    "        \n",
    "        # Menyimpan hasil evaluasi\n",
    "        results.append({\n",
    "            'Model': model_name,\n",
    "            'Max_depth': depth,\n",
    "            'Accuracy': accuracy,\n",
    "            'ROC-AUC': roc_auc,\n",
    "            'Execution Time': exec_time\n",
    "        })\n",
    "    \n",
    "    return pd.DataFrame(results)"
   ]
  },
  {
   "cell_type": "markdown",
   "metadata": {},
   "source": [
    "## DecisionTreeClassifier"
   ]
  },
  {
   "cell_type": "code",
   "execution_count": 65,
   "metadata": {
    "scrolled": true
   },
   "outputs": [
    {
     "name": "stdout",
     "output_type": "stream",
     "text": [
      "Model DecisionTreeClassifier\n"
     ]
    },
    {
     "data": {
      "text/html": [
       "<div>\n",
       "<style scoped>\n",
       "    .dataframe tbody tr th:only-of-type {\n",
       "        vertical-align: middle;\n",
       "    }\n",
       "\n",
       "    .dataframe tbody tr th {\n",
       "        vertical-align: top;\n",
       "    }\n",
       "\n",
       "    .dataframe thead th {\n",
       "        text-align: right;\n",
       "    }\n",
       "</style>\n",
       "<table border=\"1\" class=\"dataframe\">\n",
       "  <thead>\n",
       "    <tr style=\"text-align: right;\">\n",
       "      <th></th>\n",
       "      <th>Model</th>\n",
       "      <th>Max_depth</th>\n",
       "      <th>Accuracy</th>\n",
       "      <th>ROC-AUC</th>\n",
       "      <th>Execution Time</th>\n",
       "    </tr>\n",
       "  </thead>\n",
       "  <tbody>\n",
       "    <tr>\n",
       "      <th>5</th>\n",
       "      <td>DecisionTreeClassifier</td>\n",
       "      <td>6</td>\n",
       "      <td>0.812766</td>\n",
       "      <td>0.854875</td>\n",
       "      <td>0.028920</td>\n",
       "    </tr>\n",
       "    <tr>\n",
       "      <th>4</th>\n",
       "      <td>DecisionTreeClassifier</td>\n",
       "      <td>5</td>\n",
       "      <td>0.814184</td>\n",
       "      <td>0.854859</td>\n",
       "      <td>0.021700</td>\n",
       "    </tr>\n",
       "    <tr>\n",
       "      <th>7</th>\n",
       "      <td>DecisionTreeClassifier</td>\n",
       "      <td>8</td>\n",
       "      <td>0.804255</td>\n",
       "      <td>0.849325</td>\n",
       "      <td>0.029054</td>\n",
       "    </tr>\n",
       "    <tr>\n",
       "      <th>8</th>\n",
       "      <td>DecisionTreeClassifier</td>\n",
       "      <td>9</td>\n",
       "      <td>0.814184</td>\n",
       "      <td>0.849080</td>\n",
       "      <td>0.030342</td>\n",
       "    </tr>\n",
       "    <tr>\n",
       "      <th>3</th>\n",
       "      <td>DecisionTreeClassifier</td>\n",
       "      <td>4</td>\n",
       "      <td>0.805674</td>\n",
       "      <td>0.848968</td>\n",
       "      <td>0.019326</td>\n",
       "    </tr>\n",
       "    <tr>\n",
       "      <th>6</th>\n",
       "      <td>DecisionTreeClassifier</td>\n",
       "      <td>7</td>\n",
       "      <td>0.809929</td>\n",
       "      <td>0.847767</td>\n",
       "      <td>0.026378</td>\n",
       "    </tr>\n",
       "    <tr>\n",
       "      <th>9</th>\n",
       "      <td>DecisionTreeClassifier</td>\n",
       "      <td>10</td>\n",
       "      <td>0.815603</td>\n",
       "      <td>0.845023</td>\n",
       "      <td>0.032347</td>\n",
       "    </tr>\n",
       "    <tr>\n",
       "      <th>10</th>\n",
       "      <td>DecisionTreeClassifier</td>\n",
       "      <td>11</td>\n",
       "      <td>0.794326</td>\n",
       "      <td>0.830169</td>\n",
       "      <td>0.033928</td>\n",
       "    </tr>\n",
       "    <tr>\n",
       "      <th>2</th>\n",
       "      <td>DecisionTreeClassifier</td>\n",
       "      <td>3</td>\n",
       "      <td>0.768794</td>\n",
       "      <td>0.827215</td>\n",
       "      <td>0.016425</td>\n",
       "    </tr>\n",
       "    <tr>\n",
       "      <th>11</th>\n",
       "      <td>DecisionTreeClassifier</td>\n",
       "      <td>12</td>\n",
       "      <td>0.811348</td>\n",
       "      <td>0.815641</td>\n",
       "      <td>0.035658</td>\n",
       "    </tr>\n",
       "    <tr>\n",
       "      <th>12</th>\n",
       "      <td>DecisionTreeClassifier</td>\n",
       "      <td>13</td>\n",
       "      <td>0.800000</td>\n",
       "      <td>0.803766</td>\n",
       "      <td>0.038621</td>\n",
       "    </tr>\n",
       "    <tr>\n",
       "      <th>1</th>\n",
       "      <td>DecisionTreeClassifier</td>\n",
       "      <td>2</td>\n",
       "      <td>0.764539</td>\n",
       "      <td>0.784824</td>\n",
       "      <td>0.013663</td>\n",
       "    </tr>\n",
       "    <tr>\n",
       "      <th>14</th>\n",
       "      <td>DecisionTreeClassifier</td>\n",
       "      <td>15</td>\n",
       "      <td>0.804255</td>\n",
       "      <td>0.781845</td>\n",
       "      <td>0.038053</td>\n",
       "    </tr>\n",
       "    <tr>\n",
       "      <th>13</th>\n",
       "      <td>DecisionTreeClassifier</td>\n",
       "      <td>14</td>\n",
       "      <td>0.790071</td>\n",
       "      <td>0.779136</td>\n",
       "      <td>0.041198</td>\n",
       "    </tr>\n",
       "    <tr>\n",
       "      <th>15</th>\n",
       "      <td>DecisionTreeClassifier</td>\n",
       "      <td>16</td>\n",
       "      <td>0.802837</td>\n",
       "      <td>0.771472</td>\n",
       "      <td>0.038042</td>\n",
       "    </tr>\n",
       "    <tr>\n",
       "      <th>20</th>\n",
       "      <td>DecisionTreeClassifier</td>\n",
       "      <td>21</td>\n",
       "      <td>0.807092</td>\n",
       "      <td>0.766530</td>\n",
       "      <td>0.039356</td>\n",
       "    </tr>\n",
       "    <tr>\n",
       "      <th>21</th>\n",
       "      <td>DecisionTreeClassifier</td>\n",
       "      <td>22</td>\n",
       "      <td>0.804255</td>\n",
       "      <td>0.763091</td>\n",
       "      <td>0.041221</td>\n",
       "    </tr>\n",
       "    <tr>\n",
       "      <th>16</th>\n",
       "      <td>DecisionTreeClassifier</td>\n",
       "      <td>17</td>\n",
       "      <td>0.805674</td>\n",
       "      <td>0.762667</td>\n",
       "      <td>0.039202</td>\n",
       "    </tr>\n",
       "    <tr>\n",
       "      <th>18</th>\n",
       "      <td>DecisionTreeClassifier</td>\n",
       "      <td>19</td>\n",
       "      <td>0.808511</td>\n",
       "      <td>0.758472</td>\n",
       "      <td>0.039262</td>\n",
       "    </tr>\n",
       "    <tr>\n",
       "      <th>17</th>\n",
       "      <td>DecisionTreeClassifier</td>\n",
       "      <td>18</td>\n",
       "      <td>0.801418</td>\n",
       "      <td>0.758467</td>\n",
       "      <td>0.038993</td>\n",
       "    </tr>\n",
       "    <tr>\n",
       "      <th>19</th>\n",
       "      <td>DecisionTreeClassifier</td>\n",
       "      <td>20</td>\n",
       "      <td>0.802837</td>\n",
       "      <td>0.754185</td>\n",
       "      <td>0.039964</td>\n",
       "    </tr>\n",
       "    <tr>\n",
       "      <th>23</th>\n",
       "      <td>DecisionTreeClassifier</td>\n",
       "      <td>24</td>\n",
       "      <td>0.801418</td>\n",
       "      <td>0.748084</td>\n",
       "      <td>0.042724</td>\n",
       "    </tr>\n",
       "    <tr>\n",
       "      <th>0</th>\n",
       "      <td>DecisionTreeClassifier</td>\n",
       "      <td>1</td>\n",
       "      <td>0.730496</td>\n",
       "      <td>0.743485</td>\n",
       "      <td>0.085308</td>\n",
       "    </tr>\n",
       "    <tr>\n",
       "      <th>22</th>\n",
       "      <td>DecisionTreeClassifier</td>\n",
       "      <td>23</td>\n",
       "      <td>0.795745</td>\n",
       "      <td>0.740480</td>\n",
       "      <td>0.042687</td>\n",
       "    </tr>\n",
       "  </tbody>\n",
       "</table>\n",
       "</div>"
      ],
      "text/plain": [
       "                     Model  Max_depth  Accuracy   ROC-AUC  Execution Time\n",
       "5   DecisionTreeClassifier          6  0.812766  0.854875        0.028920\n",
       "4   DecisionTreeClassifier          5  0.814184  0.854859        0.021700\n",
       "7   DecisionTreeClassifier          8  0.804255  0.849325        0.029054\n",
       "8   DecisionTreeClassifier          9  0.814184  0.849080        0.030342\n",
       "3   DecisionTreeClassifier          4  0.805674  0.848968        0.019326\n",
       "6   DecisionTreeClassifier          7  0.809929  0.847767        0.026378\n",
       "9   DecisionTreeClassifier         10  0.815603  0.845023        0.032347\n",
       "10  DecisionTreeClassifier         11  0.794326  0.830169        0.033928\n",
       "2   DecisionTreeClassifier          3  0.768794  0.827215        0.016425\n",
       "11  DecisionTreeClassifier         12  0.811348  0.815641        0.035658\n",
       "12  DecisionTreeClassifier         13  0.800000  0.803766        0.038621\n",
       "1   DecisionTreeClassifier          2  0.764539  0.784824        0.013663\n",
       "14  DecisionTreeClassifier         15  0.804255  0.781845        0.038053\n",
       "13  DecisionTreeClassifier         14  0.790071  0.779136        0.041198\n",
       "15  DecisionTreeClassifier         16  0.802837  0.771472        0.038042\n",
       "20  DecisionTreeClassifier         21  0.807092  0.766530        0.039356\n",
       "21  DecisionTreeClassifier         22  0.804255  0.763091        0.041221\n",
       "16  DecisionTreeClassifier         17  0.805674  0.762667        0.039202\n",
       "18  DecisionTreeClassifier         19  0.808511  0.758472        0.039262\n",
       "17  DecisionTreeClassifier         18  0.801418  0.758467        0.038993\n",
       "19  DecisionTreeClassifier         20  0.802837  0.754185        0.039964\n",
       "23  DecisionTreeClassifier         24  0.801418  0.748084        0.042724\n",
       "0   DecisionTreeClassifier          1  0.730496  0.743485        0.085308\n",
       "22  DecisionTreeClassifier         23  0.795745  0.740480        0.042687"
      ]
     },
     "execution_count": 65,
     "metadata": {},
     "output_type": "execute_result"
    }
   ],
   "source": [
    "dtc_model = DecisionTreeClassifier()\n",
    "results_dtc = evaluate_model_depths(dtc_model, 'DecisionTreeClassifier', X_train, y_train, x_test, y_test, max_depth_range=24)\n",
    "\n",
    "# Mengurutkan hasil berdasarkan ROC-AUC terbesar\n",
    "sorted_results = results_dtc.sort_values(by='ROC-AUC', ascending=False)\n",
    "\n",
    "# Cetak hasil yang sudah diurutkan\n",
    "print('Model DecisionTreeClassifier')\n",
    "sorted_results"
   ]
  },
  {
   "cell_type": "markdown",
   "metadata": {},
   "source": [
    "- The DecisionTreeClassifier shows decent performance.\n",
    "- At a depth of 6, it achieves the highest ROC-AUC value with an execution time of 0.029524 seconds.\n",
    "- It correctly predicts around 81.27% of the test data.\n",
    "- It has an ROC-AUC score of 0.854875, indicating that the model has a good ability to distinguish churn classes."
   ]
  },
  {
   "cell_type": "markdown",
   "metadata": {},
   "source": [
    "## RandomForestClassifier"
   ]
  },
  {
   "cell_type": "code",
   "execution_count": 66,
   "metadata": {
    "scrolled": true
   },
   "outputs": [
    {
     "name": "stdout",
     "output_type": "stream",
     "text": [
      "Model RandomForestClassifier\n"
     ]
    },
    {
     "data": {
      "text/html": [
       "<div>\n",
       "<style scoped>\n",
       "    .dataframe tbody tr th:only-of-type {\n",
       "        vertical-align: middle;\n",
       "    }\n",
       "\n",
       "    .dataframe tbody tr th {\n",
       "        vertical-align: top;\n",
       "    }\n",
       "\n",
       "    .dataframe thead th {\n",
       "        text-align: right;\n",
       "    }\n",
       "</style>\n",
       "<table border=\"1\" class=\"dataframe\">\n",
       "  <thead>\n",
       "    <tr style=\"text-align: right;\">\n",
       "      <th></th>\n",
       "      <th>Model</th>\n",
       "      <th>Max_depth</th>\n",
       "      <th>Accuracy</th>\n",
       "      <th>ROC-AUC</th>\n",
       "      <th>Execution Time</th>\n",
       "    </tr>\n",
       "  </thead>\n",
       "  <tbody>\n",
       "    <tr>\n",
       "      <th>9</th>\n",
       "      <td>RandomForestClassifier</td>\n",
       "      <td>10</td>\n",
       "      <td>0.825532</td>\n",
       "      <td>0.875825</td>\n",
       "      <td>0.651106</td>\n",
       "    </tr>\n",
       "    <tr>\n",
       "      <th>11</th>\n",
       "      <td>RandomForestClassifier</td>\n",
       "      <td>12</td>\n",
       "      <td>0.825532</td>\n",
       "      <td>0.874701</td>\n",
       "      <td>0.699540</td>\n",
       "    </tr>\n",
       "    <tr>\n",
       "      <th>7</th>\n",
       "      <td>RandomForestClassifier</td>\n",
       "      <td>8</td>\n",
       "      <td>0.819858</td>\n",
       "      <td>0.874323</td>\n",
       "      <td>0.592885</td>\n",
       "    </tr>\n",
       "    <tr>\n",
       "      <th>10</th>\n",
       "      <td>RandomForestClassifier</td>\n",
       "      <td>11</td>\n",
       "      <td>0.829787</td>\n",
       "      <td>0.873674</td>\n",
       "      <td>0.672272</td>\n",
       "    </tr>\n",
       "    <tr>\n",
       "      <th>12</th>\n",
       "      <td>RandomForestClassifier</td>\n",
       "      <td>13</td>\n",
       "      <td>0.829787</td>\n",
       "      <td>0.871656</td>\n",
       "      <td>0.750403</td>\n",
       "    </tr>\n",
       "    <tr>\n",
       "      <th>8</th>\n",
       "      <td>RandomForestClassifier</td>\n",
       "      <td>9</td>\n",
       "      <td>0.819858</td>\n",
       "      <td>0.871579</td>\n",
       "      <td>0.623908</td>\n",
       "    </tr>\n",
       "    <tr>\n",
       "      <th>13</th>\n",
       "      <td>RandomForestClassifier</td>\n",
       "      <td>14</td>\n",
       "      <td>0.835461</td>\n",
       "      <td>0.871022</td>\n",
       "      <td>0.742967</td>\n",
       "    </tr>\n",
       "    <tr>\n",
       "      <th>15</th>\n",
       "      <td>RandomForestClassifier</td>\n",
       "      <td>16</td>\n",
       "      <td>0.831206</td>\n",
       "      <td>0.870838</td>\n",
       "      <td>0.778118</td>\n",
       "    </tr>\n",
       "    <tr>\n",
       "      <th>22</th>\n",
       "      <td>RandomForestClassifier</td>\n",
       "      <td>23</td>\n",
       "      <td>0.826950</td>\n",
       "      <td>0.869555</td>\n",
       "      <td>0.805377</td>\n",
       "    </tr>\n",
       "    <tr>\n",
       "      <th>14</th>\n",
       "      <td>RandomForestClassifier</td>\n",
       "      <td>15</td>\n",
       "      <td>0.819858</td>\n",
       "      <td>0.868932</td>\n",
       "      <td>0.793732</td>\n",
       "    </tr>\n",
       "    <tr>\n",
       "      <th>6</th>\n",
       "      <td>RandomForestClassifier</td>\n",
       "      <td>7</td>\n",
       "      <td>0.818440</td>\n",
       "      <td>0.868733</td>\n",
       "      <td>0.543153</td>\n",
       "    </tr>\n",
       "    <tr>\n",
       "      <th>5</th>\n",
       "      <td>RandomForestClassifier</td>\n",
       "      <td>6</td>\n",
       "      <td>0.802837</td>\n",
       "      <td>0.867961</td>\n",
       "      <td>0.507446</td>\n",
       "    </tr>\n",
       "    <tr>\n",
       "      <th>16</th>\n",
       "      <td>RandomForestClassifier</td>\n",
       "      <td>17</td>\n",
       "      <td>0.829787</td>\n",
       "      <td>0.867292</td>\n",
       "      <td>0.782984</td>\n",
       "    </tr>\n",
       "    <tr>\n",
       "      <th>18</th>\n",
       "      <td>RandomForestClassifier</td>\n",
       "      <td>19</td>\n",
       "      <td>0.822695</td>\n",
       "      <td>0.866617</td>\n",
       "      <td>0.820727</td>\n",
       "    </tr>\n",
       "    <tr>\n",
       "      <th>20</th>\n",
       "      <td>RandomForestClassifier</td>\n",
       "      <td>21</td>\n",
       "      <td>0.834043</td>\n",
       "      <td>0.866157</td>\n",
       "      <td>0.793571</td>\n",
       "    </tr>\n",
       "    <tr>\n",
       "      <th>4</th>\n",
       "      <td>RandomForestClassifier</td>\n",
       "      <td>5</td>\n",
       "      <td>0.805674</td>\n",
       "      <td>0.866106</td>\n",
       "      <td>0.463940</td>\n",
       "    </tr>\n",
       "    <tr>\n",
       "      <th>21</th>\n",
       "      <td>RandomForestClassifier</td>\n",
       "      <td>22</td>\n",
       "      <td>0.818440</td>\n",
       "      <td>0.864216</td>\n",
       "      <td>0.801063</td>\n",
       "    </tr>\n",
       "    <tr>\n",
       "      <th>19</th>\n",
       "      <td>RandomForestClassifier</td>\n",
       "      <td>20</td>\n",
       "      <td>0.822695</td>\n",
       "      <td>0.863464</td>\n",
       "      <td>0.824488</td>\n",
       "    </tr>\n",
       "    <tr>\n",
       "      <th>17</th>\n",
       "      <td>RandomForestClassifier</td>\n",
       "      <td>18</td>\n",
       "      <td>0.819858</td>\n",
       "      <td>0.863291</td>\n",
       "      <td>0.787089</td>\n",
       "    </tr>\n",
       "    <tr>\n",
       "      <th>23</th>\n",
       "      <td>RandomForestClassifier</td>\n",
       "      <td>24</td>\n",
       "      <td>0.834043</td>\n",
       "      <td>0.862632</td>\n",
       "      <td>0.810348</td>\n",
       "    </tr>\n",
       "    <tr>\n",
       "      <th>3</th>\n",
       "      <td>RandomForestClassifier</td>\n",
       "      <td>4</td>\n",
       "      <td>0.802837</td>\n",
       "      <td>0.860388</td>\n",
       "      <td>0.446069</td>\n",
       "    </tr>\n",
       "    <tr>\n",
       "      <th>2</th>\n",
       "      <td>RandomForestClassifier</td>\n",
       "      <td>3</td>\n",
       "      <td>0.790071</td>\n",
       "      <td>0.853035</td>\n",
       "      <td>0.364352</td>\n",
       "    </tr>\n",
       "    <tr>\n",
       "      <th>1</th>\n",
       "      <td>RandomForestClassifier</td>\n",
       "      <td>2</td>\n",
       "      <td>0.760284</td>\n",
       "      <td>0.839504</td>\n",
       "      <td>0.317893</td>\n",
       "    </tr>\n",
       "    <tr>\n",
       "      <th>0</th>\n",
       "      <td>RandomForestClassifier</td>\n",
       "      <td>1</td>\n",
       "      <td>0.730496</td>\n",
       "      <td>0.819474</td>\n",
       "      <td>0.292827</td>\n",
       "    </tr>\n",
       "  </tbody>\n",
       "</table>\n",
       "</div>"
      ],
      "text/plain": [
       "                     Model  Max_depth  Accuracy   ROC-AUC  Execution Time\n",
       "9   RandomForestClassifier         10  0.825532  0.875825        0.651106\n",
       "11  RandomForestClassifier         12  0.825532  0.874701        0.699540\n",
       "7   RandomForestClassifier          8  0.819858  0.874323        0.592885\n",
       "10  RandomForestClassifier         11  0.829787  0.873674        0.672272\n",
       "12  RandomForestClassifier         13  0.829787  0.871656        0.750403\n",
       "8   RandomForestClassifier          9  0.819858  0.871579        0.623908\n",
       "13  RandomForestClassifier         14  0.835461  0.871022        0.742967\n",
       "15  RandomForestClassifier         16  0.831206  0.870838        0.778118\n",
       "22  RandomForestClassifier         23  0.826950  0.869555        0.805377\n",
       "14  RandomForestClassifier         15  0.819858  0.868932        0.793732\n",
       "6   RandomForestClassifier          7  0.818440  0.868733        0.543153\n",
       "5   RandomForestClassifier          6  0.802837  0.867961        0.507446\n",
       "16  RandomForestClassifier         17  0.829787  0.867292        0.782984\n",
       "18  RandomForestClassifier         19  0.822695  0.866617        0.820727\n",
       "20  RandomForestClassifier         21  0.834043  0.866157        0.793571\n",
       "4   RandomForestClassifier          5  0.805674  0.866106        0.463940\n",
       "21  RandomForestClassifier         22  0.818440  0.864216        0.801063\n",
       "19  RandomForestClassifier         20  0.822695  0.863464        0.824488\n",
       "17  RandomForestClassifier         18  0.819858  0.863291        0.787089\n",
       "23  RandomForestClassifier         24  0.834043  0.862632        0.810348\n",
       "3   RandomForestClassifier          4  0.802837  0.860388        0.446069\n",
       "2   RandomForestClassifier          3  0.790071  0.853035        0.364352\n",
       "1   RandomForestClassifier          2  0.760284  0.839504        0.317893\n",
       "0   RandomForestClassifier          1  0.730496  0.819474        0.292827"
      ]
     },
     "execution_count": 66,
     "metadata": {},
     "output_type": "execute_result"
    }
   ],
   "source": [
    "rfc_model = RandomForestClassifier()\n",
    "results_rfc = evaluate_model_depths(rfc_model, 'RandomForestClassifier', X_train, y_train, x_test, y_test, max_depth_range=24)\n",
    "\n",
    "# Mengurutkan hasil berdasarkan ROC-AUC terbesar\n",
    "sorted_results = results_rfc.sort_values(by='ROC-AUC', ascending=False)\n",
    "\n",
    "# Cetak hasil yang sudah diurutkan\n",
    "print('Model RandomForestClassifier')\n",
    "sorted_results"
   ]
  },
  {
   "cell_type": "markdown",
   "metadata": {},
   "source": [
    "- The RandomForestClassifier shows fairly good performance.\n",
    "- At a depth of 10, it achieves the highest ROC-AUC value with an execution time of 0.718522 seconds.\n",
    "- It correctly predicts around 82.55% of the test data.\n",
    "- It has an ROC-AUC score of 0.875825, indicating that the model has a decent ability to distinguish churn classes."
   ]
  },
  {
   "cell_type": "markdown",
   "metadata": {},
   "source": [
    "## LGBMClassifier"
   ]
  },
  {
   "cell_type": "code",
   "execution_count": 67,
   "metadata": {
    "scrolled": true
   },
   "outputs": [
    {
     "name": "stdout",
     "output_type": "stream",
     "text": [
      "Model LGBMClassifier\n"
     ]
    },
    {
     "data": {
      "text/html": [
       "<div>\n",
       "<style scoped>\n",
       "    .dataframe tbody tr th:only-of-type {\n",
       "        vertical-align: middle;\n",
       "    }\n",
       "\n",
       "    .dataframe tbody tr th {\n",
       "        vertical-align: top;\n",
       "    }\n",
       "\n",
       "    .dataframe thead th {\n",
       "        text-align: right;\n",
       "    }\n",
       "</style>\n",
       "<table border=\"1\" class=\"dataframe\">\n",
       "  <thead>\n",
       "    <tr style=\"text-align: right;\">\n",
       "      <th></th>\n",
       "      <th>Model</th>\n",
       "      <th>Max_depth</th>\n",
       "      <th>Accuracy</th>\n",
       "      <th>ROC-AUC</th>\n",
       "      <th>Execution Time</th>\n",
       "    </tr>\n",
       "  </thead>\n",
       "  <tbody>\n",
       "    <tr>\n",
       "      <th>18</th>\n",
       "      <td>LGBMClassifier</td>\n",
       "      <td>19</td>\n",
       "      <td>0.878014</td>\n",
       "      <td>0.918360</td>\n",
       "      <td>0.419111</td>\n",
       "    </tr>\n",
       "    <tr>\n",
       "      <th>13</th>\n",
       "      <td>LGBMClassifier</td>\n",
       "      <td>14</td>\n",
       "      <td>0.875177</td>\n",
       "      <td>0.917961</td>\n",
       "      <td>0.415586</td>\n",
       "    </tr>\n",
       "    <tr>\n",
       "      <th>20</th>\n",
       "      <td>LGBMClassifier</td>\n",
       "      <td>21</td>\n",
       "      <td>0.870922</td>\n",
       "      <td>0.916847</td>\n",
       "      <td>0.404847</td>\n",
       "    </tr>\n",
       "    <tr>\n",
       "      <th>17</th>\n",
       "      <td>LGBMClassifier</td>\n",
       "      <td>18</td>\n",
       "      <td>0.869504</td>\n",
       "      <td>0.916801</td>\n",
       "      <td>0.486628</td>\n",
       "    </tr>\n",
       "    <tr>\n",
       "      <th>19</th>\n",
       "      <td>LGBMClassifier</td>\n",
       "      <td>20</td>\n",
       "      <td>0.870922</td>\n",
       "      <td>0.915197</td>\n",
       "      <td>0.495891</td>\n",
       "    </tr>\n",
       "    <tr>\n",
       "      <th>7</th>\n",
       "      <td>LGBMClassifier</td>\n",
       "      <td>8</td>\n",
       "      <td>0.872340</td>\n",
       "      <td>0.915181</td>\n",
       "      <td>0.400749</td>\n",
       "    </tr>\n",
       "    <tr>\n",
       "      <th>14</th>\n",
       "      <td>LGBMClassifier</td>\n",
       "      <td>15</td>\n",
       "      <td>0.875177</td>\n",
       "      <td>0.915171</td>\n",
       "      <td>0.484520</td>\n",
       "    </tr>\n",
       "    <tr>\n",
       "      <th>16</th>\n",
       "      <td>LGBMClassifier</td>\n",
       "      <td>17</td>\n",
       "      <td>0.870922</td>\n",
       "      <td>0.913475</td>\n",
       "      <td>0.696455</td>\n",
       "    </tr>\n",
       "    <tr>\n",
       "      <th>9</th>\n",
       "      <td>LGBMClassifier</td>\n",
       "      <td>10</td>\n",
       "      <td>0.868085</td>\n",
       "      <td>0.913311</td>\n",
       "      <td>0.514255</td>\n",
       "    </tr>\n",
       "    <tr>\n",
       "      <th>21</th>\n",
       "      <td>LGBMClassifier</td>\n",
       "      <td>22</td>\n",
       "      <td>0.870922</td>\n",
       "      <td>0.913056</td>\n",
       "      <td>0.489929</td>\n",
       "    </tr>\n",
       "    <tr>\n",
       "      <th>11</th>\n",
       "      <td>LGBMClassifier</td>\n",
       "      <td>12</td>\n",
       "      <td>0.870922</td>\n",
       "      <td>0.912836</td>\n",
       "      <td>0.410807</td>\n",
       "    </tr>\n",
       "    <tr>\n",
       "      <th>22</th>\n",
       "      <td>LGBMClassifier</td>\n",
       "      <td>23</td>\n",
       "      <td>0.875177</td>\n",
       "      <td>0.911998</td>\n",
       "      <td>0.404001</td>\n",
       "    </tr>\n",
       "    <tr>\n",
       "      <th>15</th>\n",
       "      <td>LGBMClassifier</td>\n",
       "      <td>16</td>\n",
       "      <td>0.869504</td>\n",
       "      <td>0.911364</td>\n",
       "      <td>0.606150</td>\n",
       "    </tr>\n",
       "    <tr>\n",
       "      <th>10</th>\n",
       "      <td>LGBMClassifier</td>\n",
       "      <td>11</td>\n",
       "      <td>0.866667</td>\n",
       "      <td>0.910766</td>\n",
       "      <td>0.472030</td>\n",
       "    </tr>\n",
       "    <tr>\n",
       "      <th>23</th>\n",
       "      <td>LGBMClassifier</td>\n",
       "      <td>24</td>\n",
       "      <td>0.865248</td>\n",
       "      <td>0.910756</td>\n",
       "      <td>0.586138</td>\n",
       "    </tr>\n",
       "    <tr>\n",
       "      <th>12</th>\n",
       "      <td>LGBMClassifier</td>\n",
       "      <td>13</td>\n",
       "      <td>0.870922</td>\n",
       "      <td>0.909704</td>\n",
       "      <td>0.402851</td>\n",
       "    </tr>\n",
       "    <tr>\n",
       "      <th>8</th>\n",
       "      <td>LGBMClassifier</td>\n",
       "      <td>9</td>\n",
       "      <td>0.859574</td>\n",
       "      <td>0.907828</td>\n",
       "      <td>0.398447</td>\n",
       "    </tr>\n",
       "    <tr>\n",
       "      <th>5</th>\n",
       "      <td>LGBMClassifier</td>\n",
       "      <td>6</td>\n",
       "      <td>0.868085</td>\n",
       "      <td>0.905560</td>\n",
       "      <td>0.317074</td>\n",
       "    </tr>\n",
       "    <tr>\n",
       "      <th>6</th>\n",
       "      <td>LGBMClassifier</td>\n",
       "      <td>7</td>\n",
       "      <td>0.859574</td>\n",
       "      <td>0.903112</td>\n",
       "      <td>0.393002</td>\n",
       "    </tr>\n",
       "    <tr>\n",
       "      <th>3</th>\n",
       "      <td>LGBMClassifier</td>\n",
       "      <td>4</td>\n",
       "      <td>0.856738</td>\n",
       "      <td>0.899085</td>\n",
       "      <td>0.281001</td>\n",
       "    </tr>\n",
       "    <tr>\n",
       "      <th>4</th>\n",
       "      <td>LGBMClassifier</td>\n",
       "      <td>5</td>\n",
       "      <td>0.852482</td>\n",
       "      <td>0.897312</td>\n",
       "      <td>0.404961</td>\n",
       "    </tr>\n",
       "    <tr>\n",
       "      <th>2</th>\n",
       "      <td>LGBMClassifier</td>\n",
       "      <td>3</td>\n",
       "      <td>0.853901</td>\n",
       "      <td>0.885309</td>\n",
       "      <td>0.197881</td>\n",
       "    </tr>\n",
       "    <tr>\n",
       "      <th>1</th>\n",
       "      <td>LGBMClassifier</td>\n",
       "      <td>2</td>\n",
       "      <td>0.836879</td>\n",
       "      <td>0.883970</td>\n",
       "      <td>0.113720</td>\n",
       "    </tr>\n",
       "    <tr>\n",
       "      <th>0</th>\n",
       "      <td>LGBMClassifier</td>\n",
       "      <td>1</td>\n",
       "      <td>0.807092</td>\n",
       "      <td>0.859438</td>\n",
       "      <td>0.119261</td>\n",
       "    </tr>\n",
       "  </tbody>\n",
       "</table>\n",
       "</div>"
      ],
      "text/plain": [
       "             Model  Max_depth  Accuracy   ROC-AUC  Execution Time\n",
       "18  LGBMClassifier         19  0.878014  0.918360        0.419111\n",
       "13  LGBMClassifier         14  0.875177  0.917961        0.415586\n",
       "20  LGBMClassifier         21  0.870922  0.916847        0.404847\n",
       "17  LGBMClassifier         18  0.869504  0.916801        0.486628\n",
       "19  LGBMClassifier         20  0.870922  0.915197        0.495891\n",
       "7   LGBMClassifier          8  0.872340  0.915181        0.400749\n",
       "14  LGBMClassifier         15  0.875177  0.915171        0.484520\n",
       "16  LGBMClassifier         17  0.870922  0.913475        0.696455\n",
       "9   LGBMClassifier         10  0.868085  0.913311        0.514255\n",
       "21  LGBMClassifier         22  0.870922  0.913056        0.489929\n",
       "11  LGBMClassifier         12  0.870922  0.912836        0.410807\n",
       "22  LGBMClassifier         23  0.875177  0.911998        0.404001\n",
       "15  LGBMClassifier         16  0.869504  0.911364        0.606150\n",
       "10  LGBMClassifier         11  0.866667  0.910766        0.472030\n",
       "23  LGBMClassifier         24  0.865248  0.910756        0.586138\n",
       "12  LGBMClassifier         13  0.870922  0.909704        0.402851\n",
       "8   LGBMClassifier          9  0.859574  0.907828        0.398447\n",
       "5   LGBMClassifier          6  0.868085  0.905560        0.317074\n",
       "6   LGBMClassifier          7  0.859574  0.903112        0.393002\n",
       "3   LGBMClassifier          4  0.856738  0.899085        0.281001\n",
       "4   LGBMClassifier          5  0.852482  0.897312        0.404961\n",
       "2   LGBMClassifier          3  0.853901  0.885309        0.197881\n",
       "1   LGBMClassifier          2  0.836879  0.883970        0.113720\n",
       "0   LGBMClassifier          1  0.807092  0.859438        0.119261"
      ]
     },
     "execution_count": 67,
     "metadata": {},
     "output_type": "execute_result"
    }
   ],
   "source": [
    "lgbm_model = LGBMClassifier()\n",
    "results_lgbm = evaluate_model_depths(lgbm_model, 'LGBMClassifier', X_train, y_train, x_test, y_test, max_depth_range=24)\n",
    "\n",
    "# Mengurutkan hasil berdasarkan ROC-AUC terbesar\n",
    "sorted_results = results_lgbm.sort_values(by='ROC-AUC', ascending=False)\n",
    "\n",
    "# Cetak hasil yang sudah diurutkan\n",
    "print('Model LGBMClassifier')\n",
    "sorted_results"
   ]
  },
  {
   "cell_type": "markdown",
   "metadata": {},
   "source": [
    "- The LGBMClassifier shows excellent performance.\n",
    "- At a depth of 19, it achieves the highest ROC-AUC value with an execution time of 0.492987 seconds.\n",
    "- It correctly predicts around 87.80% of the test data.\n",
    "- It has an ROC-AUC score of 0.918360, indicating that the model has excellent ability to distinguish churn classes."
   ]
  },
  {
   "cell_type": "markdown",
   "metadata": {},
   "source": [
    "## XGBClassifier"
   ]
  },
  {
   "cell_type": "code",
   "execution_count": 68,
   "metadata": {
    "scrolled": true
   },
   "outputs": [
    {
     "name": "stdout",
     "output_type": "stream",
     "text": [
      "[18:08:52] WARNING: ../src/learner.cc:1115: Starting in XGBoost 1.3.0, the default evaluation metric used with the objective 'binary:logistic' was changed from 'error' to 'logloss'. Explicitly set eval_metric if you'd like to restore the old behavior.\n",
      "[18:08:53] WARNING: ../src/learner.cc:1115: Starting in XGBoost 1.3.0, the default evaluation metric used with the objective 'binary:logistic' was changed from 'error' to 'logloss'. Explicitly set eval_metric if you'd like to restore the old behavior.\n",
      "[18:08:54] WARNING: ../src/learner.cc:1115: Starting in XGBoost 1.3.0, the default evaluation metric used with the objective 'binary:logistic' was changed from 'error' to 'logloss'. Explicitly set eval_metric if you'd like to restore the old behavior.\n",
      "[18:08:56] WARNING: ../src/learner.cc:1115: Starting in XGBoost 1.3.0, the default evaluation metric used with the objective 'binary:logistic' was changed from 'error' to 'logloss'. Explicitly set eval_metric if you'd like to restore the old behavior.\n",
      "[18:08:57] WARNING: ../src/learner.cc:1115: Starting in XGBoost 1.3.0, the default evaluation metric used with the objective 'binary:logistic' was changed from 'error' to 'logloss'. Explicitly set eval_metric if you'd like to restore the old behavior.\n",
      "[18:09:00] WARNING: ../src/learner.cc:1115: Starting in XGBoost 1.3.0, the default evaluation metric used with the objective 'binary:logistic' was changed from 'error' to 'logloss'. Explicitly set eval_metric if you'd like to restore the old behavior.\n",
      "[18:09:02] WARNING: ../src/learner.cc:1115: Starting in XGBoost 1.3.0, the default evaluation metric used with the objective 'binary:logistic' was changed from 'error' to 'logloss'. Explicitly set eval_metric if you'd like to restore the old behavior.\n",
      "[18:09:05] WARNING: ../src/learner.cc:1115: Starting in XGBoost 1.3.0, the default evaluation metric used with the objective 'binary:logistic' was changed from 'error' to 'logloss'. Explicitly set eval_metric if you'd like to restore the old behavior.\n",
      "[18:09:08] WARNING: ../src/learner.cc:1115: Starting in XGBoost 1.3.0, the default evaluation metric used with the objective 'binary:logistic' was changed from 'error' to 'logloss'. Explicitly set eval_metric if you'd like to restore the old behavior.\n",
      "[18:09:11] WARNING: ../src/learner.cc:1115: Starting in XGBoost 1.3.0, the default evaluation metric used with the objective 'binary:logistic' was changed from 'error' to 'logloss'. Explicitly set eval_metric if you'd like to restore the old behavior.\n",
      "[18:09:15] WARNING: ../src/learner.cc:1115: Starting in XGBoost 1.3.0, the default evaluation metric used with the objective 'binary:logistic' was changed from 'error' to 'logloss'. Explicitly set eval_metric if you'd like to restore the old behavior.\n",
      "[18:09:19] WARNING: ../src/learner.cc:1115: Starting in XGBoost 1.3.0, the default evaluation metric used with the objective 'binary:logistic' was changed from 'error' to 'logloss'. Explicitly set eval_metric if you'd like to restore the old behavior.\n",
      "[18:09:23] WARNING: ../src/learner.cc:1115: Starting in XGBoost 1.3.0, the default evaluation metric used with the objective 'binary:logistic' was changed from 'error' to 'logloss'. Explicitly set eval_metric if you'd like to restore the old behavior.\n",
      "[18:09:28] WARNING: ../src/learner.cc:1115: Starting in XGBoost 1.3.0, the default evaluation metric used with the objective 'binary:logistic' was changed from 'error' to 'logloss'. Explicitly set eval_metric if you'd like to restore the old behavior.\n",
      "[18:09:32] WARNING: ../src/learner.cc:1115: Starting in XGBoost 1.3.0, the default evaluation metric used with the objective 'binary:logistic' was changed from 'error' to 'logloss'. Explicitly set eval_metric if you'd like to restore the old behavior.\n",
      "[18:09:38] WARNING: ../src/learner.cc:1115: Starting in XGBoost 1.3.0, the default evaluation metric used with the objective 'binary:logistic' was changed from 'error' to 'logloss'. Explicitly set eval_metric if you'd like to restore the old behavior.\n",
      "[18:09:43] WARNING: ../src/learner.cc:1115: Starting in XGBoost 1.3.0, the default evaluation metric used with the objective 'binary:logistic' was changed from 'error' to 'logloss'. Explicitly set eval_metric if you'd like to restore the old behavior.\n",
      "[18:09:49] WARNING: ../src/learner.cc:1115: Starting in XGBoost 1.3.0, the default evaluation metric used with the objective 'binary:logistic' was changed from 'error' to 'logloss'. Explicitly set eval_metric if you'd like to restore the old behavior.\n",
      "[18:09:54] WARNING: ../src/learner.cc:1115: Starting in XGBoost 1.3.0, the default evaluation metric used with the objective 'binary:logistic' was changed from 'error' to 'logloss'. Explicitly set eval_metric if you'd like to restore the old behavior.\n",
      "[18:10:01] WARNING: ../src/learner.cc:1115: Starting in XGBoost 1.3.0, the default evaluation metric used with the objective 'binary:logistic' was changed from 'error' to 'logloss'. Explicitly set eval_metric if you'd like to restore the old behavior.\n",
      "[18:10:07] WARNING: ../src/learner.cc:1115: Starting in XGBoost 1.3.0, the default evaluation metric used with the objective 'binary:logistic' was changed from 'error' to 'logloss'. Explicitly set eval_metric if you'd like to restore the old behavior.\n",
      "[18:10:14] WARNING: ../src/learner.cc:1115: Starting in XGBoost 1.3.0, the default evaluation metric used with the objective 'binary:logistic' was changed from 'error' to 'logloss'. Explicitly set eval_metric if you'd like to restore the old behavior.\n",
      "[18:10:21] WARNING: ../src/learner.cc:1115: Starting in XGBoost 1.3.0, the default evaluation metric used with the objective 'binary:logistic' was changed from 'error' to 'logloss'. Explicitly set eval_metric if you'd like to restore the old behavior.\n",
      "[18:10:27] WARNING: ../src/learner.cc:1115: Starting in XGBoost 1.3.0, the default evaluation metric used with the objective 'binary:logistic' was changed from 'error' to 'logloss'. Explicitly set eval_metric if you'd like to restore the old behavior.\n",
      "Model XGBClassifier\n"
     ]
    },
    {
     "data": {
      "text/html": [
       "<div>\n",
       "<style scoped>\n",
       "    .dataframe tbody tr th:only-of-type {\n",
       "        vertical-align: middle;\n",
       "    }\n",
       "\n",
       "    .dataframe tbody tr th {\n",
       "        vertical-align: top;\n",
       "    }\n",
       "\n",
       "    .dataframe thead th {\n",
       "        text-align: right;\n",
       "    }\n",
       "</style>\n",
       "<table border=\"1\" class=\"dataframe\">\n",
       "  <thead>\n",
       "    <tr style=\"text-align: right;\">\n",
       "      <th></th>\n",
       "      <th>Model</th>\n",
       "      <th>Max_depth</th>\n",
       "      <th>Accuracy</th>\n",
       "      <th>ROC-AUC</th>\n",
       "      <th>Execution Time</th>\n",
       "    </tr>\n",
       "  </thead>\n",
       "  <tbody>\n",
       "    <tr>\n",
       "      <th>5</th>\n",
       "      <td>XGBClassifier</td>\n",
       "      <td>6</td>\n",
       "      <td>0.876596</td>\n",
       "      <td>0.923684</td>\n",
       "      <td>2.305454</td>\n",
       "    </tr>\n",
       "    <tr>\n",
       "      <th>7</th>\n",
       "      <td>XGBClassifier</td>\n",
       "      <td>8</td>\n",
       "      <td>0.882270</td>\n",
       "      <td>0.921048</td>\n",
       "      <td>3.116670</td>\n",
       "    </tr>\n",
       "    <tr>\n",
       "      <th>8</th>\n",
       "      <td>XGBClassifier</td>\n",
       "      <td>9</td>\n",
       "      <td>0.876596</td>\n",
       "      <td>0.920480</td>\n",
       "      <td>3.460936</td>\n",
       "    </tr>\n",
       "    <tr>\n",
       "      <th>9</th>\n",
       "      <td>XGBClassifier</td>\n",
       "      <td>10</td>\n",
       "      <td>0.869504</td>\n",
       "      <td>0.919693</td>\n",
       "      <td>3.531222</td>\n",
       "    </tr>\n",
       "    <tr>\n",
       "      <th>6</th>\n",
       "      <td>XGBClassifier</td>\n",
       "      <td>7</td>\n",
       "      <td>0.880851</td>\n",
       "      <td>0.916208</td>\n",
       "      <td>2.588858</td>\n",
       "    </tr>\n",
       "    <tr>\n",
       "      <th>10</th>\n",
       "      <td>XGBClassifier</td>\n",
       "      <td>11</td>\n",
       "      <td>0.872340</td>\n",
       "      <td>0.914609</td>\n",
       "      <td>4.270629</td>\n",
       "    </tr>\n",
       "    <tr>\n",
       "      <th>3</th>\n",
       "      <td>XGBClassifier</td>\n",
       "      <td>4</td>\n",
       "      <td>0.879433</td>\n",
       "      <td>0.914257</td>\n",
       "      <td>1.698724</td>\n",
       "    </tr>\n",
       "    <tr>\n",
       "      <th>13</th>\n",
       "      <td>XGBClassifier</td>\n",
       "      <td>14</td>\n",
       "      <td>0.863830</td>\n",
       "      <td>0.910935</td>\n",
       "      <td>4.833097</td>\n",
       "    </tr>\n",
       "    <tr>\n",
       "      <th>11</th>\n",
       "      <td>XGBClassifier</td>\n",
       "      <td>12</td>\n",
       "      <td>0.866667</td>\n",
       "      <td>0.910700</td>\n",
       "      <td>4.046650</td>\n",
       "    </tr>\n",
       "    <tr>\n",
       "      <th>12</th>\n",
       "      <td>XGBClassifier</td>\n",
       "      <td>13</td>\n",
       "      <td>0.862411</td>\n",
       "      <td>0.909463</td>\n",
       "      <td>4.450878</td>\n",
       "    </tr>\n",
       "    <tr>\n",
       "      <th>17</th>\n",
       "      <td>XGBClassifier</td>\n",
       "      <td>18</td>\n",
       "      <td>0.856738</td>\n",
       "      <td>0.906684</td>\n",
       "      <td>5.563332</td>\n",
       "    </tr>\n",
       "    <tr>\n",
       "      <th>15</th>\n",
       "      <td>XGBClassifier</td>\n",
       "      <td>16</td>\n",
       "      <td>0.855319</td>\n",
       "      <td>0.906009</td>\n",
       "      <td>5.292742</td>\n",
       "    </tr>\n",
       "    <tr>\n",
       "      <th>22</th>\n",
       "      <td>XGBClassifier</td>\n",
       "      <td>23</td>\n",
       "      <td>0.855319</td>\n",
       "      <td>0.904997</td>\n",
       "      <td>6.433572</td>\n",
       "    </tr>\n",
       "    <tr>\n",
       "      <th>20</th>\n",
       "      <td>XGBClassifier</td>\n",
       "      <td>21</td>\n",
       "      <td>0.862411</td>\n",
       "      <td>0.903986</td>\n",
       "      <td>6.586109</td>\n",
       "    </tr>\n",
       "    <tr>\n",
       "      <th>2</th>\n",
       "      <td>XGBClassifier</td>\n",
       "      <td>3</td>\n",
       "      <td>0.862411</td>\n",
       "      <td>0.903388</td>\n",
       "      <td>1.509856</td>\n",
       "    </tr>\n",
       "    <tr>\n",
       "      <th>4</th>\n",
       "      <td>XGBClassifier</td>\n",
       "      <td>5</td>\n",
       "      <td>0.865248</td>\n",
       "      <td>0.903235</td>\n",
       "      <td>2.591381</td>\n",
       "    </tr>\n",
       "    <tr>\n",
       "      <th>19</th>\n",
       "      <td>XGBClassifier</td>\n",
       "      <td>20</td>\n",
       "      <td>0.855319</td>\n",
       "      <td>0.902381</td>\n",
       "      <td>6.519511</td>\n",
       "    </tr>\n",
       "    <tr>\n",
       "      <th>14</th>\n",
       "      <td>XGBClassifier</td>\n",
       "      <td>15</td>\n",
       "      <td>0.855319</td>\n",
       "      <td>0.902269</td>\n",
       "      <td>5.370018</td>\n",
       "    </tr>\n",
       "    <tr>\n",
       "      <th>1</th>\n",
       "      <td>XGBClassifier</td>\n",
       "      <td>2</td>\n",
       "      <td>0.859574</td>\n",
       "      <td>0.901865</td>\n",
       "      <td>1.192417</td>\n",
       "    </tr>\n",
       "    <tr>\n",
       "      <th>16</th>\n",
       "      <td>XGBClassifier</td>\n",
       "      <td>17</td>\n",
       "      <td>0.849645</td>\n",
       "      <td>0.901615</td>\n",
       "      <td>5.755704</td>\n",
       "    </tr>\n",
       "    <tr>\n",
       "      <th>21</th>\n",
       "      <td>XGBClassifier</td>\n",
       "      <td>22</td>\n",
       "      <td>0.852482</td>\n",
       "      <td>0.899898</td>\n",
       "      <td>7.017893</td>\n",
       "    </tr>\n",
       "    <tr>\n",
       "      <th>23</th>\n",
       "      <td>XGBClassifier</td>\n",
       "      <td>24</td>\n",
       "      <td>0.859574</td>\n",
       "      <td>0.898973</td>\n",
       "      <td>6.850019</td>\n",
       "    </tr>\n",
       "    <tr>\n",
       "      <th>18</th>\n",
       "      <td>XGBClassifier</td>\n",
       "      <td>19</td>\n",
       "      <td>0.855319</td>\n",
       "      <td>0.898835</td>\n",
       "      <td>6.178921</td>\n",
       "    </tr>\n",
       "    <tr>\n",
       "      <th>0</th>\n",
       "      <td>XGBClassifier</td>\n",
       "      <td>1</td>\n",
       "      <td>0.815603</td>\n",
       "      <td>0.863536</td>\n",
       "      <td>0.818128</td>\n",
       "    </tr>\n",
       "  </tbody>\n",
       "</table>\n",
       "</div>"
      ],
      "text/plain": [
       "            Model  Max_depth  Accuracy   ROC-AUC  Execution Time\n",
       "5   XGBClassifier          6  0.876596  0.923684        2.305454\n",
       "7   XGBClassifier          8  0.882270  0.921048        3.116670\n",
       "8   XGBClassifier          9  0.876596  0.920480        3.460936\n",
       "9   XGBClassifier         10  0.869504  0.919693        3.531222\n",
       "6   XGBClassifier          7  0.880851  0.916208        2.588858\n",
       "10  XGBClassifier         11  0.872340  0.914609        4.270629\n",
       "3   XGBClassifier          4  0.879433  0.914257        1.698724\n",
       "13  XGBClassifier         14  0.863830  0.910935        4.833097\n",
       "11  XGBClassifier         12  0.866667  0.910700        4.046650\n",
       "12  XGBClassifier         13  0.862411  0.909463        4.450878\n",
       "17  XGBClassifier         18  0.856738  0.906684        5.563332\n",
       "15  XGBClassifier         16  0.855319  0.906009        5.292742\n",
       "22  XGBClassifier         23  0.855319  0.904997        6.433572\n",
       "20  XGBClassifier         21  0.862411  0.903986        6.586109\n",
       "2   XGBClassifier          3  0.862411  0.903388        1.509856\n",
       "4   XGBClassifier          5  0.865248  0.903235        2.591381\n",
       "19  XGBClassifier         20  0.855319  0.902381        6.519511\n",
       "14  XGBClassifier         15  0.855319  0.902269        5.370018\n",
       "1   XGBClassifier          2  0.859574  0.901865        1.192417\n",
       "16  XGBClassifier         17  0.849645  0.901615        5.755704\n",
       "21  XGBClassifier         22  0.852482  0.899898        7.017893\n",
       "23  XGBClassifier         24  0.859574  0.898973        6.850019\n",
       "18  XGBClassifier         19  0.855319  0.898835        6.178921\n",
       "0   XGBClassifier          1  0.815603  0.863536        0.818128"
      ]
     },
     "execution_count": 68,
     "metadata": {},
     "output_type": "execute_result"
    }
   ],
   "source": [
    "xgb_model = XGBClassifier()\n",
    "results_xgb = evaluate_model_depths(xgb_model, 'XGBClassifier', X_train, y_train, x_test, y_test, max_depth_range=24)\n",
    "\n",
    "# Mengurutkan hasil berdasarkan ROC-AUC terbesar\n",
    "sorted_results = results_xgb.sort_values(by='ROC-AUC', ascending=False)\n",
    "\n",
    "# Cetak hasil yang sudah diurutkan\n",
    "print('Model XGBClassifier')\n",
    "sorted_results\n"
   ]
  },
  {
   "cell_type": "markdown",
   "metadata": {},
   "source": [
    "- The XGBClassifier demonstrates excellent performance.\n",
    "- At a depth of 6, it achieves the highest ROC-AUC value with an execution time of 2.362330 seconds.\n",
    "- It correctly predicts around 87.66% of the test data.\n",
    "- It has an ROC-AUC score of 0.923684, indicating that the model has excellent ability to distinguish churn classes."
   ]
  },
  {
   "cell_type": "markdown",
   "metadata": {},
   "source": [
    "## GradientBoostingClassifier"
   ]
  },
  {
   "cell_type": "code",
   "execution_count": 69,
   "metadata": {
    "scrolled": true
   },
   "outputs": [
    {
     "name": "stdout",
     "output_type": "stream",
     "text": [
      "Model GradientBoostingClassifier\n"
     ]
    },
    {
     "data": {
      "text/html": [
       "<div>\n",
       "<style scoped>\n",
       "    .dataframe tbody tr th:only-of-type {\n",
       "        vertical-align: middle;\n",
       "    }\n",
       "\n",
       "    .dataframe tbody tr th {\n",
       "        vertical-align: top;\n",
       "    }\n",
       "\n",
       "    .dataframe thead th {\n",
       "        text-align: right;\n",
       "    }\n",
       "</style>\n",
       "<table border=\"1\" class=\"dataframe\">\n",
       "  <thead>\n",
       "    <tr style=\"text-align: right;\">\n",
       "      <th></th>\n",
       "      <th>Model</th>\n",
       "      <th>Max_depth</th>\n",
       "      <th>Accuracy</th>\n",
       "      <th>ROC-AUC</th>\n",
       "      <th>Execution Time</th>\n",
       "    </tr>\n",
       "  </thead>\n",
       "  <tbody>\n",
       "    <tr>\n",
       "      <th>5</th>\n",
       "      <td>GradientBoostingClassifier</td>\n",
       "      <td>6</td>\n",
       "      <td>0.870922</td>\n",
       "      <td>0.911921</td>\n",
       "      <td>2.046526</td>\n",
       "    </tr>\n",
       "    <tr>\n",
       "      <th>4</th>\n",
       "      <td>GradientBoostingClassifier</td>\n",
       "      <td>5</td>\n",
       "      <td>0.860993</td>\n",
       "      <td>0.908222</td>\n",
       "      <td>1.709134</td>\n",
       "    </tr>\n",
       "    <tr>\n",
       "      <th>3</th>\n",
       "      <td>GradientBoostingClassifier</td>\n",
       "      <td>4</td>\n",
       "      <td>0.865248</td>\n",
       "      <td>0.905723</td>\n",
       "      <td>1.353216</td>\n",
       "    </tr>\n",
       "    <tr>\n",
       "      <th>8</th>\n",
       "      <td>GradientBoostingClassifier</td>\n",
       "      <td>9</td>\n",
       "      <td>0.851064</td>\n",
       "      <td>0.903664</td>\n",
       "      <td>3.625626</td>\n",
       "    </tr>\n",
       "    <tr>\n",
       "      <th>7</th>\n",
       "      <td>GradientBoostingClassifier</td>\n",
       "      <td>8</td>\n",
       "      <td>0.863830</td>\n",
       "      <td>0.902003</td>\n",
       "      <td>3.034829</td>\n",
       "    </tr>\n",
       "    <tr>\n",
       "      <th>9</th>\n",
       "      <td>GradientBoostingClassifier</td>\n",
       "      <td>10</td>\n",
       "      <td>0.855319</td>\n",
       "      <td>0.900526</td>\n",
       "      <td>4.293518</td>\n",
       "    </tr>\n",
       "    <tr>\n",
       "      <th>6</th>\n",
       "      <td>GradientBoostingClassifier</td>\n",
       "      <td>7</td>\n",
       "      <td>0.856738</td>\n",
       "      <td>0.898763</td>\n",
       "      <td>2.484297</td>\n",
       "    </tr>\n",
       "    <tr>\n",
       "      <th>10</th>\n",
       "      <td>GradientBoostingClassifier</td>\n",
       "      <td>11</td>\n",
       "      <td>0.851064</td>\n",
       "      <td>0.895176</td>\n",
       "      <td>5.023024</td>\n",
       "    </tr>\n",
       "    <tr>\n",
       "      <th>11</th>\n",
       "      <td>GradientBoostingClassifier</td>\n",
       "      <td>12</td>\n",
       "      <td>0.845390</td>\n",
       "      <td>0.892790</td>\n",
       "      <td>5.933675</td>\n",
       "    </tr>\n",
       "    <tr>\n",
       "      <th>12</th>\n",
       "      <td>GradientBoostingClassifier</td>\n",
       "      <td>13</td>\n",
       "      <td>0.848227</td>\n",
       "      <td>0.892780</td>\n",
       "      <td>6.928125</td>\n",
       "    </tr>\n",
       "    <tr>\n",
       "      <th>2</th>\n",
       "      <td>GradientBoostingClassifier</td>\n",
       "      <td>3</td>\n",
       "      <td>0.855319</td>\n",
       "      <td>0.892008</td>\n",
       "      <td>1.049181</td>\n",
       "    </tr>\n",
       "    <tr>\n",
       "      <th>13</th>\n",
       "      <td>GradientBoostingClassifier</td>\n",
       "      <td>14</td>\n",
       "      <td>0.845390</td>\n",
       "      <td>0.891681</td>\n",
       "      <td>7.778541</td>\n",
       "    </tr>\n",
       "    <tr>\n",
       "      <th>14</th>\n",
       "      <td>GradientBoostingClassifier</td>\n",
       "      <td>15</td>\n",
       "      <td>0.838298</td>\n",
       "      <td>0.888625</td>\n",
       "      <td>9.048876</td>\n",
       "    </tr>\n",
       "    <tr>\n",
       "      <th>15</th>\n",
       "      <td>GradientBoostingClassifier</td>\n",
       "      <td>16</td>\n",
       "      <td>0.839716</td>\n",
       "      <td>0.886791</td>\n",
       "      <td>10.146377</td>\n",
       "    </tr>\n",
       "    <tr>\n",
       "      <th>1</th>\n",
       "      <td>GradientBoostingClassifier</td>\n",
       "      <td>2</td>\n",
       "      <td>0.834043</td>\n",
       "      <td>0.880858</td>\n",
       "      <td>0.736155</td>\n",
       "    </tr>\n",
       "    <tr>\n",
       "      <th>16</th>\n",
       "      <td>GradientBoostingClassifier</td>\n",
       "      <td>17</td>\n",
       "      <td>0.839716</td>\n",
       "      <td>0.880112</td>\n",
       "      <td>11.332154</td>\n",
       "    </tr>\n",
       "    <tr>\n",
       "      <th>17</th>\n",
       "      <td>GradientBoostingClassifier</td>\n",
       "      <td>18</td>\n",
       "      <td>0.832624</td>\n",
       "      <td>0.866469</td>\n",
       "      <td>11.868510</td>\n",
       "    </tr>\n",
       "    <tr>\n",
       "      <th>18</th>\n",
       "      <td>GradientBoostingClassifier</td>\n",
       "      <td>19</td>\n",
       "      <td>0.825532</td>\n",
       "      <td>0.863797</td>\n",
       "      <td>12.192542</td>\n",
       "    </tr>\n",
       "    <tr>\n",
       "      <th>19</th>\n",
       "      <td>GradientBoostingClassifier</td>\n",
       "      <td>20</td>\n",
       "      <td>0.826950</td>\n",
       "      <td>0.860884</td>\n",
       "      <td>12.453825</td>\n",
       "    </tr>\n",
       "    <tr>\n",
       "      <th>0</th>\n",
       "      <td>GradientBoostingClassifier</td>\n",
       "      <td>1</td>\n",
       "      <td>0.811348</td>\n",
       "      <td>0.858855</td>\n",
       "      <td>0.470867</td>\n",
       "    </tr>\n",
       "    <tr>\n",
       "      <th>21</th>\n",
       "      <td>GradientBoostingClassifier</td>\n",
       "      <td>22</td>\n",
       "      <td>0.812766</td>\n",
       "      <td>0.843153</td>\n",
       "      <td>12.200341</td>\n",
       "    </tr>\n",
       "    <tr>\n",
       "      <th>22</th>\n",
       "      <td>GradientBoostingClassifier</td>\n",
       "      <td>23</td>\n",
       "      <td>0.811348</td>\n",
       "      <td>0.837021</td>\n",
       "      <td>11.463341</td>\n",
       "    </tr>\n",
       "    <tr>\n",
       "      <th>23</th>\n",
       "      <td>GradientBoostingClassifier</td>\n",
       "      <td>24</td>\n",
       "      <td>0.802837</td>\n",
       "      <td>0.835575</td>\n",
       "      <td>11.439038</td>\n",
       "    </tr>\n",
       "    <tr>\n",
       "      <th>20</th>\n",
       "      <td>GradientBoostingClassifier</td>\n",
       "      <td>21</td>\n",
       "      <td>0.814184</td>\n",
       "      <td>0.834175</td>\n",
       "      <td>12.152836</td>\n",
       "    </tr>\n",
       "  </tbody>\n",
       "</table>\n",
       "</div>"
      ],
      "text/plain": [
       "                         Model  Max_depth  Accuracy   ROC-AUC  Execution Time\n",
       "5   GradientBoostingClassifier          6  0.870922  0.911921        2.046526\n",
       "4   GradientBoostingClassifier          5  0.860993  0.908222        1.709134\n",
       "3   GradientBoostingClassifier          4  0.865248  0.905723        1.353216\n",
       "8   GradientBoostingClassifier          9  0.851064  0.903664        3.625626\n",
       "7   GradientBoostingClassifier          8  0.863830  0.902003        3.034829\n",
       "9   GradientBoostingClassifier         10  0.855319  0.900526        4.293518\n",
       "6   GradientBoostingClassifier          7  0.856738  0.898763        2.484297\n",
       "10  GradientBoostingClassifier         11  0.851064  0.895176        5.023024\n",
       "11  GradientBoostingClassifier         12  0.845390  0.892790        5.933675\n",
       "12  GradientBoostingClassifier         13  0.848227  0.892780        6.928125\n",
       "2   GradientBoostingClassifier          3  0.855319  0.892008        1.049181\n",
       "13  GradientBoostingClassifier         14  0.845390  0.891681        7.778541\n",
       "14  GradientBoostingClassifier         15  0.838298  0.888625        9.048876\n",
       "15  GradientBoostingClassifier         16  0.839716  0.886791       10.146377\n",
       "1   GradientBoostingClassifier          2  0.834043  0.880858        0.736155\n",
       "16  GradientBoostingClassifier         17  0.839716  0.880112       11.332154\n",
       "17  GradientBoostingClassifier         18  0.832624  0.866469       11.868510\n",
       "18  GradientBoostingClassifier         19  0.825532  0.863797       12.192542\n",
       "19  GradientBoostingClassifier         20  0.826950  0.860884       12.453825\n",
       "0   GradientBoostingClassifier          1  0.811348  0.858855        0.470867\n",
       "21  GradientBoostingClassifier         22  0.812766  0.843153       12.200341\n",
       "22  GradientBoostingClassifier         23  0.811348  0.837021       11.463341\n",
       "23  GradientBoostingClassifier         24  0.802837  0.835575       11.439038\n",
       "20  GradientBoostingClassifier         21  0.814184  0.834175       12.152836"
      ]
     },
     "execution_count": 69,
     "metadata": {},
     "output_type": "execute_result"
    }
   ],
   "source": [
    "gbc_model = GradientBoostingClassifier()\n",
    "results_gbc = evaluate_model_depths(gbc_model, 'GradientBoostingClassifier', X_train, y_train, x_test, y_test, max_depth_range=24)\n",
    "\n",
    "# Mengurutkan hasil berdasarkan ROC-AUC terbesar\n",
    "sorted_results = results_gbc.sort_values(by='ROC-AUC', ascending=False)\n",
    "\n",
    "# Cetak hasil yang sudah diurutkan\n",
    "print('Model GradientBoostingClassifier')\n",
    "sorted_results\n"
   ]
  },
  {
   "cell_type": "markdown",
   "metadata": {},
   "source": [
    "- The GradientBoostingClassifier shows excellent performance.\n",
    "- At a depth of 6, it achieves the highest ROC-AUC value with an execution time of 2.115634 seconds.\n",
    "- It correctly predicts around 87.09% of the test data.\n",
    "- It has an ROC-AUC score of 0.911921, indicating that the model has very good ability to distinguish churn classes."
   ]
  },
  {
   "cell_type": "markdown",
   "metadata": {},
   "source": [
    "## KNN"
   ]
  },
  {
   "cell_type": "code",
   "execution_count": 70,
   "metadata": {},
   "outputs": [
    {
     "data": {
      "text/html": [
       "<div>\n",
       "<style scoped>\n",
       "    .dataframe tbody tr th:only-of-type {\n",
       "        vertical-align: middle;\n",
       "    }\n",
       "\n",
       "    .dataframe tbody tr th {\n",
       "        vertical-align: top;\n",
       "    }\n",
       "\n",
       "    .dataframe thead th {\n",
       "        text-align: right;\n",
       "    }\n",
       "</style>\n",
       "<table border=\"1\" class=\"dataframe\">\n",
       "  <thead>\n",
       "    <tr style=\"text-align: right;\">\n",
       "      <th></th>\n",
       "      <th>Model</th>\n",
       "      <th>Accuracy</th>\n",
       "      <th>ROC-AUC</th>\n",
       "      <th>Execution Time</th>\n",
       "    </tr>\n",
       "  </thead>\n",
       "  <tbody>\n",
       "    <tr>\n",
       "      <th>0</th>\n",
       "      <td>KNN</td>\n",
       "      <td>0.835461</td>\n",
       "      <td>0.866295</td>\n",
       "      <td>0.068893</td>\n",
       "    </tr>\n",
       "  </tbody>\n",
       "</table>\n",
       "</div>"
      ],
      "text/plain": [
       "  Model  Accuracy   ROC-AUC  Execution Time\n",
       "0   KNN  0.835461  0.866295        0.068893"
      ]
     },
     "execution_count": 70,
     "metadata": {},
     "output_type": "execute_result"
    }
   ],
   "source": [
    "# Mulai waktu eksekusi\n",
    "start_time = time.time()\n",
    "\n",
    "# Inisialisasi model KNN\n",
    "knn_model = KNeighborsClassifier()\n",
    "# Melatih model\n",
    "knn_model.fit(X_train, y_train)\n",
    "# Memprediksi pada data pengujian\n",
    "knn_y_pred = knn_model.predict(x_test)\n",
    "knn_y_pred_prob = knn_model.predict_proba(x_test)[:, 1]\n",
    "# Evaluasi model\n",
    "knn_accuracy = accuracy_score(y_test, knn_y_pred)\n",
    "knn_roc_auc = roc_auc_score(y_test, knn_y_pred_prob)\n",
    "\n",
    "# Waktu akhir eksekusi\n",
    "end_time = time.time()\n",
    "exec_time = end_time - start_time\n",
    "\n",
    "# Buat DataFrame dari hasil evaluasi\n",
    "eval_knn = pd.DataFrame({\n",
    "        'Model': ['KNN'],\n",
    "        'Accuracy': [knn_accuracy],\n",
    "        'ROC-AUC': [knn_roc_auc],\n",
    "        'Execution Time': [exec_time]\n",
    "})\n",
    "\n",
    "eval_knn\n"
   ]
  },
  {
   "cell_type": "markdown",
   "metadata": {},
   "source": [
    "# 7. Result Evaluation"
   ]
  },
  {
   "cell_type": "code",
   "execution_count": 71,
   "metadata": {},
   "outputs": [],
   "source": [
    "# Mendapatkan nilai teratas dari kolom 'ROC-AUC Train'\n",
    "top_dtc = results_dtc.nlargest(1, 'ROC-AUC')\n",
    "top_rfc = results_rfc.nlargest(1, 'ROC-AUC')\n",
    "top_xgb = results_xgb.nlargest(1, 'ROC-AUC')\n",
    "top_gbc = results_gbc.nlargest(1, 'ROC-AUC')\n",
    "top_lgbm = results_lgbm.nlargest(1, 'ROC-AUC')\n",
    "\n",
    "# Menggabungkan hasil evaluasi dari berbagai model\n",
    "all_results = pd.concat([eval_lr, top_dtc, top_rfc, top_lgbm, top_xgb, top_gbc, eval_knn ])"
   ]
  },
  {
   "cell_type": "code",
   "execution_count": 72,
   "metadata": {},
   "outputs": [
    {
     "data": {
      "text/html": [
       "<div>\n",
       "<style scoped>\n",
       "    .dataframe tbody tr th:only-of-type {\n",
       "        vertical-align: middle;\n",
       "    }\n",
       "\n",
       "    .dataframe tbody tr th {\n",
       "        vertical-align: top;\n",
       "    }\n",
       "\n",
       "    .dataframe thead th {\n",
       "        text-align: right;\n",
       "    }\n",
       "</style>\n",
       "<table border=\"1\" class=\"dataframe\">\n",
       "  <thead>\n",
       "    <tr style=\"text-align: right;\">\n",
       "      <th></th>\n",
       "      <th>Model</th>\n",
       "      <th>Accuracy</th>\n",
       "      <th>ROC-AUC</th>\n",
       "      <th>Execution Time</th>\n",
       "      <th>Max_depth</th>\n",
       "    </tr>\n",
       "  </thead>\n",
       "  <tbody>\n",
       "    <tr>\n",
       "      <th>5</th>\n",
       "      <td>XGBClassifier</td>\n",
       "      <td>0.876596</td>\n",
       "      <td>0.923684</td>\n",
       "      <td>2.305454</td>\n",
       "      <td>6.0</td>\n",
       "    </tr>\n",
       "    <tr>\n",
       "      <th>18</th>\n",
       "      <td>LGBMClassifier</td>\n",
       "      <td>0.878014</td>\n",
       "      <td>0.918360</td>\n",
       "      <td>0.419111</td>\n",
       "      <td>19.0</td>\n",
       "    </tr>\n",
       "    <tr>\n",
       "      <th>5</th>\n",
       "      <td>GradientBoostingClassifier</td>\n",
       "      <td>0.870922</td>\n",
       "      <td>0.911921</td>\n",
       "      <td>2.046526</td>\n",
       "      <td>6.0</td>\n",
       "    </tr>\n",
       "    <tr>\n",
       "      <th>9</th>\n",
       "      <td>RandomForestClassifier</td>\n",
       "      <td>0.825532</td>\n",
       "      <td>0.875825</td>\n",
       "      <td>0.651106</td>\n",
       "      <td>10.0</td>\n",
       "    </tr>\n",
       "    <tr>\n",
       "      <th>0</th>\n",
       "      <td>KNN</td>\n",
       "      <td>0.835461</td>\n",
       "      <td>0.866295</td>\n",
       "      <td>0.068893</td>\n",
       "      <td>NaN</td>\n",
       "    </tr>\n",
       "    <tr>\n",
       "      <th>5</th>\n",
       "      <td>DecisionTreeClassifier</td>\n",
       "      <td>0.812766</td>\n",
       "      <td>0.854875</td>\n",
       "      <td>0.028920</td>\n",
       "      <td>6.0</td>\n",
       "    </tr>\n",
       "    <tr>\n",
       "      <th>0</th>\n",
       "      <td>LogisticRegression</td>\n",
       "      <td>0.795745</td>\n",
       "      <td>0.840082</td>\n",
       "      <td>1.013910</td>\n",
       "      <td>NaN</td>\n",
       "    </tr>\n",
       "  </tbody>\n",
       "</table>\n",
       "</div>"
      ],
      "text/plain": [
       "                         Model  Accuracy   ROC-AUC  Execution Time  Max_depth\n",
       "5                XGBClassifier  0.876596  0.923684        2.305454        6.0\n",
       "18              LGBMClassifier  0.878014  0.918360        0.419111       19.0\n",
       "5   GradientBoostingClassifier  0.870922  0.911921        2.046526        6.0\n",
       "9       RandomForestClassifier  0.825532  0.875825        0.651106       10.0\n",
       "0                          KNN  0.835461  0.866295        0.068893        NaN\n",
       "5       DecisionTreeClassifier  0.812766  0.854875        0.028920        6.0\n",
       "0           LogisticRegression  0.795745  0.840082        1.013910        NaN"
      ]
     },
     "execution_count": 72,
     "metadata": {},
     "output_type": "execute_result"
    }
   ],
   "source": [
    "all_results.sort_values(by='ROC-AUC', ascending=False)"
   ]
  },
  {
   "cell_type": "markdown",
   "metadata": {},
   "source": [
    "Based on the model evaluation results above, the findings are as follows:<br>\n",
    "- XGBClassifier has the highest ROC-AUC, indicating it excels in distinguishing between positive and negative classes. It also achieves high accuracy, although its execution time is relatively longer compared to some other models.<br>\n",
    "- LGBMClassifier exhibits very high ROC-AUC and accuracy, nearly matching XGBClassifier. Its standout feature is its significantly faster execution time, making it an excellent choice for high performance with time efficiency.<br>\n",
    "- GradientBoostingClassifier also performs well with high ROC-AUC and accuracy, though it has a longer execution time compared to LGBMClassifier.<br>\n",
    "- RandomForestClassifier demonstrates good performance with high ROC-AUC and accuracy, although not as high as the top three models. Its execution time is also efficient.<br>\n",
    "- KNN shows very fast execution time and good accuracy, but its ROC-AUC is slightly lower compared to ensemble models.<br>\n",
    "- DecisionTreeClassifier has lower ROC-AUC and accuracy compared to other ensemble models but boasts very fast execution time.\n",
    "- LogisticRegression exhibits the lowest ROC-AUC and accuracy among the evaluated models, with execution time that is not particularly fast.<br>\n"
   ]
  },
  {
   "cell_type": "markdown",
   "metadata": {},
   "source": [
    "# 8. Conclusion"
   ]
  },
  {
   "cell_type": "markdown",
   "metadata": {},
   "source": [
    "Model Evaluation: <br>\n",
    "<br>\n",
    "Boosting Models (XGBClassifier, LGBMClassifier, and GradientBoostingClassifier) are the most effective in terms of balancing accuracy, ROC-AUC, and execution time. They demonstrate superior predictive capability with reasonable execution times. <br>\n",
    "<br>\n",
    "XGBClassifier achieves the highest ROC-AUC among all tested models.<br>\n",
    "<br>\n",
    "LightGBM has the highest accuracy among all tested models, with ROC-AUC nearly matching XGBoost. Its execution time is very fast, making it highly efficient and ideal for large datasets or scenarios where computational efficiency is crucial. LightGBM shows it can handle complexity effectively while maintaining time efficiency.<br>\n",
    "<br>\n",
    "RandomForestClassifier is a good choice with relatively fast execution time, although it shows a slight decrease in performance compared to boosting models.<br>\n",
    "<br>\n",
    "Models like KNN and DecisionTreeClassifier offer high execution speed but their performance does not match that of more complex models.<br>\n",
    "<br>\n",
    "LogisticRegression shows the lowest performance in terms of ROC-AUC and accuracy.<br>"
   ]
  },
  {
   "cell_type": "code",
   "execution_count": null,
   "metadata": {},
   "outputs": [],
   "source": []
  }
 ],
 "metadata": {
  "ExecuteTimeLog": [
   {
    "duration": 5671,
    "start_time": "2024-06-08T17:46:50.947Z"
   },
   {
    "duration": 9,
    "start_time": "2024-06-08T17:48:33.561Z"
   },
   {
    "duration": 3,
    "start_time": "2024-06-08T17:53:10.861Z"
   },
   {
    "duration": 510,
    "start_time": "2024-06-08T17:53:47.979Z"
   },
   {
    "duration": 26,
    "start_time": "2024-06-08T17:53:59.966Z"
   },
   {
    "duration": 29,
    "start_time": "2024-06-08T17:54:30.396Z"
   },
   {
    "duration": 30,
    "start_time": "2024-06-08T17:54:42.838Z"
   },
   {
    "duration": 16,
    "start_time": "2024-06-08T17:54:58.642Z"
   },
   {
    "duration": 733,
    "start_time": "2024-06-08T17:57:16.920Z"
   },
   {
    "duration": 32,
    "start_time": "2024-06-08T17:57:29.360Z"
   },
   {
    "duration": 72,
    "start_time": "2024-06-08T17:58:31.331Z"
   },
   {
    "duration": 17,
    "start_time": "2024-06-08T17:58:52.428Z"
   },
   {
    "duration": 20,
    "start_time": "2024-06-08T18:00:05.770Z"
   },
   {
    "duration": 26,
    "start_time": "2024-06-08T18:01:38.111Z"
   },
   {
    "duration": 22,
    "start_time": "2024-06-08T18:01:44.038Z"
   },
   {
    "duration": 17,
    "start_time": "2024-06-08T18:03:16.121Z"
   },
   {
    "duration": 19,
    "start_time": "2024-06-08T18:03:38.064Z"
   },
   {
    "duration": 17,
    "start_time": "2024-06-08T18:04:04.310Z"
   },
   {
    "duration": 25,
    "start_time": "2024-06-08T18:05:19.494Z"
   },
   {
    "duration": 35,
    "start_time": "2024-06-08T18:06:09.044Z"
   },
   {
    "duration": 42,
    "start_time": "2024-06-08T18:07:23.808Z"
   },
   {
    "duration": 30,
    "start_time": "2024-06-08T18:08:20.414Z"
   },
   {
    "duration": 7,
    "start_time": "2024-06-08T18:09:06.310Z"
   },
   {
    "duration": 14,
    "start_time": "2024-06-08T18:09:25.220Z"
   },
   {
    "duration": 29,
    "start_time": "2024-06-08T18:10:11.089Z"
   },
   {
    "duration": 10,
    "start_time": "2024-06-08T18:10:44.234Z"
   },
   {
    "duration": 7,
    "start_time": "2024-06-08T18:10:50.829Z"
   },
   {
    "duration": 19,
    "start_time": "2024-06-08T18:11:22.574Z"
   },
   {
    "duration": 23,
    "start_time": "2024-06-08T18:11:30.855Z"
   },
   {
    "duration": 15,
    "start_time": "2024-06-08T18:11:37.252Z"
   },
   {
    "duration": 366,
    "start_time": "2024-06-09T06:28:29.445Z"
   },
   {
    "duration": 5474,
    "start_time": "2024-06-09T06:28:34.116Z"
   },
   {
    "duration": 4,
    "start_time": "2024-06-09T06:28:39.594Z"
   },
   {
    "duration": 24,
    "start_time": "2024-06-09T06:28:39.601Z"
   },
   {
    "duration": 94,
    "start_time": "2024-06-09T06:28:39.629Z"
   },
   {
    "duration": 54,
    "start_time": "2024-06-09T06:28:39.727Z"
   },
   {
    "duration": 43,
    "start_time": "2024-06-09T06:28:39.784Z"
   },
   {
    "duration": 21,
    "start_time": "2024-06-09T06:28:46.083Z"
   },
   {
    "duration": 16,
    "start_time": "2024-06-09T06:28:48.848Z"
   },
   {
    "duration": 13,
    "start_time": "2024-06-09T06:30:28.065Z"
   },
   {
    "duration": 12,
    "start_time": "2024-06-09T06:30:59.444Z"
   },
   {
    "duration": 12,
    "start_time": "2024-06-09T06:31:38.012Z"
   },
   {
    "duration": 12,
    "start_time": "2024-06-09T06:31:52.718Z"
   },
   {
    "duration": 12,
    "start_time": "2024-06-09T06:32:42.719Z"
   },
   {
    "duration": 12,
    "start_time": "2024-06-09T06:33:47.348Z"
   },
   {
    "duration": 12,
    "start_time": "2024-06-09T06:34:15.895Z"
   },
   {
    "duration": 14,
    "start_time": "2024-06-09T06:34:59.606Z"
   },
   {
    "duration": 12,
    "start_time": "2024-06-09T06:38:55.536Z"
   },
   {
    "duration": 15,
    "start_time": "2024-06-09T06:39:41.667Z"
   },
   {
    "duration": 14,
    "start_time": "2024-06-09T06:39:47.892Z"
   },
   {
    "duration": 8,
    "start_time": "2024-06-09T06:42:11.314Z"
   },
   {
    "duration": 16,
    "start_time": "2024-06-09T06:42:46.888Z"
   },
   {
    "duration": 14,
    "start_time": "2024-06-09T06:43:44.947Z"
   },
   {
    "duration": 15,
    "start_time": "2024-06-09T06:44:19.456Z"
   },
   {
    "duration": 17,
    "start_time": "2024-06-09T06:44:59.646Z"
   },
   {
    "duration": 16,
    "start_time": "2024-06-09T06:46:50.683Z"
   },
   {
    "duration": 9,
    "start_time": "2024-06-09T06:52:26.474Z"
   },
   {
    "duration": 11,
    "start_time": "2024-06-09T06:53:09.970Z"
   },
   {
    "duration": 12,
    "start_time": "2024-06-09T06:54:12.333Z"
   },
   {
    "duration": 8,
    "start_time": "2024-06-09T06:54:22.552Z"
   },
   {
    "duration": 11,
    "start_time": "2024-06-09T06:54:47.976Z"
   },
   {
    "duration": 8,
    "start_time": "2024-06-09T06:54:50.362Z"
   },
   {
    "duration": 20,
    "start_time": "2024-06-09T06:58:59.588Z"
   },
   {
    "duration": 16,
    "start_time": "2024-06-09T06:59:14.188Z"
   },
   {
    "duration": 143,
    "start_time": "2024-06-09T06:59:42.332Z"
   },
   {
    "duration": 35,
    "start_time": "2024-06-09T06:59:49.831Z"
   },
   {
    "duration": 10,
    "start_time": "2024-06-09T07:00:20.262Z"
   },
   {
    "duration": 8,
    "start_time": "2024-06-09T07:00:41.117Z"
   },
   {
    "duration": 9,
    "start_time": "2024-06-09T07:00:53.288Z"
   },
   {
    "duration": 10,
    "start_time": "2024-06-09T07:00:59.474Z"
   },
   {
    "duration": 7,
    "start_time": "2024-06-09T07:01:23.262Z"
   },
   {
    "duration": 54,
    "start_time": "2024-06-09T07:01:53.939Z"
   },
   {
    "duration": 900,
    "start_time": "2024-06-09T07:04:55.254Z"
   },
   {
    "duration": 8,
    "start_time": "2024-06-09T07:05:04.926Z"
   },
   {
    "duration": 11,
    "start_time": "2024-06-09T07:05:49.697Z"
   },
   {
    "duration": 9,
    "start_time": "2024-06-09T07:06:01.825Z"
   },
   {
    "duration": 11,
    "start_time": "2024-06-09T07:06:19.558Z"
   },
   {
    "duration": 16,
    "start_time": "2024-06-09T07:06:38.835Z"
   },
   {
    "duration": 11,
    "start_time": "2024-06-09T07:06:44.786Z"
   },
   {
    "duration": 33,
    "start_time": "2024-06-09T07:07:16.632Z"
   },
   {
    "duration": 21,
    "start_time": "2024-06-09T07:07:22.803Z"
   },
   {
    "duration": 10,
    "start_time": "2024-06-09T07:08:56.282Z"
   },
   {
    "duration": 16,
    "start_time": "2024-06-09T07:09:56.680Z"
   },
   {
    "duration": 90,
    "start_time": "2024-06-09T07:14:18.418Z"
   },
   {
    "duration": 13,
    "start_time": "2024-06-09T07:14:37.183Z"
   },
   {
    "duration": 9,
    "start_time": "2024-06-09T07:14:49.912Z"
   },
   {
    "duration": 8,
    "start_time": "2024-06-09T07:15:11.515Z"
   },
   {
    "duration": 35,
    "start_time": "2024-06-09T07:44:51.745Z"
   },
   {
    "duration": 34,
    "start_time": "2024-06-09T07:45:05.935Z"
   },
   {
    "duration": 52,
    "start_time": "2024-06-09T07:46:02.831Z"
   },
   {
    "duration": 31,
    "start_time": "2024-06-09T07:46:05.336Z"
   },
   {
    "duration": 317,
    "start_time": "2024-06-09T07:48:45.263Z"
   },
   {
    "duration": 1684,
    "start_time": "2024-06-09T07:49:07.275Z"
   },
   {
    "duration": 4,
    "start_time": "2024-06-09T07:49:08.964Z"
   },
   {
    "duration": 12,
    "start_time": "2024-06-09T07:49:08.971Z"
   },
   {
    "duration": 79,
    "start_time": "2024-06-09T07:49:08.986Z"
   },
   {
    "duration": 20,
    "start_time": "2024-06-09T07:49:09.070Z"
   },
   {
    "duration": 40,
    "start_time": "2024-06-09T07:49:09.093Z"
   },
   {
    "duration": 17,
    "start_time": "2024-06-09T07:49:09.136Z"
   },
   {
    "duration": 17,
    "start_time": "2024-06-09T07:49:09.156Z"
   },
   {
    "duration": 50,
    "start_time": "2024-06-09T07:49:09.176Z"
   },
   {
    "duration": 18,
    "start_time": "2024-06-09T07:49:09.230Z"
   },
   {
    "duration": 21,
    "start_time": "2024-06-09T07:49:09.251Z"
   },
   {
    "duration": 58,
    "start_time": "2024-06-09T07:49:09.276Z"
   },
   {
    "duration": 23,
    "start_time": "2024-06-09T07:49:09.338Z"
   },
   {
    "duration": 9,
    "start_time": "2024-06-09T07:49:09.372Z"
   },
   {
    "duration": 48,
    "start_time": "2024-06-09T07:49:09.384Z"
   },
   {
    "duration": 24,
    "start_time": "2024-06-09T07:49:09.440Z"
   },
   {
    "duration": 15,
    "start_time": "2024-06-09T07:49:09.467Z"
   },
   {
    "duration": 69,
    "start_time": "2024-06-09T07:49:09.485Z"
   },
   {
    "duration": 9,
    "start_time": "2024-06-09T07:49:09.557Z"
   },
   {
    "duration": 10,
    "start_time": "2024-06-09T07:49:09.569Z"
   },
   {
    "duration": 9,
    "start_time": "2024-06-09T07:49:09.582Z"
   },
   {
    "duration": 19,
    "start_time": "2024-06-09T07:49:09.627Z"
   },
   {
    "duration": 23,
    "start_time": "2024-06-09T07:49:09.649Z"
   },
   {
    "duration": 81,
    "start_time": "2024-06-09T07:49:09.675Z"
   },
   {
    "duration": 9,
    "start_time": "2024-06-09T07:49:09.760Z"
   },
   {
    "duration": 11,
    "start_time": "2024-06-09T07:49:09.772Z"
   },
   {
    "duration": 44,
    "start_time": "2024-06-09T07:49:09.786Z"
   },
   {
    "duration": 31,
    "start_time": "2024-06-09T07:49:14.026Z"
   },
   {
    "duration": 10,
    "start_time": "2024-06-09T07:51:09.956Z"
   },
   {
    "duration": 56,
    "start_time": "2024-06-09T07:51:20.493Z"
   },
   {
    "duration": 152,
    "start_time": "2024-06-09T07:53:23.213Z"
   },
   {
    "duration": 11,
    "start_time": "2024-06-09T07:53:25.283Z"
   },
   {
    "duration": 59,
    "start_time": "2024-06-09T07:53:26.996Z"
   },
   {
    "duration": 25,
    "start_time": "2024-06-09T07:53:37.470Z"
   },
   {
    "duration": 37,
    "start_time": "2024-06-09T07:59:53.115Z"
   },
   {
    "duration": 47,
    "start_time": "2024-06-09T07:59:56.740Z"
   },
   {
    "duration": 1778,
    "start_time": "2024-06-09T08:01:00.454Z"
   },
   {
    "duration": 4,
    "start_time": "2024-06-09T08:01:02.236Z"
   },
   {
    "duration": 11,
    "start_time": "2024-06-09T08:01:02.244Z"
   },
   {
    "duration": 84,
    "start_time": "2024-06-09T08:01:02.258Z"
   },
   {
    "duration": 19,
    "start_time": "2024-06-09T08:01:02.346Z"
   },
   {
    "duration": 27,
    "start_time": "2024-06-09T08:01:02.368Z"
   },
   {
    "duration": 18,
    "start_time": "2024-06-09T08:01:02.424Z"
   },
   {
    "duration": 16,
    "start_time": "2024-06-09T08:01:02.446Z"
   },
   {
    "duration": 14,
    "start_time": "2024-06-09T08:01:02.465Z"
   },
   {
    "duration": 15,
    "start_time": "2024-06-09T08:01:02.524Z"
   },
   {
    "duration": 20,
    "start_time": "2024-06-09T08:01:02.542Z"
   },
   {
    "duration": 19,
    "start_time": "2024-06-09T08:01:02.566Z"
   },
   {
    "duration": 18,
    "start_time": "2024-06-09T08:01:02.625Z"
   },
   {
    "duration": 9,
    "start_time": "2024-06-09T08:01:02.649Z"
   },
   {
    "duration": 13,
    "start_time": "2024-06-09T08:01:02.661Z"
   },
   {
    "duration": 15,
    "start_time": "2024-06-09T08:01:02.724Z"
   },
   {
    "duration": 19,
    "start_time": "2024-06-09T08:01:02.743Z"
   },
   {
    "duration": 64,
    "start_time": "2024-06-09T08:01:02.765Z"
   },
   {
    "duration": 10,
    "start_time": "2024-06-09T08:01:02.833Z"
   },
   {
    "duration": 10,
    "start_time": "2024-06-09T08:01:02.847Z"
   },
   {
    "duration": 12,
    "start_time": "2024-06-09T08:01:02.861Z"
   },
   {
    "duration": 62,
    "start_time": "2024-06-09T08:01:02.876Z"
   },
   {
    "duration": 20,
    "start_time": "2024-06-09T08:01:02.941Z"
   },
   {
    "duration": 80,
    "start_time": "2024-06-09T08:01:02.965Z"
   },
   {
    "duration": 9,
    "start_time": "2024-06-09T08:01:03.048Z"
   },
   {
    "duration": 11,
    "start_time": "2024-06-09T08:01:03.062Z"
   },
   {
    "duration": 12,
    "start_time": "2024-06-09T08:01:09.071Z"
   },
   {
    "duration": 33,
    "start_time": "2024-06-09T08:01:11.709Z"
   },
   {
    "duration": 34,
    "start_time": "2024-06-09T08:01:15.607Z"
   },
   {
    "duration": 432,
    "start_time": "2024-06-09T08:02:25.887Z"
   },
   {
    "duration": 22,
    "start_time": "2024-06-09T08:03:00.820Z"
   },
   {
    "duration": 16,
    "start_time": "2024-06-09T08:04:06.270Z"
   },
   {
    "duration": 20,
    "start_time": "2024-06-09T08:04:22.543Z"
   },
   {
    "duration": 31,
    "start_time": "2024-06-09T08:36:28.822Z"
   },
   {
    "duration": 8,
    "start_time": "2024-06-09T08:36:37.844Z"
   },
   {
    "duration": 19,
    "start_time": "2024-06-09T08:36:45.814Z"
   },
   {
    "duration": 8,
    "start_time": "2024-06-09T08:37:20.681Z"
   },
   {
    "duration": 4,
    "start_time": "2024-06-09T09:09:08.781Z"
   },
   {
    "duration": 229,
    "start_time": "2024-06-09T09:09:49.607Z"
   },
   {
    "duration": 27,
    "start_time": "2024-06-09T09:13:31.001Z"
   },
   {
    "duration": 9,
    "start_time": "2024-06-09T09:13:52.034Z"
   },
   {
    "duration": 188,
    "start_time": "2024-06-09T09:14:03.597Z"
   },
   {
    "duration": 39,
    "start_time": "2024-06-09T09:16:21.074Z"
   },
   {
    "duration": 7,
    "start_time": "2024-06-09T09:16:38.297Z"
   },
   {
    "duration": 150,
    "start_time": "2024-06-09T09:16:48.604Z"
   },
   {
    "duration": 616,
    "start_time": "2024-06-09T09:28:57.242Z"
   },
   {
    "duration": 184,
    "start_time": "2024-06-09T09:30:13.459Z"
   },
   {
    "duration": 157,
    "start_time": "2024-06-09T09:30:56.643Z"
   },
   {
    "duration": 185,
    "start_time": "2024-06-09T09:31:14.364Z"
   },
   {
    "duration": 149,
    "start_time": "2024-06-09T09:34:53.481Z"
   },
   {
    "duration": 113,
    "start_time": "2024-06-09T09:35:58.046Z"
   },
   {
    "duration": 155,
    "start_time": "2024-06-09T09:38:15.137Z"
   },
   {
    "duration": 211,
    "start_time": "2024-06-09T09:38:26.340Z"
   },
   {
    "duration": 129,
    "start_time": "2024-06-09T09:38:39.835Z"
   },
   {
    "duration": 121,
    "start_time": "2024-06-09T09:40:09.841Z"
   },
   {
    "duration": 100,
    "start_time": "2024-06-09T09:41:34.880Z"
   },
   {
    "duration": 1762,
    "start_time": "2024-06-09T09:42:34.779Z"
   },
   {
    "duration": 5,
    "start_time": "2024-06-09T09:42:36.546Z"
   },
   {
    "duration": 11,
    "start_time": "2024-06-09T09:42:36.554Z"
   },
   {
    "duration": 95,
    "start_time": "2024-06-09T09:42:36.568Z"
   },
   {
    "duration": 21,
    "start_time": "2024-06-09T09:42:36.668Z"
   },
   {
    "duration": 47,
    "start_time": "2024-06-09T09:42:36.692Z"
   },
   {
    "duration": 19,
    "start_time": "2024-06-09T09:42:36.743Z"
   },
   {
    "duration": 16,
    "start_time": "2024-06-09T09:42:36.766Z"
   },
   {
    "duration": 49,
    "start_time": "2024-06-09T09:42:36.785Z"
   },
   {
    "duration": 14,
    "start_time": "2024-06-09T09:42:36.838Z"
   },
   {
    "duration": 18,
    "start_time": "2024-06-09T09:42:36.856Z"
   },
   {
    "duration": 19,
    "start_time": "2024-06-09T09:42:36.922Z"
   },
   {
    "duration": 17,
    "start_time": "2024-06-09T09:42:36.944Z"
   },
   {
    "duration": 8,
    "start_time": "2024-06-09T09:42:36.969Z"
   },
   {
    "duration": 50,
    "start_time": "2024-06-09T09:42:36.981Z"
   },
   {
    "duration": 16,
    "start_time": "2024-06-09T09:42:37.033Z"
   },
   {
    "duration": 14,
    "start_time": "2024-06-09T09:42:37.053Z"
   },
   {
    "duration": 66,
    "start_time": "2024-06-09T09:42:37.070Z"
   },
   {
    "duration": 9,
    "start_time": "2024-06-09T09:42:37.139Z"
   },
   {
    "duration": 9,
    "start_time": "2024-06-09T09:42:37.152Z"
   },
   {
    "duration": 11,
    "start_time": "2024-06-09T09:42:37.165Z"
   },
   {
    "duration": 16,
    "start_time": "2024-06-09T09:42:37.225Z"
   },
   {
    "duration": 21,
    "start_time": "2024-06-09T09:42:37.245Z"
   },
   {
    "duration": 83,
    "start_time": "2024-06-09T09:42:37.269Z"
   },
   {
    "duration": 10,
    "start_time": "2024-06-09T09:42:37.355Z"
   },
   {
    "duration": 13,
    "start_time": "2024-06-09T09:42:37.369Z"
   },
   {
    "duration": 43,
    "start_time": "2024-06-09T09:42:37.386Z"
   },
   {
    "duration": 36,
    "start_time": "2024-06-09T09:42:37.433Z"
   },
   {
    "duration": 73,
    "start_time": "2024-06-09T09:42:37.473Z"
   },
   {
    "duration": 24,
    "start_time": "2024-06-09T09:42:37.549Z"
   },
   {
    "duration": 49,
    "start_time": "2024-06-09T09:42:37.577Z"
   },
   {
    "duration": 22,
    "start_time": "2024-06-09T09:42:37.629Z"
   },
   {
    "duration": 7,
    "start_time": "2024-06-09T09:42:37.654Z"
   },
   {
    "duration": 8,
    "start_time": "2024-06-09T09:43:26.688Z"
   },
   {
    "duration": 4,
    "start_time": "2024-06-09T09:43:26.700Z"
   },
   {
    "duration": 7,
    "start_time": "2024-06-09T09:43:26.707Z"
   },
   {
    "duration": 50,
    "start_time": "2024-06-09T09:43:26.720Z"
   },
   {
    "duration": 17,
    "start_time": "2024-06-09T09:43:26.773Z"
   },
   {
    "duration": 43,
    "start_time": "2024-06-09T09:43:26.793Z"
   },
   {
    "duration": 19,
    "start_time": "2024-06-09T09:43:26.839Z"
   },
   {
    "duration": 19,
    "start_time": "2024-06-09T09:43:26.861Z"
   },
   {
    "duration": 44,
    "start_time": "2024-06-09T09:43:26.884Z"
   },
   {
    "duration": 15,
    "start_time": "2024-06-09T09:43:26.936Z"
   },
   {
    "duration": 19,
    "start_time": "2024-06-09T09:43:26.955Z"
   },
   {
    "duration": 55,
    "start_time": "2024-06-09T09:43:26.976Z"
   },
   {
    "duration": 17,
    "start_time": "2024-06-09T09:43:27.036Z"
   },
   {
    "duration": 9,
    "start_time": "2024-06-09T09:43:27.057Z"
   },
   {
    "duration": 57,
    "start_time": "2024-06-09T09:43:27.071Z"
   },
   {
    "duration": 16,
    "start_time": "2024-06-09T09:43:27.131Z"
   },
   {
    "duration": 13,
    "start_time": "2024-06-09T09:43:27.150Z"
   },
   {
    "duration": 61,
    "start_time": "2024-06-09T09:43:27.166Z"
   },
   {
    "duration": 8,
    "start_time": "2024-06-09T09:43:27.231Z"
   },
   {
    "duration": 9,
    "start_time": "2024-06-09T09:43:27.243Z"
   },
   {
    "duration": 9,
    "start_time": "2024-06-09T09:43:27.255Z"
   },
   {
    "duration": 63,
    "start_time": "2024-06-09T09:43:27.267Z"
   },
   {
    "duration": 19,
    "start_time": "2024-06-09T09:43:27.334Z"
   },
   {
    "duration": 73,
    "start_time": "2024-06-09T09:43:27.357Z"
   },
   {
    "duration": 13,
    "start_time": "2024-06-09T09:43:27.433Z"
   },
   {
    "duration": 11,
    "start_time": "2024-06-09T09:43:27.449Z"
   },
   {
    "duration": 11,
    "start_time": "2024-06-09T09:43:27.463Z"
   },
   {
    "duration": 32,
    "start_time": "2024-06-09T09:43:27.522Z"
   },
   {
    "duration": 34,
    "start_time": "2024-06-09T09:43:27.556Z"
   },
   {
    "duration": 43,
    "start_time": "2024-06-09T09:43:27.594Z"
   },
   {
    "duration": 17,
    "start_time": "2024-06-09T09:43:27.639Z"
   },
   {
    "duration": 22,
    "start_time": "2024-06-09T09:43:32.152Z"
   },
   {
    "duration": 5,
    "start_time": "2024-06-09T09:43:34.760Z"
   },
   {
    "duration": 232,
    "start_time": "2024-06-09T09:44:17.164Z"
   },
   {
    "duration": 235,
    "start_time": "2024-06-09T09:44:31.131Z"
   },
   {
    "duration": 258,
    "start_time": "2024-06-09T09:47:06.234Z"
   },
   {
    "duration": 186,
    "start_time": "2024-06-09T09:52:37.384Z"
   },
   {
    "duration": 1419,
    "start_time": "2024-06-09T09:54:08.907Z"
   },
   {
    "duration": 9,
    "start_time": "2024-06-09T09:54:13.153Z"
   },
   {
    "duration": 200,
    "start_time": "2024-06-09T09:54:18.570Z"
   },
   {
    "duration": 123,
    "start_time": "2024-06-09T09:54:38.824Z"
   },
   {
    "duration": 22,
    "start_time": "2024-06-09T09:58:12.012Z"
   },
   {
    "duration": 8,
    "start_time": "2024-06-09T10:30:25.095Z"
   },
   {
    "duration": 7,
    "start_time": "2024-06-09T10:35:24.832Z"
   },
   {
    "duration": 106,
    "start_time": "2024-06-09T10:35:26.865Z"
   },
   {
    "duration": 8,
    "start_time": "2024-06-09T10:36:00.173Z"
   },
   {
    "duration": 101,
    "start_time": "2024-06-09T10:36:02.679Z"
   },
   {
    "duration": 8,
    "start_time": "2024-06-09T10:36:30.243Z"
   },
   {
    "duration": 98,
    "start_time": "2024-06-09T10:36:32.260Z"
   },
   {
    "duration": 9,
    "start_time": "2024-06-09T10:36:55.037Z"
   },
   {
    "duration": 98,
    "start_time": "2024-06-09T10:36:58.146Z"
   },
   {
    "duration": 7,
    "start_time": "2024-06-09T10:37:08.232Z"
   },
   {
    "duration": 103,
    "start_time": "2024-06-09T10:37:10.594Z"
   },
   {
    "duration": 152,
    "start_time": "2024-06-09T10:37:16.236Z"
   },
   {
    "duration": 1770,
    "start_time": "2024-06-09T10:37:53.552Z"
   },
   {
    "duration": 4,
    "start_time": "2024-06-09T10:37:55.326Z"
   },
   {
    "duration": 9,
    "start_time": "2024-06-09T10:37:55.334Z"
   },
   {
    "duration": 56,
    "start_time": "2024-06-09T10:37:55.346Z"
   },
   {
    "duration": 20,
    "start_time": "2024-06-09T10:37:55.426Z"
   },
   {
    "duration": 25,
    "start_time": "2024-06-09T10:37:55.449Z"
   },
   {
    "duration": 52,
    "start_time": "2024-06-09T10:37:55.478Z"
   },
   {
    "duration": 18,
    "start_time": "2024-06-09T10:37:55.533Z"
   },
   {
    "duration": 14,
    "start_time": "2024-06-09T10:37:55.554Z"
   },
   {
    "duration": 13,
    "start_time": "2024-06-09T10:37:55.572Z"
   },
   {
    "duration": 16,
    "start_time": "2024-06-09T10:37:55.624Z"
   },
   {
    "duration": 20,
    "start_time": "2024-06-09T10:37:55.644Z"
   },
   {
    "duration": 82,
    "start_time": "2024-06-09T10:37:55.667Z"
   },
   {
    "duration": 8,
    "start_time": "2024-06-09T10:37:55.756Z"
   },
   {
    "duration": 61,
    "start_time": "2024-06-09T10:37:55.767Z"
   },
   {
    "duration": 35,
    "start_time": "2024-06-09T10:37:55.830Z"
   },
   {
    "duration": 24,
    "start_time": "2024-06-09T10:37:55.868Z"
   },
   {
    "duration": 40,
    "start_time": "2024-06-09T10:37:55.895Z"
   },
   {
    "duration": 20,
    "start_time": "2024-06-09T10:37:55.938Z"
   },
   {
    "duration": 21,
    "start_time": "2024-06-09T10:37:55.961Z"
   },
   {
    "duration": 5,
    "start_time": "2024-06-09T10:37:59.669Z"
   },
   {
    "duration": 195,
    "start_time": "2024-06-09T10:38:02.266Z"
   },
   {
    "duration": 11,
    "start_time": "2024-06-09T10:38:26.763Z"
   },
   {
    "duration": 109,
    "start_time": "2024-06-09T10:38:29.295Z"
   },
   {
    "duration": 36,
    "start_time": "2024-06-09T10:39:44.207Z"
   },
   {
    "duration": 123,
    "start_time": "2024-06-09T10:41:23.586Z"
   },
   {
    "duration": 128,
    "start_time": "2024-06-09T10:42:08.066Z"
   },
   {
    "duration": 143,
    "start_time": "2024-06-09T10:42:29.821Z"
   },
   {
    "duration": 136,
    "start_time": "2024-06-09T10:42:37.164Z"
   },
   {
    "duration": 138,
    "start_time": "2024-06-09T10:47:41.395Z"
   },
   {
    "duration": 873,
    "start_time": "2024-06-09T10:52:40.426Z"
   },
   {
    "duration": 23930,
    "start_time": "2024-06-09T10:53:13.255Z"
   },
   {
    "duration": 51522,
    "start_time": "2024-06-09T10:55:43.273Z"
   },
   {
    "duration": 10,
    "start_time": "2024-06-09T10:57:27.936Z"
   },
   {
    "duration": 10,
    "start_time": "2024-06-09T10:57:54.594Z"
   },
   {
    "duration": 45886,
    "start_time": "2024-06-09T10:58:51.891Z"
   },
   {
    "duration": 8,
    "start_time": "2024-06-09T11:02:19.353Z"
   },
   {
    "duration": 128,
    "start_time": "2024-06-09T11:02:22.014Z"
   },
   {
    "duration": 1759,
    "start_time": "2024-06-09T11:02:42.187Z"
   },
   {
    "duration": 4,
    "start_time": "2024-06-09T11:02:43.949Z"
   },
   {
    "duration": 9,
    "start_time": "2024-06-09T11:02:43.956Z"
   },
   {
    "duration": 75,
    "start_time": "2024-06-09T11:02:43.967Z"
   },
   {
    "duration": 20,
    "start_time": "2024-06-09T11:02:44.046Z"
   },
   {
    "duration": 27,
    "start_time": "2024-06-09T11:02:44.069Z"
   },
   {
    "duration": 17,
    "start_time": "2024-06-09T11:02:44.124Z"
   },
   {
    "duration": 17,
    "start_time": "2024-06-09T11:02:44.144Z"
   },
   {
    "duration": 59,
    "start_time": "2024-06-09T11:02:44.164Z"
   },
   {
    "duration": 15,
    "start_time": "2024-06-09T11:02:44.227Z"
   },
   {
    "duration": 17,
    "start_time": "2024-06-09T11:02:44.246Z"
   },
   {
    "duration": 56,
    "start_time": "2024-06-09T11:02:44.268Z"
   },
   {
    "duration": 51,
    "start_time": "2024-06-09T11:02:44.327Z"
   },
   {
    "duration": 8,
    "start_time": "2024-06-09T11:02:44.384Z"
   },
   {
    "duration": 34,
    "start_time": "2024-06-09T11:02:44.424Z"
   },
   {
    "duration": 62,
    "start_time": "2024-06-09T11:02:44.461Z"
   },
   {
    "duration": 22,
    "start_time": "2024-06-09T11:02:44.526Z"
   },
   {
    "duration": 21,
    "start_time": "2024-06-09T11:02:44.551Z"
   },
   {
    "duration": 5,
    "start_time": "2024-06-09T11:02:44.575Z"
   },
   {
    "duration": 218,
    "start_time": "2024-06-09T11:02:44.623Z"
   },
   {
    "duration": 6,
    "start_time": "2024-06-09T11:02:54.411Z"
   },
   {
    "duration": 140,
    "start_time": "2024-06-09T11:02:56.606Z"
   },
   {
    "duration": 355,
    "start_time": "2024-06-09T11:03:06.689Z"
   },
   {
    "duration": 169,
    "start_time": "2024-06-09T11:03:41.853Z"
   },
   {
    "duration": 13,
    "start_time": "2024-06-09T11:05:50.304Z"
   },
   {
    "duration": 511,
    "start_time": "2024-06-09T11:06:52.144Z"
   },
   {
    "duration": 290,
    "start_time": "2024-06-09T11:07:50.637Z"
   },
   {
    "duration": 444,
    "start_time": "2024-06-09T11:09:08.474Z"
   },
   {
    "duration": 457,
    "start_time": "2024-06-09T11:09:33.851Z"
   },
   {
    "duration": 434,
    "start_time": "2024-06-09T11:11:12.640Z"
   },
   {
    "duration": 415,
    "start_time": "2024-06-09T11:15:54.055Z"
   },
   {
    "duration": 20,
    "start_time": "2024-06-09T11:16:08.493Z"
   },
   {
    "duration": 24,
    "start_time": "2024-06-09T11:16:47.481Z"
   },
   {
    "duration": 454,
    "start_time": "2024-06-09T11:17:38.672Z"
   },
   {
    "duration": 7,
    "start_time": "2024-06-09T11:18:00.141Z"
   },
   {
    "duration": 27,
    "start_time": "2024-06-09T11:18:14.665Z"
   },
   {
    "duration": 35,
    "start_time": "2024-06-09T11:20:03.765Z"
   },
   {
    "duration": 24,
    "start_time": "2024-06-09T11:20:15.477Z"
   },
   {
    "duration": 23,
    "start_time": "2024-06-09T11:20:33.277Z"
   },
   {
    "duration": 32,
    "start_time": "2024-06-09T11:24:44.112Z"
   },
   {
    "duration": 20,
    "start_time": "2024-06-09T11:24:52.749Z"
   },
   {
    "duration": 14,
    "start_time": "2024-06-09T11:24:59.289Z"
   },
   {
    "duration": 8,
    "start_time": "2024-06-09T11:26:02.252Z"
   },
   {
    "duration": 8,
    "start_time": "2024-06-09T11:26:17.281Z"
   },
   {
    "duration": 27,
    "start_time": "2024-06-09T11:29:59.107Z"
   },
   {
    "duration": 26,
    "start_time": "2024-06-09T11:30:12.976Z"
   },
   {
    "duration": 17,
    "start_time": "2024-06-09T11:30:29.665Z"
   },
   {
    "duration": 5,
    "start_time": "2024-06-09T11:31:52.601Z"
   },
   {
    "duration": 8,
    "start_time": "2024-06-09T11:32:02.186Z"
   },
   {
    "duration": 14,
    "start_time": "2024-06-09T11:32:08.685Z"
   },
   {
    "duration": 7,
    "start_time": "2024-06-09T11:32:15.735Z"
   },
   {
    "duration": 20,
    "start_time": "2024-06-09T11:33:53.120Z"
   },
   {
    "duration": 36,
    "start_time": "2024-06-09T11:34:05.107Z"
   },
   {
    "duration": 575,
    "start_time": "2024-06-09T11:40:12.763Z"
   },
   {
    "duration": 9,
    "start_time": "2024-06-09T11:40:51.875Z"
   },
   {
    "duration": 719,
    "start_time": "2024-06-09T11:41:52.846Z"
   },
   {
    "duration": 210,
    "start_time": "2024-06-09T11:44:12.673Z"
   },
   {
    "duration": 222,
    "start_time": "2024-06-09T11:44:53.724Z"
   },
   {
    "duration": 223,
    "start_time": "2024-06-09T11:45:01.744Z"
   },
   {
    "duration": 223,
    "start_time": "2024-06-09T11:45:09.075Z"
   },
   {
    "duration": 211,
    "start_time": "2024-06-09T11:46:14.166Z"
   },
   {
    "duration": 103,
    "start_time": "2024-06-09T11:47:23.106Z"
   },
   {
    "duration": 221,
    "start_time": "2024-06-09T11:48:22.720Z"
   },
   {
    "duration": 9,
    "start_time": "2024-06-09T11:50:22.840Z"
   },
   {
    "duration": 1793,
    "start_time": "2024-06-09T11:50:52.180Z"
   },
   {
    "duration": 3,
    "start_time": "2024-06-09T11:50:53.977Z"
   },
   {
    "duration": 9,
    "start_time": "2024-06-09T11:50:53.984Z"
   },
   {
    "duration": 76,
    "start_time": "2024-06-09T11:50:53.995Z"
   },
   {
    "duration": 21,
    "start_time": "2024-06-09T11:50:54.076Z"
   },
   {
    "duration": 54,
    "start_time": "2024-06-09T11:50:54.100Z"
   },
   {
    "duration": 18,
    "start_time": "2024-06-09T11:50:54.157Z"
   },
   {
    "duration": 46,
    "start_time": "2024-06-09T11:50:54.178Z"
   },
   {
    "duration": 15,
    "start_time": "2024-06-09T11:50:54.227Z"
   },
   {
    "duration": 12,
    "start_time": "2024-06-09T11:50:54.245Z"
   },
   {
    "duration": 15,
    "start_time": "2024-06-09T11:50:54.262Z"
   },
   {
    "duration": 60,
    "start_time": "2024-06-09T11:50:54.280Z"
   },
   {
    "duration": 43,
    "start_time": "2024-06-09T11:50:54.344Z"
   },
   {
    "duration": 8,
    "start_time": "2024-06-09T11:50:54.427Z"
   },
   {
    "duration": 36,
    "start_time": "2024-06-09T11:50:54.439Z"
   },
   {
    "duration": 67,
    "start_time": "2024-06-09T11:50:54.479Z"
   },
   {
    "duration": 25,
    "start_time": "2024-06-09T11:50:54.550Z"
   },
   {
    "duration": 46,
    "start_time": "2024-06-09T11:50:54.579Z"
   },
   {
    "duration": 22,
    "start_time": "2024-06-09T11:50:54.628Z"
   },
   {
    "duration": 5,
    "start_time": "2024-06-09T11:50:54.654Z"
   },
   {
    "duration": 255,
    "start_time": "2024-06-09T11:50:54.663Z"
   },
   {
    "duration": 9,
    "start_time": "2024-06-09T11:50:54.925Z"
   },
   {
    "duration": 178,
    "start_time": "2024-06-09T11:50:54.938Z"
   },
   {
    "duration": 13,
    "start_time": "2024-06-09T11:50:55.124Z"
   },
   {
    "duration": 529,
    "start_time": "2024-06-09T11:50:55.140Z"
   },
   {
    "duration": 23,
    "start_time": "2024-06-09T11:50:55.673Z"
   },
   {
    "duration": 40,
    "start_time": "2024-06-09T11:50:55.700Z"
   },
   {
    "duration": 242,
    "start_time": "2024-06-09T11:50:55.745Z"
   },
   {
    "duration": 8,
    "start_time": "2024-06-09T11:50:55.991Z"
   },
   {
    "duration": 9,
    "start_time": "2024-06-09T11:51:12.458Z"
   },
   {
    "duration": 226,
    "start_time": "2024-06-09T11:51:17.844Z"
   },
   {
    "duration": 1034,
    "start_time": "2024-06-09T11:51:59.935Z"
   },
   {
    "duration": 5,
    "start_time": "2024-06-09T11:52:26.936Z"
   },
   {
    "duration": 9,
    "start_time": "2024-06-09T11:52:34.770Z"
   },
   {
    "duration": 105,
    "start_time": "2024-06-09T11:52:45.306Z"
   },
   {
    "duration": 128,
    "start_time": "2024-06-09T11:54:29.656Z"
   },
   {
    "duration": 339,
    "start_time": "2024-06-09T11:55:51.707Z"
   },
   {
    "duration": 232,
    "start_time": "2024-06-09T11:56:17.557Z"
   },
   {
    "duration": 206,
    "start_time": "2024-06-09T11:56:28.011Z"
   },
   {
    "duration": 211,
    "start_time": "2024-06-09T11:56:37.216Z"
   },
   {
    "duration": 233,
    "start_time": "2024-06-09T11:58:42.318Z"
   },
   {
    "duration": 229,
    "start_time": "2024-06-09T11:59:22.171Z"
   },
   {
    "duration": 247,
    "start_time": "2024-06-09T12:00:20.812Z"
   },
   {
    "duration": 247,
    "start_time": "2024-06-09T12:00:33.734Z"
   },
   {
    "duration": 267,
    "start_time": "2024-06-09T12:02:24.184Z"
   },
   {
    "duration": 306,
    "start_time": "2024-06-09T12:02:49.695Z"
   },
   {
    "duration": 210,
    "start_time": "2024-06-09T12:03:14.107Z"
   },
   {
    "duration": 228,
    "start_time": "2024-06-09T12:03:22.281Z"
   },
   {
    "duration": 238,
    "start_time": "2024-06-09T12:03:27.612Z"
   },
   {
    "duration": 235,
    "start_time": "2024-06-09T12:03:43.174Z"
   },
   {
    "duration": 240,
    "start_time": "2024-06-09T12:04:28.806Z"
   },
   {
    "duration": 239,
    "start_time": "2024-06-09T12:04:40.565Z"
   },
   {
    "duration": 256,
    "start_time": "2024-06-09T12:04:50.432Z"
   },
   {
    "duration": 243,
    "start_time": "2024-06-09T12:05:04.812Z"
   },
   {
    "duration": 244,
    "start_time": "2024-06-09T12:05:14.650Z"
   },
   {
    "duration": 376,
    "start_time": "2024-06-09T12:05:27.998Z"
   },
   {
    "duration": 241,
    "start_time": "2024-06-09T12:05:43.988Z"
   },
   {
    "duration": 249,
    "start_time": "2024-06-09T12:07:00.359Z"
   },
   {
    "duration": 1780,
    "start_time": "2024-06-09T12:07:35.555Z"
   },
   {
    "duration": 4,
    "start_time": "2024-06-09T12:07:37.340Z"
   },
   {
    "duration": 10,
    "start_time": "2024-06-09T12:07:37.347Z"
   },
   {
    "duration": 82,
    "start_time": "2024-06-09T12:07:37.361Z"
   },
   {
    "duration": 18,
    "start_time": "2024-06-09T12:07:37.448Z"
   },
   {
    "duration": 24,
    "start_time": "2024-06-09T12:07:37.469Z"
   },
   {
    "duration": 19,
    "start_time": "2024-06-09T12:07:37.524Z"
   },
   {
    "duration": 18,
    "start_time": "2024-06-09T12:07:37.547Z"
   },
   {
    "duration": 14,
    "start_time": "2024-06-09T12:07:37.568Z"
   },
   {
    "duration": 13,
    "start_time": "2024-06-09T12:07:37.624Z"
   },
   {
    "duration": 16,
    "start_time": "2024-06-09T12:07:37.642Z"
   },
   {
    "duration": 62,
    "start_time": "2024-06-09T12:07:37.661Z"
   },
   {
    "duration": 45,
    "start_time": "2024-06-09T12:07:37.726Z"
   },
   {
    "duration": 9,
    "start_time": "2024-06-09T12:07:37.777Z"
   },
   {
    "duration": 34,
    "start_time": "2024-06-09T12:07:37.822Z"
   },
   {
    "duration": 37,
    "start_time": "2024-06-09T12:07:37.859Z"
   },
   {
    "duration": 45,
    "start_time": "2024-06-09T12:07:37.900Z"
   },
   {
    "duration": 16,
    "start_time": "2024-06-09T12:07:37.948Z"
   },
   {
    "duration": 64,
    "start_time": "2024-06-09T12:07:37.967Z"
   },
   {
    "duration": 6,
    "start_time": "2024-06-09T12:07:38.033Z"
   },
   {
    "duration": 220,
    "start_time": "2024-06-09T12:07:38.042Z"
   },
   {
    "duration": 8,
    "start_time": "2024-06-09T12:07:38.266Z"
   },
   {
    "duration": 177,
    "start_time": "2024-06-09T12:07:38.278Z"
   },
   {
    "duration": 14,
    "start_time": "2024-06-09T12:07:38.458Z"
   },
   {
    "duration": 480,
    "start_time": "2024-06-09T12:07:38.476Z"
   },
   {
    "duration": 19,
    "start_time": "2024-06-09T12:07:38.959Z"
   },
   {
    "duration": 15,
    "start_time": "2024-06-09T12:07:38.981Z"
   },
   {
    "duration": 182,
    "start_time": "2024-06-09T12:07:39.024Z"
   },
   {
    "duration": 18,
    "start_time": "2024-06-09T12:07:39.209Z"
   },
   {
    "duration": 5,
    "start_time": "2024-06-09T12:08:02.893Z"
   },
   {
    "duration": 241,
    "start_time": "2024-06-09T12:08:07.021Z"
   },
   {
    "duration": 8,
    "start_time": "2024-06-09T12:08:25.338Z"
   },
   {
    "duration": 295,
    "start_time": "2024-06-09T12:11:13.628Z"
   },
   {
    "duration": 237,
    "start_time": "2024-06-09T12:11:56.050Z"
   },
   {
    "duration": 344,
    "start_time": "2024-06-09T12:12:02.745Z"
   },
   {
    "duration": 247,
    "start_time": "2024-06-09T12:12:07.884Z"
   },
   {
    "duration": 7,
    "start_time": "2024-06-09T12:12:16.795Z"
   },
   {
    "duration": 267,
    "start_time": "2024-06-09T12:12:50.223Z"
   },
   {
    "duration": 321,
    "start_time": "2024-06-09T12:14:03.161Z"
   },
   {
    "duration": 283,
    "start_time": "2024-06-09T12:14:17.360Z"
   },
   {
    "duration": 280,
    "start_time": "2024-06-09T12:14:38.463Z"
   },
   {
    "duration": 337,
    "start_time": "2024-06-09T12:16:18.835Z"
   },
   {
    "duration": 238,
    "start_time": "2024-06-09T12:19:02.677Z"
   },
   {
    "duration": 259,
    "start_time": "2024-06-09T12:19:15.067Z"
   },
   {
    "duration": 143,
    "start_time": "2024-06-09T12:21:01.079Z"
   },
   {
    "duration": 443,
    "start_time": "2024-06-09T12:22:03.660Z"
   },
   {
    "duration": 509,
    "start_time": "2024-06-09T12:22:58.825Z"
   },
   {
    "duration": 8,
    "start_time": "2024-06-09T12:24:28.385Z"
   },
   {
    "duration": 182,
    "start_time": "2024-06-09T12:24:31.952Z"
   },
   {
    "duration": 1799,
    "start_time": "2024-06-09T12:24:44.564Z"
   },
   {
    "duration": 4,
    "start_time": "2024-06-09T12:24:46.367Z"
   },
   {
    "duration": 10,
    "start_time": "2024-06-09T12:24:46.374Z"
   },
   {
    "duration": 81,
    "start_time": "2024-06-09T12:24:46.387Z"
   },
   {
    "duration": 23,
    "start_time": "2024-06-09T12:24:46.473Z"
   },
   {
    "duration": 43,
    "start_time": "2024-06-09T12:24:46.499Z"
   },
   {
    "duration": 18,
    "start_time": "2024-06-09T12:24:46.545Z"
   },
   {
    "duration": 19,
    "start_time": "2024-06-09T12:24:46.566Z"
   },
   {
    "duration": 54,
    "start_time": "2024-06-09T12:24:46.588Z"
   },
   {
    "duration": 20,
    "start_time": "2024-06-09T12:24:46.645Z"
   },
   {
    "duration": 47,
    "start_time": "2024-06-09T12:24:46.675Z"
   },
   {
    "duration": 23,
    "start_time": "2024-06-09T12:24:46.727Z"
   },
   {
    "duration": 73,
    "start_time": "2024-06-09T12:24:46.754Z"
   },
   {
    "duration": 10,
    "start_time": "2024-06-09T12:24:46.834Z"
   },
   {
    "duration": 35,
    "start_time": "2024-06-09T12:24:46.847Z"
   },
   {
    "duration": 71,
    "start_time": "2024-06-09T12:24:46.886Z"
   },
   {
    "duration": 28,
    "start_time": "2024-06-09T12:24:46.960Z"
   },
   {
    "duration": 41,
    "start_time": "2024-06-09T12:24:46.994Z"
   },
   {
    "duration": 28,
    "start_time": "2024-06-09T12:24:47.038Z"
   },
   {
    "duration": 5,
    "start_time": "2024-06-09T12:24:47.069Z"
   },
   {
    "duration": 263,
    "start_time": "2024-06-09T12:24:47.078Z"
   },
   {
    "duration": 8,
    "start_time": "2024-06-09T12:24:55.173Z"
   },
   {
    "duration": 160,
    "start_time": "2024-06-09T12:24:57.868Z"
   },
   {
    "duration": 13,
    "start_time": "2024-06-09T12:25:08.371Z"
   },
   {
    "duration": 425,
    "start_time": "2024-06-09T12:25:11.954Z"
   },
   {
    "duration": 23,
    "start_time": "2024-06-09T12:25:22.947Z"
   },
   {
    "duration": 16,
    "start_time": "2024-06-09T12:25:25.480Z"
   },
   {
    "duration": 182,
    "start_time": "2024-06-09T12:25:35.948Z"
   },
   {
    "duration": 9,
    "start_time": "2024-06-09T12:25:46.014Z"
   },
   {
    "duration": 9,
    "start_time": "2024-06-09T12:25:48.568Z"
   },
   {
    "duration": 13,
    "start_time": "2024-06-09T12:25:50.677Z"
   },
   {
    "duration": 297,
    "start_time": "2024-06-09T12:25:56.291Z"
   },
   {
    "duration": 344,
    "start_time": "2024-06-09T12:26:24.407Z"
   },
   {
    "duration": 9,
    "start_time": "2024-06-09T12:38:15.951Z"
   },
   {
    "duration": 129,
    "start_time": "2024-06-09T12:38:35.473Z"
   },
   {
    "duration": 187,
    "start_time": "2024-06-09T12:38:50.627Z"
   },
   {
    "duration": 282,
    "start_time": "2024-06-09T12:39:37.840Z"
   },
   {
    "duration": 104668,
    "start_time": "2024-06-09T12:41:45.345Z"
   },
   {
    "duration": 392,
    "start_time": "2024-06-09T12:44:21.514Z"
   },
   {
    "duration": 668,
    "start_time": "2024-06-09T12:44:36.186Z"
   },
   {
    "duration": 7,
    "start_time": "2024-06-09T12:46:08.300Z"
   },
   {
    "duration": 279,
    "start_time": "2024-06-09T12:46:34.065Z"
   },
   {
    "duration": 261,
    "start_time": "2024-06-09T12:46:58.694Z"
   },
   {
    "duration": 216,
    "start_time": "2024-06-09T12:47:12.929Z"
   },
   {
    "duration": 232,
    "start_time": "2024-06-09T12:47:28.518Z"
   },
   {
    "duration": 227,
    "start_time": "2024-06-09T12:48:13.857Z"
   },
   {
    "duration": 251,
    "start_time": "2024-06-09T12:49:54.624Z"
   },
   {
    "duration": 663,
    "start_time": "2024-06-09T12:50:37.609Z"
   },
   {
    "duration": 232,
    "start_time": "2024-06-09T12:50:52.357Z"
   },
   {
    "duration": 201,
    "start_time": "2024-06-09T12:51:02.554Z"
   },
   {
    "duration": 351,
    "start_time": "2024-06-09T12:51:14.147Z"
   },
   {
    "duration": 668,
    "start_time": "2024-06-09T12:52:26.607Z"
   },
   {
    "duration": 737,
    "start_time": "2024-06-09T12:52:49.620Z"
   },
   {
    "duration": 697,
    "start_time": "2024-06-09T12:53:01.172Z"
   },
   {
    "duration": 677,
    "start_time": "2024-06-09T12:53:15.675Z"
   },
   {
    "duration": 339,
    "start_time": "2024-06-09T12:55:09.802Z"
   },
   {
    "duration": 120,
    "start_time": "2024-06-09T12:57:12.298Z"
   },
   {
    "duration": 664,
    "start_time": "2024-06-09T12:58:18.284Z"
   },
   {
    "duration": 529,
    "start_time": "2024-06-09T12:58:53.336Z"
   },
   {
    "duration": 19,
    "start_time": "2024-06-09T13:06:44.001Z"
   },
   {
    "duration": 188,
    "start_time": "2024-06-09T13:12:40.236Z"
   },
   {
    "duration": 6,
    "start_time": "2024-06-09T13:13:06.058Z"
   },
   {
    "duration": 910,
    "start_time": "2024-06-09T13:14:19.743Z"
   },
   {
    "duration": 304,
    "start_time": "2024-06-09T13:49:30.818Z"
   },
   {
    "duration": 32,
    "start_time": "2024-06-09T13:53:03.329Z"
   },
   {
    "duration": 10,
    "start_time": "2024-06-09T13:53:37.080Z"
   },
   {
    "duration": 9,
    "start_time": "2024-06-09T13:53:54.877Z"
   },
   {
    "duration": 13,
    "start_time": "2024-06-09T13:55:17.843Z"
   },
   {
    "duration": 13,
    "start_time": "2024-06-09T13:56:21.126Z"
   },
   {
    "duration": 10,
    "start_time": "2024-06-09T13:56:28.542Z"
   },
   {
    "duration": 9,
    "start_time": "2024-06-09T13:56:49.086Z"
   },
   {
    "duration": 9,
    "start_time": "2024-06-09T13:58:28.076Z"
   },
   {
    "duration": 34,
    "start_time": "2024-06-09T13:59:39.308Z"
   },
   {
    "duration": 8,
    "start_time": "2024-06-09T14:02:39.655Z"
   },
   {
    "duration": 162,
    "start_time": "2024-06-09T14:02:53.237Z"
   },
   {
    "duration": 119,
    "start_time": "2024-06-09T14:03:19.241Z"
   },
   {
    "duration": 6,
    "start_time": "2024-06-09T14:03:57.405Z"
   },
   {
    "duration": 9,
    "start_time": "2024-06-09T14:05:17.274Z"
   },
   {
    "duration": 218,
    "start_time": "2024-06-09T14:15:49.250Z"
   },
   {
    "duration": 176,
    "start_time": "2024-06-09T14:18:35.433Z"
   },
   {
    "duration": 11,
    "start_time": "2024-06-09T14:19:14.952Z"
   },
   {
    "duration": 15,
    "start_time": "2024-06-09T14:23:49.688Z"
   },
   {
    "duration": 349,
    "start_time": "2024-06-09T14:26:16.937Z"
   },
   {
    "duration": 184,
    "start_time": "2024-06-09T14:26:53.280Z"
   },
   {
    "duration": 312,
    "start_time": "2024-06-09T14:27:58.346Z"
   },
   {
    "duration": 318,
    "start_time": "2024-06-09T14:28:23.768Z"
   },
   {
    "duration": 309,
    "start_time": "2024-06-09T14:28:32.754Z"
   },
   {
    "duration": 279,
    "start_time": "2024-06-09T14:28:42.416Z"
   },
   {
    "duration": 316,
    "start_time": "2024-06-09T14:28:50.279Z"
   },
   {
    "duration": 270,
    "start_time": "2024-06-09T14:28:58.623Z"
   },
   {
    "duration": 276,
    "start_time": "2024-06-09T14:29:07.609Z"
   },
   {
    "duration": 175,
    "start_time": "2024-06-09T14:29:17.308Z"
   },
   {
    "duration": 15,
    "start_time": "2024-06-09T14:35:47.689Z"
   },
   {
    "duration": 15,
    "start_time": "2024-06-09T14:36:07.871Z"
   },
   {
    "duration": 17,
    "start_time": "2024-06-09T14:36:22.144Z"
   },
   {
    "duration": 448,
    "start_time": "2024-06-09T14:36:42.023Z"
   },
   {
    "duration": 265,
    "start_time": "2024-06-09T14:37:46.564Z"
   },
   {
    "duration": 451,
    "start_time": "2024-06-09T14:38:19.141Z"
   },
   {
    "duration": 240,
    "start_time": "2024-06-09T14:38:36.334Z"
   },
   {
    "duration": 280,
    "start_time": "2024-06-09T14:40:10.018Z"
   },
   {
    "duration": 268,
    "start_time": "2024-06-09T14:47:30.565Z"
   },
   {
    "duration": 11,
    "start_time": "2024-06-09T14:48:08.985Z"
   },
   {
    "duration": 251,
    "start_time": "2024-06-09T14:48:20.004Z"
   },
   {
    "duration": 27,
    "start_time": "2024-06-09T15:05:56.915Z"
   },
   {
    "duration": 557,
    "start_time": "2024-06-09T15:06:30.600Z"
   },
   {
    "duration": 7,
    "start_time": "2024-06-09T16:44:34.246Z"
   },
   {
    "duration": 26,
    "start_time": "2024-06-09T16:45:07.853Z"
   },
   {
    "duration": 45,
    "start_time": "2024-06-09T16:45:17.317Z"
   },
   {
    "duration": 410,
    "start_time": "2024-06-09T16:47:57.959Z"
   },
   {
    "duration": 340,
    "start_time": "2024-06-09T16:49:34.660Z"
   },
   {
    "duration": 36,
    "start_time": "2024-06-09T16:50:00.842Z"
   },
   {
    "duration": 7,
    "start_time": "2024-06-09T16:51:13.162Z"
   },
   {
    "duration": 39,
    "start_time": "2024-06-09T16:51:46.241Z"
   },
   {
    "duration": 12,
    "start_time": "2024-06-09T16:54:30.575Z"
   },
   {
    "duration": 9,
    "start_time": "2024-06-09T16:54:56.145Z"
   },
   {
    "duration": 25,
    "start_time": "2024-06-09T16:55:14.383Z"
   },
   {
    "duration": 16,
    "start_time": "2024-06-09T16:55:40.033Z"
   },
   {
    "duration": 13,
    "start_time": "2024-06-09T16:57:58.305Z"
   },
   {
    "duration": 87,
    "start_time": "2024-06-09T17:00:56.711Z"
   },
   {
    "duration": 12,
    "start_time": "2024-06-09T17:01:03.839Z"
   },
   {
    "duration": 82,
    "start_time": "2024-06-09T17:01:30.349Z"
   },
   {
    "duration": 12,
    "start_time": "2024-06-09T17:01:35.819Z"
   },
   {
    "duration": 8,
    "start_time": "2024-06-09T17:01:56.098Z"
   },
   {
    "duration": 8,
    "start_time": "2024-06-09T17:02:12.028Z"
   },
   {
    "duration": 8,
    "start_time": "2024-06-09T17:02:36.727Z"
   },
   {
    "duration": 11,
    "start_time": "2024-06-09T17:03:04.991Z"
   },
   {
    "duration": 16,
    "start_time": "2024-06-09T17:03:45.370Z"
   },
   {
    "duration": 5,
    "start_time": "2024-06-09T17:03:57.035Z"
   },
   {
    "duration": 18,
    "start_time": "2024-06-09T17:04:23.614Z"
   },
   {
    "duration": 12,
    "start_time": "2024-06-09T17:05:30.675Z"
   },
   {
    "duration": 13,
    "start_time": "2024-06-09T17:05:45.849Z"
   },
   {
    "duration": 13,
    "start_time": "2024-06-09T17:08:32.159Z"
   },
   {
    "duration": 12,
    "start_time": "2024-06-09T17:09:02.492Z"
   },
   {
    "duration": 17,
    "start_time": "2024-06-09T17:09:20.028Z"
   },
   {
    "duration": 6,
    "start_time": "2024-06-09T17:12:53.736Z"
   },
   {
    "duration": 8,
    "start_time": "2024-06-09T17:14:30.550Z"
   },
   {
    "duration": 20,
    "start_time": "2024-06-09T17:14:54.738Z"
   },
   {
    "duration": 16,
    "start_time": "2024-06-09T17:15:25.816Z"
   },
   {
    "duration": 7,
    "start_time": "2024-06-09T17:18:08.142Z"
   },
   {
    "duration": 9,
    "start_time": "2024-06-09T17:24:26.791Z"
   },
   {
    "duration": 11,
    "start_time": "2024-06-09T17:25:22.360Z"
   },
   {
    "duration": 6,
    "start_time": "2024-06-09T17:25:36.314Z"
   },
   {
    "duration": 11,
    "start_time": "2024-06-09T17:25:56.824Z"
   },
   {
    "duration": 7,
    "start_time": "2024-06-09T17:27:06.776Z"
   },
   {
    "duration": 95,
    "start_time": "2024-06-09T17:27:51.114Z"
   },
   {
    "duration": 13,
    "start_time": "2024-06-09T17:28:48.471Z"
   },
   {
    "duration": 11,
    "start_time": "2024-06-09T17:29:22.724Z"
   },
   {
    "duration": 7,
    "start_time": "2024-06-09T17:29:54.645Z"
   },
   {
    "duration": 12,
    "start_time": "2024-06-09T17:30:02.944Z"
   },
   {
    "duration": 8,
    "start_time": "2024-06-09T17:30:49.214Z"
   },
   {
    "duration": 8,
    "start_time": "2024-06-09T17:36:36.446Z"
   },
   {
    "duration": 24,
    "start_time": "2024-06-09T17:39:09.480Z"
   },
   {
    "duration": 36,
    "start_time": "2024-06-09T17:39:26.338Z"
   },
   {
    "duration": 34,
    "start_time": "2024-06-09T17:39:29.086Z"
   },
   {
    "duration": 22,
    "start_time": "2024-06-09T17:39:33.612Z"
   },
   {
    "duration": 15,
    "start_time": "2024-06-09T17:39:41.911Z"
   },
   {
    "duration": 20,
    "start_time": "2024-06-09T17:39:51.786Z"
   },
   {
    "duration": 25,
    "start_time": "2024-06-09T17:47:10.609Z"
   },
   {
    "duration": 23,
    "start_time": "2024-06-09T17:47:22.498Z"
   },
   {
    "duration": 34,
    "start_time": "2024-06-09T17:47:29.207Z"
   },
   {
    "duration": 6,
    "start_time": "2024-06-09T17:49:30.525Z"
   },
   {
    "duration": 180,
    "start_time": "2024-06-09T17:49:32.943Z"
   },
   {
    "duration": 8,
    "start_time": "2024-06-09T17:49:40.109Z"
   },
   {
    "duration": 138,
    "start_time": "2024-06-09T17:49:45.068Z"
   },
   {
    "duration": 12,
    "start_time": "2024-06-09T17:50:07.959Z"
   },
   {
    "duration": 13,
    "start_time": "2024-06-09T17:50:51.046Z"
   },
   {
    "duration": 421,
    "start_time": "2024-06-09T17:50:57.493Z"
   },
   {
    "duration": 16,
    "start_time": "2024-06-09T17:51:45.938Z"
   },
   {
    "duration": 17,
    "start_time": "2024-06-09T17:51:49.642Z"
   },
   {
    "duration": 170,
    "start_time": "2024-06-09T17:51:59.129Z"
   },
   {
    "duration": 7,
    "start_time": "2024-06-09T17:52:04.973Z"
   },
   {
    "duration": 9,
    "start_time": "2024-06-09T17:52:21.152Z"
   },
   {
    "duration": 231,
    "start_time": "2024-06-09T17:52:38.792Z"
   },
   {
    "duration": 241,
    "start_time": "2024-06-09T17:52:51.655Z"
   },
   {
    "duration": 128,
    "start_time": "2024-06-09T17:53:28.508Z"
   },
   {
    "duration": 270,
    "start_time": "2024-06-09T17:53:51.288Z"
   },
   {
    "duration": 5,
    "start_time": "2024-06-09T17:54:24.083Z"
   },
   {
    "duration": 7,
    "start_time": "2024-06-09T17:54:26.506Z"
   },
   {
    "duration": 9,
    "start_time": "2024-06-09T17:54:56.202Z"
   },
   {
    "duration": 134,
    "start_time": "2024-06-09T17:55:30.656Z"
   },
   {
    "duration": 9,
    "start_time": "2024-06-09T17:56:55.193Z"
   },
   {
    "duration": 9,
    "start_time": "2024-06-09T18:01:46.142Z"
   },
   {
    "duration": 9,
    "start_time": "2024-06-09T18:02:04.136Z"
   },
   {
    "duration": 8,
    "start_time": "2024-06-09T18:02:20.513Z"
   },
   {
    "duration": 120,
    "start_time": "2024-06-09T18:03:27.645Z"
   },
   {
    "duration": 15,
    "start_time": "2024-06-09T18:05:40.534Z"
   },
   {
    "duration": 742,
    "start_time": "2024-06-09T18:05:43.587Z"
   },
   {
    "duration": 257,
    "start_time": "2024-06-09T18:06:30.313Z"
   },
   {
    "duration": 263,
    "start_time": "2024-06-09T18:08:43.067Z"
   },
   {
    "duration": 263,
    "start_time": "2024-06-09T18:11:09.260Z"
   },
   {
    "duration": 126,
    "start_time": "2024-06-09T18:13:01.250Z"
   },
   {
    "duration": 358,
    "start_time": "2024-06-09T18:14:23.439Z"
   },
   {
    "duration": 200,
    "start_time": "2024-06-09T18:14:48.996Z"
   },
   {
    "duration": 98,
    "start_time": "2024-06-09T18:16:29.410Z"
   },
   {
    "duration": 206,
    "start_time": "2024-06-09T18:16:58.963Z"
   },
   {
    "duration": 9,
    "start_time": "2024-06-09T18:18:14.283Z"
   },
   {
    "duration": 89,
    "start_time": "2024-06-09T18:19:14.133Z"
   },
   {
    "duration": 16,
    "start_time": "2024-06-09T18:19:25.036Z"
   },
   {
    "duration": 9,
    "start_time": "2024-06-09T18:19:48.573Z"
   },
   {
    "duration": 37,
    "start_time": "2024-06-09T18:20:25.568Z"
   },
   {
    "duration": 37,
    "start_time": "2024-06-09T18:20:33.554Z"
   },
   {
    "duration": 27,
    "start_time": "2024-06-09T18:20:41.206Z"
   },
   {
    "duration": 15,
    "start_time": "2024-06-09T18:21:51.958Z"
   },
   {
    "duration": 7,
    "start_time": "2024-06-09T18:22:59.477Z"
   },
   {
    "duration": 8,
    "start_time": "2024-06-09T18:23:33.703Z"
   },
   {
    "duration": 130,
    "start_time": "2024-06-09T18:26:26.159Z"
   },
   {
    "duration": 142,
    "start_time": "2024-06-09T18:27:49.139Z"
   },
   {
    "duration": 153,
    "start_time": "2024-06-09T18:28:30.764Z"
   },
   {
    "duration": 135,
    "start_time": "2024-06-09T18:28:50.849Z"
   },
   {
    "duration": 135,
    "start_time": "2024-06-09T18:29:05.941Z"
   },
   {
    "duration": 133,
    "start_time": "2024-06-09T18:29:39.277Z"
   },
   {
    "duration": 131,
    "start_time": "2024-06-09T18:29:51.444Z"
   },
   {
    "duration": 128,
    "start_time": "2024-06-09T18:30:11.357Z"
   },
   {
    "duration": 125,
    "start_time": "2024-06-09T18:30:53.132Z"
   },
   {
    "duration": 138,
    "start_time": "2024-06-09T18:31:00.597Z"
   },
   {
    "duration": 129,
    "start_time": "2024-06-09T18:31:17.841Z"
   },
   {
    "duration": 127,
    "start_time": "2024-06-09T18:31:25.298Z"
   },
   {
    "duration": 133,
    "start_time": "2024-06-09T18:31:30.644Z"
   },
   {
    "duration": 125,
    "start_time": "2024-06-09T18:31:52.444Z"
   },
   {
    "duration": 132,
    "start_time": "2024-06-09T18:31:59.871Z"
   },
   {
    "duration": 128,
    "start_time": "2024-06-09T18:32:06.939Z"
   },
   {
    "duration": 158,
    "start_time": "2024-06-09T18:36:15.154Z"
   },
   {
    "duration": 170,
    "start_time": "2024-06-09T18:37:18.790Z"
   },
   {
    "duration": 146,
    "start_time": "2024-06-09T18:37:37.235Z"
   },
   {
    "duration": 158,
    "start_time": "2024-06-09T18:38:00.997Z"
   },
   {
    "duration": 136,
    "start_time": "2024-06-09T18:38:25.321Z"
   },
   {
    "duration": 372,
    "start_time": "2024-06-09T18:39:08.327Z"
   },
   {
    "duration": 364,
    "start_time": "2024-06-09T18:50:25.853Z"
   },
   {
    "duration": 101,
    "start_time": "2024-06-09T19:06:19.372Z"
   },
   {
    "duration": 13,
    "start_time": "2024-06-09T19:06:32.040Z"
   },
   {
    "duration": 14,
    "start_time": "2024-06-09T19:07:34.057Z"
   },
   {
    "duration": 421,
    "start_time": "2024-06-09T19:11:02.364Z"
   },
   {
    "duration": 357,
    "start_time": "2024-06-09T19:11:17.479Z"
   },
   {
    "duration": 405,
    "start_time": "2024-06-09T19:14:04.545Z"
   },
   {
    "duration": 321,
    "start_time": "2024-06-09T19:14:29.183Z"
   },
   {
    "duration": 10,
    "start_time": "2024-06-09T19:14:38.473Z"
   },
   {
    "duration": 9,
    "start_time": "2024-06-09T19:14:49.208Z"
   },
   {
    "duration": 10,
    "start_time": "2024-06-09T19:15:41.794Z"
   },
   {
    "duration": 384,
    "start_time": "2024-06-09T19:16:03.564Z"
   },
   {
    "duration": 368,
    "start_time": "2024-06-09T19:16:15.165Z"
   },
   {
    "duration": 368,
    "start_time": "2024-06-09T19:16:35.680Z"
   },
   {
    "duration": 1802,
    "start_time": "2024-06-09T19:18:47.063Z"
   },
   {
    "duration": 5,
    "start_time": "2024-06-09T19:18:48.870Z"
   },
   {
    "duration": 12,
    "start_time": "2024-06-09T19:18:48.879Z"
   },
   {
    "duration": 85,
    "start_time": "2024-06-09T19:18:48.894Z"
   },
   {
    "duration": 20,
    "start_time": "2024-06-09T19:18:48.984Z"
   },
   {
    "duration": 26,
    "start_time": "2024-06-09T19:18:49.022Z"
   },
   {
    "duration": 18,
    "start_time": "2024-06-09T19:18:49.051Z"
   },
   {
    "duration": 10,
    "start_time": "2024-06-09T19:18:49.072Z"
   },
   {
    "duration": 17,
    "start_time": "2024-06-09T19:18:49.124Z"
   },
   {
    "duration": 12,
    "start_time": "2024-06-09T19:18:49.145Z"
   },
   {
    "duration": 15,
    "start_time": "2024-06-09T19:18:49.160Z"
   },
   {
    "duration": 68,
    "start_time": "2024-06-09T19:18:49.178Z"
   },
   {
    "duration": 15,
    "start_time": "2024-06-09T19:18:49.250Z"
   },
   {
    "duration": 50,
    "start_time": "2024-06-09T19:18:49.274Z"
   },
   {
    "duration": 11,
    "start_time": "2024-06-09T19:18:49.328Z"
   },
   {
    "duration": 10,
    "start_time": "2024-06-09T19:18:49.345Z"
   },
   {
    "duration": 9,
    "start_time": "2024-06-09T19:18:49.360Z"
   },
   {
    "duration": 60,
    "start_time": "2024-06-09T19:18:49.373Z"
   },
   {
    "duration": 19,
    "start_time": "2024-06-09T19:18:49.436Z"
   },
   {
    "duration": 10,
    "start_time": "2024-06-09T19:18:49.458Z"
   },
   {
    "duration": 54,
    "start_time": "2024-06-09T19:18:49.471Z"
   },
   {
    "duration": 9,
    "start_time": "2024-06-09T19:18:49.528Z"
   },
   {
    "duration": 8,
    "start_time": "2024-06-09T19:18:49.540Z"
   },
   {
    "duration": 8,
    "start_time": "2024-06-09T19:18:49.552Z"
   },
   {
    "duration": 59,
    "start_time": "2024-06-09T19:18:49.564Z"
   },
   {
    "duration": 15,
    "start_time": "2024-06-09T19:18:49.626Z"
   },
   {
    "duration": 15,
    "start_time": "2024-06-09T19:18:49.645Z"
   },
   {
    "duration": 20,
    "start_time": "2024-06-09T19:18:49.663Z"
   },
   {
    "duration": 51,
    "start_time": "2024-06-09T19:18:49.686Z"
   },
   {
    "duration": 23,
    "start_time": "2024-06-09T19:18:49.744Z"
   },
   {
    "duration": 76,
    "start_time": "2024-06-09T19:18:49.770Z"
   },
   {
    "duration": 9,
    "start_time": "2024-06-09T19:18:49.849Z"
   },
   {
    "duration": 61,
    "start_time": "2024-06-09T19:18:49.862Z"
   },
   {
    "duration": 38,
    "start_time": "2024-06-09T19:18:49.925Z"
   },
   {
    "duration": 15,
    "start_time": "2024-06-09T19:18:49.966Z"
   },
   {
    "duration": 37,
    "start_time": "2024-06-09T19:18:50.024Z"
   },
   {
    "duration": 23,
    "start_time": "2024-06-09T19:18:50.064Z"
   },
   {
    "duration": 36,
    "start_time": "2024-06-09T19:18:50.090Z"
   },
   {
    "duration": 226,
    "start_time": "2024-06-09T19:18:50.130Z"
   },
   {
    "duration": 8,
    "start_time": "2024-06-09T19:18:50.360Z"
   },
   {
    "duration": 201,
    "start_time": "2024-06-09T19:18:50.381Z"
   },
   {
    "duration": 13,
    "start_time": "2024-06-09T19:18:50.586Z"
   },
   {
    "duration": 445,
    "start_time": "2024-06-09T19:18:50.626Z"
   },
   {
    "duration": 20,
    "start_time": "2024-06-09T19:18:51.074Z"
   },
   {
    "duration": 41,
    "start_time": "2024-06-09T19:18:51.097Z"
   },
   {
    "duration": 207,
    "start_time": "2024-06-09T19:18:51.143Z"
   },
   {
    "duration": 9,
    "start_time": "2024-06-09T19:18:51.354Z"
   },
   {
    "duration": 257,
    "start_time": "2024-06-09T19:18:56.428Z"
   },
   {
    "duration": 9,
    "start_time": "2024-06-09T19:19:06.550Z"
   },
   {
    "duration": 169,
    "start_time": "2024-06-09T19:19:09.617Z"
   },
   {
    "duration": 514,
    "start_time": "2024-06-09T19:19:17.270Z"
   },
   {
    "duration": 17,
    "start_time": "2024-06-09T19:19:24.633Z"
   },
   {
    "duration": 1434,
    "start_time": "2024-06-09T19:20:58.913Z"
   },
   {
    "duration": 16,
    "start_time": "2024-06-09T19:22:49.327Z"
   },
   {
    "duration": 15,
    "start_time": "2024-06-09T19:24:24.648Z"
   },
   {
    "duration": 24,
    "start_time": "2024-06-09T19:29:04.663Z"
   },
   {
    "duration": 21,
    "start_time": "2024-06-09T19:30:52.964Z"
   },
   {
    "duration": 47,
    "start_time": "2024-06-09T19:32:31.078Z"
   },
   {
    "duration": 30,
    "start_time": "2024-06-09T19:32:39.044Z"
   },
   {
    "duration": 21,
    "start_time": "2024-06-09T19:33:13.751Z"
   },
   {
    "duration": 432,
    "start_time": "2024-06-09T19:34:43.650Z"
   },
   {
    "duration": 365,
    "start_time": "2024-06-09T19:35:25.264Z"
   },
   {
    "duration": 331,
    "start_time": "2024-06-09T19:36:26.797Z"
   },
   {
    "duration": 24,
    "start_time": "2024-06-09T19:38:15.294Z"
   },
   {
    "duration": 23,
    "start_time": "2024-06-09T19:38:49.011Z"
   },
   {
    "duration": 444,
    "start_time": "2024-06-09T19:40:50.782Z"
   },
   {
    "duration": 394,
    "start_time": "2024-06-09T19:41:35.081Z"
   },
   {
    "duration": 431,
    "start_time": "2024-06-09T19:42:10.971Z"
   },
   {
    "duration": 416,
    "start_time": "2024-06-09T19:42:43.184Z"
   },
   {
    "duration": 382,
    "start_time": "2024-06-09T19:43:12.812Z"
   },
   {
    "duration": 399,
    "start_time": "2024-06-09T19:44:00.234Z"
   },
   {
    "duration": 383,
    "start_time": "2024-06-09T19:44:26.294Z"
   },
   {
    "duration": 401,
    "start_time": "2024-06-09T19:44:45.883Z"
   },
   {
    "duration": 415,
    "start_time": "2024-06-09T19:45:02.873Z"
   },
   {
    "duration": 387,
    "start_time": "2024-06-09T19:45:11.813Z"
   },
   {
    "duration": 623,
    "start_time": "2024-06-09T19:45:19.468Z"
   },
   {
    "duration": 372,
    "start_time": "2024-06-09T19:45:33.318Z"
   },
   {
    "duration": 355,
    "start_time": "2024-06-09T19:45:45.495Z"
   },
   {
    "duration": 425,
    "start_time": "2024-06-09T19:46:59.548Z"
   },
   {
    "duration": 120,
    "start_time": "2024-06-09T19:47:11.393Z"
   },
   {
    "duration": 34,
    "start_time": "2024-06-09T19:47:14.842Z"
   },
   {
    "duration": 7,
    "start_time": "2024-06-09T19:47:37.002Z"
   },
   {
    "duration": 59,
    "start_time": "2024-06-09T19:47:39.516Z"
   },
   {
    "duration": 8,
    "start_time": "2024-06-09T19:48:41.597Z"
   },
   {
    "duration": 8,
    "start_time": "2024-06-09T19:48:48.351Z"
   },
   {
    "duration": 2726,
    "start_time": "2024-06-09T19:48:51.337Z"
   },
   {
    "duration": 31,
    "start_time": "2024-06-09T19:50:21.704Z"
   },
   {
    "duration": 2540,
    "start_time": "2024-06-09T19:50:36.283Z"
   },
   {
    "duration": 2894,
    "start_time": "2024-06-09T19:51:44.429Z"
   },
   {
    "duration": 2614,
    "start_time": "2024-06-09T19:52:13.756Z"
   },
   {
    "duration": 2730,
    "start_time": "2024-06-09T19:52:34.432Z"
   },
   {
    "duration": 3256,
    "start_time": "2024-06-09T19:52:47.327Z"
   },
   {
    "duration": 2741,
    "start_time": "2024-06-09T19:53:10.891Z"
   },
   {
    "duration": 2753,
    "start_time": "2024-06-09T19:53:38.587Z"
   },
   {
    "duration": 2587,
    "start_time": "2024-06-09T19:54:02.452Z"
   },
   {
    "duration": 3018,
    "start_time": "2024-06-09T19:54:38.713Z"
   },
   {
    "duration": 2678,
    "start_time": "2024-06-09T19:55:32.579Z"
   },
   {
    "duration": 5,
    "start_time": "2024-06-09T19:55:59.577Z"
   },
   {
    "duration": 6,
    "start_time": "2024-06-09T20:35:37.884Z"
   },
   {
    "duration": 9,
    "start_time": "2024-06-09T20:35:40.280Z"
   },
   {
    "duration": 400,
    "start_time": "2024-06-09T20:44:36.378Z"
   },
   {
    "duration": 5,
    "start_time": "2024-06-09T20:51:21.790Z"
   },
   {
    "duration": 7,
    "start_time": "2024-06-09T20:54:16.507Z"
   },
   {
    "duration": 5439,
    "start_time": "2024-06-12T05:12:39.555Z"
   },
   {
    "duration": 12,
    "start_time": "2024-06-12T05:12:44.999Z"
   },
   {
    "duration": 87,
    "start_time": "2024-06-12T05:12:45.023Z"
   },
   {
    "duration": 19,
    "start_time": "2024-06-12T05:12:45.113Z"
   },
   {
    "duration": 24,
    "start_time": "2024-06-12T05:12:45.138Z"
   },
   {
    "duration": 15,
    "start_time": "2024-06-12T05:12:45.165Z"
   },
   {
    "duration": 46,
    "start_time": "2024-06-12T05:12:45.184Z"
   },
   {
    "duration": 18,
    "start_time": "2024-06-12T05:12:45.233Z"
   },
   {
    "duration": 13,
    "start_time": "2024-06-12T05:12:45.255Z"
   },
   {
    "duration": 62,
    "start_time": "2024-06-12T05:12:45.271Z"
   },
   {
    "duration": 23,
    "start_time": "2024-06-12T05:12:45.336Z"
   },
   {
    "duration": 14,
    "start_time": "2024-06-12T05:12:45.362Z"
   },
   {
    "duration": 14,
    "start_time": "2024-06-12T05:12:45.423Z"
   },
   {
    "duration": 9,
    "start_time": "2024-06-12T05:12:45.446Z"
   },
   {
    "duration": 11,
    "start_time": "2024-06-12T05:12:45.458Z"
   },
   {
    "duration": 51,
    "start_time": "2024-06-12T05:12:45.473Z"
   },
   {
    "duration": 18,
    "start_time": "2024-06-12T05:12:45.527Z"
   },
   {
    "duration": 18,
    "start_time": "2024-06-12T05:12:45.548Z"
   },
   {
    "duration": 52,
    "start_time": "2024-06-12T05:12:45.570Z"
   },
   {
    "duration": 12,
    "start_time": "2024-06-12T05:12:45.625Z"
   },
   {
    "duration": 8,
    "start_time": "2024-06-12T05:12:45.641Z"
   },
   {
    "duration": 9,
    "start_time": "2024-06-12T05:12:45.653Z"
   },
   {
    "duration": 9,
    "start_time": "2024-06-12T05:12:45.665Z"
   },
   {
    "duration": 11,
    "start_time": "2024-06-12T05:12:45.724Z"
   },
   {
    "duration": 16,
    "start_time": "2024-06-12T05:12:45.738Z"
   },
   {
    "duration": 14,
    "start_time": "2024-06-12T05:12:45.757Z"
   },
   {
    "duration": 53,
    "start_time": "2024-06-12T05:12:45.775Z"
   },
   {
    "duration": 16,
    "start_time": "2024-06-12T05:12:45.832Z"
   },
   {
    "duration": 18,
    "start_time": "2024-06-12T05:12:45.852Z"
   },
   {
    "duration": 84,
    "start_time": "2024-06-12T05:12:45.874Z"
   },
   {
    "duration": 8,
    "start_time": "2024-06-12T05:12:45.961Z"
   },
   {
    "duration": 54,
    "start_time": "2024-06-12T05:12:45.972Z"
   },
   {
    "duration": 34,
    "start_time": "2024-06-12T05:12:46.029Z"
   },
   {
    "duration": 15,
    "start_time": "2024-06-12T05:12:46.067Z"
   },
   {
    "duration": 65,
    "start_time": "2024-06-12T05:12:46.085Z"
   },
   {
    "duration": 20,
    "start_time": "2024-06-12T05:12:46.152Z"
   },
   {
    "duration": 6,
    "start_time": "2024-06-12T05:12:46.175Z"
   },
   {
    "duration": 226,
    "start_time": "2024-06-12T05:12:46.184Z"
   },
   {
    "duration": 12,
    "start_time": "2024-06-12T05:12:46.412Z"
   },
   {
    "duration": 165,
    "start_time": "2024-06-12T05:12:46.427Z"
   },
   {
    "duration": 32,
    "start_time": "2024-06-12T05:12:46.601Z"
   },
   {
    "duration": 430,
    "start_time": "2024-06-12T05:12:46.636Z"
   },
   {
    "duration": 19,
    "start_time": "2024-06-12T05:12:47.069Z"
   },
   {
    "duration": 36,
    "start_time": "2024-06-12T05:12:47.092Z"
   },
   {
    "duration": 193,
    "start_time": "2024-06-12T05:12:47.132Z"
   },
   {
    "duration": 9,
    "start_time": "2024-06-12T05:12:47.328Z"
   },
   {
    "duration": 262,
    "start_time": "2024-06-12T05:12:47.340Z"
   },
   {
    "duration": 20,
    "start_time": "2024-06-12T05:12:47.606Z"
   },
   {
    "duration": 161,
    "start_time": "2024-06-12T05:12:47.630Z"
   },
   {
    "duration": 36,
    "start_time": "2024-06-12T05:12:47.795Z"
   },
   {
    "duration": 411,
    "start_time": "2024-06-12T05:12:47.834Z"
   },
   {
    "duration": 121,
    "start_time": "2024-06-12T05:12:48.250Z"
   },
   {
    "duration": 2665,
    "start_time": "2024-06-12T05:12:48.375Z"
   },
   {
    "duration": 15,
    "start_time": "2024-06-12T14:14:35.633Z"
   },
   {
    "duration": 346,
    "start_time": "2024-06-12T14:21:30.225Z"
   },
   {
    "duration": 1818,
    "start_time": "2024-06-12T14:21:35.462Z"
   },
   {
    "duration": 11,
    "start_time": "2024-06-12T14:21:37.284Z"
   },
   {
    "duration": 84,
    "start_time": "2024-06-12T14:21:37.299Z"
   },
   {
    "duration": 35,
    "start_time": "2024-06-12T14:21:37.387Z"
   },
   {
    "duration": 25,
    "start_time": "2024-06-12T14:21:37.428Z"
   },
   {
    "duration": 15,
    "start_time": "2024-06-12T14:21:37.456Z"
   },
   {
    "duration": 9,
    "start_time": "2024-06-12T14:21:37.474Z"
   },
   {
    "duration": 18,
    "start_time": "2024-06-12T14:21:37.523Z"
   },
   {
    "duration": 13,
    "start_time": "2024-06-12T14:21:37.545Z"
   },
   {
    "duration": 61,
    "start_time": "2024-06-12T14:21:37.562Z"
   },
   {
    "duration": 23,
    "start_time": "2024-06-12T14:21:37.625Z"
   },
   {
    "duration": 13,
    "start_time": "2024-06-12T14:21:37.651Z"
   },
   {
    "duration": 9,
    "start_time": "2024-06-12T14:21:37.668Z"
   },
   {
    "duration": 9,
    "start_time": "2024-06-12T14:21:37.728Z"
   },
   {
    "duration": 13,
    "start_time": "2024-06-12T14:21:37.740Z"
   },
   {
    "duration": 10,
    "start_time": "2024-06-12T14:21:37.756Z"
   },
   {
    "duration": 59,
    "start_time": "2024-06-12T14:21:37.769Z"
   },
   {
    "duration": 18,
    "start_time": "2024-06-12T14:21:37.832Z"
   },
   {
    "duration": 11,
    "start_time": "2024-06-12T14:21:37.854Z"
   },
   {
    "duration": 53,
    "start_time": "2024-06-12T14:21:37.871Z"
   },
   {
    "duration": 9,
    "start_time": "2024-06-12T14:21:37.928Z"
   },
   {
    "duration": 8,
    "start_time": "2024-06-12T14:21:37.940Z"
   },
   {
    "duration": 10,
    "start_time": "2024-06-12T14:21:37.953Z"
   },
   {
    "duration": 57,
    "start_time": "2024-06-12T14:21:37.966Z"
   },
   {
    "duration": 14,
    "start_time": "2024-06-12T14:21:38.026Z"
   },
   {
    "duration": 13,
    "start_time": "2024-06-12T14:21:38.044Z"
   },
   {
    "duration": 9,
    "start_time": "2024-06-12T14:21:38.060Z"
   },
   {
    "duration": 59,
    "start_time": "2024-06-12T14:21:38.073Z"
   },
   {
    "duration": 20,
    "start_time": "2024-06-12T14:21:38.135Z"
   },
   {
    "duration": 74,
    "start_time": "2024-06-12T14:21:38.158Z"
   },
   {
    "duration": 9,
    "start_time": "2024-06-12T14:21:38.234Z"
   },
   {
    "duration": 32,
    "start_time": "2024-06-12T14:21:38.247Z"
   },
   {
    "duration": 68,
    "start_time": "2024-06-12T14:21:38.282Z"
   },
   {
    "duration": 17,
    "start_time": "2024-06-12T14:21:38.354Z"
   },
   {
    "duration": 63,
    "start_time": "2024-06-12T14:21:38.374Z"
   },
   {
    "duration": 21,
    "start_time": "2024-06-12T14:21:38.441Z"
   },
   {
    "duration": 5,
    "start_time": "2024-06-12T14:21:38.466Z"
   },
   {
    "duration": 249,
    "start_time": "2024-06-12T14:21:38.475Z"
   },
   {
    "duration": 7,
    "start_time": "2024-06-12T14:21:38.728Z"
   },
   {
    "duration": 174,
    "start_time": "2024-06-12T14:21:38.740Z"
   },
   {
    "duration": 11,
    "start_time": "2024-06-12T14:21:38.928Z"
   },
   {
    "duration": 448,
    "start_time": "2024-06-12T14:21:38.942Z"
   },
   {
    "duration": 36,
    "start_time": "2024-06-12T14:21:39.393Z"
   },
   {
    "duration": 17,
    "start_time": "2024-06-12T14:21:39.432Z"
   },
   {
    "duration": 250,
    "start_time": "2024-06-12T14:21:39.453Z"
   },
   {
    "duration": 21,
    "start_time": "2024-06-12T14:21:39.716Z"
   },
   {
    "duration": 352,
    "start_time": "2024-06-12T14:21:39.741Z"
   },
   {
    "duration": 9,
    "start_time": "2024-06-12T14:21:40.096Z"
   },
   {
    "duration": 147,
    "start_time": "2024-06-12T14:21:40.125Z"
   },
   {
    "duration": 25,
    "start_time": "2024-06-12T14:21:40.275Z"
   },
   {
    "duration": 362,
    "start_time": "2024-06-12T14:21:40.303Z"
   },
   {
    "duration": 142,
    "start_time": "2024-06-12T14:21:40.669Z"
   },
   {
    "duration": 2685,
    "start_time": "2024-06-12T14:21:40.822Z"
   },
   {
    "duration": 9,
    "start_time": "2024-06-12T14:21:48.701Z"
   },
   {
    "duration": 1866,
    "start_time": "2024-06-12T14:21:53.434Z"
   },
   {
    "duration": 0,
    "start_time": "2024-06-12T14:21:55.305Z"
   },
   {
    "duration": 0,
    "start_time": "2024-06-12T14:21:55.309Z"
   },
   {
    "duration": 0,
    "start_time": "2024-06-12T14:21:55.326Z"
   },
   {
    "duration": 0,
    "start_time": "2024-06-12T14:21:55.329Z"
   },
   {
    "duration": 0,
    "start_time": "2024-06-12T14:21:55.332Z"
   },
   {
    "duration": 74,
    "start_time": "2024-06-12T14:22:06.570Z"
   },
   {
    "duration": 1843,
    "start_time": "2024-06-12T14:22:17.334Z"
   },
   {
    "duration": 11,
    "start_time": "2024-06-12T14:22:19.181Z"
   },
   {
    "duration": 80,
    "start_time": "2024-06-12T14:22:19.196Z"
   },
   {
    "duration": 22,
    "start_time": "2024-06-12T14:22:19.283Z"
   },
   {
    "duration": 38,
    "start_time": "2024-06-12T14:22:19.311Z"
   },
   {
    "duration": 16,
    "start_time": "2024-06-12T14:22:19.352Z"
   },
   {
    "duration": 51,
    "start_time": "2024-06-12T14:22:19.372Z"
   },
   {
    "duration": 18,
    "start_time": "2024-06-12T14:22:19.427Z"
   },
   {
    "duration": 13,
    "start_time": "2024-06-12T14:22:19.449Z"
   },
   {
    "duration": 16,
    "start_time": "2024-06-12T14:22:19.466Z"
   },
   {
    "duration": 23,
    "start_time": "2024-06-12T14:22:19.525Z"
   },
   {
    "duration": 13,
    "start_time": "2024-06-12T14:22:19.551Z"
   },
   {
    "duration": 10,
    "start_time": "2024-06-12T14:22:19.568Z"
   },
   {
    "duration": 9,
    "start_time": "2024-06-12T14:22:19.630Z"
   },
   {
    "duration": 10,
    "start_time": "2024-06-12T14:22:19.644Z"
   },
   {
    "duration": 11,
    "start_time": "2024-06-12T14:22:19.661Z"
   },
   {
    "duration": 66,
    "start_time": "2024-06-12T14:22:19.675Z"
   },
   {
    "duration": 22,
    "start_time": "2024-06-12T14:22:19.745Z"
   },
   {
    "duration": 12,
    "start_time": "2024-06-12T14:22:19.770Z"
   },
   {
    "duration": 15,
    "start_time": "2024-06-12T14:22:19.825Z"
   },
   {
    "duration": 9,
    "start_time": "2024-06-12T14:22:19.844Z"
   },
   {
    "duration": 10,
    "start_time": "2024-06-12T14:22:19.857Z"
   },
   {
    "duration": 61,
    "start_time": "2024-06-12T14:22:19.871Z"
   },
   {
    "duration": 10,
    "start_time": "2024-06-12T14:22:19.937Z"
   },
   {
    "duration": 17,
    "start_time": "2024-06-12T14:22:19.952Z"
   },
   {
    "duration": 61,
    "start_time": "2024-06-12T14:22:19.972Z"
   },
   {
    "duration": 11,
    "start_time": "2024-06-12T14:22:20.036Z"
   },
   {
    "duration": 17,
    "start_time": "2024-06-12T14:22:20.051Z"
   },
   {
    "duration": 67,
    "start_time": "2024-06-12T14:22:20.072Z"
   },
   {
    "duration": 43,
    "start_time": "2024-06-12T14:22:20.143Z"
   },
   {
    "duration": 38,
    "start_time": "2024-06-12T14:22:20.189Z"
   },
   {
    "duration": 36,
    "start_time": "2024-06-12T14:22:20.231Z"
   },
   {
    "duration": 78,
    "start_time": "2024-06-12T14:22:20.270Z"
   },
   {
    "duration": 21,
    "start_time": "2024-06-12T14:22:20.352Z"
   },
   {
    "duration": 73,
    "start_time": "2024-06-12T14:22:20.378Z"
   },
   {
    "duration": 28,
    "start_time": "2024-06-12T14:22:20.455Z"
   },
   {
    "duration": 6,
    "start_time": "2024-06-12T14:22:20.488Z"
   },
   {
    "duration": 224,
    "start_time": "2024-06-12T14:22:20.525Z"
   },
   {
    "duration": 8,
    "start_time": "2024-06-12T14:22:20.753Z"
   },
   {
    "duration": 173,
    "start_time": "2024-06-12T14:22:20.765Z"
   },
   {
    "duration": 13,
    "start_time": "2024-06-12T14:22:20.947Z"
   },
   {
    "duration": 472,
    "start_time": "2024-06-12T14:22:20.963Z"
   },
   {
    "duration": 21,
    "start_time": "2024-06-12T14:22:21.439Z"
   },
   {
    "duration": 31,
    "start_time": "2024-06-12T14:22:21.464Z"
   },
   {
    "duration": 217,
    "start_time": "2024-06-12T14:22:21.524Z"
   },
   {
    "duration": 11,
    "start_time": "2024-06-12T14:22:21.744Z"
   },
   {
    "duration": 269,
    "start_time": "2024-06-12T14:22:21.759Z"
   },
   {
    "duration": 11,
    "start_time": "2024-06-12T14:22:22.031Z"
   },
   {
    "duration": 166,
    "start_time": "2024-06-12T14:22:22.046Z"
   },
   {
    "duration": 28,
    "start_time": "2024-06-12T14:22:22.216Z"
   },
   {
    "duration": 496,
    "start_time": "2024-06-12T14:22:22.249Z"
   },
   {
    "duration": 125,
    "start_time": "2024-06-12T14:22:22.749Z"
   },
   {
    "duration": 2603,
    "start_time": "2024-06-12T14:22:22.878Z"
   },
   {
    "duration": 13,
    "start_time": "2024-06-12T14:22:49.683Z"
   },
   {
    "duration": 21,
    "start_time": "2024-06-12T14:22:49.704Z"
   },
   {
    "duration": 91,
    "start_time": "2024-06-12T14:22:49.736Z"
   },
   {
    "duration": 12,
    "start_time": "2024-06-12T14:22:49.838Z"
   },
   {
    "duration": 72,
    "start_time": "2024-06-12T14:22:49.854Z"
   },
   {
    "duration": 575,
    "start_time": "2024-06-12T14:22:49.929Z"
   },
   {
    "duration": 7,
    "start_time": "2024-06-12T14:24:04.958Z"
   },
   {
    "duration": 7,
    "start_time": "2024-06-12T14:24:18.916Z"
   },
   {
    "duration": 34,
    "start_time": "2024-06-12T14:24:23.075Z"
   },
   {
    "duration": 45,
    "start_time": "2024-06-12T14:24:46.858Z"
   },
   {
    "duration": 5,
    "start_time": "2024-06-12T14:29:54.709Z"
   },
   {
    "duration": 6,
    "start_time": "2024-06-12T14:30:22.610Z"
   },
   {
    "duration": 6,
    "start_time": "2024-06-12T14:31:08.434Z"
   },
   {
    "duration": 7,
    "start_time": "2024-06-12T14:31:15.046Z"
   },
   {
    "duration": 29,
    "start_time": "2024-06-12T14:31:31.546Z"
   },
   {
    "duration": 27,
    "start_time": "2024-06-12T14:31:35.551Z"
   },
   {
    "duration": 6,
    "start_time": "2024-06-12T14:32:21.370Z"
   },
   {
    "duration": 6,
    "start_time": "2024-06-12T14:32:32.957Z"
   },
   {
    "duration": 4,
    "start_time": "2024-06-12T14:33:46.248Z"
   },
   {
    "duration": 5,
    "start_time": "2024-06-12T14:34:30.543Z"
   },
   {
    "duration": 3,
    "start_time": "2024-06-12T14:35:20.342Z"
   },
   {
    "duration": 31,
    "start_time": "2024-06-12T14:38:37.386Z"
   },
   {
    "duration": 7,
    "start_time": "2024-06-12T14:39:16.605Z"
   },
   {
    "duration": 7,
    "start_time": "2024-06-12T14:39:57.880Z"
   },
   {
    "duration": 57,
    "start_time": "2024-06-12T14:40:07.032Z"
   },
   {
    "duration": 6,
    "start_time": "2024-06-12T14:40:26.962Z"
   },
   {
    "duration": 57,
    "start_time": "2024-06-12T14:40:34.078Z"
   },
   {
    "duration": 35,
    "start_time": "2024-06-12T14:41:51.482Z"
   },
   {
    "duration": 55,
    "start_time": "2024-06-12T14:41:57.390Z"
   },
   {
    "duration": 41,
    "start_time": "2024-06-12T14:42:06.079Z"
   },
   {
    "duration": 7,
    "start_time": "2024-06-12T14:43:15.695Z"
   },
   {
    "duration": 149,
    "start_time": "2024-06-12T14:43:30.320Z"
   },
   {
    "duration": 7,
    "start_time": "2024-06-12T14:43:33.294Z"
   },
   {
    "duration": 49,
    "start_time": "2024-06-12T14:43:36.545Z"
   },
   {
    "duration": 44,
    "start_time": "2024-06-12T14:43:37.469Z"
   },
   {
    "duration": 12,
    "start_time": "2024-06-12T14:43:40.398Z"
   },
   {
    "duration": 5,
    "start_time": "2024-06-12T14:43:41.061Z"
   },
   {
    "duration": 5,
    "start_time": "2024-06-12T14:43:41.706Z"
   },
   {
    "duration": 1035,
    "start_time": "2024-06-12T14:43:46.693Z"
   },
   {
    "duration": 30,
    "start_time": "2024-06-12T14:44:37.968Z"
   },
   {
    "duration": 9,
    "start_time": "2024-06-12T14:47:54.461Z"
   },
   {
    "duration": 42,
    "start_time": "2024-06-12T14:48:03.997Z"
   },
   {
    "duration": 4,
    "start_time": "2024-06-12T14:50:07.047Z"
   },
   {
    "duration": 17124,
    "start_time": "2024-06-12T14:50:57.688Z"
   },
   {
    "duration": 168124,
    "start_time": "2024-06-12T14:51:14.816Z"
   },
   {
    "duration": 12376,
    "start_time": "2024-06-12T14:54:36.267Z"
   },
   {
    "duration": 83,
    "start_time": "2024-06-12T14:54:48.651Z"
   },
   {
    "duration": 1226,
    "start_time": "2024-06-12T15:00:28.832Z"
   },
   {
    "duration": 996,
    "start_time": "2024-06-12T15:01:08.144Z"
   },
   {
    "duration": 8,
    "start_time": "2024-06-12T15:12:40.389Z"
   },
   {
    "duration": 26,
    "start_time": "2024-06-12T15:12:42.485Z"
   },
   {
    "duration": 50,
    "start_time": "2024-06-12T15:12:49.870Z"
   },
   {
    "duration": 29050,
    "start_time": "2024-06-12T15:13:02.218Z"
   },
   {
    "duration": 169199,
    "start_time": "2024-06-12T15:14:21.623Z"
   },
   {
    "duration": 164242,
    "start_time": "2024-06-12T15:27:59.281Z"
   },
   {
    "duration": 164524,
    "start_time": "2024-06-12T15:32:34.584Z"
   },
   {
    "duration": 164766,
    "start_time": "2024-06-12T15:36:46.045Z"
   },
   {
    "duration": 824,
    "start_time": "2024-06-12T15:41:52.143Z"
   },
   {
    "duration": 796,
    "start_time": "2024-06-12T15:42:17.619Z"
   },
   {
    "duration": 886,
    "start_time": "2024-06-12T15:43:09.341Z"
   },
   {
    "duration": 14,
    "start_time": "2024-06-12T15:43:14.758Z"
   },
   {
    "duration": 16223,
    "start_time": "2024-06-12T15:46:48.880Z"
   },
   {
    "duration": 34,
    "start_time": "2024-06-12T15:49:42.676Z"
   },
   {
    "duration": 32,
    "start_time": "2024-06-12T15:50:12.631Z"
   },
   {
    "duration": 7,
    "start_time": "2024-06-12T15:50:25.047Z"
   },
   {
    "duration": 110235,
    "start_time": "2024-06-12T15:51:07.899Z"
   },
   {
    "duration": 12464,
    "start_time": "2024-06-12T15:58:26.901Z"
   },
   {
    "duration": 82,
    "start_time": "2024-06-12T15:59:44.333Z"
   },
   {
    "duration": 12279,
    "start_time": "2024-06-12T15:59:54.985Z"
   },
   {
    "duration": 12344,
    "start_time": "2024-06-12T16:08:22.911Z"
   },
   {
    "duration": 103,
    "start_time": "2024-06-12T16:08:35.259Z"
   },
   {
    "duration": 12570,
    "start_time": "2024-06-12T16:10:10.325Z"
   },
   {
    "duration": 83,
    "start_time": "2024-06-12T16:10:32.754Z"
   },
   {
    "duration": 34,
    "start_time": "2024-06-12T16:10:41.298Z"
   },
   {
    "duration": 34,
    "start_time": "2024-06-12T16:10:48.668Z"
   },
   {
    "duration": 35,
    "start_time": "2024-06-12T16:10:55.205Z"
   },
   {
    "duration": 35,
    "start_time": "2024-06-12T16:11:06.417Z"
   },
   {
    "duration": 1101,
    "start_time": "2024-06-12T16:12:31.126Z"
   },
   {
    "duration": 35,
    "start_time": "2024-06-12T16:12:38.462Z"
   },
   {
    "duration": 36,
    "start_time": "2024-06-12T16:12:48.122Z"
   },
   {
    "duration": 15,
    "start_time": "2024-06-12T16:12:57.463Z"
   },
   {
    "duration": 23,
    "start_time": "2024-06-12T16:13:13.774Z"
   },
   {
    "duration": 16,
    "start_time": "2024-06-12T16:13:20.557Z"
   },
   {
    "duration": 10,
    "start_time": "2024-06-12T16:14:18.208Z"
   },
   {
    "duration": 18,
    "start_time": "2024-06-12T16:14:23.628Z"
   },
   {
    "duration": 7,
    "start_time": "2024-06-12T16:14:32.322Z"
   },
   {
    "duration": 9,
    "start_time": "2024-06-12T16:14:32.345Z"
   },
   {
    "duration": 98,
    "start_time": "2024-06-12T16:14:32.358Z"
   },
   {
    "duration": 23,
    "start_time": "2024-06-12T16:14:32.459Z"
   },
   {
    "duration": 62,
    "start_time": "2024-06-12T16:14:32.487Z"
   },
   {
    "duration": 21,
    "start_time": "2024-06-12T16:14:32.558Z"
   },
   {
    "duration": 45,
    "start_time": "2024-06-12T16:14:32.584Z"
   },
   {
    "duration": 26,
    "start_time": "2024-06-12T16:14:32.633Z"
   },
   {
    "duration": 14,
    "start_time": "2024-06-12T16:14:32.663Z"
   },
   {
    "duration": 123,
    "start_time": "2024-06-12T16:14:32.682Z"
   },
   {
    "duration": 40,
    "start_time": "2024-06-12T16:14:32.824Z"
   },
   {
    "duration": 53,
    "start_time": "2024-06-12T16:14:32.872Z"
   },
   {
    "duration": 12,
    "start_time": "2024-06-12T16:14:32.929Z"
   },
   {
    "duration": 11,
    "start_time": "2024-06-12T16:14:32.946Z"
   },
   {
    "duration": 55,
    "start_time": "2024-06-12T16:14:32.967Z"
   },
   {
    "duration": 17,
    "start_time": "2024-06-12T16:14:33.028Z"
   },
   {
    "duration": 34,
    "start_time": "2024-06-12T16:14:33.050Z"
   },
   {
    "duration": 23,
    "start_time": "2024-06-12T16:14:33.122Z"
   },
   {
    "duration": 18,
    "start_time": "2024-06-12T16:14:33.152Z"
   },
   {
    "duration": 49,
    "start_time": "2024-06-12T16:14:33.179Z"
   },
   {
    "duration": 12,
    "start_time": "2024-06-12T16:14:33.232Z"
   },
   {
    "duration": 17,
    "start_time": "2024-06-12T16:14:33.248Z"
   },
   {
    "duration": 56,
    "start_time": "2024-06-12T16:14:33.269Z"
   },
   {
    "duration": 14,
    "start_time": "2024-06-12T16:14:33.330Z"
   },
   {
    "duration": 22,
    "start_time": "2024-06-12T16:14:33.348Z"
   },
   {
    "duration": 62,
    "start_time": "2024-06-12T16:14:33.375Z"
   },
   {
    "duration": 14,
    "start_time": "2024-06-12T16:14:33.442Z"
   },
   {
    "duration": 62,
    "start_time": "2024-06-12T16:14:33.461Z"
   },
   {
    "duration": 26,
    "start_time": "2024-06-12T16:14:33.528Z"
   },
   {
    "duration": 86,
    "start_time": "2024-06-12T16:14:33.558Z"
   },
   {
    "duration": 17,
    "start_time": "2024-06-12T16:14:33.651Z"
   },
   {
    "duration": 163,
    "start_time": "2024-06-12T16:14:33.673Z"
   },
   {
    "duration": 88,
    "start_time": "2024-06-12T16:14:33.839Z"
   },
   {
    "duration": 40,
    "start_time": "2024-06-12T16:14:33.932Z"
   },
   {
    "duration": 64,
    "start_time": "2024-06-12T16:14:33.978Z"
   },
   {
    "duration": 32,
    "start_time": "2024-06-12T16:14:34.046Z"
   },
   {
    "duration": 9,
    "start_time": "2024-06-12T16:14:34.083Z"
   },
   {
    "duration": 227,
    "start_time": "2024-06-12T16:14:34.122Z"
   },
   {
    "duration": 10,
    "start_time": "2024-06-12T16:14:34.353Z"
   },
   {
    "duration": 187,
    "start_time": "2024-06-12T16:14:34.368Z"
   },
   {
    "duration": 21,
    "start_time": "2024-06-12T16:14:34.558Z"
   },
   {
    "duration": 489,
    "start_time": "2024-06-12T16:14:34.590Z"
   },
   {
    "duration": 43,
    "start_time": "2024-06-12T16:14:35.083Z"
   },
   {
    "duration": 24,
    "start_time": "2024-06-12T16:14:35.129Z"
   },
   {
    "duration": 228,
    "start_time": "2024-06-12T16:14:35.158Z"
   },
   {
    "duration": 13,
    "start_time": "2024-06-12T16:14:35.390Z"
   },
   {
    "duration": 370,
    "start_time": "2024-06-12T16:14:35.423Z"
   },
   {
    "duration": 26,
    "start_time": "2024-06-12T16:14:35.798Z"
   },
   {
    "duration": 160,
    "start_time": "2024-06-12T16:14:35.827Z"
   },
   {
    "duration": 44,
    "start_time": "2024-06-12T16:14:35.990Z"
   },
   {
    "duration": 418,
    "start_time": "2024-06-12T16:14:36.037Z"
   },
   {
    "duration": 144,
    "start_time": "2024-06-12T16:14:36.458Z"
   },
   {
    "duration": 3050,
    "start_time": "2024-06-12T16:14:36.606Z"
   },
   {
    "duration": 12,
    "start_time": "2024-06-12T16:14:39.662Z"
   },
   {
    "duration": 48,
    "start_time": "2024-06-12T16:14:39.683Z"
   },
   {
    "duration": 115,
    "start_time": "2024-06-12T16:14:39.734Z"
   },
   {
    "duration": 10,
    "start_time": "2024-06-12T16:14:39.854Z"
   },
   {
    "duration": 103,
    "start_time": "2024-06-12T16:14:39.870Z"
   },
   {
    "duration": 73,
    "start_time": "2024-06-12T16:14:39.980Z"
   },
   {
    "duration": 13,
    "start_time": "2024-06-12T16:14:40.058Z"
   },
   {
    "duration": 13,
    "start_time": "2024-06-12T16:14:40.075Z"
   },
   {
    "duration": 11,
    "start_time": "2024-06-12T16:14:40.122Z"
   },
   {
    "duration": 2485,
    "start_time": "2024-06-12T16:14:40.138Z"
   },
   {
    "duration": 20,
    "start_time": "2024-06-12T16:14:42.627Z"
   },
   {
    "duration": 149,
    "start_time": "2024-06-12T16:14:42.651Z"
   },
   {
    "duration": 0,
    "start_time": "2024-06-12T16:14:42.823Z"
   },
   {
    "duration": 0,
    "start_time": "2024-06-12T16:14:42.826Z"
   },
   {
    "duration": 0,
    "start_time": "2024-06-12T16:14:42.828Z"
   },
   {
    "duration": 0,
    "start_time": "2024-06-12T16:14:42.830Z"
   },
   {
    "duration": 0,
    "start_time": "2024-06-12T16:14:42.833Z"
   },
   {
    "duration": 0,
    "start_time": "2024-06-12T16:14:42.835Z"
   },
   {
    "duration": 0,
    "start_time": "2024-06-12T16:14:42.838Z"
   },
   {
    "duration": 0,
    "start_time": "2024-06-12T16:14:42.841Z"
   },
   {
    "duration": 8,
    "start_time": "2024-06-12T16:18:58.523Z"
   },
   {
    "duration": 821,
    "start_time": "2024-06-12T16:19:13.845Z"
   },
   {
    "duration": 16956,
    "start_time": "2024-06-12T16:19:34.996Z"
   },
   {
    "duration": 115198,
    "start_time": "2024-06-12T16:19:51.955Z"
   },
   {
    "duration": 165965,
    "start_time": "2024-06-12T16:21:47.158Z"
   },
   {
    "duration": 2266,
    "start_time": "2024-06-12T16:26:09.958Z"
   },
   {
    "duration": 17,
    "start_time": "2024-06-12T16:27:26.876Z"
   },
   {
    "duration": 28,
    "start_time": "2024-06-12T16:27:29.546Z"
   },
   {
    "duration": 7,
    "start_time": "2024-06-12T16:27:43.505Z"
   },
   {
    "duration": 9,
    "start_time": "2024-06-12T16:27:47.532Z"
   },
   {
    "duration": 831,
    "start_time": "2024-06-12T16:27:47.546Z"
   },
   {
    "duration": 15,
    "start_time": "2024-06-12T16:27:48.381Z"
   },
   {
    "duration": 16595,
    "start_time": "2024-06-12T16:27:48.422Z"
   },
   {
    "duration": 106120,
    "start_time": "2024-06-12T16:28:05.020Z"
   },
   {
    "duration": 164862,
    "start_time": "2024-06-12T16:29:51.144Z"
   },
   {
    "duration": 12298,
    "start_time": "2024-06-12T16:32:36.009Z"
   },
   {
    "duration": 97,
    "start_time": "2024-06-12T16:32:48.310Z"
   },
   {
    "duration": 28,
    "start_time": "2024-06-12T16:32:48.411Z"
   },
   {
    "duration": 18,
    "start_time": "2024-06-12T16:32:48.443Z"
   },
   {
    "duration": 94,
    "start_time": "2024-06-12T16:34:30.229Z"
   },
   {
    "duration": 18,
    "start_time": "2024-06-12T16:34:34.513Z"
   },
   {
    "duration": 18,
    "start_time": "2024-06-12T16:34:36.522Z"
   },
   {
    "duration": 12490,
    "start_time": "2024-06-12T16:34:46.973Z"
   },
   {
    "duration": 8,
    "start_time": "2024-06-12T16:35:06.958Z"
   },
   {
    "duration": 1755,
    "start_time": "2024-06-12T16:35:44.682Z"
   },
   {
    "duration": 12,
    "start_time": "2024-06-12T16:35:46.440Z"
   },
   {
    "duration": 69,
    "start_time": "2024-06-12T16:35:46.456Z"
   },
   {
    "duration": 19,
    "start_time": "2024-06-12T16:35:46.528Z"
   },
   {
    "duration": 27,
    "start_time": "2024-06-12T16:35:46.554Z"
   },
   {
    "duration": 55,
    "start_time": "2024-06-12T16:35:46.584Z"
   },
   {
    "duration": 12,
    "start_time": "2024-06-12T16:35:46.643Z"
   },
   {
    "duration": 23,
    "start_time": "2024-06-12T16:35:46.663Z"
   },
   {
    "duration": 42,
    "start_time": "2024-06-12T16:35:46.689Z"
   },
   {
    "duration": 15,
    "start_time": "2024-06-12T16:35:46.735Z"
   },
   {
    "duration": 25,
    "start_time": "2024-06-12T16:35:46.753Z"
   },
   {
    "duration": 50,
    "start_time": "2024-06-12T16:35:46.781Z"
   },
   {
    "duration": 9,
    "start_time": "2024-06-12T16:35:46.834Z"
   },
   {
    "duration": 10,
    "start_time": "2024-06-12T16:35:46.851Z"
   },
   {
    "duration": 59,
    "start_time": "2024-06-12T16:35:46.864Z"
   },
   {
    "duration": 10,
    "start_time": "2024-06-12T16:35:46.927Z"
   },
   {
    "duration": 17,
    "start_time": "2024-06-12T16:35:46.941Z"
   },
   {
    "duration": 61,
    "start_time": "2024-06-12T16:35:46.962Z"
   },
   {
    "duration": 12,
    "start_time": "2024-06-12T16:35:47.025Z"
   },
   {
    "duration": 12,
    "start_time": "2024-06-12T16:35:47.040Z"
   },
   {
    "duration": 9,
    "start_time": "2024-06-12T16:35:47.055Z"
   },
   {
    "duration": 58,
    "start_time": "2024-06-12T16:35:47.069Z"
   },
   {
    "duration": 9,
    "start_time": "2024-06-12T16:35:47.131Z"
   },
   {
    "duration": 11,
    "start_time": "2024-06-12T16:35:47.143Z"
   },
   {
    "duration": 16,
    "start_time": "2024-06-12T16:35:47.157Z"
   },
   {
    "duration": 14,
    "start_time": "2024-06-12T16:35:47.224Z"
   },
   {
    "duration": 9,
    "start_time": "2024-06-12T16:35:47.242Z"
   },
   {
    "duration": 17,
    "start_time": "2024-06-12T16:35:47.255Z"
   },
   {
    "duration": 67,
    "start_time": "2024-06-12T16:35:47.275Z"
   },
   {
    "duration": 54,
    "start_time": "2024-06-12T16:35:47.347Z"
   },
   {
    "duration": 11,
    "start_time": "2024-06-12T16:35:47.423Z"
   },
   {
    "duration": 37,
    "start_time": "2024-06-12T16:35:47.438Z"
   },
   {
    "duration": 72,
    "start_time": "2024-06-12T16:35:47.479Z"
   },
   {
    "duration": 15,
    "start_time": "2024-06-12T16:35:47.554Z"
   },
   {
    "duration": 62,
    "start_time": "2024-06-12T16:35:47.572Z"
   },
   {
    "duration": 22,
    "start_time": "2024-06-12T16:35:47.638Z"
   },
   {
    "duration": 5,
    "start_time": "2024-06-12T16:35:47.663Z"
   },
   {
    "duration": 238,
    "start_time": "2024-06-12T16:35:47.672Z"
   },
   {
    "duration": 7,
    "start_time": "2024-06-12T16:35:47.926Z"
   },
   {
    "duration": 163,
    "start_time": "2024-06-12T16:35:47.937Z"
   },
   {
    "duration": 12,
    "start_time": "2024-06-12T16:35:48.122Z"
   },
   {
    "duration": 462,
    "start_time": "2024-06-12T16:35:48.138Z"
   },
   {
    "duration": 31,
    "start_time": "2024-06-12T16:35:48.604Z"
   },
   {
    "duration": 18,
    "start_time": "2024-06-12T16:35:48.638Z"
   },
   {
    "duration": 225,
    "start_time": "2024-06-12T16:35:48.660Z"
   },
   {
    "duration": 11,
    "start_time": "2024-06-12T16:35:48.888Z"
   },
   {
    "duration": 251,
    "start_time": "2024-06-12T16:35:48.924Z"
   },
   {
    "duration": 11,
    "start_time": "2024-06-12T16:35:49.179Z"
   },
   {
    "duration": 173,
    "start_time": "2024-06-12T16:35:49.194Z"
   },
   {
    "duration": 28,
    "start_time": "2024-06-12T16:35:49.371Z"
   },
   {
    "duration": 514,
    "start_time": "2024-06-12T16:35:49.422Z"
   },
   {
    "duration": 140,
    "start_time": "2024-06-12T16:35:49.940Z"
   },
   {
    "duration": 2779,
    "start_time": "2024-06-12T16:35:50.083Z"
   },
   {
    "duration": 11,
    "start_time": "2024-06-12T16:35:52.866Z"
   },
   {
    "duration": 46,
    "start_time": "2024-06-12T16:35:52.881Z"
   },
   {
    "duration": 93,
    "start_time": "2024-06-12T16:35:52.930Z"
   },
   {
    "duration": 8,
    "start_time": "2024-06-12T16:35:53.026Z"
   },
   {
    "duration": 54,
    "start_time": "2024-06-12T16:35:53.037Z"
   },
   {
    "duration": 77,
    "start_time": "2024-06-12T16:35:53.094Z"
   },
   {
    "duration": 9,
    "start_time": "2024-06-12T16:35:53.175Z"
   },
   {
    "duration": 38,
    "start_time": "2024-06-12T16:35:53.189Z"
   },
   {
    "duration": 6,
    "start_time": "2024-06-12T16:35:53.231Z"
   },
   {
    "duration": 1184,
    "start_time": "2024-06-12T16:35:53.241Z"
   },
   {
    "duration": 12,
    "start_time": "2024-06-12T16:35:54.436Z"
   },
   {
    "duration": 837,
    "start_time": "2024-06-12T16:35:54.525Z"
   },
   {
    "duration": 15,
    "start_time": "2024-06-12T16:35:55.367Z"
   },
   {
    "duration": 17009,
    "start_time": "2024-06-12T16:35:55.387Z"
   },
   {
    "duration": 268456,
    "start_time": "2024-06-12T16:36:12.399Z"
   },
   {
    "duration": 166225,
    "start_time": "2024-06-12T16:40:40.859Z"
   },
   {
    "duration": 12737,
    "start_time": "2024-06-12T16:43:27.088Z"
   },
   {
    "duration": 111,
    "start_time": "2024-06-12T16:43:39.829Z"
   },
   {
    "duration": 18,
    "start_time": "2024-06-12T16:43:39.944Z"
   },
   {
    "duration": 18,
    "start_time": "2024-06-12T16:43:39.965Z"
   },
   {
    "duration": 5644,
    "start_time": "2024-06-12T17:37:03.639Z"
   },
   {
    "duration": 12,
    "start_time": "2024-06-12T17:37:09.287Z"
   },
   {
    "duration": 89,
    "start_time": "2024-06-12T17:37:09.302Z"
   },
   {
    "duration": 23,
    "start_time": "2024-06-12T17:37:09.394Z"
   },
   {
    "duration": 122,
    "start_time": "2024-06-12T17:37:09.423Z"
   },
   {
    "duration": 15,
    "start_time": "2024-06-12T17:37:09.549Z"
   },
   {
    "duration": 10,
    "start_time": "2024-06-12T17:37:09.568Z"
   },
   {
    "duration": 60,
    "start_time": "2024-06-12T17:37:09.581Z"
   },
   {
    "duration": 14,
    "start_time": "2024-06-12T17:37:09.645Z"
   },
   {
    "duration": 15,
    "start_time": "2024-06-12T17:37:09.663Z"
   },
   {
    "duration": 36,
    "start_time": "2024-06-12T17:37:09.722Z"
   },
   {
    "duration": 13,
    "start_time": "2024-06-12T17:37:09.762Z"
   },
   {
    "duration": 10,
    "start_time": "2024-06-12T17:37:09.779Z"
   },
   {
    "duration": 11,
    "start_time": "2024-06-12T17:37:09.832Z"
   },
   {
    "duration": 13,
    "start_time": "2024-06-12T17:37:09.846Z"
   },
   {
    "duration": 9,
    "start_time": "2024-06-12T17:37:09.862Z"
   },
   {
    "duration": 66,
    "start_time": "2024-06-12T17:37:09.876Z"
   },
   {
    "duration": 20,
    "start_time": "2024-06-12T17:37:09.945Z"
   },
   {
    "duration": 12,
    "start_time": "2024-06-12T17:37:09.969Z"
   },
   {
    "duration": 13,
    "start_time": "2024-06-12T17:37:10.027Z"
   },
   {
    "duration": 9,
    "start_time": "2024-06-12T17:37:10.043Z"
   },
   {
    "duration": 9,
    "start_time": "2024-06-12T17:37:10.057Z"
   },
   {
    "duration": 57,
    "start_time": "2024-06-12T17:37:10.069Z"
   },
   {
    "duration": 11,
    "start_time": "2024-06-12T17:37:10.130Z"
   },
   {
    "duration": 15,
    "start_time": "2024-06-12T17:37:10.144Z"
   },
   {
    "duration": 64,
    "start_time": "2024-06-12T17:37:10.162Z"
   },
   {
    "duration": 12,
    "start_time": "2024-06-12T17:37:10.229Z"
   },
   {
    "duration": 17,
    "start_time": "2024-06-12T17:37:10.244Z"
   },
   {
    "duration": 22,
    "start_time": "2024-06-12T17:37:10.264Z"
   },
   {
    "duration": 42,
    "start_time": "2024-06-12T17:37:10.326Z"
   },
   {
    "duration": 8,
    "start_time": "2024-06-12T17:37:10.372Z"
   },
   {
    "duration": 63,
    "start_time": "2024-06-12T17:37:10.385Z"
   },
   {
    "duration": 37,
    "start_time": "2024-06-12T17:37:10.452Z"
   },
   {
    "duration": 22,
    "start_time": "2024-06-12T17:37:10.522Z"
   },
   {
    "duration": 46,
    "start_time": "2024-06-12T17:37:10.547Z"
   },
   {
    "duration": 46,
    "start_time": "2024-06-12T17:37:10.601Z"
   },
   {
    "duration": 7,
    "start_time": "2024-06-12T17:37:10.651Z"
   },
   {
    "duration": 246,
    "start_time": "2024-06-12T17:37:10.661Z"
   },
   {
    "duration": 13,
    "start_time": "2024-06-12T17:37:10.911Z"
   },
   {
    "duration": 170,
    "start_time": "2024-06-12T17:37:10.928Z"
   },
   {
    "duration": 21,
    "start_time": "2024-06-12T17:37:11.111Z"
   },
   {
    "duration": 459,
    "start_time": "2024-06-12T17:37:11.138Z"
   },
   {
    "duration": 31,
    "start_time": "2024-06-12T17:37:11.602Z"
   },
   {
    "duration": 18,
    "start_time": "2024-06-12T17:37:11.636Z"
   },
   {
    "duration": 225,
    "start_time": "2024-06-12T17:37:11.659Z"
   },
   {
    "duration": 10,
    "start_time": "2024-06-12T17:37:11.887Z"
   },
   {
    "duration": 261,
    "start_time": "2024-06-12T17:37:11.901Z"
   },
   {
    "duration": 9,
    "start_time": "2024-06-12T17:37:12.166Z"
   },
   {
    "duration": 163,
    "start_time": "2024-06-12T17:37:12.180Z"
   },
   {
    "duration": 24,
    "start_time": "2024-06-12T17:37:12.346Z"
   },
   {
    "duration": 390,
    "start_time": "2024-06-12T17:37:12.373Z"
   },
   {
    "duration": 149,
    "start_time": "2024-06-12T17:37:12.767Z"
   },
   {
    "duration": 2848,
    "start_time": "2024-06-12T17:37:12.924Z"
   },
   {
    "duration": 8,
    "start_time": "2024-06-12T17:37:15.776Z"
   },
   {
    "duration": 15,
    "start_time": "2024-06-12T17:37:15.789Z"
   },
   {
    "duration": 91,
    "start_time": "2024-06-12T17:37:15.807Z"
   },
   {
    "duration": 6,
    "start_time": "2024-06-12T17:37:15.922Z"
   },
   {
    "duration": 51,
    "start_time": "2024-06-12T17:37:15.932Z"
   },
   {
    "duration": 72,
    "start_time": "2024-06-12T17:37:15.987Z"
   },
   {
    "duration": 9,
    "start_time": "2024-06-12T17:37:16.063Z"
   },
   {
    "duration": 6,
    "start_time": "2024-06-12T17:37:16.075Z"
   },
   {
    "duration": 41,
    "start_time": "2024-06-12T17:37:16.085Z"
   },
   {
    "duration": 1218,
    "start_time": "2024-06-12T17:37:16.130Z"
   },
   {
    "duration": 9,
    "start_time": "2024-06-12T17:37:17.422Z"
   },
   {
    "duration": 906,
    "start_time": "2024-06-12T17:37:17.435Z"
   },
   {
    "duration": 15,
    "start_time": "2024-06-12T17:37:18.345Z"
   },
   {
    "duration": 17699,
    "start_time": "2024-06-12T17:37:18.365Z"
   },
   {
    "duration": 119008,
    "start_time": "2024-06-12T17:37:36.069Z"
   },
   {
    "duration": 169841,
    "start_time": "2024-06-12T17:39:35.082Z"
   },
   {
    "duration": 12701,
    "start_time": "2024-06-12T17:42:24.927Z"
   },
   {
    "duration": 109,
    "start_time": "2024-06-12T17:42:37.631Z"
   },
   {
    "duration": 20,
    "start_time": "2024-06-12T17:42:37.744Z"
   },
   {
    "duration": 8,
    "start_time": "2024-06-12T17:59:17.967Z"
   },
   {
    "duration": 8,
    "start_time": "2024-06-12T18:07:07.869Z"
   },
   {
    "duration": 16,
    "start_time": "2024-06-12T18:07:17.788Z"
   },
   {
    "duration": 16,
    "start_time": "2024-06-12T18:07:21.715Z"
   },
   {
    "duration": 456,
    "start_time": "2024-06-12T18:14:13.374Z"
   },
   {
    "duration": 27,
    "start_time": "2024-06-12T18:14:35.889Z"
   },
   {
    "duration": 32,
    "start_time": "2024-06-12T18:14:54.896Z"
   },
   {
    "duration": 42,
    "start_time": "2024-06-12T18:15:46.288Z"
   },
   {
    "duration": 10291,
    "start_time": "2024-06-12T18:15:55.564Z"
   },
   {
    "duration": 9,
    "start_time": "2024-06-12T18:22:33.872Z"
   },
   {
    "duration": 6,
    "start_time": "2024-06-12T18:22:38.856Z"
   },
   {
    "duration": 22,
    "start_time": "2024-06-12T18:23:54.519Z"
   },
   {
    "duration": 17,
    "start_time": "2024-06-12T18:23:57.126Z"
   },
   {
    "duration": 33,
    "start_time": "2024-06-12T18:26:03.340Z"
   },
   {
    "duration": 3735,
    "start_time": "2024-06-12T18:28:13.357Z"
   },
   {
    "duration": 35,
    "start_time": "2024-06-12T18:28:22.740Z"
   },
   {
    "duration": 7,
    "start_time": "2024-06-12T18:28:38.048Z"
   },
   {
    "duration": 27,
    "start_time": "2024-06-12T18:29:07.926Z"
   },
   {
    "duration": 44355,
    "start_time": "2024-06-12T18:30:16.501Z"
   },
   {
    "duration": 32,
    "start_time": "2024-06-12T18:31:03.418Z"
   },
   {
    "duration": 2195,
    "start_time": "2024-06-12T18:31:37.234Z"
   },
   {
    "duration": 1537,
    "start_time": "2024-06-12T18:32:43.217Z"
   },
   {
    "duration": 10,
    "start_time": "2024-06-12T18:34:07.331Z"
   },
   {
    "duration": 1529,
    "start_time": "2024-06-12T18:34:23.219Z"
   },
   {
    "duration": 47,
    "start_time": "2024-06-12T18:35:12.752Z"
   },
   {
    "duration": 1584,
    "start_time": "2024-06-12T18:36:53.544Z"
   },
   {
    "duration": 98,
    "start_time": "2024-06-12T18:37:08.754Z"
   },
   {
    "duration": 8,
    "start_time": "2024-06-12T18:37:19.843Z"
   },
   {
    "duration": 847,
    "start_time": "2024-06-12T18:37:22.934Z"
   },
   {
    "duration": 2920,
    "start_time": "2024-06-12T18:41:01.683Z"
   },
   {
    "duration": 1718,
    "start_time": "2024-06-12T18:41:42.429Z"
   },
   {
    "duration": 29,
    "start_time": "2024-06-12T18:42:24.485Z"
   },
   {
    "duration": 27,
    "start_time": "2024-06-12T18:42:26.886Z"
   },
   {
    "duration": 1538,
    "start_time": "2024-06-12T18:42:34.315Z"
   },
   {
    "duration": 524,
    "start_time": "2024-06-12T18:45:11.269Z"
   },
   {
    "duration": 33,
    "start_time": "2024-06-12T18:46:58.534Z"
   },
   {
    "duration": 5,
    "start_time": "2024-06-12T18:51:06.367Z"
   },
   {
    "duration": 291,
    "start_time": "2024-06-12T18:51:27.146Z"
   },
   {
    "duration": 191,
    "start_time": "2024-06-12T18:54:23.762Z"
   },
   {
    "duration": 950,
    "start_time": "2024-06-12T18:55:17.052Z"
   },
   {
    "duration": 8,
    "start_time": "2024-06-12T18:55:28.271Z"
   },
   {
    "duration": 188,
    "start_time": "2024-06-12T18:55:30.865Z"
   },
   {
    "duration": 4,
    "start_time": "2024-06-12T18:59:10.936Z"
   },
   {
    "duration": 204,
    "start_time": "2024-06-12T18:59:13.737Z"
   },
   {
    "duration": 7,
    "start_time": "2024-06-12T18:59:42.800Z"
   },
   {
    "duration": 179,
    "start_time": "2024-06-12T18:59:45.923Z"
   },
   {
    "duration": 7,
    "start_time": "2024-06-12T19:00:03.614Z"
   },
   {
    "duration": 188,
    "start_time": "2024-06-12T19:00:13.808Z"
   },
   {
    "duration": 177,
    "start_time": "2024-06-12T19:02:16.946Z"
   },
   {
    "duration": 5,
    "start_time": "2024-06-12T19:03:51.222Z"
   },
   {
    "duration": 223,
    "start_time": "2024-06-12T19:03:53.603Z"
   },
   {
    "duration": 802,
    "start_time": "2024-06-12T19:06:43.240Z"
   },
   {
    "duration": 5,
    "start_time": "2024-06-12T19:07:20.341Z"
   },
   {
    "duration": 37,
    "start_time": "2024-06-12T19:07:32.033Z"
   },
   {
    "duration": 78,
    "start_time": "2024-06-12T19:09:39.965Z"
   },
   {
    "duration": 32,
    "start_time": "2024-06-12T19:10:12.639Z"
   },
   {
    "duration": 7,
    "start_time": "2024-06-12T19:10:27.716Z"
   },
   {
    "duration": 22,
    "start_time": "2024-06-12T19:10:38.919Z"
   },
   {
    "duration": 161,
    "start_time": "2024-06-12T19:10:51.876Z"
   },
   {
    "duration": 4,
    "start_time": "2024-06-12T19:11:55.333Z"
   },
   {
    "duration": 184,
    "start_time": "2024-06-12T19:12:02.590Z"
   },
   {
    "duration": 25,
    "start_time": "2024-06-12T19:12:33.316Z"
   },
   {
    "duration": 27,
    "start_time": "2024-06-12T19:12:44.874Z"
   },
   {
    "duration": 4845,
    "start_time": "2024-06-12T19:14:20.978Z"
   },
   {
    "duration": 16,
    "start_time": "2024-06-12T19:14:25.827Z"
   },
   {
    "duration": 64,
    "start_time": "2024-06-12T19:14:25.846Z"
   },
   {
    "duration": 20,
    "start_time": "2024-06-12T19:14:25.914Z"
   },
   {
    "duration": 25,
    "start_time": "2024-06-12T19:14:25.938Z"
   },
   {
    "duration": 58,
    "start_time": "2024-06-12T19:14:25.966Z"
   },
   {
    "duration": 9,
    "start_time": "2024-06-12T19:14:26.027Z"
   },
   {
    "duration": 19,
    "start_time": "2024-06-12T19:14:26.040Z"
   },
   {
    "duration": 12,
    "start_time": "2024-06-12T19:14:26.061Z"
   },
   {
    "duration": 17,
    "start_time": "2024-06-12T19:14:26.122Z"
   },
   {
    "duration": 26,
    "start_time": "2024-06-12T19:14:26.144Z"
   },
   {
    "duration": 51,
    "start_time": "2024-06-12T19:14:26.174Z"
   },
   {
    "duration": 21,
    "start_time": "2024-06-12T19:14:26.228Z"
   },
   {
    "duration": 18,
    "start_time": "2024-06-12T19:14:26.253Z"
   },
   {
    "duration": 49,
    "start_time": "2024-06-12T19:14:26.277Z"
   },
   {
    "duration": 9,
    "start_time": "2024-06-12T19:14:26.330Z"
   },
   {
    "duration": 16,
    "start_time": "2024-06-12T19:14:26.344Z"
   },
   {
    "duration": 59,
    "start_time": "2024-06-12T19:14:26.364Z"
   },
   {
    "duration": 11,
    "start_time": "2024-06-12T19:14:26.427Z"
   },
   {
    "duration": 11,
    "start_time": "2024-06-12T19:14:26.441Z"
   },
   {
    "duration": 8,
    "start_time": "2024-06-12T19:14:26.455Z"
   },
   {
    "duration": 62,
    "start_time": "2024-06-12T19:14:26.466Z"
   },
   {
    "duration": 11,
    "start_time": "2024-06-12T19:14:26.535Z"
   },
   {
    "duration": 10,
    "start_time": "2024-06-12T19:14:26.549Z"
   },
   {
    "duration": 18,
    "start_time": "2024-06-12T19:14:26.561Z"
   },
   {
    "duration": 59,
    "start_time": "2024-06-12T19:14:26.583Z"
   },
   {
    "duration": 12,
    "start_time": "2024-06-12T19:14:26.645Z"
   },
   {
    "duration": 20,
    "start_time": "2024-06-12T19:14:26.673Z"
   },
   {
    "duration": 51,
    "start_time": "2024-06-12T19:14:26.696Z"
   },
   {
    "duration": 81,
    "start_time": "2024-06-12T19:14:26.752Z"
   },
   {
    "duration": 12,
    "start_time": "2024-06-12T19:14:26.841Z"
   },
   {
    "duration": 39,
    "start_time": "2024-06-12T19:14:26.857Z"
   },
   {
    "duration": 62,
    "start_time": "2024-06-12T19:14:26.900Z"
   },
   {
    "duration": 19,
    "start_time": "2024-06-12T19:14:26.966Z"
   },
   {
    "duration": 69,
    "start_time": "2024-06-12T19:14:26.988Z"
   },
   {
    "duration": 24,
    "start_time": "2024-06-12T19:14:27.060Z"
   },
   {
    "duration": 5,
    "start_time": "2024-06-12T19:14:27.087Z"
   },
   {
    "duration": 230,
    "start_time": "2024-06-12T19:14:27.123Z"
   },
   {
    "duration": 8,
    "start_time": "2024-06-12T19:14:27.358Z"
   },
   {
    "duration": 169,
    "start_time": "2024-06-12T19:14:27.373Z"
   },
   {
    "duration": 13,
    "start_time": "2024-06-12T19:14:27.544Z"
   },
   {
    "duration": 548,
    "start_time": "2024-06-12T19:14:27.560Z"
   },
   {
    "duration": 27,
    "start_time": "2024-06-12T19:14:28.113Z"
   },
   {
    "duration": 22,
    "start_time": "2024-06-12T19:14:28.144Z"
   },
   {
    "duration": 231,
    "start_time": "2024-06-12T19:14:28.170Z"
   },
   {
    "duration": 20,
    "start_time": "2024-06-12T19:14:28.405Z"
   },
   {
    "duration": 256,
    "start_time": "2024-06-12T19:14:28.429Z"
   },
   {
    "duration": 12,
    "start_time": "2024-06-12T19:14:28.692Z"
   },
   {
    "duration": 200,
    "start_time": "2024-06-12T19:14:28.708Z"
   },
   {
    "duration": 37,
    "start_time": "2024-06-12T19:14:28.912Z"
   },
   {
    "duration": 514,
    "start_time": "2024-06-12T19:14:28.954Z"
   },
   {
    "duration": 135,
    "start_time": "2024-06-12T19:14:29.472Z"
   },
   {
    "duration": 2969,
    "start_time": "2024-06-12T19:14:29.611Z"
   },
   {
    "duration": 9,
    "start_time": "2024-06-12T19:14:32.584Z"
   },
   {
    "duration": 30,
    "start_time": "2024-06-12T19:14:32.597Z"
   },
   {
    "duration": 153,
    "start_time": "2024-06-12T19:14:32.632Z"
   },
   {
    "duration": 12,
    "start_time": "2024-06-12T19:14:32.790Z"
   },
   {
    "duration": 53,
    "start_time": "2024-06-12T19:14:32.822Z"
   },
   {
    "duration": 81,
    "start_time": "2024-06-12T19:14:32.879Z"
   },
   {
    "duration": 12,
    "start_time": "2024-06-12T19:14:32.965Z"
   },
   {
    "duration": 23,
    "start_time": "2024-06-12T19:14:32.982Z"
   },
   {
    "duration": 7,
    "start_time": "2024-06-12T19:14:33.025Z"
   },
   {
    "duration": 1306,
    "start_time": "2024-06-12T19:14:33.036Z"
   },
   {
    "duration": 87,
    "start_time": "2024-06-12T19:14:34.345Z"
   },
   {
    "duration": 922,
    "start_time": "2024-06-12T19:14:34.439Z"
   },
   {
    "duration": 17414,
    "start_time": "2024-06-12T19:14:35.364Z"
   },
   {
    "duration": 12,
    "start_time": "2024-06-12T19:14:52.782Z"
   },
   {
    "duration": 51,
    "start_time": "2024-06-12T19:14:52.798Z"
   },
   {
    "duration": 33,
    "start_time": "2024-06-12T19:15:21.747Z"
   },
   {
    "duration": 6,
    "start_time": "2024-06-12T19:15:26.791Z"
   },
   {
    "duration": 5,
    "start_time": "2024-06-12T19:15:39.516Z"
   },
   {
    "duration": 5,
    "start_time": "2024-06-12T19:15:41.498Z"
   },
   {
    "duration": 1473,
    "start_time": "2024-06-12T19:15:43.986Z"
   },
   {
    "duration": 25,
    "start_time": "2024-06-12T19:17:28.843Z"
   },
   {
    "duration": 17,
    "start_time": "2024-06-12T19:18:03.571Z"
   },
   {
    "duration": 5,
    "start_time": "2024-06-12T19:18:15.632Z"
   },
   {
    "duration": 25,
    "start_time": "2024-06-12T19:18:52.926Z"
   },
   {
    "duration": 9,
    "start_time": "2024-06-12T19:26:27.083Z"
   },
   {
    "duration": 36,
    "start_time": "2024-06-12T19:26:34.665Z"
   },
   {
    "duration": 4921,
    "start_time": "2024-06-12T19:27:12.957Z"
   },
   {
    "duration": 10,
    "start_time": "2024-06-12T19:27:17.883Z"
   },
   {
    "duration": 67,
    "start_time": "2024-06-12T19:27:17.896Z"
   },
   {
    "duration": 23,
    "start_time": "2024-06-12T19:27:17.968Z"
   },
   {
    "duration": 42,
    "start_time": "2024-06-12T19:27:17.995Z"
   },
   {
    "duration": 15,
    "start_time": "2024-06-12T19:27:18.040Z"
   },
   {
    "duration": 10,
    "start_time": "2024-06-12T19:27:18.057Z"
   },
   {
    "duration": 55,
    "start_time": "2024-06-12T19:27:18.071Z"
   },
   {
    "duration": 12,
    "start_time": "2024-06-12T19:27:18.129Z"
   },
   {
    "duration": 13,
    "start_time": "2024-06-12T19:27:18.148Z"
   },
   {
    "duration": 63,
    "start_time": "2024-06-12T19:27:18.165Z"
   },
   {
    "duration": 13,
    "start_time": "2024-06-12T19:27:18.231Z"
   },
   {
    "duration": 10,
    "start_time": "2024-06-12T19:27:18.248Z"
   },
   {
    "duration": 8,
    "start_time": "2024-06-12T19:27:18.262Z"
   },
   {
    "duration": 10,
    "start_time": "2024-06-12T19:27:18.323Z"
   },
   {
    "duration": 10,
    "start_time": "2024-06-12T19:27:18.337Z"
   },
   {
    "duration": 20,
    "start_time": "2024-06-12T19:27:18.351Z"
   },
   {
    "duration": 64,
    "start_time": "2024-06-12T19:27:18.375Z"
   },
   {
    "duration": 12,
    "start_time": "2024-06-12T19:27:18.442Z"
   },
   {
    "duration": 12,
    "start_time": "2024-06-12T19:27:18.457Z"
   },
   {
    "duration": 52,
    "start_time": "2024-06-12T19:27:18.473Z"
   },
   {
    "duration": 10,
    "start_time": "2024-06-12T19:27:18.530Z"
   },
   {
    "duration": 9,
    "start_time": "2024-06-12T19:27:18.544Z"
   },
   {
    "duration": 10,
    "start_time": "2024-06-12T19:27:18.557Z"
   },
   {
    "duration": 63,
    "start_time": "2024-06-12T19:27:18.571Z"
   },
   {
    "duration": 13,
    "start_time": "2024-06-12T19:27:18.639Z"
   },
   {
    "duration": 11,
    "start_time": "2024-06-12T19:27:18.656Z"
   },
   {
    "duration": 15,
    "start_time": "2024-06-12T19:27:18.722Z"
   },
   {
    "duration": 23,
    "start_time": "2024-06-12T19:27:18.741Z"
   },
   {
    "duration": 75,
    "start_time": "2024-06-12T19:27:18.767Z"
   },
   {
    "duration": 8,
    "start_time": "2024-06-12T19:27:18.846Z"
   },
   {
    "duration": 33,
    "start_time": "2024-06-12T19:27:18.858Z"
   },
   {
    "duration": 67,
    "start_time": "2024-06-12T19:27:18.893Z"
   },
   {
    "duration": 16,
    "start_time": "2024-06-12T19:27:18.963Z"
   },
   {
    "duration": 74,
    "start_time": "2024-06-12T19:27:18.983Z"
   },
   {
    "duration": 21,
    "start_time": "2024-06-12T19:27:19.060Z"
   },
   {
    "duration": 5,
    "start_time": "2024-06-12T19:27:19.085Z"
   },
   {
    "duration": 220,
    "start_time": "2024-06-12T19:27:19.122Z"
   },
   {
    "duration": 7,
    "start_time": "2024-06-12T19:27:19.345Z"
   },
   {
    "duration": 195,
    "start_time": "2024-06-12T19:27:19.356Z"
   },
   {
    "duration": 17,
    "start_time": "2024-06-12T19:27:19.554Z"
   },
   {
    "duration": 482,
    "start_time": "2024-06-12T19:27:19.574Z"
   },
   {
    "duration": 20,
    "start_time": "2024-06-12T19:27:20.060Z"
   },
   {
    "duration": 41,
    "start_time": "2024-06-12T19:27:20.083Z"
   },
   {
    "duration": 207,
    "start_time": "2024-06-12T19:27:20.128Z"
   },
   {
    "duration": 9,
    "start_time": "2024-06-12T19:27:20.340Z"
   },
   {
    "duration": 277,
    "start_time": "2024-06-12T19:27:20.352Z"
   },
   {
    "duration": 13,
    "start_time": "2024-06-12T19:27:20.636Z"
   },
   {
    "duration": 184,
    "start_time": "2024-06-12T19:27:20.653Z"
   },
   {
    "duration": 29,
    "start_time": "2024-06-12T19:27:20.840Z"
   },
   {
    "duration": 491,
    "start_time": "2024-06-12T19:27:20.872Z"
   },
   {
    "duration": 130,
    "start_time": "2024-06-12T19:27:21.366Z"
   },
   {
    "duration": 2810,
    "start_time": "2024-06-12T19:27:21.500Z"
   },
   {
    "duration": 10,
    "start_time": "2024-06-12T19:27:24.322Z"
   },
   {
    "duration": 15,
    "start_time": "2024-06-12T19:27:24.335Z"
   },
   {
    "duration": 112,
    "start_time": "2024-06-12T19:27:24.353Z"
   },
   {
    "duration": 6,
    "start_time": "2024-06-12T19:27:35.161Z"
   },
   {
    "duration": 46,
    "start_time": "2024-06-12T19:27:37.962Z"
   },
   {
    "duration": 4678,
    "start_time": "2024-06-12T19:29:12.100Z"
   },
   {
    "duration": 8,
    "start_time": "2024-06-12T19:29:16.782Z"
   },
   {
    "duration": 67,
    "start_time": "2024-06-12T19:29:16.794Z"
   },
   {
    "duration": 20,
    "start_time": "2024-06-12T19:29:16.865Z"
   },
   {
    "duration": 44,
    "start_time": "2024-06-12T19:29:16.891Z"
   },
   {
    "duration": 15,
    "start_time": "2024-06-12T19:29:16.938Z"
   },
   {
    "duration": 9,
    "start_time": "2024-06-12T19:29:16.957Z"
   },
   {
    "duration": 55,
    "start_time": "2024-06-12T19:29:16.969Z"
   },
   {
    "duration": 11,
    "start_time": "2024-06-12T19:29:17.027Z"
   },
   {
    "duration": 15,
    "start_time": "2024-06-12T19:29:17.042Z"
   },
   {
    "duration": 64,
    "start_time": "2024-06-12T19:29:17.060Z"
   },
   {
    "duration": 14,
    "start_time": "2024-06-12T19:29:17.128Z"
   },
   {
    "duration": 9,
    "start_time": "2024-06-12T19:29:17.145Z"
   },
   {
    "duration": 9,
    "start_time": "2024-06-12T19:29:17.163Z"
   },
   {
    "duration": 53,
    "start_time": "2024-06-12T19:29:17.175Z"
   },
   {
    "duration": 10,
    "start_time": "2024-06-12T19:29:17.232Z"
   },
   {
    "duration": 17,
    "start_time": "2024-06-12T19:29:17.245Z"
   },
   {
    "duration": 66,
    "start_time": "2024-06-12T19:29:17.265Z"
   },
   {
    "duration": 13,
    "start_time": "2024-06-12T19:29:17.334Z"
   },
   {
    "duration": 20,
    "start_time": "2024-06-12T19:29:17.354Z"
   },
   {
    "duration": 46,
    "start_time": "2024-06-12T19:29:17.377Z"
   },
   {
    "duration": 9,
    "start_time": "2024-06-12T19:29:17.426Z"
   },
   {
    "duration": 9,
    "start_time": "2024-06-12T19:29:17.438Z"
   },
   {
    "duration": 8,
    "start_time": "2024-06-12T19:29:17.451Z"
   },
   {
    "duration": 62,
    "start_time": "2024-06-12T19:29:17.462Z"
   },
   {
    "duration": 12,
    "start_time": "2024-06-12T19:29:17.528Z"
   },
   {
    "duration": 9,
    "start_time": "2024-06-12T19:29:17.543Z"
   },
   {
    "duration": 18,
    "start_time": "2024-06-12T19:29:17.555Z"
   },
   {
    "duration": 64,
    "start_time": "2024-06-12T19:29:17.577Z"
   },
   {
    "duration": 40,
    "start_time": "2024-06-12T19:29:17.644Z"
   },
   {
    "duration": 37,
    "start_time": "2024-06-12T19:29:17.687Z"
   },
   {
    "duration": 31,
    "start_time": "2024-06-12T19:29:17.728Z"
   },
   {
    "duration": 65,
    "start_time": "2024-06-12T19:29:17.762Z"
   },
   {
    "duration": 15,
    "start_time": "2024-06-12T19:29:17.830Z"
   },
   {
    "duration": 36,
    "start_time": "2024-06-12T19:29:17.848Z"
   },
   {
    "duration": 55,
    "start_time": "2024-06-12T19:29:17.887Z"
   },
   {
    "duration": 5,
    "start_time": "2024-06-12T19:29:17.945Z"
   },
   {
    "duration": 244,
    "start_time": "2024-06-12T19:29:17.954Z"
   },
   {
    "duration": 21,
    "start_time": "2024-06-12T19:29:18.202Z"
   },
   {
    "duration": 156,
    "start_time": "2024-06-12T19:29:18.227Z"
   },
   {
    "duration": 31,
    "start_time": "2024-06-12T19:29:18.392Z"
   },
   {
    "duration": 442,
    "start_time": "2024-06-12T19:29:18.426Z"
   },
   {
    "duration": 19,
    "start_time": "2024-06-12T19:29:18.872Z"
   },
   {
    "duration": 32,
    "start_time": "2024-06-12T19:29:18.894Z"
   },
   {
    "duration": 203,
    "start_time": "2024-06-12T19:29:18.929Z"
   },
   {
    "duration": 11,
    "start_time": "2024-06-12T19:29:19.136Z"
   },
   {
    "duration": 245,
    "start_time": "2024-06-12T19:29:19.150Z"
   },
   {
    "duration": 25,
    "start_time": "2024-06-12T19:29:19.398Z"
   },
   {
    "duration": 147,
    "start_time": "2024-06-12T19:29:19.425Z"
   },
   {
    "duration": 34,
    "start_time": "2024-06-12T19:29:19.576Z"
   },
   {
    "duration": 536,
    "start_time": "2024-06-12T19:29:19.625Z"
   },
   {
    "duration": 138,
    "start_time": "2024-06-12T19:29:20.166Z"
   },
   {
    "duration": 2651,
    "start_time": "2024-06-12T19:29:20.307Z"
   },
   {
    "duration": 10,
    "start_time": "2024-06-12T19:29:22.961Z"
   },
   {
    "duration": 47,
    "start_time": "2024-06-12T19:29:22.975Z"
   },
   {
    "duration": 98,
    "start_time": "2024-06-12T19:29:23.026Z"
   },
   {
    "duration": 7,
    "start_time": "2024-06-12T19:29:23.128Z"
   },
   {
    "duration": 57,
    "start_time": "2024-06-12T19:29:27.556Z"
   },
   {
    "duration": 54,
    "start_time": "2024-06-12T19:29:33.177Z"
   },
   {
    "duration": 8,
    "start_time": "2024-06-12T19:29:45.306Z"
   },
   {
    "duration": 6,
    "start_time": "2024-06-12T19:29:49.431Z"
   },
   {
    "duration": 5,
    "start_time": "2024-06-12T19:29:51.289Z"
   },
   {
    "duration": 10,
    "start_time": "2024-06-12T19:32:31.404Z"
   },
   {
    "duration": 683,
    "start_time": "2024-06-12T19:32:58.777Z"
   },
   {
    "duration": 20,
    "start_time": "2024-06-12T19:33:12.827Z"
   },
   {
    "duration": 5,
    "start_time": "2024-06-12T19:34:01.745Z"
   },
   {
    "duration": 4,
    "start_time": "2024-06-12T19:34:52.641Z"
   },
   {
    "duration": 1096,
    "start_time": "2024-06-12T19:34:54.935Z"
   },
   {
    "duration": 5,
    "start_time": "2024-06-12T19:35:41.594Z"
   },
   {
    "duration": 201,
    "start_time": "2024-06-12T19:35:44.485Z"
   },
   {
    "duration": 65157,
    "start_time": "2024-06-12T19:36:00.538Z"
   },
   {
    "duration": 63588,
    "start_time": "2024-06-12T19:37:16.559Z"
   },
   {
    "duration": 32,
    "start_time": "2024-06-12T19:39:09.808Z"
   },
   {
    "duration": 63388,
    "start_time": "2024-06-12T19:41:06.744Z"
   },
   {
    "duration": 28,
    "start_time": "2024-06-12T19:43:11.944Z"
   },
   {
    "duration": 17,
    "start_time": "2024-06-12T19:43:25.493Z"
   },
   {
    "duration": 1515,
    "start_time": "2024-06-12T19:43:40.766Z"
   },
   {
    "duration": 1798,
    "start_time": "2024-06-12T19:46:12.935Z"
   },
   {
    "duration": 9,
    "start_time": "2024-06-12T19:46:14.737Z"
   },
   {
    "duration": 54,
    "start_time": "2024-06-12T19:46:14.749Z"
   },
   {
    "duration": 20,
    "start_time": "2024-06-12T19:46:14.822Z"
   },
   {
    "duration": 25,
    "start_time": "2024-06-12T19:46:14.851Z"
   },
   {
    "duration": 15,
    "start_time": "2024-06-12T19:46:14.880Z"
   },
   {
    "duration": 9,
    "start_time": "2024-06-12T19:46:14.925Z"
   },
   {
    "duration": 16,
    "start_time": "2024-06-12T19:46:14.938Z"
   },
   {
    "duration": 10,
    "start_time": "2024-06-12T19:46:14.958Z"
   },
   {
    "duration": 58,
    "start_time": "2024-06-12T19:46:14.972Z"
   },
   {
    "duration": 20,
    "start_time": "2024-06-12T19:46:15.034Z"
   },
   {
    "duration": 15,
    "start_time": "2024-06-12T19:46:15.057Z"
   },
   {
    "duration": 50,
    "start_time": "2024-06-12T19:46:15.074Z"
   },
   {
    "duration": 8,
    "start_time": "2024-06-12T19:46:15.132Z"
   },
   {
    "duration": 10,
    "start_time": "2024-06-12T19:46:15.143Z"
   },
   {
    "duration": 8,
    "start_time": "2024-06-12T19:46:15.156Z"
   },
   {
    "duration": 61,
    "start_time": "2024-06-12T19:46:15.168Z"
   },
   {
    "duration": 19,
    "start_time": "2024-06-12T19:46:15.232Z"
   },
   {
    "duration": 11,
    "start_time": "2024-06-12T19:46:15.254Z"
   },
   {
    "duration": 55,
    "start_time": "2024-06-12T19:46:15.268Z"
   },
   {
    "duration": 9,
    "start_time": "2024-06-12T19:46:15.325Z"
   },
   {
    "duration": 8,
    "start_time": "2024-06-12T19:46:15.337Z"
   },
   {
    "duration": 8,
    "start_time": "2024-06-12T19:46:15.348Z"
   },
   {
    "duration": 9,
    "start_time": "2024-06-12T19:46:15.359Z"
   },
   {
    "duration": 61,
    "start_time": "2024-06-12T19:46:15.371Z"
   },
   {
    "duration": 14,
    "start_time": "2024-06-12T19:46:15.436Z"
   },
   {
    "duration": 8,
    "start_time": "2024-06-12T19:46:15.453Z"
   },
   {
    "duration": 59,
    "start_time": "2024-06-12T19:46:15.464Z"
   },
   {
    "duration": 19,
    "start_time": "2024-06-12T19:46:15.526Z"
   },
   {
    "duration": 40,
    "start_time": "2024-06-12T19:46:15.548Z"
   },
   {
    "duration": 8,
    "start_time": "2024-06-12T19:46:15.622Z"
   },
   {
    "duration": 29,
    "start_time": "2024-06-12T19:46:15.634Z"
   },
   {
    "duration": 60,
    "start_time": "2024-06-12T19:46:15.666Z"
   },
   {
    "duration": 19,
    "start_time": "2024-06-12T19:46:15.729Z"
   },
   {
    "duration": 35,
    "start_time": "2024-06-12T19:46:15.751Z"
   },
   {
    "duration": 45,
    "start_time": "2024-06-12T19:46:15.789Z"
   },
   {
    "duration": 5,
    "start_time": "2024-06-12T19:46:15.837Z"
   },
   {
    "duration": 246,
    "start_time": "2024-06-12T19:46:15.845Z"
   },
   {
    "duration": 8,
    "start_time": "2024-06-12T19:46:16.095Z"
   },
   {
    "duration": 161,
    "start_time": "2024-06-12T19:46:16.106Z"
   },
   {
    "duration": 12,
    "start_time": "2024-06-12T19:46:16.280Z"
   },
   {
    "duration": 464,
    "start_time": "2024-06-12T19:46:16.294Z"
   },
   {
    "duration": 19,
    "start_time": "2024-06-12T19:46:16.762Z"
   },
   {
    "duration": 39,
    "start_time": "2024-06-12T19:46:16.784Z"
   },
   {
    "duration": 193,
    "start_time": "2024-06-12T19:46:16.826Z"
   },
   {
    "duration": 11,
    "start_time": "2024-06-12T19:46:17.022Z"
   },
   {
    "duration": 266,
    "start_time": "2024-06-12T19:46:17.037Z"
   },
   {
    "duration": 18,
    "start_time": "2024-06-12T19:46:17.305Z"
   },
   {
    "duration": 161,
    "start_time": "2024-06-12T19:46:17.326Z"
   },
   {
    "duration": 36,
    "start_time": "2024-06-12T19:46:17.491Z"
   },
   {
    "duration": 421,
    "start_time": "2024-06-12T19:46:17.531Z"
   },
   {
    "duration": 199,
    "start_time": "2024-06-12T19:46:17.956Z"
   },
   {
    "duration": 2630,
    "start_time": "2024-06-12T19:46:18.159Z"
   },
   {
    "duration": 9,
    "start_time": "2024-06-12T19:46:20.793Z"
   },
   {
    "duration": 17,
    "start_time": "2024-06-12T19:46:20.823Z"
   },
   {
    "duration": 91,
    "start_time": "2024-06-12T19:46:20.844Z"
   },
   {
    "duration": 8,
    "start_time": "2024-06-12T19:46:20.938Z"
   },
   {
    "duration": 48,
    "start_time": "2024-06-12T19:46:20.950Z"
   },
   {
    "duration": 42,
    "start_time": "2024-06-12T19:46:21.024Z"
   },
   {
    "duration": 9,
    "start_time": "2024-06-12T19:46:21.069Z"
   },
   {
    "duration": 5,
    "start_time": "2024-06-12T19:46:21.082Z"
   },
   {
    "duration": 5,
    "start_time": "2024-06-12T19:46:21.124Z"
   },
   {
    "duration": 1185,
    "start_time": "2024-06-12T19:46:21.139Z"
   },
   {
    "duration": 9,
    "start_time": "2024-06-12T19:46:22.327Z"
   },
   {
    "duration": 882,
    "start_time": "2024-06-12T19:46:22.340Z"
   },
   {
    "duration": 16497,
    "start_time": "2024-06-12T19:46:23.226Z"
   },
   {
    "duration": 11105,
    "start_time": "2024-06-12T19:46:39.728Z"
   },
   {
    "duration": 166037,
    "start_time": "2024-06-12T19:46:50.836Z"
   },
   {
    "duration": 166167,
    "start_time": "2024-06-12T19:49:36.876Z"
   },
   {
    "duration": 507,
    "start_time": "2024-06-12T19:52:23.047Z"
   },
   {
    "duration": 0,
    "start_time": "2024-06-12T19:52:23.558Z"
   },
   {
    "duration": 0,
    "start_time": "2024-06-12T19:52:23.561Z"
   },
   {
    "duration": 0,
    "start_time": "2024-06-12T19:52:23.563Z"
   },
   {
    "duration": 84,
    "start_time": "2024-06-12T19:53:29.104Z"
   },
   {
    "duration": 128,
    "start_time": "2024-06-12T19:54:40.309Z"
   },
   {
    "duration": 19,
    "start_time": "2024-06-12T19:54:48.498Z"
   },
   {
    "duration": 16,
    "start_time": "2024-06-12T19:54:51.376Z"
   },
   {
    "duration": 6,
    "start_time": "2024-06-12T20:27:52.433Z"
   },
   {
    "duration": 1735,
    "start_time": "2024-06-12T20:36:31.551Z"
   },
   {
    "duration": 10,
    "start_time": "2024-06-12T20:36:33.291Z"
   },
   {
    "duration": 63,
    "start_time": "2024-06-12T20:36:33.304Z"
   },
   {
    "duration": 18,
    "start_time": "2024-06-12T20:36:33.370Z"
   },
   {
    "duration": 44,
    "start_time": "2024-06-12T20:36:33.393Z"
   },
   {
    "duration": 14,
    "start_time": "2024-06-12T20:36:33.440Z"
   },
   {
    "duration": 11,
    "start_time": "2024-06-12T20:36:33.458Z"
   },
   {
    "duration": 56,
    "start_time": "2024-06-12T20:36:33.472Z"
   },
   {
    "duration": 13,
    "start_time": "2024-06-12T20:36:33.535Z"
   },
   {
    "duration": 15,
    "start_time": "2024-06-12T20:36:33.551Z"
   },
   {
    "duration": 61,
    "start_time": "2024-06-12T20:36:33.570Z"
   },
   {
    "duration": 15,
    "start_time": "2024-06-12T20:36:33.634Z"
   },
   {
    "duration": 10,
    "start_time": "2024-06-12T20:36:33.653Z"
   },
   {
    "duration": 10,
    "start_time": "2024-06-12T20:36:33.671Z"
   },
   {
    "duration": 14,
    "start_time": "2024-06-12T20:36:33.725Z"
   },
   {
    "duration": 11,
    "start_time": "2024-06-12T20:36:33.743Z"
   },
   {
    "duration": 23,
    "start_time": "2024-06-12T20:36:33.758Z"
   },
   {
    "duration": 56,
    "start_time": "2024-06-12T20:36:33.787Z"
   },
   {
    "duration": 14,
    "start_time": "2024-06-12T20:36:33.847Z"
   },
   {
    "duration": 15,
    "start_time": "2024-06-12T20:36:33.865Z"
   },
   {
    "duration": 41,
    "start_time": "2024-06-12T20:36:33.884Z"
   },
   {
    "duration": 13,
    "start_time": "2024-06-12T20:36:33.929Z"
   },
   {
    "duration": 10,
    "start_time": "2024-06-12T20:36:33.948Z"
   },
   {
    "duration": 16,
    "start_time": "2024-06-12T20:36:33.961Z"
   },
   {
    "duration": 40,
    "start_time": "2024-06-12T20:36:33.984Z"
   },
   {
    "duration": 17,
    "start_time": "2024-06-12T20:36:34.028Z"
   },
   {
    "duration": 10,
    "start_time": "2024-06-12T20:36:34.049Z"
   },
   {
    "duration": 60,
    "start_time": "2024-06-12T20:36:34.063Z"
   },
   {
    "duration": 26,
    "start_time": "2024-06-12T20:36:34.127Z"
   },
   {
    "duration": 81,
    "start_time": "2024-06-12T20:36:34.157Z"
   },
   {
    "duration": 9,
    "start_time": "2024-06-12T20:36:34.242Z"
   },
   {
    "duration": 32,
    "start_time": "2024-06-12T20:36:34.255Z"
   },
   {
    "duration": 64,
    "start_time": "2024-06-12T20:36:34.290Z"
   },
   {
    "duration": 16,
    "start_time": "2024-06-12T20:36:34.357Z"
   },
   {
    "duration": 90,
    "start_time": "2024-06-12T20:36:34.377Z"
   },
   {
    "duration": 68,
    "start_time": "2024-06-12T20:36:34.476Z"
   },
   {
    "duration": 6,
    "start_time": "2024-06-12T20:36:34.548Z"
   },
   {
    "duration": 282,
    "start_time": "2024-06-12T20:36:34.558Z"
   },
   {
    "duration": 8,
    "start_time": "2024-06-12T20:36:34.844Z"
   },
   {
    "duration": 190,
    "start_time": "2024-06-12T20:36:34.856Z"
   },
   {
    "duration": 12,
    "start_time": "2024-06-12T20:36:35.055Z"
   },
   {
    "duration": 477,
    "start_time": "2024-06-12T20:36:35.070Z"
   },
   {
    "duration": 20,
    "start_time": "2024-06-12T20:36:35.551Z"
   },
   {
    "duration": 16,
    "start_time": "2024-06-12T20:36:35.575Z"
   },
   {
    "duration": 228,
    "start_time": "2024-06-12T20:36:35.595Z"
   },
   {
    "duration": 9,
    "start_time": "2024-06-12T20:36:35.826Z"
   },
   {
    "duration": 262,
    "start_time": "2024-06-12T20:36:35.839Z"
   },
   {
    "duration": 21,
    "start_time": "2024-06-12T20:36:36.106Z"
   },
   {
    "duration": 155,
    "start_time": "2024-06-12T20:36:36.131Z"
   },
   {
    "duration": 39,
    "start_time": "2024-06-12T20:36:36.291Z"
   },
   {
    "duration": 409,
    "start_time": "2024-06-12T20:36:36.334Z"
   },
   {
    "duration": 216,
    "start_time": "2024-06-12T20:36:36.746Z"
   },
   {
    "duration": 2553,
    "start_time": "2024-06-12T20:36:36.965Z"
   },
   {
    "duration": 9,
    "start_time": "2024-06-12T20:36:39.523Z"
   },
   {
    "duration": 14,
    "start_time": "2024-06-12T20:36:39.535Z"
   },
   {
    "duration": 112,
    "start_time": "2024-06-12T20:36:39.552Z"
   },
   {
    "duration": 7,
    "start_time": "2024-06-12T20:36:39.668Z"
   },
   {
    "duration": 89,
    "start_time": "2024-06-12T20:36:39.681Z"
   },
   {
    "duration": 76,
    "start_time": "2024-06-12T20:36:39.774Z"
   },
   {
    "duration": 10,
    "start_time": "2024-06-12T20:36:39.853Z"
   },
   {
    "duration": 5,
    "start_time": "2024-06-12T20:36:39.866Z"
   },
   {
    "duration": 7,
    "start_time": "2024-06-12T20:36:39.874Z"
   },
   {
    "duration": 1262,
    "start_time": "2024-06-12T20:36:39.885Z"
   },
   {
    "duration": 11,
    "start_time": "2024-06-12T20:36:41.224Z"
   },
   {
    "duration": 1018,
    "start_time": "2024-06-12T20:36:41.238Z"
   },
   {
    "duration": 16665,
    "start_time": "2024-06-12T20:36:42.259Z"
   },
   {
    "duration": 10523,
    "start_time": "2024-06-12T20:36:58.930Z"
   },
   {
    "duration": 120470,
    "start_time": "2024-06-12T20:37:09.457Z"
   },
   {
    "duration": 166611,
    "start_time": "2024-06-12T20:39:09.932Z"
   },
   {
    "duration": 115,
    "start_time": "2024-06-12T20:41:56.546Z"
   },
   {
    "duration": 24,
    "start_time": "2024-06-12T20:41:56.664Z"
   },
   {
    "duration": 38,
    "start_time": "2024-06-12T20:41:56.691Z"
   },
   {
    "duration": 22,
    "start_time": "2024-06-13T02:47:24.104Z"
   },
   {
    "duration": 344,
    "start_time": "2024-06-13T03:22:41.021Z"
   },
   {
    "duration": 5483,
    "start_time": "2024-06-13T03:22:47.569Z"
   },
   {
    "duration": 13,
    "start_time": "2024-06-13T03:22:53.055Z"
   },
   {
    "duration": 73,
    "start_time": "2024-06-13T03:22:53.071Z"
   },
   {
    "duration": 19,
    "start_time": "2024-06-13T03:22:53.147Z"
   },
   {
    "duration": 38,
    "start_time": "2024-06-13T03:22:53.172Z"
   },
   {
    "duration": 16,
    "start_time": "2024-06-13T03:22:53.213Z"
   },
   {
    "duration": 10,
    "start_time": "2024-06-13T03:22:53.232Z"
   },
   {
    "duration": 16,
    "start_time": "2024-06-13T03:22:53.245Z"
   },
   {
    "duration": 53,
    "start_time": "2024-06-13T03:22:53.265Z"
   },
   {
    "duration": 14,
    "start_time": "2024-06-13T03:22:53.321Z"
   },
   {
    "duration": 29,
    "start_time": "2024-06-13T03:22:53.338Z"
   },
   {
    "duration": 45,
    "start_time": "2024-06-13T03:22:53.369Z"
   },
   {
    "duration": 9,
    "start_time": "2024-06-13T03:22:53.417Z"
   },
   {
    "duration": 9,
    "start_time": "2024-06-13T03:22:53.437Z"
   },
   {
    "duration": 9,
    "start_time": "2024-06-13T03:22:53.450Z"
   },
   {
    "duration": 51,
    "start_time": "2024-06-13T03:22:53.462Z"
   },
   {
    "duration": 17,
    "start_time": "2024-06-13T03:22:53.516Z"
   },
   {
    "duration": 17,
    "start_time": "2024-06-13T03:22:53.537Z"
   },
   {
    "duration": 53,
    "start_time": "2024-06-13T03:22:53.557Z"
   },
   {
    "duration": 12,
    "start_time": "2024-06-13T03:22:53.613Z"
   },
   {
    "duration": 9,
    "start_time": "2024-06-13T03:22:53.627Z"
   },
   {
    "duration": 9,
    "start_time": "2024-06-13T03:22:53.640Z"
   },
   {
    "duration": 9,
    "start_time": "2024-06-13T03:22:53.651Z"
   },
   {
    "duration": 8,
    "start_time": "2024-06-13T03:22:53.708Z"
   },
   {
    "duration": 15,
    "start_time": "2024-06-13T03:22:53.719Z"
   },
   {
    "duration": 13,
    "start_time": "2024-06-13T03:22:53.737Z"
   },
   {
    "duration": 53,
    "start_time": "2024-06-13T03:22:53.753Z"
   },
   {
    "duration": 17,
    "start_time": "2024-06-13T03:22:53.809Z"
   },
   {
    "duration": 21,
    "start_time": "2024-06-13T03:22:53.829Z"
   },
   {
    "duration": 68,
    "start_time": "2024-06-13T03:22:53.854Z"
   },
   {
    "duration": 10,
    "start_time": "2024-06-13T03:22:53.924Z"
   },
   {
    "duration": 34,
    "start_time": "2024-06-13T03:22:53.937Z"
   },
   {
    "duration": 64,
    "start_time": "2024-06-13T03:22:53.974Z"
   },
   {
    "duration": 16,
    "start_time": "2024-06-13T03:22:54.040Z"
   },
   {
    "duration": 68,
    "start_time": "2024-06-13T03:22:54.058Z"
   },
   {
    "duration": 23,
    "start_time": "2024-06-13T03:22:54.129Z"
   },
   {
    "duration": 5,
    "start_time": "2024-06-13T03:22:54.157Z"
   },
   {
    "duration": 218,
    "start_time": "2024-06-13T03:22:54.166Z"
   },
   {
    "duration": 17,
    "start_time": "2024-06-13T03:22:54.388Z"
   },
   {
    "duration": 174,
    "start_time": "2024-06-13T03:22:54.408Z"
   },
   {
    "duration": 31,
    "start_time": "2024-06-13T03:22:54.592Z"
   },
   {
    "duration": 518,
    "start_time": "2024-06-13T03:22:54.626Z"
   },
   {
    "duration": 23,
    "start_time": "2024-06-13T03:22:55.147Z"
   },
   {
    "duration": 33,
    "start_time": "2024-06-13T03:22:55.173Z"
   },
   {
    "duration": 188,
    "start_time": "2024-06-13T03:22:55.210Z"
   },
   {
    "duration": 9,
    "start_time": "2024-06-13T03:22:55.408Z"
   },
   {
    "duration": 260,
    "start_time": "2024-06-13T03:22:55.422Z"
   },
   {
    "duration": 24,
    "start_time": "2024-06-13T03:22:55.685Z"
   },
   {
    "duration": 144,
    "start_time": "2024-06-13T03:22:55.711Z"
   },
   {
    "duration": 22,
    "start_time": "2024-06-13T03:22:55.858Z"
   },
   {
    "duration": 350,
    "start_time": "2024-06-13T03:22:55.883Z"
   },
   {
    "duration": 131,
    "start_time": "2024-06-13T03:22:56.237Z"
   },
   {
    "duration": 2577,
    "start_time": "2024-06-13T03:22:56.374Z"
   },
   {
    "duration": 9,
    "start_time": "2024-06-13T03:22:58.954Z"
   },
   {
    "duration": 16,
    "start_time": "2024-06-13T03:22:58.966Z"
   },
   {
    "duration": 102,
    "start_time": "2024-06-13T03:22:58.986Z"
   },
   {
    "duration": 18,
    "start_time": "2024-06-13T03:22:59.091Z"
   },
   {
    "duration": 49,
    "start_time": "2024-06-13T03:22:59.112Z"
   },
   {
    "duration": 68,
    "start_time": "2024-06-13T03:22:59.165Z"
   },
   {
    "duration": 8,
    "start_time": "2024-06-13T03:22:59.236Z"
   },
   {
    "duration": 4,
    "start_time": "2024-06-13T03:22:59.249Z"
   },
   {
    "duration": 5,
    "start_time": "2024-06-13T03:23:11.345Z"
   },
   {
    "duration": 5,
    "start_time": "2024-06-13T03:23:23.846Z"
   },
   {
    "duration": 1735,
    "start_time": "2024-06-13T04:33:36.514Z"
   },
   {
    "duration": 9,
    "start_time": "2024-06-13T04:33:38.252Z"
   },
   {
    "duration": 71,
    "start_time": "2024-06-13T04:33:38.265Z"
   },
   {
    "duration": 18,
    "start_time": "2024-06-13T04:33:38.340Z"
   },
   {
    "duration": 25,
    "start_time": "2024-06-13T04:33:38.361Z"
   },
   {
    "duration": 33,
    "start_time": "2024-06-13T04:33:38.388Z"
   },
   {
    "duration": 7,
    "start_time": "2024-06-13T04:33:38.426Z"
   },
   {
    "duration": 17,
    "start_time": "2024-06-13T04:33:38.436Z"
   },
   {
    "duration": 50,
    "start_time": "2024-06-13T04:33:38.456Z"
   },
   {
    "duration": 15,
    "start_time": "2024-06-13T04:33:38.513Z"
   },
   {
    "duration": 19,
    "start_time": "2024-06-13T04:33:38.531Z"
   },
   {
    "duration": 13,
    "start_time": "2024-06-13T04:33:38.553Z"
   },
   {
    "duration": 12,
    "start_time": "2024-06-13T04:33:38.607Z"
   },
   {
    "duration": 14,
    "start_time": "2024-06-13T04:33:38.622Z"
   },
   {
    "duration": 11,
    "start_time": "2024-06-13T04:33:38.642Z"
   },
   {
    "duration": 10,
    "start_time": "2024-06-13T04:33:38.655Z"
   },
   {
    "duration": 50,
    "start_time": "2024-06-13T04:33:38.669Z"
   },
   {
    "duration": 17,
    "start_time": "2024-06-13T04:33:38.722Z"
   },
   {
    "duration": 9,
    "start_time": "2024-06-13T04:33:38.742Z"
   },
   {
    "duration": 52,
    "start_time": "2024-06-13T04:33:38.754Z"
   },
   {
    "duration": 11,
    "start_time": "2024-06-13T04:33:38.810Z"
   },
   {
    "duration": 11,
    "start_time": "2024-06-13T04:33:38.824Z"
   },
   {
    "duration": 10,
    "start_time": "2024-06-13T04:33:38.839Z"
   },
   {
    "duration": 54,
    "start_time": "2024-06-13T04:33:38.852Z"
   },
   {
    "duration": 14,
    "start_time": "2024-06-13T04:33:38.909Z"
   },
   {
    "duration": 12,
    "start_time": "2024-06-13T04:33:38.927Z"
   },
   {
    "duration": 10,
    "start_time": "2024-06-13T04:33:38.941Z"
   },
   {
    "duration": 51,
    "start_time": "2024-06-13T04:33:38.961Z"
   },
   {
    "duration": 21,
    "start_time": "2024-06-13T04:33:39.015Z"
   },
   {
    "duration": 72,
    "start_time": "2024-06-13T04:33:39.039Z"
   },
   {
    "duration": 9,
    "start_time": "2024-06-13T04:33:39.113Z"
   },
   {
    "duration": 29,
    "start_time": "2024-06-13T04:33:39.125Z"
   },
   {
    "duration": 68,
    "start_time": "2024-06-13T04:33:39.157Z"
   },
   {
    "duration": 15,
    "start_time": "2024-06-13T04:33:39.228Z"
   },
   {
    "duration": 32,
    "start_time": "2024-06-13T04:33:39.246Z"
   },
   {
    "duration": 20,
    "start_time": "2024-06-13T04:33:39.308Z"
   },
   {
    "duration": 5,
    "start_time": "2024-06-13T04:33:39.330Z"
   },
   {
    "duration": 222,
    "start_time": "2024-06-13T04:33:39.338Z"
   },
   {
    "duration": 7,
    "start_time": "2024-06-13T04:33:39.565Z"
   },
   {
    "duration": 155,
    "start_time": "2024-06-13T04:33:39.575Z"
   },
   {
    "duration": 12,
    "start_time": "2024-06-13T04:33:39.732Z"
   },
   {
    "duration": 426,
    "start_time": "2024-06-13T04:33:39.746Z"
   },
   {
    "duration": 31,
    "start_time": "2024-06-13T04:33:40.175Z"
   },
   {
    "duration": 16,
    "start_time": "2024-06-13T04:33:40.209Z"
   },
   {
    "duration": 193,
    "start_time": "2024-06-13T04:33:40.229Z"
   },
   {
    "duration": 8,
    "start_time": "2024-06-13T04:33:40.425Z"
   },
   {
    "duration": 249,
    "start_time": "2024-06-13T04:33:40.438Z"
   },
   {
    "duration": 16,
    "start_time": "2024-06-13T04:33:40.690Z"
   },
   {
    "duration": 141,
    "start_time": "2024-06-13T04:33:40.709Z"
   },
   {
    "duration": 24,
    "start_time": "2024-06-13T04:33:40.852Z"
   },
   {
    "duration": 346,
    "start_time": "2024-06-13T04:33:40.878Z"
   },
   {
    "duration": 205,
    "start_time": "2024-06-13T04:33:41.227Z"
   },
   {
    "duration": 2485,
    "start_time": "2024-06-13T04:33:41.435Z"
   },
   {
    "duration": 9,
    "start_time": "2024-06-13T04:33:43.923Z"
   },
   {
    "duration": 15,
    "start_time": "2024-06-13T04:33:43.935Z"
   },
   {
    "duration": 107,
    "start_time": "2024-06-13T04:33:43.953Z"
   },
   {
    "duration": 6,
    "start_time": "2024-06-13T04:33:44.063Z"
   },
   {
    "duration": 68,
    "start_time": "2024-06-13T04:33:44.073Z"
   },
   {
    "duration": 40,
    "start_time": "2024-06-13T04:33:44.144Z"
   },
   {
    "duration": 8,
    "start_time": "2024-06-13T04:33:44.207Z"
   },
   {
    "duration": 5,
    "start_time": "2024-06-13T04:33:44.217Z"
   },
   {
    "duration": 5,
    "start_time": "2024-06-13T04:33:44.225Z"
   },
   {
    "duration": 1080,
    "start_time": "2024-06-13T04:33:44.233Z"
   },
   {
    "duration": 8,
    "start_time": "2024-06-13T04:33:45.316Z"
   },
   {
    "duration": 880,
    "start_time": "2024-06-13T04:33:45.327Z"
   },
   {
    "duration": 15704,
    "start_time": "2024-06-13T04:33:46.210Z"
   },
   {
    "duration": 9906,
    "start_time": "2024-06-13T04:34:01.918Z"
   },
   {
    "duration": 109907,
    "start_time": "2024-06-13T04:34:11.828Z"
   },
   {
    "duration": 163565,
    "start_time": "2024-06-13T04:36:01.742Z"
   },
   {
    "duration": 104,
    "start_time": "2024-06-13T04:38:45.310Z"
   },
   {
    "duration": 17,
    "start_time": "2024-06-13T04:38:45.417Z"
   },
   {
    "duration": 14,
    "start_time": "2024-06-13T04:38:45.437Z"
   },
   {
    "duration": 1747,
    "start_time": "2024-06-13T05:54:13.763Z"
   },
   {
    "duration": 12,
    "start_time": "2024-06-13T05:54:15.514Z"
   },
   {
    "duration": 55,
    "start_time": "2024-06-13T05:54:15.529Z"
   },
   {
    "duration": 27,
    "start_time": "2024-06-13T05:54:15.616Z"
   },
   {
    "duration": 31,
    "start_time": "2024-06-13T05:54:15.652Z"
   },
   {
    "duration": 34,
    "start_time": "2024-06-13T05:54:15.686Z"
   },
   {
    "duration": 10,
    "start_time": "2024-06-13T05:54:15.723Z"
   },
   {
    "duration": 20,
    "start_time": "2024-06-13T05:54:15.736Z"
   },
   {
    "duration": 48,
    "start_time": "2024-06-13T05:54:15.760Z"
   },
   {
    "duration": 14,
    "start_time": "2024-06-13T05:54:15.813Z"
   },
   {
    "duration": 22,
    "start_time": "2024-06-13T05:54:15.830Z"
   },
   {
    "duration": 54,
    "start_time": "2024-06-13T05:54:15.855Z"
   },
   {
    "duration": 12,
    "start_time": "2024-06-13T05:54:15.912Z"
   },
   {
    "duration": 11,
    "start_time": "2024-06-13T05:54:15.932Z"
   },
   {
    "duration": 10,
    "start_time": "2024-06-13T05:54:15.946Z"
   },
   {
    "duration": 49,
    "start_time": "2024-06-13T05:54:15.959Z"
   },
   {
    "duration": 21,
    "start_time": "2024-06-13T05:54:16.012Z"
   },
   {
    "duration": 24,
    "start_time": "2024-06-13T05:54:16.036Z"
   },
   {
    "duration": 45,
    "start_time": "2024-06-13T05:54:16.063Z"
   },
   {
    "duration": 19,
    "start_time": "2024-06-13T05:54:16.111Z"
   },
   {
    "duration": 10,
    "start_time": "2024-06-13T05:54:16.133Z"
   },
   {
    "duration": 11,
    "start_time": "2024-06-13T05:54:16.146Z"
   },
   {
    "duration": 47,
    "start_time": "2024-06-13T05:54:16.161Z"
   },
   {
    "duration": 10,
    "start_time": "2024-06-13T05:54:16.211Z"
   },
   {
    "duration": 16,
    "start_time": "2024-06-13T05:54:16.227Z"
   },
   {
    "duration": 17,
    "start_time": "2024-06-13T05:54:16.247Z"
   },
   {
    "duration": 49,
    "start_time": "2024-06-13T05:54:16.267Z"
   },
   {
    "duration": 18,
    "start_time": "2024-06-13T05:54:16.319Z"
   },
   {
    "duration": 24,
    "start_time": "2024-06-13T05:54:16.341Z"
   },
   {
    "duration": 39,
    "start_time": "2024-06-13T05:54:16.407Z"
   },
   {
    "duration": 9,
    "start_time": "2024-06-13T05:54:16.449Z"
   },
   {
    "duration": 62,
    "start_time": "2024-06-13T05:54:16.461Z"
   },
   {
    "duration": 42,
    "start_time": "2024-06-13T05:54:16.526Z"
   },
   {
    "duration": 42,
    "start_time": "2024-06-13T05:54:16.571Z"
   },
   {
    "duration": 43,
    "start_time": "2024-06-13T05:54:16.616Z"
   },
   {
    "duration": 43,
    "start_time": "2024-06-13T05:54:16.662Z"
   },
   {
    "duration": 8,
    "start_time": "2024-06-13T05:54:16.710Z"
   },
   {
    "duration": 269,
    "start_time": "2024-06-13T05:54:16.723Z"
   },
   {
    "duration": 13,
    "start_time": "2024-06-13T05:54:16.995Z"
   },
   {
    "duration": 175,
    "start_time": "2024-06-13T05:54:17.012Z"
   },
   {
    "duration": 14,
    "start_time": "2024-06-13T05:54:17.209Z"
   },
   {
    "duration": 455,
    "start_time": "2024-06-13T05:54:17.227Z"
   },
   {
    "duration": 31,
    "start_time": "2024-06-13T05:54:17.685Z"
   },
   {
    "duration": 21,
    "start_time": "2024-06-13T05:54:17.719Z"
   },
   {
    "duration": 242,
    "start_time": "2024-06-13T05:54:17.743Z"
   },
   {
    "duration": 15,
    "start_time": "2024-06-13T05:54:17.988Z"
   },
   {
    "duration": 280,
    "start_time": "2024-06-13T05:54:18.007Z"
   },
   {
    "duration": 25,
    "start_time": "2024-06-13T05:54:18.291Z"
   },
   {
    "duration": 151,
    "start_time": "2024-06-13T05:54:18.320Z"
   },
   {
    "duration": 40,
    "start_time": "2024-06-13T05:54:18.474Z"
   },
   {
    "duration": 403,
    "start_time": "2024-06-13T05:54:18.517Z"
   },
   {
    "duration": 201,
    "start_time": "2024-06-13T05:54:18.923Z"
   },
   {
    "duration": 2511,
    "start_time": "2024-06-13T05:54:19.127Z"
   },
   {
    "duration": 8,
    "start_time": "2024-06-13T05:54:21.641Z"
   },
   {
    "duration": 15,
    "start_time": "2024-06-13T05:54:21.652Z"
   },
   {
    "duration": 103,
    "start_time": "2024-06-13T05:54:21.669Z"
   },
   {
    "duration": 5,
    "start_time": "2024-06-13T05:54:21.775Z"
   },
   {
    "duration": 67,
    "start_time": "2024-06-13T05:54:21.784Z"
   },
   {
    "duration": 61,
    "start_time": "2024-06-13T05:54:21.854Z"
   },
   {
    "duration": 9,
    "start_time": "2024-06-13T05:54:21.918Z"
   },
   {
    "duration": 5,
    "start_time": "2024-06-13T05:54:21.929Z"
   },
   {
    "duration": 5,
    "start_time": "2024-06-13T05:54:21.937Z"
   },
   {
    "duration": 1162,
    "start_time": "2024-06-13T05:54:21.946Z"
   },
   {
    "duration": 9,
    "start_time": "2024-06-13T05:54:23.110Z"
   },
   {
    "duration": 931,
    "start_time": "2024-06-13T05:54:23.123Z"
   },
   {
    "duration": 16361,
    "start_time": "2024-06-13T05:54:24.064Z"
   },
   {
    "duration": 10596,
    "start_time": "2024-06-13T05:54:40.428Z"
   },
   {
    "duration": 110395,
    "start_time": "2024-06-13T05:54:51.029Z"
   },
   {
    "duration": 170071,
    "start_time": "2024-06-13T05:56:41.427Z"
   },
   {
    "duration": 84,
    "start_time": "2024-06-13T05:59:31.506Z"
   },
   {
    "duration": 27,
    "start_time": "2024-06-13T05:59:31.593Z"
   },
   {
    "duration": 16,
    "start_time": "2024-06-13T05:59:31.622Z"
   },
   {
    "duration": 5372,
    "start_time": "2024-06-23T15:26:42.169Z"
   },
   {
    "duration": 18,
    "start_time": "2024-06-23T15:26:47.544Z"
   },
   {
    "duration": 90,
    "start_time": "2024-06-23T15:26:47.564Z"
   },
   {
    "duration": 17,
    "start_time": "2024-06-23T15:26:47.660Z"
   },
   {
    "duration": 29,
    "start_time": "2024-06-23T15:26:47.680Z"
   },
   {
    "duration": 16,
    "start_time": "2024-06-23T15:26:47.712Z"
   },
   {
    "duration": 11,
    "start_time": "2024-06-23T15:26:47.731Z"
   },
   {
    "duration": 18,
    "start_time": "2024-06-23T15:26:47.745Z"
   },
   {
    "duration": 10,
    "start_time": "2024-06-23T15:26:47.808Z"
   },
   {
    "duration": 13,
    "start_time": "2024-06-23T15:26:47.825Z"
   },
   {
    "duration": 20,
    "start_time": "2024-06-23T15:26:47.841Z"
   },
   {
    "duration": 55,
    "start_time": "2024-06-23T15:26:47.864Z"
   },
   {
    "duration": 10,
    "start_time": "2024-06-23T15:26:47.921Z"
   },
   {
    "duration": 10,
    "start_time": "2024-06-23T15:26:47.935Z"
   },
   {
    "duration": 9,
    "start_time": "2024-06-23T15:26:47.947Z"
   },
   {
    "duration": 47,
    "start_time": "2024-06-23T15:26:47.959Z"
   },
   {
    "duration": 15,
    "start_time": "2024-06-23T15:26:48.014Z"
   },
   {
    "duration": 17,
    "start_time": "2024-06-23T15:26:48.033Z"
   },
   {
    "duration": 10,
    "start_time": "2024-06-23T15:26:48.053Z"
   },
   {
    "duration": 51,
    "start_time": "2024-06-23T15:26:48.065Z"
   },
   {
    "duration": 10,
    "start_time": "2024-06-23T15:26:48.121Z"
   },
   {
    "duration": 9,
    "start_time": "2024-06-23T15:26:48.133Z"
   },
   {
    "duration": 8,
    "start_time": "2024-06-23T15:26:48.145Z"
   },
   {
    "duration": 56,
    "start_time": "2024-06-23T15:26:48.157Z"
   },
   {
    "duration": 16,
    "start_time": "2024-06-23T15:26:48.216Z"
   },
   {
    "duration": 13,
    "start_time": "2024-06-23T15:26:48.235Z"
   },
   {
    "duration": 54,
    "start_time": "2024-06-23T15:26:48.252Z"
   },
   {
    "duration": 14,
    "start_time": "2024-06-23T15:26:48.314Z"
   },
   {
    "duration": 21,
    "start_time": "2024-06-23T15:26:48.331Z"
   },
   {
    "duration": 72,
    "start_time": "2024-06-23T15:26:48.355Z"
   },
   {
    "duration": 8,
    "start_time": "2024-06-23T15:26:48.430Z"
   },
   {
    "duration": 30,
    "start_time": "2024-06-23T15:26:48.441Z"
   },
   {
    "duration": 61,
    "start_time": "2024-06-23T15:26:48.473Z"
   },
   {
    "duration": 16,
    "start_time": "2024-06-23T15:26:48.537Z"
   },
   {
    "duration": 64,
    "start_time": "2024-06-23T15:26:48.556Z"
   },
   {
    "duration": 23,
    "start_time": "2024-06-23T15:26:48.623Z"
   },
   {
    "duration": 4,
    "start_time": "2024-06-23T15:26:48.649Z"
   },
   {
    "duration": 252,
    "start_time": "2024-06-23T15:26:48.657Z"
   },
   {
    "duration": 8,
    "start_time": "2024-06-23T15:26:48.913Z"
   },
   {
    "duration": 224,
    "start_time": "2024-06-23T15:26:48.924Z"
   },
   {
    "duration": 6,
    "start_time": "2024-06-23T15:29:58.626Z"
   },
   {
    "duration": 113,
    "start_time": "2024-06-23T15:30:02.739Z"
   },
   {
    "duration": 1822,
    "start_time": "2024-06-23T15:30:13.641Z"
   },
   {
    "duration": 10,
    "start_time": "2024-06-23T15:30:15.467Z"
   },
   {
    "duration": 72,
    "start_time": "2024-06-23T15:30:15.482Z"
   },
   {
    "duration": 19,
    "start_time": "2024-06-23T15:30:15.557Z"
   },
   {
    "duration": 46,
    "start_time": "2024-06-23T15:30:15.581Z"
   },
   {
    "duration": 15,
    "start_time": "2024-06-23T15:30:15.631Z"
   },
   {
    "duration": 11,
    "start_time": "2024-06-23T15:30:15.650Z"
   },
   {
    "duration": 55,
    "start_time": "2024-06-23T15:30:15.665Z"
   },
   {
    "duration": 14,
    "start_time": "2024-06-23T15:30:15.725Z"
   },
   {
    "duration": 14,
    "start_time": "2024-06-23T15:30:15.743Z"
   },
   {
    "duration": 57,
    "start_time": "2024-06-23T15:30:15.760Z"
   },
   {
    "duration": 14,
    "start_time": "2024-06-23T15:30:15.821Z"
   },
   {
    "duration": 9,
    "start_time": "2024-06-23T15:30:15.837Z"
   },
   {
    "duration": 8,
    "start_time": "2024-06-23T15:30:15.854Z"
   },
   {
    "duration": 10,
    "start_time": "2024-06-23T15:30:15.905Z"
   },
   {
    "duration": 9,
    "start_time": "2024-06-23T15:30:15.921Z"
   },
   {
    "duration": 20,
    "start_time": "2024-06-23T15:30:15.933Z"
   },
   {
    "duration": 60,
    "start_time": "2024-06-23T15:30:15.956Z"
   },
   {
    "duration": 13,
    "start_time": "2024-06-23T15:30:16.023Z"
   },
   {
    "duration": 12,
    "start_time": "2024-06-23T15:30:16.043Z"
   },
   {
    "duration": 8,
    "start_time": "2024-06-23T15:30:16.058Z"
   },
   {
    "duration": 43,
    "start_time": "2024-06-23T15:30:16.069Z"
   },
   {
    "duration": 9,
    "start_time": "2024-06-23T15:30:16.115Z"
   },
   {
    "duration": 11,
    "start_time": "2024-06-23T15:30:16.127Z"
   },
   {
    "duration": 16,
    "start_time": "2024-06-23T15:30:16.142Z"
   },
   {
    "duration": 14,
    "start_time": "2024-06-23T15:30:16.205Z"
   },
   {
    "duration": 8,
    "start_time": "2024-06-23T15:30:16.222Z"
   },
   {
    "duration": 15,
    "start_time": "2024-06-23T15:30:16.234Z"
   },
   {
    "duration": 64,
    "start_time": "2024-06-23T15:30:16.252Z"
   },
   {
    "duration": 44,
    "start_time": "2024-06-23T15:30:16.319Z"
   },
   {
    "duration": 40,
    "start_time": "2024-06-23T15:30:16.367Z"
   },
   {
    "duration": 31,
    "start_time": "2024-06-23T15:30:16.410Z"
   },
   {
    "duration": 66,
    "start_time": "2024-06-23T15:30:16.444Z"
   },
   {
    "duration": 19,
    "start_time": "2024-06-23T15:30:16.513Z"
   },
   {
    "duration": 45,
    "start_time": "2024-06-23T15:30:16.536Z"
   },
   {
    "duration": 27,
    "start_time": "2024-06-23T15:30:16.611Z"
   },
   {
    "duration": 5,
    "start_time": "2024-06-23T15:30:16.641Z"
   },
   {
    "duration": 245,
    "start_time": "2024-06-23T15:30:16.649Z"
   },
   {
    "duration": 12,
    "start_time": "2024-06-23T15:30:16.898Z"
   },
   {
    "duration": 143,
    "start_time": "2024-06-23T15:31:02.458Z"
   },
   {
    "duration": 423,
    "start_time": "2024-06-23T15:31:47.866Z"
   },
   {
    "duration": 18,
    "start_time": "2024-06-23T15:32:08.486Z"
   },
   {
    "duration": 14,
    "start_time": "2024-06-23T15:32:10.657Z"
   },
   {
    "duration": 171,
    "start_time": "2024-06-23T15:32:17.645Z"
   },
   {
    "duration": 216,
    "start_time": "2024-06-23T15:32:47.244Z"
   },
   {
    "duration": 9,
    "start_time": "2024-06-23T15:34:12.880Z"
   },
   {
    "duration": 129,
    "start_time": "2024-06-23T15:34:15.282Z"
   },
   {
    "duration": 127,
    "start_time": "2024-06-23T15:34:42.912Z"
   },
   {
    "duration": 21,
    "start_time": "2024-06-23T15:35:16.646Z"
   },
   {
    "duration": 455,
    "start_time": "2024-06-23T15:38:06.159Z"
   },
   {
    "duration": 2504,
    "start_time": "2024-06-23T15:38:53.271Z"
   },
   {
    "duration": 221,
    "start_time": "2024-06-23T15:42:14.413Z"
   },
   {
    "duration": 1686,
    "start_time": "2024-06-23T17:24:15.351Z"
   },
   {
    "duration": 8,
    "start_time": "2024-06-23T17:24:17.043Z"
   },
   {
    "duration": 58,
    "start_time": "2024-06-23T17:24:17.054Z"
   },
   {
    "duration": 18,
    "start_time": "2024-06-23T17:24:17.115Z"
   },
   {
    "duration": 24,
    "start_time": "2024-06-23T17:24:17.138Z"
   },
   {
    "duration": 46,
    "start_time": "2024-06-23T17:24:17.165Z"
   },
   {
    "duration": 8,
    "start_time": "2024-06-23T17:24:17.217Z"
   },
   {
    "duration": 16,
    "start_time": "2024-06-23T17:24:17.228Z"
   },
   {
    "duration": 11,
    "start_time": "2024-06-23T17:24:17.247Z"
   },
   {
    "duration": 49,
    "start_time": "2024-06-23T17:24:17.261Z"
   },
   {
    "duration": 22,
    "start_time": "2024-06-23T17:24:17.313Z"
   },
   {
    "duration": 12,
    "start_time": "2024-06-23T17:24:17.338Z"
   },
   {
    "duration": 9,
    "start_time": "2024-06-23T17:24:17.352Z"
   },
   {
    "duration": 9,
    "start_time": "2024-06-23T17:24:17.405Z"
   },
   {
    "duration": 11,
    "start_time": "2024-06-23T17:24:17.417Z"
   },
   {
    "duration": 8,
    "start_time": "2024-06-23T17:24:17.433Z"
   },
   {
    "duration": 16,
    "start_time": "2024-06-23T17:24:17.444Z"
   },
   {
    "duration": 59,
    "start_time": "2024-06-23T17:24:17.463Z"
   },
   {
    "duration": 11,
    "start_time": "2024-06-23T17:24:17.524Z"
   },
   {
    "duration": 10,
    "start_time": "2024-06-23T17:24:17.538Z"
   },
   {
    "duration": 9,
    "start_time": "2024-06-23T17:24:17.551Z"
   },
   {
    "duration": 8,
    "start_time": "2024-06-23T17:24:17.608Z"
   },
   {
    "duration": 8,
    "start_time": "2024-06-23T17:24:17.619Z"
   },
   {
    "duration": 8,
    "start_time": "2024-06-23T17:24:17.630Z"
   },
   {
    "duration": 14,
    "start_time": "2024-06-23T17:24:17.641Z"
   },
   {
    "duration": 58,
    "start_time": "2024-06-23T17:24:17.658Z"
   },
   {
    "duration": 8,
    "start_time": "2024-06-23T17:24:17.719Z"
   },
   {
    "duration": 17,
    "start_time": "2024-06-23T17:24:17.730Z"
   },
   {
    "duration": 59,
    "start_time": "2024-06-23T17:24:17.750Z"
   },
   {
    "duration": 37,
    "start_time": "2024-06-23T17:24:17.812Z"
   },
   {
    "duration": 9,
    "start_time": "2024-06-23T17:24:17.853Z"
   },
   {
    "duration": 66,
    "start_time": "2024-06-23T17:24:17.864Z"
   },
   {
    "duration": 45,
    "start_time": "2024-06-23T17:24:17.933Z"
   },
   {
    "duration": 40,
    "start_time": "2024-06-23T17:24:17.982Z"
   },
   {
    "duration": 40,
    "start_time": "2024-06-23T17:24:18.025Z"
   },
   {
    "duration": 43,
    "start_time": "2024-06-23T17:24:18.069Z"
   },
   {
    "duration": 5,
    "start_time": "2024-06-23T17:24:18.117Z"
   },
   {
    "duration": 222,
    "start_time": "2024-06-23T17:24:18.125Z"
   },
   {
    "duration": 7,
    "start_time": "2024-06-23T17:24:18.350Z"
   },
   {
    "duration": 164,
    "start_time": "2024-06-23T17:24:18.361Z"
   },
   {
    "duration": 11,
    "start_time": "2024-06-23T17:24:18.534Z"
   },
   {
    "duration": 436,
    "start_time": "2024-06-23T17:24:18.548Z"
   },
   {
    "duration": 30,
    "start_time": "2024-06-23T17:24:18.987Z"
   },
   {
    "duration": 17,
    "start_time": "2024-06-23T17:24:19.020Z"
   },
   {
    "duration": 202,
    "start_time": "2024-06-23T17:24:19.041Z"
   },
   {
    "duration": 10,
    "start_time": "2024-06-23T17:24:19.246Z"
   },
   {
    "duration": 240,
    "start_time": "2024-06-23T17:24:19.259Z"
   },
   {
    "duration": 9,
    "start_time": "2024-06-23T17:24:19.507Z"
   },
   {
    "duration": 140,
    "start_time": "2024-06-23T17:24:19.519Z"
   },
   {
    "duration": 21,
    "start_time": "2024-06-23T17:24:19.662Z"
   },
   {
    "duration": 347,
    "start_time": "2024-06-23T17:24:19.686Z"
   },
   {
    "duration": 225,
    "start_time": "2024-06-23T17:24:20.036Z"
   },
   {
    "duration": 2535,
    "start_time": "2024-06-23T17:24:20.264Z"
   },
   {
    "duration": 9,
    "start_time": "2024-06-23T17:24:22.802Z"
   },
   {
    "duration": 14,
    "start_time": "2024-06-23T17:24:22.814Z"
   },
   {
    "duration": 105,
    "start_time": "2024-06-23T17:24:22.831Z"
   },
   {
    "duration": 6,
    "start_time": "2024-06-23T17:24:22.939Z"
   },
   {
    "duration": 69,
    "start_time": "2024-06-23T17:24:22.948Z"
   },
   {
    "duration": 41,
    "start_time": "2024-06-23T17:24:23.020Z"
   },
   {
    "duration": 8,
    "start_time": "2024-06-23T17:24:23.064Z"
   },
   {
    "duration": 33,
    "start_time": "2024-06-23T17:24:23.076Z"
   },
   {
    "duration": 7,
    "start_time": "2024-06-23T17:24:23.112Z"
   },
   {
    "duration": 1087,
    "start_time": "2024-06-23T17:24:23.122Z"
   },
   {
    "duration": 10,
    "start_time": "2024-06-23T17:24:24.213Z"
   },
   {
    "duration": 894,
    "start_time": "2024-06-23T17:24:24.226Z"
   },
   {
    "duration": 15656,
    "start_time": "2024-06-23T17:24:25.123Z"
   },
   {
    "duration": 9843,
    "start_time": "2024-06-23T17:24:40.781Z"
   },
   {
    "duration": 101993,
    "start_time": "2024-06-23T17:24:50.627Z"
   },
   {
    "duration": 165958,
    "start_time": "2024-06-23T17:26:32.623Z"
   },
   {
    "duration": 96,
    "start_time": "2024-06-23T17:29:18.585Z"
   },
   {
    "duration": 31,
    "start_time": "2024-06-23T17:29:18.684Z"
   },
   {
    "duration": 15,
    "start_time": "2024-06-23T17:29:18.718Z"
   },
   {
    "duration": 20,
    "start_time": "2024-06-23T17:47:45.298Z"
   },
   {
    "duration": 8,
    "start_time": "2024-06-23T17:49:15.070Z"
   },
   {
    "duration": 1786,
    "start_time": "2024-06-23T18:07:24.427Z"
   },
   {
    "duration": 11,
    "start_time": "2024-06-23T18:07:26.217Z"
   },
   {
    "duration": 78,
    "start_time": "2024-06-23T18:07:26.231Z"
   },
   {
    "duration": 23,
    "start_time": "2024-06-23T18:07:26.315Z"
   },
   {
    "duration": 32,
    "start_time": "2024-06-23T18:07:26.341Z"
   },
   {
    "duration": 40,
    "start_time": "2024-06-23T18:07:26.376Z"
   },
   {
    "duration": 9,
    "start_time": "2024-06-23T18:07:26.420Z"
   },
   {
    "duration": 17,
    "start_time": "2024-06-23T18:07:26.432Z"
   },
   {
    "duration": 55,
    "start_time": "2024-06-23T18:07:26.452Z"
   },
   {
    "duration": 13,
    "start_time": "2024-06-23T18:07:26.517Z"
   },
   {
    "duration": 21,
    "start_time": "2024-06-23T18:07:26.534Z"
   },
   {
    "duration": 46,
    "start_time": "2024-06-23T18:07:26.562Z"
   },
   {
    "duration": 10,
    "start_time": "2024-06-23T18:07:26.614Z"
   },
   {
    "duration": 12,
    "start_time": "2024-06-23T18:07:26.627Z"
   },
   {
    "duration": 12,
    "start_time": "2024-06-23T18:07:26.643Z"
   },
   {
    "duration": 47,
    "start_time": "2024-06-23T18:07:26.659Z"
   },
   {
    "duration": 19,
    "start_time": "2024-06-23T18:07:26.710Z"
   },
   {
    "duration": 18,
    "start_time": "2024-06-23T18:07:26.732Z"
   },
   {
    "duration": 52,
    "start_time": "2024-06-23T18:07:26.754Z"
   },
   {
    "duration": 13,
    "start_time": "2024-06-23T18:07:26.810Z"
   },
   {
    "duration": 8,
    "start_time": "2024-06-23T18:07:26.829Z"
   },
   {
    "duration": 9,
    "start_time": "2024-06-23T18:07:26.840Z"
   },
   {
    "duration": 52,
    "start_time": "2024-06-23T18:07:26.853Z"
   },
   {
    "duration": 9,
    "start_time": "2024-06-23T18:07:26.908Z"
   },
   {
    "duration": 23,
    "start_time": "2024-06-23T18:07:26.920Z"
   },
   {
    "duration": 16,
    "start_time": "2024-06-23T18:07:26.946Z"
   },
   {
    "duration": 40,
    "start_time": "2024-06-23T18:07:26.966Z"
   },
   {
    "duration": 17,
    "start_time": "2024-06-23T18:07:27.015Z"
   },
   {
    "duration": 20,
    "start_time": "2024-06-23T18:07:27.035Z"
   },
   {
    "duration": 77,
    "start_time": "2024-06-23T18:07:27.059Z"
   },
   {
    "duration": 10,
    "start_time": "2024-06-23T18:07:27.139Z"
   },
   {
    "duration": 56,
    "start_time": "2024-06-23T18:07:27.154Z"
   },
   {
    "duration": 43,
    "start_time": "2024-06-23T18:07:27.213Z"
   },
   {
    "duration": 46,
    "start_time": "2024-06-23T18:07:27.260Z"
   },
   {
    "duration": 48,
    "start_time": "2024-06-23T18:07:27.310Z"
   },
   {
    "duration": 51,
    "start_time": "2024-06-23T18:07:27.362Z"
   },
   {
    "duration": 4,
    "start_time": "2024-06-23T18:07:27.419Z"
   },
   {
    "duration": 214,
    "start_time": "2024-06-23T18:07:27.429Z"
   },
   {
    "duration": 9,
    "start_time": "2024-06-23T18:07:27.646Z"
   },
   {
    "duration": 187,
    "start_time": "2024-06-23T18:07:27.663Z"
   },
   {
    "duration": 14,
    "start_time": "2024-06-23T18:07:27.853Z"
   },
   {
    "duration": 447,
    "start_time": "2024-06-23T18:07:27.870Z"
   },
   {
    "duration": 20,
    "start_time": "2024-06-23T18:07:28.320Z"
   },
   {
    "duration": 20,
    "start_time": "2024-06-23T18:07:28.347Z"
   },
   {
    "duration": 276,
    "start_time": "2024-06-23T18:07:28.371Z"
   },
   {
    "duration": 11,
    "start_time": "2024-06-23T18:07:28.651Z"
   },
   {
    "duration": 306,
    "start_time": "2024-06-23T18:07:28.667Z"
   },
   {
    "duration": 9,
    "start_time": "2024-06-23T18:07:28.976Z"
   },
   {
    "duration": 144,
    "start_time": "2024-06-23T18:07:29.006Z"
   },
   {
    "duration": 23,
    "start_time": "2024-06-23T18:07:29.154Z"
   },
   {
    "duration": 440,
    "start_time": "2024-06-23T18:07:29.181Z"
   },
   {
    "duration": 218,
    "start_time": "2024-06-23T18:07:29.625Z"
   },
   {
    "duration": 1737,
    "start_time": "2024-06-23T18:08:16.919Z"
   },
   {
    "duration": 7,
    "start_time": "2024-06-23T18:08:18.660Z"
   },
   {
    "duration": 78,
    "start_time": "2024-06-23T18:08:18.670Z"
   },
   {
    "duration": 17,
    "start_time": "2024-06-23T18:08:18.753Z"
   },
   {
    "duration": 36,
    "start_time": "2024-06-23T18:08:18.773Z"
   },
   {
    "duration": 17,
    "start_time": "2024-06-23T18:08:18.812Z"
   },
   {
    "duration": 9,
    "start_time": "2024-06-23T18:08:18.832Z"
   },
   {
    "duration": 15,
    "start_time": "2024-06-23T18:08:18.844Z"
   },
   {
    "duration": 53,
    "start_time": "2024-06-23T18:08:18.863Z"
   },
   {
    "duration": 17,
    "start_time": "2024-06-23T18:08:18.924Z"
   },
   {
    "duration": 23,
    "start_time": "2024-06-23T18:08:18.944Z"
   },
   {
    "duration": 12,
    "start_time": "2024-06-23T18:08:19.006Z"
   },
   {
    "duration": 9,
    "start_time": "2024-06-23T18:08:19.021Z"
   },
   {
    "duration": 10,
    "start_time": "2024-06-23T18:08:19.032Z"
   },
   {
    "duration": 9,
    "start_time": "2024-06-23T18:08:19.044Z"
   },
   {
    "duration": 53,
    "start_time": "2024-06-23T18:08:19.057Z"
   },
   {
    "duration": 16,
    "start_time": "2024-06-23T18:08:19.115Z"
   },
   {
    "duration": 18,
    "start_time": "2024-06-23T18:08:19.133Z"
   },
   {
    "duration": 10,
    "start_time": "2024-06-23T18:08:19.154Z"
   },
   {
    "duration": 12,
    "start_time": "2024-06-23T18:08:19.206Z"
   },
   {
    "duration": 8,
    "start_time": "2024-06-23T18:08:19.221Z"
   },
   {
    "duration": 10,
    "start_time": "2024-06-23T18:08:19.232Z"
   },
   {
    "duration": 8,
    "start_time": "2024-06-23T18:08:19.245Z"
   },
   {
    "duration": 54,
    "start_time": "2024-06-23T18:08:19.256Z"
   },
   {
    "duration": 13,
    "start_time": "2024-06-23T18:08:19.314Z"
   },
   {
    "duration": 13,
    "start_time": "2024-06-23T18:08:19.330Z"
   },
   {
    "duration": 9,
    "start_time": "2024-06-23T18:08:19.346Z"
   },
   {
    "duration": 15,
    "start_time": "2024-06-23T18:08:19.405Z"
   },
   {
    "duration": 17,
    "start_time": "2024-06-23T18:08:19.424Z"
   },
   {
    "duration": 72,
    "start_time": "2024-06-23T18:08:19.444Z"
   },
   {
    "duration": 8,
    "start_time": "2024-06-23T18:08:19.519Z"
   },
   {
    "duration": 30,
    "start_time": "2024-06-23T18:08:19.531Z"
   },
   {
    "duration": 62,
    "start_time": "2024-06-23T18:08:19.564Z"
   },
   {
    "duration": 15,
    "start_time": "2024-06-23T18:08:19.628Z"
   },
   {
    "duration": 64,
    "start_time": "2024-06-23T18:08:19.646Z"
   },
   {
    "duration": 22,
    "start_time": "2024-06-23T18:08:19.712Z"
   },
   {
    "duration": 5,
    "start_time": "2024-06-23T18:08:19.738Z"
   },
   {
    "duration": 226,
    "start_time": "2024-06-23T18:08:19.746Z"
   },
   {
    "duration": 7,
    "start_time": "2024-06-23T18:08:19.975Z"
   },
   {
    "duration": 186,
    "start_time": "2024-06-23T18:08:19.985Z"
   },
   {
    "duration": 11,
    "start_time": "2024-06-23T18:08:20.174Z"
   },
   {
    "duration": 414,
    "start_time": "2024-06-23T18:08:20.206Z"
   },
   {
    "duration": 17,
    "start_time": "2024-06-23T18:08:20.624Z"
   },
   {
    "duration": 15,
    "start_time": "2024-06-23T18:08:20.644Z"
   },
   {
    "duration": 205,
    "start_time": "2024-06-23T18:08:20.662Z"
   },
   {
    "duration": 9,
    "start_time": "2024-06-23T18:08:20.870Z"
   },
   {
    "duration": 235,
    "start_time": "2024-06-23T18:08:20.883Z"
   },
   {
    "duration": 9,
    "start_time": "2024-06-23T18:08:21.122Z"
   },
   {
    "duration": 161,
    "start_time": "2024-06-23T18:08:21.135Z"
   },
   {
    "duration": 21,
    "start_time": "2024-06-23T18:08:21.299Z"
   },
   {
    "duration": 392,
    "start_time": "2024-06-23T18:08:21.322Z"
   },
   {
    "duration": 199,
    "start_time": "2024-06-23T18:08:21.717Z"
   },
   {
    "duration": 2551,
    "start_time": "2024-06-23T18:08:21.920Z"
   },
   {
    "duration": 11,
    "start_time": "2024-06-23T18:08:24.474Z"
   },
   {
    "duration": 14,
    "start_time": "2024-06-23T18:08:24.489Z"
   },
   {
    "duration": 76,
    "start_time": "2024-06-23T18:08:24.506Z"
   },
   {
    "duration": 21,
    "start_time": "2024-06-23T18:08:24.585Z"
   },
   {
    "duration": 61,
    "start_time": "2024-06-23T18:08:24.609Z"
   },
   {
    "duration": 64,
    "start_time": "2024-06-23T18:08:24.673Z"
   },
   {
    "duration": 8,
    "start_time": "2024-06-23T18:08:24.740Z"
   },
   {
    "duration": 4,
    "start_time": "2024-06-23T18:08:24.751Z"
   },
   {
    "duration": 5,
    "start_time": "2024-06-23T18:08:24.758Z"
   },
   {
    "duration": 1140,
    "start_time": "2024-06-23T18:08:24.766Z"
   },
   {
    "duration": 8,
    "start_time": "2024-06-23T18:08:25.909Z"
   },
   {
    "duration": 872,
    "start_time": "2024-06-23T18:08:25.920Z"
   },
   {
    "duration": 15685,
    "start_time": "2024-06-23T18:08:26.805Z"
   },
   {
    "duration": 9934,
    "start_time": "2024-06-23T18:08:42.493Z"
   },
   {
    "duration": 102000,
    "start_time": "2024-06-23T18:08:52.430Z"
   },
   {
    "duration": 160782,
    "start_time": "2024-06-23T18:10:34.433Z"
   },
   {
    "duration": 94,
    "start_time": "2024-06-23T18:13:15.218Z"
   },
   {
    "duration": 17,
    "start_time": "2024-06-23T18:13:15.314Z"
   },
   {
    "duration": 15,
    "start_time": "2024-06-23T18:13:15.334Z"
   }
  ],
  "kernelspec": {
   "display_name": "Python 3 (ipykernel)",
   "language": "python",
   "name": "python3"
  },
  "language_info": {
   "codemirror_mode": {
    "name": "ipython",
    "version": 3
   },
   "file_extension": ".py",
   "mimetype": "text/x-python",
   "name": "python",
   "nbconvert_exporter": "python",
   "pygments_lexer": "ipython3",
   "version": "3.9.19"
  },
  "toc": {
   "base_numbering": 1,
   "nav_menu": {},
   "number_sections": true,
   "sideBar": true,
   "skip_h1_title": true,
   "title_cell": "Table of Contents",
   "title_sidebar": "Contents",
   "toc_cell": false,
   "toc_position": {},
   "toc_section_display": true,
   "toc_window_display": false
  }
 },
 "nbformat": 4,
 "nbformat_minor": 2
}
